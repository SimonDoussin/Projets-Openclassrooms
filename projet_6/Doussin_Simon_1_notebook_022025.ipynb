{
 "cells": [
  {
   "cell_type": "markdown",
   "id": "97dccc01",
   "metadata": {},
   "source": [
    "<div style=\"display: flex; background-color: RGB(255,114,0);\" >\n",
    "<h1 style=\"margin: auto; padding: 30px; \">ANALYSE DU STOCK ET DES VENTES DU SITE BOTTLENECK</h1>\n",
    "</div>"
   ]
  },
  {
   "cell_type": "markdown",
   "id": "4d0d1bb8",
   "metadata": {},
   "source": [
    "# OBJECTIF DE CE NOTEBOOK\n",
    "\n",
    "Bienvenue dans l'outil plébiscité par les analystes de données Jupyter.\n",
    "\n",
    "Il s'agit d'un outil permettant de mixer et d'alterner codes, textes et graphique.\n",
    "\n",
    "Cet outil est formidable pour plusieurs raisons:\n",
    "\n",
    "+ il permet de tester des lignes de codes au fur et à mesure de votre rédaction, de constater immédiatement le résultat d'un instruction, de la corriger si nécessaire.\n",
    "+ De rédiger du texte pour expliquer l'approche suivie ou les résultats d'une analyse et de le mettre en forme grâce à du code html ou plus simple avec **Markdown**\n",
    "+ d'agrémenter de graphiques\n",
    "\n",
    "Pour vous aider dans vos premiers pas à l'usage de Jupyter et de Python, nous avons rédigé ce notebook en vous indiquant les instructions à suivre.\n",
    "\n",
    "Il vous suffit pour cela de saisir le code Python répondant à l'instruction donnée.\n",
    "\n",
    "Vous verrez de temps à autre le code Python répondant à une instruction donnée mais cela est fait pour vous aider à comprendre la nature du travail qui vous est demandée.\n",
    "\n",
    "Et garder à l'esprit, qu'il n'y a pas de solution unique pour résoudre un problème et qu'il y a autant de résolutions de problèmes que de développeurs ;)...\n",
    "\n"
   ]
  },
  {
   "cell_type": "markdown",
   "id": "b85efb87",
   "metadata": {},
   "source": [
    "<div style=\"background-color: RGB(51,165,182);\" >\n",
    "<h2 style=\"margin: auto; padding: 20px; color:#fff; \">Etape 1 - Importation des librairies et chargement des fichiers</h2>\n",
    "</div>"
   ]
  },
  {
   "cell_type": "markdown",
   "id": "b5449401",
   "metadata": {},
   "source": [
    "<div style=\"border: 1px solid RGB(51,165,182);\" >\n",
    "<h3 style=\"margin: auto; padding: 20px; color: RGB(51,165,182); \">1.1 - Importation des librairies</h3>\n",
    "</div>"
   ]
  },
  {
   "cell_type": "code",
   "execution_count": 179,
   "id": "e6ef06ec",
   "metadata": {},
   "outputs": [],
   "source": [
    "#Importation de la librairie Pandas\n",
    "import pandas as pd"
   ]
  },
  {
   "cell_type": "code",
   "execution_count": 180,
   "id": "a38ce0fc",
   "metadata": {},
   "outputs": [],
   "source": [
    "#Importation de la librairie plotly express\n",
    "import matplotlib.pyplot as plt"
   ]
  },
  {
   "cell_type": "code",
   "execution_count": 181,
   "id": "0a718067",
   "metadata": {},
   "outputs": [],
   "source": [
    "#Trouver dans Google l'instruction permettant d'afficher toutes les colonnes d'un dataframe\n",
    "\n",
    "#Saisir, dans Google, les mots clés \"display all columns dataframe Pandas\", par exemple.\n",
    "#Dans les résultats de la recherche, privilégiez les solutions provenants de Stack Overflow ou Medium\n",
    "#table.columns"
   ]
  },
  {
   "cell_type": "markdown",
   "id": "f4918299",
   "metadata": {},
   "source": [
    "<div style=\"border: 1px solid RGB(51,165,182);\" >\n",
    "<h3 style=\"margin: auto; padding: 20px; color: RGB(51,165,182); \">1.2 - Chargements des fichiers</h3>\n",
    "</div>"
   ]
  },
  {
   "cell_type": "code",
   "execution_count": 182,
   "id": "9642cf03",
   "metadata": {},
   "outputs": [
    {
     "name": "stderr",
     "output_type": "stream",
     "text": [
      "c:\\Users\\simon\\anaconda3\\Lib\\site-packages\\openpyxl\\worksheet\\_read_only.py:79: UserWarning:\n",
      "\n",
      "Unknown extension is not supported and will be removed\n",
      "\n",
      "c:\\Users\\simon\\anaconda3\\Lib\\site-packages\\openpyxl\\worksheet\\_read_only.py:79: UserWarning:\n",
      "\n",
      "Unknown extension is not supported and will be removed\n",
      "\n",
      "c:\\Users\\simon\\anaconda3\\Lib\\site-packages\\openpyxl\\worksheet\\_read_only.py:79: UserWarning:\n",
      "\n",
      "Unknown extension is not supported and will be removed\n",
      "\n"
     ]
    }
   ],
   "source": [
    "#Importation du fichier web.xlsx\n",
    "df_web = pd.read_excel(\"web.xlsx\")\n",
    "#Importation du fichier erp.xlsx\n",
    "df_erp = pd.read_excel('erp.xlsx')\n",
    "#importation du fichier liaison.xlsx\n",
    "df_liaison = pd.read_excel('liaison.xlsx')"
   ]
  },
  {
   "cell_type": "markdown",
   "id": "605f7056",
   "metadata": {},
   "source": [
    "<div style=\"background-color: RGB(51,165,182);\" >\n",
    "<h2 style=\"margin: auto; padding: 20px; color:#fff; \">Etape 2 - Analyse exploratoire des fichiers</h2>\n",
    "</div>"
   ]
  },
  {
   "cell_type": "markdown",
   "id": "47d3a649",
   "metadata": {},
   "source": [
    "<div style=\"border: 1px solid RGB(51,165,182);\" >\n",
    "<h3 style=\"margin: auto; padding: 20px; color: RGB(51,165,182); \">2.1 - Analyse exploratoire du fichier erp.xlsx</h3>\n",
    "</div>"
   ]
  },
  {
   "cell_type": "code",
   "execution_count": 183,
   "id": "094ef206",
   "metadata": {},
   "outputs": [
    {
     "name": "stdout",
     "output_type": "stream",
     "text": [
      "Le tableau comporte 825 observation(s) ou article(s)\n",
      "Le tableau comporte 6 colonne(s)\n"
     ]
    }
   ],
   "source": [
    "#Afficher les dimensions du dataset\n",
    "print(\"Le tableau comporte {} observation(s) ou article(s)\".format(df_erp.shape[0]))\n",
    "print(\"Le tableau comporte {} colonne(s)\".format(df_erp.shape[1]))"
   ]
  },
  {
   "cell_type": "code",
   "execution_count": 184,
   "id": "182441f0",
   "metadata": {},
   "outputs": [
    {
     "name": "stdout",
     "output_type": "stream",
     "text": [
      "<class 'pandas.core.frame.DataFrame'>\n",
      "RangeIndex: 825 entries, 0 to 824\n",
      "Data columns (total 6 columns):\n",
      " #   Column          Non-Null Count  Dtype  \n",
      "---  ------          --------------  -----  \n",
      " 0   product_id      825 non-null    int64  \n",
      " 1   onsale_web      825 non-null    int64  \n",
      " 2   price           825 non-null    float64\n",
      " 3   stock_quantity  825 non-null    int64  \n",
      " 4   stock_status    825 non-null    object \n",
      " 5   purchase_price  825 non-null    float64\n",
      "dtypes: float64(2), int64(3), object(1)\n",
      "memory usage: 38.8+ KB\n"
     ]
    }
   ],
   "source": [
    "#Consulter le nombre de colonnes\n",
    "#La nature des données dans chacune des colonnes\n",
    "#Le nombre de valeurs présentes dans chacune des colonnes\n",
    "df_erp.info()"
   ]
  },
  {
   "cell_type": "code",
   "execution_count": 185,
   "id": "85480871",
   "metadata": {},
   "outputs": [
    {
     "data": {
      "text/html": [
       "<div>\n",
       "<style scoped>\n",
       "    .dataframe tbody tr th:only-of-type {\n",
       "        vertical-align: middle;\n",
       "    }\n",
       "\n",
       "    .dataframe tbody tr th {\n",
       "        vertical-align: top;\n",
       "    }\n",
       "\n",
       "    .dataframe thead th {\n",
       "        text-align: right;\n",
       "    }\n",
       "</style>\n",
       "<table border=\"1\" class=\"dataframe\">\n",
       "  <thead>\n",
       "    <tr style=\"text-align: right;\">\n",
       "      <th></th>\n",
       "      <th>product_id</th>\n",
       "      <th>onsale_web</th>\n",
       "      <th>price</th>\n",
       "      <th>stock_quantity</th>\n",
       "      <th>purchase_price</th>\n",
       "    </tr>\n",
       "  </thead>\n",
       "  <tbody>\n",
       "    <tr>\n",
       "      <th>count</th>\n",
       "      <td>825.00</td>\n",
       "      <td>825.00</td>\n",
       "      <td>825.00</td>\n",
       "      <td>825.00</td>\n",
       "      <td>825.00</td>\n",
       "    </tr>\n",
       "    <tr>\n",
       "      <th>mean</th>\n",
       "      <td>5162.60</td>\n",
       "      <td>0.87</td>\n",
       "      <td>32.19</td>\n",
       "      <td>21.59</td>\n",
       "      <td>16.94</td>\n",
       "    </tr>\n",
       "    <tr>\n",
       "      <th>std</th>\n",
       "      <td>902.64</td>\n",
       "      <td>0.34</td>\n",
       "      <td>26.71</td>\n",
       "      <td>21.93</td>\n",
       "      <td>14.56</td>\n",
       "    </tr>\n",
       "    <tr>\n",
       "      <th>min</th>\n",
       "      <td>3847.00</td>\n",
       "      <td>0.00</td>\n",
       "      <td>-20.00</td>\n",
       "      <td>-10.00</td>\n",
       "      <td>2.74</td>\n",
       "    </tr>\n",
       "    <tr>\n",
       "      <th>25%</th>\n",
       "      <td>4348.00</td>\n",
       "      <td>1.00</td>\n",
       "      <td>14.50</td>\n",
       "      <td>7.00</td>\n",
       "      <td>7.59</td>\n",
       "    </tr>\n",
       "    <tr>\n",
       "      <th>50%</th>\n",
       "      <td>4907.00</td>\n",
       "      <td>1.00</td>\n",
       "      <td>24.30</td>\n",
       "      <td>18.00</td>\n",
       "      <td>12.71</td>\n",
       "    </tr>\n",
       "    <tr>\n",
       "      <th>75%</th>\n",
       "      <td>5805.00</td>\n",
       "      <td>1.00</td>\n",
       "      <td>42.00</td>\n",
       "      <td>30.00</td>\n",
       "      <td>22.02</td>\n",
       "    </tr>\n",
       "    <tr>\n",
       "      <th>max</th>\n",
       "      <td>7338.00</td>\n",
       "      <td>1.00</td>\n",
       "      <td>225.00</td>\n",
       "      <td>145.00</td>\n",
       "      <td>137.81</td>\n",
       "    </tr>\n",
       "  </tbody>\n",
       "</table>\n",
       "</div>"
      ],
      "text/plain": [
       "       product_id  onsale_web   price  stock_quantity  purchase_price\n",
       "count      825.00      825.00  825.00          825.00          825.00\n",
       "mean      5162.60        0.87   32.19           21.59           16.94\n",
       "std        902.64        0.34   26.71           21.93           14.56\n",
       "min       3847.00        0.00  -20.00          -10.00            2.74\n",
       "25%       4348.00        1.00   14.50            7.00            7.59\n",
       "50%       4907.00        1.00   24.30           18.00           12.71\n",
       "75%       5805.00        1.00   42.00           30.00           22.02\n",
       "max       7338.00        1.00  225.00          145.00          137.81"
      ]
     },
     "execution_count": 185,
     "metadata": {},
     "output_type": "execute_result"
    }
   ],
   "source": [
    "round(df_erp.describe(),2)"
   ]
  },
  {
   "cell_type": "code",
   "execution_count": 186,
   "id": "d3977646",
   "metadata": {},
   "outputs": [
    {
     "data": {
      "text/html": [
       "<div>\n",
       "<style scoped>\n",
       "    .dataframe tbody tr th:only-of-type {\n",
       "        vertical-align: middle;\n",
       "    }\n",
       "\n",
       "    .dataframe tbody tr th {\n",
       "        vertical-align: top;\n",
       "    }\n",
       "\n",
       "    .dataframe thead th {\n",
       "        text-align: right;\n",
       "    }\n",
       "</style>\n",
       "<table border=\"1\" class=\"dataframe\">\n",
       "  <thead>\n",
       "    <tr style=\"text-align: right;\">\n",
       "      <th></th>\n",
       "      <th>product_id</th>\n",
       "      <th>onsale_web</th>\n",
       "      <th>price</th>\n",
       "      <th>stock_quantity</th>\n",
       "      <th>stock_status</th>\n",
       "      <th>purchase_price</th>\n",
       "    </tr>\n",
       "  </thead>\n",
       "  <tbody>\n",
       "    <tr>\n",
       "      <th>0</th>\n",
       "      <td>3847</td>\n",
       "      <td>1</td>\n",
       "      <td>24.2</td>\n",
       "      <td>16</td>\n",
       "      <td>instock</td>\n",
       "      <td>12.88</td>\n",
       "    </tr>\n",
       "    <tr>\n",
       "      <th>1</th>\n",
       "      <td>3849</td>\n",
       "      <td>1</td>\n",
       "      <td>34.3</td>\n",
       "      <td>10</td>\n",
       "      <td>instock</td>\n",
       "      <td>17.54</td>\n",
       "    </tr>\n",
       "    <tr>\n",
       "      <th>2</th>\n",
       "      <td>3850</td>\n",
       "      <td>1</td>\n",
       "      <td>20.8</td>\n",
       "      <td>0</td>\n",
       "      <td>outofstock</td>\n",
       "      <td>10.64</td>\n",
       "    </tr>\n",
       "    <tr>\n",
       "      <th>3</th>\n",
       "      <td>4032</td>\n",
       "      <td>1</td>\n",
       "      <td>14.1</td>\n",
       "      <td>26</td>\n",
       "      <td>instock</td>\n",
       "      <td>6.92</td>\n",
       "    </tr>\n",
       "    <tr>\n",
       "      <th>4</th>\n",
       "      <td>4039</td>\n",
       "      <td>1</td>\n",
       "      <td>46.0</td>\n",
       "      <td>3</td>\n",
       "      <td>outofstock</td>\n",
       "      <td>23.77</td>\n",
       "    </tr>\n",
       "  </tbody>\n",
       "</table>\n",
       "</div>"
      ],
      "text/plain": [
       "   product_id  onsale_web  price  stock_quantity stock_status  purchase_price\n",
       "0        3847           1   24.2              16      instock           12.88\n",
       "1        3849           1   34.3              10      instock           17.54\n",
       "2        3850           1   20.8               0   outofstock           10.64\n",
       "3        4032           1   14.1              26      instock            6.92\n",
       "4        4039           1   46.0               3   outofstock           23.77"
      ]
     },
     "metadata": {},
     "output_type": "display_data"
    },
    {
     "data": {
      "text/html": [
       "<div>\n",
       "<style scoped>\n",
       "    .dataframe tbody tr th:only-of-type {\n",
       "        vertical-align: middle;\n",
       "    }\n",
       "\n",
       "    .dataframe tbody tr th {\n",
       "        vertical-align: top;\n",
       "    }\n",
       "\n",
       "    .dataframe thead th {\n",
       "        text-align: right;\n",
       "    }\n",
       "</style>\n",
       "<table border=\"1\" class=\"dataframe\">\n",
       "  <thead>\n",
       "    <tr style=\"text-align: right;\">\n",
       "      <th></th>\n",
       "      <th>product_id</th>\n",
       "      <th>onsale_web</th>\n",
       "      <th>price</th>\n",
       "      <th>stock_quantity</th>\n",
       "      <th>stock_status</th>\n",
       "      <th>purchase_price</th>\n",
       "    </tr>\n",
       "  </thead>\n",
       "  <tbody>\n",
       "    <tr>\n",
       "      <th>0</th>\n",
       "      <td>3847</td>\n",
       "      <td>1</td>\n",
       "      <td>24.2</td>\n",
       "      <td>16</td>\n",
       "      <td>instock</td>\n",
       "      <td>12.88</td>\n",
       "    </tr>\n",
       "    <tr>\n",
       "      <th>1</th>\n",
       "      <td>3849</td>\n",
       "      <td>1</td>\n",
       "      <td>34.3</td>\n",
       "      <td>10</td>\n",
       "      <td>instock</td>\n",
       "      <td>17.54</td>\n",
       "    </tr>\n",
       "    <tr>\n",
       "      <th>2</th>\n",
       "      <td>3850</td>\n",
       "      <td>1</td>\n",
       "      <td>20.8</td>\n",
       "      <td>0</td>\n",
       "      <td>outofstock</td>\n",
       "      <td>10.64</td>\n",
       "    </tr>\n",
       "    <tr>\n",
       "      <th>3</th>\n",
       "      <td>4032</td>\n",
       "      <td>1</td>\n",
       "      <td>14.1</td>\n",
       "      <td>26</td>\n",
       "      <td>instock</td>\n",
       "      <td>6.92</td>\n",
       "    </tr>\n",
       "    <tr>\n",
       "      <th>4</th>\n",
       "      <td>4039</td>\n",
       "      <td>1</td>\n",
       "      <td>46.0</td>\n",
       "      <td>3</td>\n",
       "      <td>outofstock</td>\n",
       "      <td>23.77</td>\n",
       "    </tr>\n",
       "  </tbody>\n",
       "</table>\n",
       "</div>"
      ],
      "text/plain": [
       "   product_id  onsale_web  price  stock_quantity stock_status  purchase_price\n",
       "0        3847           1   24.2              16      instock           12.88\n",
       "1        3849           1   34.3              10      instock           17.54\n",
       "2        3850           1   20.8               0   outofstock           10.64\n",
       "3        4032           1   14.1              26      instock            6.92\n",
       "4        4039           1   46.0               3   outofstock           23.77"
      ]
     },
     "metadata": {},
     "output_type": "display_data"
    }
   ],
   "source": [
    "#Afficher les 5 premières lignes de la table\n",
    "display(df_erp.iloc[0:5])\n",
    "display(df_erp.head(5))"
   ]
  },
  {
   "cell_type": "code",
   "execution_count": 187,
   "id": "db102a4a",
   "metadata": {},
   "outputs": [
    {
     "data": {
      "text/html": [
       "<div>\n",
       "<style scoped>\n",
       "    .dataframe tbody tr th:only-of-type {\n",
       "        vertical-align: middle;\n",
       "    }\n",
       "\n",
       "    .dataframe tbody tr th {\n",
       "        vertical-align: top;\n",
       "    }\n",
       "\n",
       "    .dataframe thead th {\n",
       "        text-align: right;\n",
       "    }\n",
       "</style>\n",
       "<table border=\"1\" class=\"dataframe\">\n",
       "  <thead>\n",
       "    <tr style=\"text-align: right;\">\n",
       "      <th></th>\n",
       "      <th>product_id</th>\n",
       "      <th>onsale_web</th>\n",
       "      <th>price</th>\n",
       "      <th>stock_quantity</th>\n",
       "      <th>stock_status</th>\n",
       "      <th>purchase_price</th>\n",
       "    </tr>\n",
       "  </thead>\n",
       "  <tbody>\n",
       "  </tbody>\n",
       "</table>\n",
       "</div>"
      ],
      "text/plain": [
       "Empty DataFrame\n",
       "Columns: [product_id, onsale_web, price, stock_quantity, stock_status, purchase_price]\n",
       "Index: []"
      ]
     },
     "execution_count": 187,
     "metadata": {},
     "output_type": "execute_result"
    }
   ],
   "source": [
    "#Vérifier si il y a les lignes en doublons dans la colonne product_id\n",
    "doublon = df_erp[df_erp.duplicated('product_id')]\n",
    "doublon\n",
    "#pas de doublon"
   ]
  },
  {
   "cell_type": "code",
   "execution_count": 188,
   "id": "d443d4ff",
   "metadata": {},
   "outputs": [
    {
     "data": {
      "text/plain": [
       "stock_status\n",
       "instock       733\n",
       "outofstock     92\n",
       "Name: count, dtype: int64"
      ]
     },
     "execution_count": 188,
     "metadata": {},
     "output_type": "execute_result"
    }
   ],
   "source": [
    "#Afficher les valeurs distinctes de la colonne stock_status\n",
    "#À quelle(s) autre(s) colonne(s) sont-elles liées ?\n",
    "df_erp['stock_status'].value_counts()\n",
    "#la colonne 'stock_status' est lié à la colonne 'stock_quantity'"
   ]
  },
  {
   "cell_type": "code",
   "execution_count": 189,
   "id": "68088943",
   "metadata": {},
   "outputs": [
    {
     "data": {
      "text/html": [
       "<div>\n",
       "<style scoped>\n",
       "    .dataframe tbody tr th:only-of-type {\n",
       "        vertical-align: middle;\n",
       "    }\n",
       "\n",
       "    .dataframe tbody tr th {\n",
       "        vertical-align: top;\n",
       "    }\n",
       "\n",
       "    .dataframe thead th {\n",
       "        text-align: right;\n",
       "    }\n",
       "</style>\n",
       "<table border=\"1\" class=\"dataframe\">\n",
       "  <thead>\n",
       "    <tr style=\"text-align: right;\">\n",
       "      <th></th>\n",
       "      <th>product_id</th>\n",
       "      <th>onsale_web</th>\n",
       "      <th>price</th>\n",
       "      <th>stock_quantity</th>\n",
       "      <th>stock_status</th>\n",
       "      <th>purchase_price</th>\n",
       "      <th>stock_status_2</th>\n",
       "    </tr>\n",
       "  </thead>\n",
       "  <tbody>\n",
       "    <tr>\n",
       "      <th>0</th>\n",
       "      <td>3847</td>\n",
       "      <td>1</td>\n",
       "      <td>24.2</td>\n",
       "      <td>16</td>\n",
       "      <td>instock</td>\n",
       "      <td>12.88</td>\n",
       "      <td>instock</td>\n",
       "    </tr>\n",
       "    <tr>\n",
       "      <th>1</th>\n",
       "      <td>3849</td>\n",
       "      <td>1</td>\n",
       "      <td>34.3</td>\n",
       "      <td>10</td>\n",
       "      <td>instock</td>\n",
       "      <td>17.54</td>\n",
       "      <td>instock</td>\n",
       "    </tr>\n",
       "    <tr>\n",
       "      <th>2</th>\n",
       "      <td>3850</td>\n",
       "      <td>1</td>\n",
       "      <td>20.8</td>\n",
       "      <td>0</td>\n",
       "      <td>outofstock</td>\n",
       "      <td>10.64</td>\n",
       "      <td>outofstock</td>\n",
       "    </tr>\n",
       "    <tr>\n",
       "      <th>3</th>\n",
       "      <td>4032</td>\n",
       "      <td>1</td>\n",
       "      <td>14.1</td>\n",
       "      <td>26</td>\n",
       "      <td>instock</td>\n",
       "      <td>6.92</td>\n",
       "      <td>instock</td>\n",
       "    </tr>\n",
       "    <tr>\n",
       "      <th>4</th>\n",
       "      <td>4039</td>\n",
       "      <td>1</td>\n",
       "      <td>46.0</td>\n",
       "      <td>3</td>\n",
       "      <td>outofstock</td>\n",
       "      <td>23.77</td>\n",
       "      <td>instock</td>\n",
       "    </tr>\n",
       "    <tr>\n",
       "      <th>...</th>\n",
       "      <td>...</td>\n",
       "      <td>...</td>\n",
       "      <td>...</td>\n",
       "      <td>...</td>\n",
       "      <td>...</td>\n",
       "      <td>...</td>\n",
       "      <td>...</td>\n",
       "    </tr>\n",
       "    <tr>\n",
       "      <th>820</th>\n",
       "      <td>7203</td>\n",
       "      <td>0</td>\n",
       "      <td>45.0</td>\n",
       "      <td>30</td>\n",
       "      <td>instock</td>\n",
       "      <td>23.48</td>\n",
       "      <td>instock</td>\n",
       "    </tr>\n",
       "    <tr>\n",
       "      <th>821</th>\n",
       "      <td>7204</td>\n",
       "      <td>0</td>\n",
       "      <td>45.0</td>\n",
       "      <td>9</td>\n",
       "      <td>instock</td>\n",
       "      <td>24.18</td>\n",
       "      <td>instock</td>\n",
       "    </tr>\n",
       "    <tr>\n",
       "      <th>822</th>\n",
       "      <td>7247</td>\n",
       "      <td>1</td>\n",
       "      <td>54.8</td>\n",
       "      <td>6</td>\n",
       "      <td>instock</td>\n",
       "      <td>27.18</td>\n",
       "      <td>instock</td>\n",
       "    </tr>\n",
       "    <tr>\n",
       "      <th>823</th>\n",
       "      <td>7329</td>\n",
       "      <td>0</td>\n",
       "      <td>26.5</td>\n",
       "      <td>14</td>\n",
       "      <td>instock</td>\n",
       "      <td>13.42</td>\n",
       "      <td>instock</td>\n",
       "    </tr>\n",
       "    <tr>\n",
       "      <th>824</th>\n",
       "      <td>7338</td>\n",
       "      <td>1</td>\n",
       "      <td>16.3</td>\n",
       "      <td>40</td>\n",
       "      <td>instock</td>\n",
       "      <td>8.00</td>\n",
       "      <td>instock</td>\n",
       "    </tr>\n",
       "  </tbody>\n",
       "</table>\n",
       "<p>825 rows × 7 columns</p>\n",
       "</div>"
      ],
      "text/plain": [
       "     product_id  onsale_web  price  stock_quantity stock_status  \\\n",
       "0          3847           1   24.2              16      instock   \n",
       "1          3849           1   34.3              10      instock   \n",
       "2          3850           1   20.8               0   outofstock   \n",
       "3          4032           1   14.1              26      instock   \n",
       "4          4039           1   46.0               3   outofstock   \n",
       "..          ...         ...    ...             ...          ...   \n",
       "820        7203           0   45.0              30      instock   \n",
       "821        7204           0   45.0               9      instock   \n",
       "822        7247           1   54.8               6      instock   \n",
       "823        7329           0   26.5              14      instock   \n",
       "824        7338           1   16.3              40      instock   \n",
       "\n",
       "     purchase_price stock_status_2  \n",
       "0             12.88        instock  \n",
       "1             17.54        instock  \n",
       "2             10.64     outofstock  \n",
       "3              6.92        instock  \n",
       "4             23.77        instock  \n",
       "..              ...            ...  \n",
       "820           23.48        instock  \n",
       "821           24.18        instock  \n",
       "822           27.18        instock  \n",
       "823           13.42        instock  \n",
       "824            8.00        instock  \n",
       "\n",
       "[825 rows x 7 columns]"
      ]
     },
     "metadata": {},
     "output_type": "display_data"
    }
   ],
   "source": [
    "#Création d'une colonne \"stock_status_2\n",
    "#La valeur de cette deuxième colonne sera fonction de la valeur dans la colonne \"stock_quantity\"\n",
    "#si la valeur de la colonne \"stock_quantity\" est nulle renseigner \"outofstock\" sinon mettre \"instock\"\n",
    "df_erp[\"stock_status_2\"] = [\"instock\" if s > 0 else \"outofstock\" for s in df_erp[\"stock_quantity\"]]\n",
    "display(df_erp)"
   ]
  },
  {
   "cell_type": "code",
   "execution_count": 190,
   "id": "90a1c8ae",
   "metadata": {},
   "outputs": [
    {
     "data": {
      "text/plain": [
       "0       True\n",
       "1       True\n",
       "2       True\n",
       "3       True\n",
       "4      False\n",
       "       ...  \n",
       "820     True\n",
       "821     True\n",
       "822     True\n",
       "823     True\n",
       "824     True\n",
       "Length: 825, dtype: bool"
      ]
     },
     "execution_count": 190,
     "metadata": {},
     "output_type": "execute_result"
    }
   ],
   "source": [
    "#Vérifions que les 2 colonnes sont identiques:\n",
    "#Les 2 colonnes sont strictement identiques si les valeurs de chaque ligne sont strictement identiques 2 à 2\n",
    "#La comparaison de 2 colonnes peut se réaliser simplement avec l'instruction ci-dessous:\n",
    "df_erp[\"stock_status\"] == df_erp[\"stock_status_2\"]\n",
    "\n",
    "#Le résultat est l'affichage de True ou False pour chacune des lignes du dataset\n",
    "#C'est un bon début, mais difficile à exploiter"
   ]
  },
  {
   "cell_type": "code",
   "execution_count": 191,
   "id": "ebe3650a",
   "metadata": {},
   "outputs": [
    {
     "name": "stdout",
     "output_type": "stream",
     "text": [
      "823\n",
      "825\n"
     ]
    }
   ],
   "source": [
    "#Mais il est possible de synthétiser ce résultat en effectuant la somme de cette colonne:\n",
    "#True vaut 1 et False 0\n",
    "#Nous devrions obtenir la somme de 824 qui correspond au nombre de lignes dans ce dataset\n",
    "print((df_erp[\"stock_status\"] == df_erp[\"stock_status_2\"]).sum())\n",
    "print(len(df_erp))"
   ]
  },
  {
   "cell_type": "code",
   "execution_count": 192,
   "id": "1ca6060a",
   "metadata": {},
   "outputs": [
    {
     "name": "stdout",
     "output_type": "stream",
     "text": [
      "[4, 398]\n"
     ]
    }
   ],
   "source": [
    "#Si les colonnes ne sont absolument pas identiques ligne à ligne alors identifier la ligne en écart\n",
    "##Dans ce cas je vous ce lien pour apprendre à réaliser des filtres dans Pandas:\n",
    "##https://bitbucket.org/hrojas/learn-pandas/src/master/\n",
    "##Lesson 3\n",
    "index_false = df_erp.index[df_erp[\"stock_status\"] != df_erp[\"stock_status_2\"]].tolist()\n",
    "print(index_false)"
   ]
  },
  {
   "cell_type": "code",
   "execution_count": 193,
   "id": "48a71342",
   "metadata": {},
   "outputs": [
    {
     "name": "stdout",
     "output_type": "stream",
     "text": [
      "[4, 398]\n"
     ]
    }
   ],
   "source": [
    "index_false_boucle = []\n",
    "for i in range(len(df_erp)):\n",
    "    if df_erp[\"stock_status\"][i] != df_erp[\"stock_status_2\"][i]:\n",
    "        index_false_boucle.append(i)\n",
    "\n",
    "print(index_false_boucle)"
   ]
  },
  {
   "cell_type": "code",
   "execution_count": 194,
   "id": "3be67e94",
   "metadata": {},
   "outputs": [
    {
     "name": "stdout",
     "output_type": "stream",
     "text": [
      "product_id              4039\n",
      "onsale_web                 1\n",
      "price                   46.0\n",
      "stock_quantity             3\n",
      "stock_status      outofstock\n",
      "purchase_price         23.77\n",
      "stock_status_2       instock\n",
      "Name: 4, dtype: object\n",
      "product_id              4885\n",
      "onsale_web                 1\n",
      "price                   18.7\n",
      "stock_quantity             0\n",
      "stock_status         instock\n",
      "purchase_price          9.66\n",
      "stock_status_2    outofstock\n",
      "Name: 398, dtype: object\n"
     ]
    }
   ],
   "source": [
    "print(df_erp.iloc[4])\n",
    "print(df_erp.iloc[398])"
   ]
  },
  {
   "cell_type": "code",
   "execution_count": 195,
   "id": "a7a4d879",
   "metadata": {},
   "outputs": [
    {
     "data": {
      "text/html": [
       "<div>\n",
       "<style scoped>\n",
       "    .dataframe tbody tr th:only-of-type {\n",
       "        vertical-align: middle;\n",
       "    }\n",
       "\n",
       "    .dataframe tbody tr th {\n",
       "        vertical-align: top;\n",
       "    }\n",
       "\n",
       "    .dataframe thead th {\n",
       "        text-align: right;\n",
       "    }\n",
       "</style>\n",
       "<table border=\"1\" class=\"dataframe\">\n",
       "  <thead>\n",
       "    <tr style=\"text-align: right;\">\n",
       "      <th></th>\n",
       "      <th>product_id</th>\n",
       "      <th>onsale_web</th>\n",
       "      <th>price</th>\n",
       "      <th>stock_quantity</th>\n",
       "      <th>stock_status</th>\n",
       "      <th>purchase_price</th>\n",
       "      <th>stock_status_2</th>\n",
       "    </tr>\n",
       "  </thead>\n",
       "  <tbody>\n",
       "    <tr>\n",
       "      <th>4</th>\n",
       "      <td>4039</td>\n",
       "      <td>1</td>\n",
       "      <td>46.0</td>\n",
       "      <td>3</td>\n",
       "      <td>outofstock</td>\n",
       "      <td>23.77</td>\n",
       "      <td>instock</td>\n",
       "    </tr>\n",
       "    <tr>\n",
       "      <th>398</th>\n",
       "      <td>4885</td>\n",
       "      <td>1</td>\n",
       "      <td>18.7</td>\n",
       "      <td>0</td>\n",
       "      <td>instock</td>\n",
       "      <td>9.66</td>\n",
       "      <td>outofstock</td>\n",
       "    </tr>\n",
       "  </tbody>\n",
       "</table>\n",
       "</div>"
      ],
      "text/plain": [
       "     product_id  onsale_web  price  stock_quantity stock_status  \\\n",
       "4          4039           1   46.0               3   outofstock   \n",
       "398        4885           1   18.7               0      instock   \n",
       "\n",
       "     purchase_price stock_status_2  \n",
       "4             23.77        instock  \n",
       "398            9.66     outofstock  "
      ]
     },
     "execution_count": 195,
     "metadata": {},
     "output_type": "execute_result"
    }
   ],
   "source": [
    "index_false2 = df_erp[\"stock_status\"] != df_erp[\"stock_status_2\"]\n",
    "df_erp[index_false2]"
   ]
  },
  {
   "cell_type": "code",
   "execution_count": 196,
   "id": "ce1b9704",
   "metadata": {},
   "outputs": [
    {
     "name": "stdout",
     "output_type": "stream",
     "text": [
      "[]\n",
      "product_id           4039\n",
      "onsale_web              1\n",
      "price                46.0\n",
      "stock_quantity          3\n",
      "stock_status      instock\n",
      "purchase_price      23.77\n",
      "stock_status_2    instock\n",
      "Name: 4, dtype: object\n",
      "product_id              4885\n",
      "onsale_web                 1\n",
      "price                   18.7\n",
      "stock_quantity             0\n",
      "stock_status      outofstock\n",
      "purchase_price          9.66\n",
      "stock_status_2    outofstock\n",
      "Name: 398, dtype: object\n"
     ]
    }
   ],
   "source": [
    "#Corriger la ou les données incohérentes\n",
    "df_erp.iloc[4, df_erp.columns.tolist().index(\"stock_status\")] = \"instock\" #.columns.tolist() transformer la colonne en liste\n",
    "df_erp.iloc[398, df_erp.columns.tolist().index(\"stock_status\")] = \"outofstock\"\n",
    "#Verification en utilisant le même code que plus haut pour afficher les problemes\n",
    "index_false_corrigé = df_erp.index[df_erp[\"stock_status\"] != df_erp[\"stock_status_2\"]].tolist()\n",
    "print(index_false_corrigé)\n",
    "print(df_erp.iloc[4])\n",
    "print(df_erp.iloc[398])\n"
   ]
  },
  {
   "cell_type": "code",
   "execution_count": 197,
   "id": "a5d77695",
   "metadata": {},
   "outputs": [
    {
     "name": "stdout",
     "output_type": "stream",
     "text": [
      "825\n"
     ]
    }
   ],
   "source": [
    "print((df_erp[\"stock_status\"] == df_erp[\"stock_status_2\"]).sum())"
   ]
  },
  {
   "cell_type": "markdown",
   "id": "08bd4b08",
   "metadata": {},
   "source": [
    "<div style=\"border: 1px solid RGB(51,165,182);\" >\n",
    "<h3 style=\"margin: auto; padding: 20px; color: RGB(51,165,182); \">2.1.1 - Analyse exploratoire de chaque variable du fichier erp.xlsx</h3>\n",
    "</div>"
   ]
  },
  {
   "cell_type": "markdown",
   "id": "3476df40",
   "metadata": {},
   "source": [
    "<div style=\"border: 1px solid RGB(51,165,182);\" >\n",
    "<h3 style=\"margin: auto; padding: 20px; color: RGB(51,165,182); \">2.1.1.1 - Analyse de la variable PRIX</h3>\n",
    "</div>"
   ]
  },
  {
   "cell_type": "code",
   "execution_count": 198,
   "id": "a7fc3384",
   "metadata": {},
   "outputs": [
    {
     "data": {
      "text/plain": [
       "'Les produits ayant des prix non renseignés :'"
      ]
     },
     "metadata": {},
     "output_type": "display_data"
    },
    {
     "data": {
      "text/html": [
       "<div>\n",
       "<style scoped>\n",
       "    .dataframe tbody tr th:only-of-type {\n",
       "        vertical-align: middle;\n",
       "    }\n",
       "\n",
       "    .dataframe tbody tr th {\n",
       "        vertical-align: top;\n",
       "    }\n",
       "\n",
       "    .dataframe thead th {\n",
       "        text-align: right;\n",
       "    }\n",
       "</style>\n",
       "<table border=\"1\" class=\"dataframe\">\n",
       "  <thead>\n",
       "    <tr style=\"text-align: right;\">\n",
       "      <th></th>\n",
       "      <th>product_id</th>\n",
       "      <th>onsale_web</th>\n",
       "      <th>price</th>\n",
       "      <th>stock_quantity</th>\n",
       "      <th>stock_status</th>\n",
       "      <th>purchase_price</th>\n",
       "      <th>stock_status_2</th>\n",
       "    </tr>\n",
       "  </thead>\n",
       "  <tbody>\n",
       "  </tbody>\n",
       "</table>\n",
       "</div>"
      ],
      "text/plain": [
       "Empty DataFrame\n",
       "Columns: [product_id, onsale_web, price, stock_quantity, stock_status, purchase_price, stock_status_2]\n",
       "Index: []"
      ]
     },
     "metadata": {},
     "output_type": "display_data"
    },
    {
     "name": "stdout",
     "output_type": "stream",
     "text": [
      "Le min est de  -20.0\n",
      "Le max est de  225.0\n"
     ]
    },
    {
     "data": {
      "text/plain": [
       "'Les produit ayant un prix inférieur à 0 :'"
      ]
     },
     "metadata": {},
     "output_type": "display_data"
    },
    {
     "data": {
      "text/html": [
       "<div>\n",
       "<style scoped>\n",
       "    .dataframe tbody tr th:only-of-type {\n",
       "        vertical-align: middle;\n",
       "    }\n",
       "\n",
       "    .dataframe tbody tr th {\n",
       "        vertical-align: top;\n",
       "    }\n",
       "\n",
       "    .dataframe thead th {\n",
       "        text-align: right;\n",
       "    }\n",
       "</style>\n",
       "<table border=\"1\" class=\"dataframe\">\n",
       "  <thead>\n",
       "    <tr style=\"text-align: right;\">\n",
       "      <th></th>\n",
       "      <th>product_id</th>\n",
       "      <th>onsale_web</th>\n",
       "      <th>price</th>\n",
       "      <th>stock_quantity</th>\n",
       "      <th>stock_status</th>\n",
       "      <th>purchase_price</th>\n",
       "      <th>stock_status_2</th>\n",
       "    </tr>\n",
       "  </thead>\n",
       "  <tbody>\n",
       "    <tr>\n",
       "      <th>151</th>\n",
       "      <td>4233</td>\n",
       "      <td>0</td>\n",
       "      <td>-20.0</td>\n",
       "      <td>0</td>\n",
       "      <td>outofstock</td>\n",
       "      <td>10.33</td>\n",
       "      <td>outofstock</td>\n",
       "    </tr>\n",
       "    <tr>\n",
       "      <th>469</th>\n",
       "      <td>5017</td>\n",
       "      <td>0</td>\n",
       "      <td>-8.0</td>\n",
       "      <td>0</td>\n",
       "      <td>outofstock</td>\n",
       "      <td>4.34</td>\n",
       "      <td>outofstock</td>\n",
       "    </tr>\n",
       "    <tr>\n",
       "      <th>739</th>\n",
       "      <td>6594</td>\n",
       "      <td>0</td>\n",
       "      <td>-9.1</td>\n",
       "      <td>19</td>\n",
       "      <td>instock</td>\n",
       "      <td>4.61</td>\n",
       "      <td>instock</td>\n",
       "    </tr>\n",
       "  </tbody>\n",
       "</table>\n",
       "</div>"
      ],
      "text/plain": [
       "     product_id  onsale_web  price  stock_quantity stock_status  \\\n",
       "151        4233           0  -20.0               0   outofstock   \n",
       "469        5017           0   -8.0               0   outofstock   \n",
       "739        6594           0   -9.1              19      instock   \n",
       "\n",
       "     purchase_price stock_status_2  \n",
       "151           10.33     outofstock  \n",
       "469            4.34     outofstock  \n",
       "739            4.61        instock  "
      ]
     },
     "metadata": {},
     "output_type": "display_data"
    }
   ],
   "source": [
    "###############\n",
    "## LES PRIX  ##\n",
    "###############\n",
    "\n",
    "#Vérification des prix: Y a t-il des prix non renseignés, négatif ou nul?\n",
    "\n",
    "#Afficher le ou les prix non renseignés dans la colonne \"price\"\n",
    "display('Les produits ayant des prix non renseignés :', df_erp.loc[df_erp['price'].isna()])\n",
    "\n",
    "#Afficher le prix minimum de la colonne \"price\"\n",
    "print(\"Le min est de \",df_erp['price'].min())\n",
    "\n",
    "#Afficher le prix maximum de la colonne \"price\"\n",
    "print(\"Le max est de \",df_erp['price'].max())\n",
    "\n",
    "#Affichier les prix inférieurs à 0 (qu'est ce qu'il faut en faire ?)\n",
    "display('Les produit ayant un prix inférieur à 0 :', df_erp.loc[df_erp['price'] < 0])\n"
   ]
  },
  {
   "cell_type": "code",
   "execution_count": 199,
   "id": "1ef35b25",
   "metadata": {},
   "outputs": [],
   "source": [
    "#### Il semblerait nécessaire de s'assurer que les prix affichés ne sont pas une erreur des saisies (un '-' en trop par exemple)\n",
    "#### La 2e solution serait d'enlever directement ces produits de la base de donnée, avec l'accord de l'utilisateur."
   ]
  },
  {
   "cell_type": "code",
   "execution_count": 200,
   "id": "b78c36ff",
   "metadata": {},
   "outputs": [],
   "source": [
    "df_erp = df_erp[df_erp['price'] >= 0]"
   ]
  },
  {
   "cell_type": "markdown",
   "id": "c5fce58c",
   "metadata": {},
   "source": [
    "<div style=\"border: 1px solid RGB(51,165,182);\" >\n",
    "<h3 style=\"margin: auto; padding: 20px; color: RGB(51,165,182); \">2.1.1.2 - Analyse de la variable STOCK</h3>\n",
    "</div>"
   ]
  },
  {
   "cell_type": "code",
   "execution_count": 201,
   "id": "3d14c4a0",
   "metadata": {},
   "outputs": [
    {
     "name": "stdout",
     "output_type": "stream",
     "text": [
      "-10\n",
      "145\n"
     ]
    },
    {
     "data": {
      "text/plain": [
       "'Les produit ayant une quantité inférieure à 0 :'"
      ]
     },
     "metadata": {},
     "output_type": "display_data"
    },
    {
     "data": {
      "text/html": [
       "<div>\n",
       "<style scoped>\n",
       "    .dataframe tbody tr th:only-of-type {\n",
       "        vertical-align: middle;\n",
       "    }\n",
       "\n",
       "    .dataframe tbody tr th {\n",
       "        vertical-align: top;\n",
       "    }\n",
       "\n",
       "    .dataframe thead th {\n",
       "        text-align: right;\n",
       "    }\n",
       "</style>\n",
       "<table border=\"1\" class=\"dataframe\">\n",
       "  <thead>\n",
       "    <tr style=\"text-align: right;\">\n",
       "      <th></th>\n",
       "      <th>product_id</th>\n",
       "      <th>onsale_web</th>\n",
       "      <th>price</th>\n",
       "      <th>stock_quantity</th>\n",
       "      <th>stock_status</th>\n",
       "      <th>purchase_price</th>\n",
       "      <th>stock_status_2</th>\n",
       "    </tr>\n",
       "  </thead>\n",
       "  <tbody>\n",
       "    <tr>\n",
       "      <th>449</th>\n",
       "      <td>4973</td>\n",
       "      <td>0</td>\n",
       "      <td>10.0</td>\n",
       "      <td>-10</td>\n",
       "      <td>outofstock</td>\n",
       "      <td>4.96</td>\n",
       "      <td>outofstock</td>\n",
       "    </tr>\n",
       "    <tr>\n",
       "      <th>573</th>\n",
       "      <td>5700</td>\n",
       "      <td>1</td>\n",
       "      <td>44.5</td>\n",
       "      <td>-1</td>\n",
       "      <td>outofstock</td>\n",
       "      <td>22.30</td>\n",
       "      <td>outofstock</td>\n",
       "    </tr>\n",
       "  </tbody>\n",
       "</table>\n",
       "</div>"
      ],
      "text/plain": [
       "     product_id  onsale_web  price  stock_quantity stock_status  \\\n",
       "449        4973           0   10.0             -10   outofstock   \n",
       "573        5700           1   44.5              -1   outofstock   \n",
       "\n",
       "     purchase_price stock_status_2  \n",
       "449            4.96     outofstock  \n",
       "573           22.30     outofstock  "
      ]
     },
     "metadata": {},
     "output_type": "display_data"
    }
   ],
   "source": [
    "#######################\n",
    "### stock_quantity  ###\n",
    "#######################\n",
    "\n",
    "#Vérification de la colonne stock quantity\n",
    "#Afficher la quantité minimum de la colonne \"stock_quantity\"\n",
    "print(df_erp['stock_quantity'].min())\n",
    "\n",
    "#Afficher la quantité maximum de la colonne \"stock_quantity\"\n",
    "print(df_erp['stock_quantity'].max())\n",
    "\n",
    "#Affichier les stocks inférieurs à 0 (qu'est ce qu'il faut en faire ?)\n",
    "display('Les produit ayant une quantité inférieure à 0 :', df_erp.loc[df_erp['stock_quantity'] < 0])"
   ]
  },
  {
   "cell_type": "code",
   "execution_count": 202,
   "id": "e40b9e77",
   "metadata": {},
   "outputs": [],
   "source": [
    "#### Il semblerait nécessaire de s'assurer que les quantités affichés ne sont pas une erreur des saisies (un '-' en trop par exemple).\n",
    "#### La 2e solution serait d'enlever directement ces produits de la base de donnée, avec l'accord de l'utilisateur."
   ]
  },
  {
   "cell_type": "code",
   "execution_count": 203,
   "id": "588ceb88",
   "metadata": {},
   "outputs": [],
   "source": [
    "df_erp = df_erp[df_erp['stock_quantity'] >= 0]"
   ]
  },
  {
   "cell_type": "code",
   "execution_count": 204,
   "id": "5960797d",
   "metadata": {},
   "outputs": [
    {
     "data": {
      "text/html": [
       "<div>\n",
       "<style scoped>\n",
       "    .dataframe tbody tr th:only-of-type {\n",
       "        vertical-align: middle;\n",
       "    }\n",
       "\n",
       "    .dataframe tbody tr th {\n",
       "        vertical-align: top;\n",
       "    }\n",
       "\n",
       "    .dataframe thead th {\n",
       "        text-align: right;\n",
       "    }\n",
       "</style>\n",
       "<table border=\"1\" class=\"dataframe\">\n",
       "  <thead>\n",
       "    <tr style=\"text-align: right;\">\n",
       "      <th></th>\n",
       "      <th>product_id</th>\n",
       "      <th>onsale_web</th>\n",
       "      <th>price</th>\n",
       "      <th>stock_quantity</th>\n",
       "      <th>purchase_price</th>\n",
       "    </tr>\n",
       "  </thead>\n",
       "  <tbody>\n",
       "    <tr>\n",
       "      <th>count</th>\n",
       "      <td>820.000000</td>\n",
       "      <td>820.000000</td>\n",
       "      <td>820.000000</td>\n",
       "      <td>820.000000</td>\n",
       "      <td>820.000000</td>\n",
       "    </tr>\n",
       "    <tr>\n",
       "      <th>mean</th>\n",
       "      <td>5161.739024</td>\n",
       "      <td>0.871951</td>\n",
       "      <td>32.362744</td>\n",
       "      <td>21.710976</td>\n",
       "      <td>16.987122</td>\n",
       "    </tr>\n",
       "    <tr>\n",
       "      <th>std</th>\n",
       "      <td>903.195163</td>\n",
       "      <td>0.334348</td>\n",
       "      <td>26.640110</td>\n",
       "      <td>21.932311</td>\n",
       "      <td>14.584113</td>\n",
       "    </tr>\n",
       "    <tr>\n",
       "      <th>min</th>\n",
       "      <td>3847.000000</td>\n",
       "      <td>0.000000</td>\n",
       "      <td>5.200000</td>\n",
       "      <td>0.000000</td>\n",
       "      <td>2.740000</td>\n",
       "    </tr>\n",
       "    <tr>\n",
       "      <th>25%</th>\n",
       "      <td>4345.250000</td>\n",
       "      <td>1.000000</td>\n",
       "      <td>14.600000</td>\n",
       "      <td>7.000000</td>\n",
       "      <td>7.642500</td>\n",
       "    </tr>\n",
       "    <tr>\n",
       "      <th>50%</th>\n",
       "      <td>4903.500000</td>\n",
       "      <td>1.000000</td>\n",
       "      <td>24.400000</td>\n",
       "      <td>18.000000</td>\n",
       "      <td>12.740000</td>\n",
       "    </tr>\n",
       "    <tr>\n",
       "      <th>75%</th>\n",
       "      <td>5805.250000</td>\n",
       "      <td>1.000000</td>\n",
       "      <td>42.000000</td>\n",
       "      <td>30.000000</td>\n",
       "      <td>22.022500</td>\n",
       "    </tr>\n",
       "    <tr>\n",
       "      <th>max</th>\n",
       "      <td>7338.000000</td>\n",
       "      <td>1.000000</td>\n",
       "      <td>225.000000</td>\n",
       "      <td>145.000000</td>\n",
       "      <td>137.810000</td>\n",
       "    </tr>\n",
       "  </tbody>\n",
       "</table>\n",
       "</div>"
      ],
      "text/plain": [
       "        product_id  onsale_web       price  stock_quantity  purchase_price\n",
       "count   820.000000  820.000000  820.000000      820.000000      820.000000\n",
       "mean   5161.739024    0.871951   32.362744       21.710976       16.987122\n",
       "std     903.195163    0.334348   26.640110       21.932311       14.584113\n",
       "min    3847.000000    0.000000    5.200000        0.000000        2.740000\n",
       "25%    4345.250000    1.000000   14.600000        7.000000        7.642500\n",
       "50%    4903.500000    1.000000   24.400000       18.000000       12.740000\n",
       "75%    5805.250000    1.000000   42.000000       30.000000       22.022500\n",
       "max    7338.000000    1.000000  225.000000      145.000000      137.810000"
      ]
     },
     "execution_count": 204,
     "metadata": {},
     "output_type": "execute_result"
    }
   ],
   "source": [
    "df_erp.describe()"
   ]
  },
  {
   "cell_type": "markdown",
   "id": "20e8c554",
   "metadata": {},
   "source": [
    "<div style=\"border: 1px solid RGB(51,165,182);\" >\n",
    "<h3 style=\"margin: auto; padding: 20px; color: RGB(51,165,182); \">2.1.1.3 - Analyse de la variable ONSALE_WEB</h3>\n",
    "</div>"
   ]
  },
  {
   "cell_type": "code",
   "execution_count": 205,
   "id": "99b936ca",
   "metadata": {},
   "outputs": [
    {
     "name": "stdout",
     "output_type": "stream",
     "text": [
      "Index(['product_id', 'onsale_web', 'price', 'stock_quantity', 'stock_status',\n",
      "       'purchase_price', 'stock_status_2'],\n",
      "      dtype='object')\n",
      "Index(['id_web', 'product_id'], dtype='object')\n",
      "Index(['sku', 'virtual', 'downloadable', 'rating_count', 'average_rating',\n",
      "       'total_sales', 'tax_status', 'tax_class', 'post_author', 'post_date',\n",
      "       'post_date_gmt', 'post_content', 'product_type', 'post_title',\n",
      "       'post_excerpt', 'post_status', 'comment_status', 'ping_status',\n",
      "       'post_password', 'post_name', 'post_modified', 'post_modified_gmt',\n",
      "       'post_content_filtered', 'post_parent', 'guid', 'menu_order',\n",
      "       'post_type', 'post_mime_type', 'comment_count'],\n",
      "      dtype='object')\n"
     ]
    },
    {
     "data": {
      "text/plain": [
       "onsale_web\n",
       "1    715\n",
       "0    105\n",
       "Name: count, dtype: int64"
      ]
     },
     "execution_count": 205,
     "metadata": {},
     "output_type": "execute_result"
    }
   ],
   "source": [
    "#Vérification de la colonne onsale_web et des valeurs qu'elle contient? Que signifient-elles?\n",
    "print(df_erp.columns)\n",
    "print(df_liaison.columns)\n",
    "print(df_web.columns)\n",
    "df_erp['onsale_web'].value_counts()\n",
    "#### Cette colonne précise si le prroduit est en vente (1) sur le site internent ou non (0)."
   ]
  },
  {
   "cell_type": "code",
   "execution_count": 206,
   "id": "5a79444d",
   "metadata": {},
   "outputs": [],
   "source": [
    "#Quelles sont les colonnes à conserver selon vous?\n",
    "#### purchase_date = prix d'achat du produit\n",
    "#### price = prix de vente du produit\n",
    "#### Toutes les colonnes peuvent être intéressante pour une future analyse (stock_status_2 est en doublon avec stock_status)."
   ]
  },
  {
   "cell_type": "code",
   "execution_count": 207,
   "id": "8053aeda",
   "metadata": {},
   "outputs": [
    {
     "data": {
      "text/html": [
       "<div>\n",
       "<style scoped>\n",
       "    .dataframe tbody tr th:only-of-type {\n",
       "        vertical-align: middle;\n",
       "    }\n",
       "\n",
       "    .dataframe tbody tr th {\n",
       "        vertical-align: top;\n",
       "    }\n",
       "\n",
       "    .dataframe thead th {\n",
       "        text-align: right;\n",
       "    }\n",
       "</style>\n",
       "<table border=\"1\" class=\"dataframe\">\n",
       "  <thead>\n",
       "    <tr style=\"text-align: right;\">\n",
       "      <th></th>\n",
       "      <th>product_id</th>\n",
       "      <th>onsale_web</th>\n",
       "      <th>price</th>\n",
       "      <th>stock_quantity</th>\n",
       "      <th>stock_status</th>\n",
       "      <th>purchase_price</th>\n",
       "    </tr>\n",
       "  </thead>\n",
       "  <tbody>\n",
       "    <tr>\n",
       "      <th>0</th>\n",
       "      <td>3847</td>\n",
       "      <td>1</td>\n",
       "      <td>24.2</td>\n",
       "      <td>16</td>\n",
       "      <td>instock</td>\n",
       "      <td>12.88</td>\n",
       "    </tr>\n",
       "    <tr>\n",
       "      <th>1</th>\n",
       "      <td>3849</td>\n",
       "      <td>1</td>\n",
       "      <td>34.3</td>\n",
       "      <td>10</td>\n",
       "      <td>instock</td>\n",
       "      <td>17.54</td>\n",
       "    </tr>\n",
       "    <tr>\n",
       "      <th>2</th>\n",
       "      <td>3850</td>\n",
       "      <td>1</td>\n",
       "      <td>20.8</td>\n",
       "      <td>0</td>\n",
       "      <td>outofstock</td>\n",
       "      <td>10.64</td>\n",
       "    </tr>\n",
       "    <tr>\n",
       "      <th>3</th>\n",
       "      <td>4032</td>\n",
       "      <td>1</td>\n",
       "      <td>14.1</td>\n",
       "      <td>26</td>\n",
       "      <td>instock</td>\n",
       "      <td>6.92</td>\n",
       "    </tr>\n",
       "    <tr>\n",
       "      <th>4</th>\n",
       "      <td>4039</td>\n",
       "      <td>1</td>\n",
       "      <td>46.0</td>\n",
       "      <td>3</td>\n",
       "      <td>instock</td>\n",
       "      <td>23.77</td>\n",
       "    </tr>\n",
       "  </tbody>\n",
       "</table>\n",
       "</div>"
      ],
      "text/plain": [
       "   product_id  onsale_web  price  stock_quantity stock_status  purchase_price\n",
       "0        3847           1   24.2              16      instock           12.88\n",
       "1        3849           1   34.3              10      instock           17.54\n",
       "2        3850           1   20.8               0   outofstock           10.64\n",
       "3        4032           1   14.1              26      instock            6.92\n",
       "4        4039           1   46.0               3      instock           23.77"
      ]
     },
     "execution_count": 207,
     "metadata": {},
     "output_type": "execute_result"
    }
   ],
   "source": [
    "#Supprimer la colonnecomportant le libellé \"stock_status_2\" car elle est redondante \n",
    "#avec la colonne \"stock_status\".\n",
    "df_erp = df_erp.drop(columns = ['stock_status_2'])\n",
    "df_erp.head()"
   ]
  },
  {
   "cell_type": "markdown",
   "id": "eca4fce9",
   "metadata": {},
   "source": [
    "<div style=\"border: 1px solid RGB(51,165,182);\" >\n",
    "<h3 style=\"margin: auto; padding: 20px; color: RGB(51,165,182); \">2.1.1.4 - Analyse de la variable prix d'achat</h3>\n",
    "</div>"
   ]
  },
  {
   "cell_type": "code",
   "execution_count": 208,
   "id": "6b85ba0d",
   "metadata": {},
   "outputs": [
    {
     "data": {
      "text/plain": [
       "\"Les produits ayant des prix d'achat non renseignés :\""
      ]
     },
     "metadata": {},
     "output_type": "display_data"
    },
    {
     "data": {
      "text/html": [
       "<div>\n",
       "<style scoped>\n",
       "    .dataframe tbody tr th:only-of-type {\n",
       "        vertical-align: middle;\n",
       "    }\n",
       "\n",
       "    .dataframe tbody tr th {\n",
       "        vertical-align: top;\n",
       "    }\n",
       "\n",
       "    .dataframe thead th {\n",
       "        text-align: right;\n",
       "    }\n",
       "</style>\n",
       "<table border=\"1\" class=\"dataframe\">\n",
       "  <thead>\n",
       "    <tr style=\"text-align: right;\">\n",
       "      <th></th>\n",
       "      <th>product_id</th>\n",
       "      <th>onsale_web</th>\n",
       "      <th>price</th>\n",
       "      <th>stock_quantity</th>\n",
       "      <th>stock_status</th>\n",
       "      <th>purchase_price</th>\n",
       "    </tr>\n",
       "  </thead>\n",
       "  <tbody>\n",
       "  </tbody>\n",
       "</table>\n",
       "</div>"
      ],
      "text/plain": [
       "Empty DataFrame\n",
       "Columns: [product_id, onsale_web, price, stock_quantity, stock_status, purchase_price]\n",
       "Index: []"
      ]
     },
     "metadata": {},
     "output_type": "display_data"
    },
    {
     "name": "stdout",
     "output_type": "stream",
     "text": [
      "Le min est de  2.74\n",
      "Le max est de  137.81\n"
     ]
    }
   ],
   "source": [
    "######################\n",
    "##   prix d'achat   ##\n",
    "######################\n",
    "\n",
    "#Vérification de la colonne purchase_price : \n",
    "#Afficher le ou les prix non renseignés dans la colonne \"purchase_price\"\n",
    "display(\"Les produits ayant des prix d'achat non renseignés :\", df_erp.loc[df_erp['price'].isna()])\n",
    "#Afficher le prix minimum de la colonne \"purchase_price\"\n",
    "print(\"Le min est de \",df_erp['purchase_price'].min())\n",
    "#Afficher le prix maximum de la colonne \"purchase_price\"\n",
    "print(\"Le max est de \",df_erp['purchase_price'].max())"
   ]
  },
  {
   "cell_type": "markdown",
   "id": "a550f996",
   "metadata": {},
   "source": [
    "<div style=\"border: 1px solid RGB(51,165,182);\" >\n",
    "<h3 style=\"margin: auto; padding: 20px; color: RGB(51,165,182); \">2.2 - Analyse exploratoire du fichier web.xlsx</h3>\n",
    "</div>\n",
    " "
   ]
  },
  {
   "cell_type": "code",
   "execution_count": 209,
   "id": "bb7e292c",
   "metadata": {},
   "outputs": [
    {
     "name": "stdout",
     "output_type": "stream",
     "text": [
      "(1513, 29)\n",
      "<class 'pandas.core.frame.DataFrame'>\n",
      "RangeIndex: 1513 entries, 0 to 1512\n",
      "Data columns (total 29 columns):\n",
      " #   Column                 Non-Null Count  Dtype         \n",
      "---  ------                 --------------  -----         \n",
      " 0   sku                    1428 non-null   object        \n",
      " 1   virtual                1513 non-null   int64         \n",
      " 2   downloadable           1513 non-null   int64         \n",
      " 3   rating_count           1513 non-null   int64         \n",
      " 4   average_rating         1430 non-null   float64       \n",
      " 5   total_sales            1430 non-null   float64       \n",
      " 6   tax_status             716 non-null    object        \n",
      " 7   tax_class              0 non-null      float64       \n",
      " 8   post_author            1430 non-null   float64       \n",
      " 9   post_date              1430 non-null   datetime64[ns]\n",
      " 10  post_date_gmt          1430 non-null   datetime64[ns]\n",
      " 11  post_content           0 non-null      float64       \n",
      " 12  product_type           1429 non-null   object        \n",
      " 13  post_title             1430 non-null   object        \n",
      " 14  post_excerpt           716 non-null    object        \n",
      " 15  post_status            1430 non-null   object        \n",
      " 16  comment_status         1430 non-null   object        \n",
      " 17  ping_status            1430 non-null   object        \n",
      " 18  post_password          0 non-null      float64       \n",
      " 19  post_name              1430 non-null   object        \n",
      " 20  post_modified          1430 non-null   datetime64[ns]\n",
      " 21  post_modified_gmt      1430 non-null   datetime64[ns]\n",
      " 22  post_content_filtered  0 non-null      float64       \n",
      " 23  post_parent            1430 non-null   float64       \n",
      " 24  guid                   1430 non-null   object        \n",
      " 25  menu_order             1430 non-null   float64       \n",
      " 26  post_type              1430 non-null   object        \n",
      " 27  post_mime_type         714 non-null    object        \n",
      " 28  comment_count          1430 non-null   float64       \n",
      "dtypes: datetime64[ns](4), float64(10), int64(3), object(12)\n",
      "memory usage: 342.9+ KB\n",
      "None\n"
     ]
    }
   ],
   "source": [
    "#Dimension du dataset\n",
    "#Nombre d'observations\n",
    "print(df_web.shape)\n",
    "#Nombre de caractéristiques\n",
    "print(df_web.info())"
   ]
  },
  {
   "cell_type": "code",
   "execution_count": 210,
   "id": "0b70a8da",
   "metadata": {},
   "outputs": [
    {
     "name": "stdout",
     "output_type": "stream",
     "text": [
      "<class 'pandas.core.frame.DataFrame'>\n",
      "RangeIndex: 1513 entries, 0 to 1512\n",
      "Data columns (total 29 columns):\n",
      " #   Column                 Non-Null Count  Dtype         \n",
      "---  ------                 --------------  -----         \n",
      " 0   sku                    1428 non-null   object        \n",
      " 1   virtual                1513 non-null   int64         \n",
      " 2   downloadable           1513 non-null   int64         \n",
      " 3   rating_count           1513 non-null   int64         \n",
      " 4   average_rating         1430 non-null   float64       \n",
      " 5   total_sales            1430 non-null   float64       \n",
      " 6   tax_status             716 non-null    object        \n",
      " 7   tax_class              0 non-null      float64       \n",
      " 8   post_author            1430 non-null   float64       \n",
      " 9   post_date              1430 non-null   datetime64[ns]\n",
      " 10  post_date_gmt          1430 non-null   datetime64[ns]\n",
      " 11  post_content           0 non-null      float64       \n",
      " 12  product_type           1429 non-null   object        \n",
      " 13  post_title             1430 non-null   object        \n",
      " 14  post_excerpt           716 non-null    object        \n",
      " 15  post_status            1430 non-null   object        \n",
      " 16  comment_status         1430 non-null   object        \n",
      " 17  ping_status            1430 non-null   object        \n",
      " 18  post_password          0 non-null      float64       \n",
      " 19  post_name              1430 non-null   object        \n",
      " 20  post_modified          1430 non-null   datetime64[ns]\n",
      " 21  post_modified_gmt      1430 non-null   datetime64[ns]\n",
      " 22  post_content_filtered  0 non-null      float64       \n",
      " 23  post_parent            1430 non-null   float64       \n",
      " 24  guid                   1430 non-null   object        \n",
      " 25  menu_order             1430 non-null   float64       \n",
      " 26  post_type              1430 non-null   object        \n",
      " 27  post_mime_type         714 non-null    object        \n",
      " 28  comment_count          1430 non-null   float64       \n",
      "dtypes: datetime64[ns](4), float64(10), int64(3), object(12)\n",
      "memory usage: 342.9+ KB\n"
     ]
    }
   ],
   "source": [
    "#Consulter le nombre de colonnes\n",
    "#La nature des données dans chacune des colonnes\n",
    "#Le nombre de valeurs présentes dans chacune des colonnes\n",
    "df_web.info()"
   ]
  },
  {
   "cell_type": "code",
   "execution_count": 211,
   "id": "b0d2f149",
   "metadata": {},
   "outputs": [],
   "source": [
    "#Selon vous, quelles sont les colonnes à conserver ?\n",
    "#### Toutes les colonnes où il n'y a pas \"0 non-null\""
   ]
  },
  {
   "cell_type": "code",
   "execution_count": 212,
   "id": "30b2196b",
   "metadata": {},
   "outputs": [],
   "source": [
    "#Si vous avez défini des colonnes à supprimer, effectuer l'opération\n",
    "df_web = df_web.drop(columns = ['tax_class', 'post_content', 'post_password', 'post_content_filtered'])"
   ]
  },
  {
   "cell_type": "code",
   "execution_count": 213,
   "id": "19fe4d3b",
   "metadata": {},
   "outputs": [
    {
     "name": "stdout",
     "output_type": "stream",
     "text": [
      "<class 'pandas.core.frame.DataFrame'>\n",
      "RangeIndex: 1513 entries, 0 to 1512\n",
      "Data columns (total 25 columns):\n",
      " #   Column             Non-Null Count  Dtype         \n",
      "---  ------             --------------  -----         \n",
      " 0   sku                1428 non-null   object        \n",
      " 1   virtual            1513 non-null   int64         \n",
      " 2   downloadable       1513 non-null   int64         \n",
      " 3   rating_count       1513 non-null   int64         \n",
      " 4   average_rating     1430 non-null   float64       \n",
      " 5   total_sales        1430 non-null   float64       \n",
      " 6   tax_status         716 non-null    object        \n",
      " 7   post_author        1430 non-null   float64       \n",
      " 8   post_date          1430 non-null   datetime64[ns]\n",
      " 9   post_date_gmt      1430 non-null   datetime64[ns]\n",
      " 10  product_type       1429 non-null   object        \n",
      " 11  post_title         1430 non-null   object        \n",
      " 12  post_excerpt       716 non-null    object        \n",
      " 13  post_status        1430 non-null   object        \n",
      " 14  comment_status     1430 non-null   object        \n",
      " 15  ping_status        1430 non-null   object        \n",
      " 16  post_name          1430 non-null   object        \n",
      " 17  post_modified      1430 non-null   datetime64[ns]\n",
      " 18  post_modified_gmt  1430 non-null   datetime64[ns]\n",
      " 19  post_parent        1430 non-null   float64       \n",
      " 20  guid               1430 non-null   object        \n",
      " 21  menu_order         1430 non-null   float64       \n",
      " 22  post_type          1430 non-null   object        \n",
      " 23  post_mime_type     714 non-null    object        \n",
      " 24  comment_count      1430 non-null   float64       \n",
      "dtypes: datetime64[ns](4), float64(6), int64(3), object(12)\n",
      "memory usage: 295.6+ KB\n"
     ]
    }
   ],
   "source": [
    "df_web.info()"
   ]
  },
  {
   "cell_type": "code",
   "execution_count": 214,
   "id": "1b965d06",
   "metadata": {},
   "outputs": [
    {
     "name": "stdout",
     "output_type": "stream",
     "text": [
      "count      1428\n",
      "unique      714\n",
      "top       11862\n",
      "freq          2\n",
      "Name: sku, dtype: int64\n",
      "[11862, 16057, 14692, 16295, 15328, 15471, 16515, 16246, nan, 13572, 16513, 16585, 16269, 15526, 12869, 15575, 11586, 14338, 15425, 16560, nan, 15361, 13809, 11587, 15022, 14323, 16342, 16029, 15475, 13754, nan, 14680, 15875, 9636, 13849, 13662, 16564, nan, 13557, 15429, 14712, nan, 15032, 15481, 15448, 16580, 15441, nan, 804, 15300, 13958, 16071, 15678, 13895, 15711, nan, 12869, 12882, 16053, 13766, 16247, 12640, 15292, 15476, 15670, 16189, 16038, 14864, 16044, 15324, 15531, 15953, 15413, 15733, 13809, nan, 14366, 15895, 15892, 16472, 15185, 16010, 15793, 15849, 12315, 15741, 15934, 15148, 15781, 15659, 15106, 15490, 14507, 14149, nan, 16307, 13736, 14090, 16037, 15758, 14661, 12587, 15337, 15489, 15201, 16305, 16131, 13435, 15747, 15758, 12203, 14509, 14768, 16262, 14561, 16505, 15717, 13766, 16129, 13460, 15871, 15940, 11602, 13127, 13520, 15480, 13032, nan, 15436, 15269, nan, 15910, 19821, 16263, 15138, 15146, nan, 16580, 15126, 15482, 16186, 13905, 16540, 15856, 15677, 13557, 14700, 15325, 19815, 3506, 16056, 14975, 15341, nan, 15204, 15415, 16065, 15479, 16151, 15127, 15140, 15779, nan, 15473, 15530, 14805, 14106, 9937, 15281, nan, 16553, 15315, 15668, 13211, 15161, 11258, 16296, 12588, 15792, 15921, 15690, 15775, 15577, 15870, nan, 802, 15163, 15707, 15690, 15561, 15539, 4679, 16320, 15923, 3509, 2534, 16238, 11586, nan, nan, 14819, 15705, 15254, 15554, 14451, 13215, 14302, 12476, 16274, 16044, 14507, 14696, 14573, 15343, 791, 14474, 12586, 16238, 14768, 15346, 15834, 15342, 15324, 15141, 15038, 14265, 15238, 16586, 15895, 13073, 15664, 14527, 15707, 15269, 14845, 13172, 13996, 15038, 15864, 14700, 15440, 15759, 15706, 11277, nan, 15448, 15676, 15731, 13435, 16525, 15785, 14699, 16063, 15718, 14372, 15881, 793, 14775, 12771, 15426, 13291, 16023, 14661, 15713, nan, 15675, 15282, 15927, 15351, nan, 12791, 13958, '13127-1', 13853, 15613, 15921, 11849, 15478, 15328, 16121, 16237, 15461, 15745, 15621, 13849, 15683, 15577, 12639, 15466, 15184, nan, 13078, 13904, 14828, 14000, 15793, 15612, 304, 15811, 15425, 15649, 14599, 15033, 13959, 15026, 13032, 16449, 15095, 15829, 13965, 16306, 16276, 15729, 15303, 13996, 14679, 15318, 13599, 15206, nan, 19816, 16153, 16067, 15241, 14981, 16264, 14915, 15737, 16289, 15229, 15713, 7033, 15654, 15879, 12586, 15184, 14692, 16256, 15710, nan, 16498, 16289, 15204, 15349, 11933, 16462, 14596, 15296, 16042, 15887, 15264, 15307, nan, 16256, 15369, 14095, 15868, 16247, 16307, nan, 15530, 14371, 12657, 15478, nan, 15808, 15787, 16038, 13604, 13604, 791, 15605, 15795, nan, 15566, 16210, nan, 15732, 15661, nan, 13814, 16130, 16003, 14676, 13516, 14977, 14945, 12641, 14469, 15237, 14905, 15462, 16031, 15779, 14599, 14819, 16191, 3568, 15080, 14975, 15353, 15861, 16529, 16068, 16081, 14729, 16077, 15373, 11049, nan, 16154, 14809, 15201, 15073, 15345, 15756, 13531, 15373, 16269, 15614, 7086, nan, 15784, 14332, 16320, nan, 14300, 14141, 15734, 15456, 805, 16130, 15766, 13895, 15667, 16513, 16081, 16152, 16318, 15677, 15185, 15360, 14696, 16067, 13517, 7819, 12771, 15740, 15930, 16155, 4679, 15339, 14950, 13754, 2179, 15688, 16525, 13982, 38, 13853, 15178, 16209, 14982, 8463, 13412, 15298, 14149, 15770, 15487, 15205, 13230, 14220, 15227, 13172, 14106, 16094, 15859, 15811, 15481, 15179, 14774, 14944, 16022, 15767, 15338, 13913, 14756, 16152, 15746, 14332, 16192, 15763, 12365, 15868, 9562, 15767, 16039, 16328, 16564, 15196, 15475, 531, 15810, 15649, 7086, 2361, 15402, 14828, 14220, 15945, 15807, 15661, 16210, 14506, 14100, nan, 15075, 13765, 12882, 16093, 10814, 12942, nan, 1366, 12857, 12045, 13515, 11601, 16148, 12339, 15095, 14845, 15351, 15870, 16567, 15240, 793, 15414, 812, 16292, 11736, nan, 15714, 15120, 15461, 15141, 13117, 3383, 1366, 15631, nan, 15136, 15145, 13096, 15857, 15318, 15241, nan, 14632, 11641, 15856, 804, 15807, 15736, 15136, 15615, 15574, 16096, 15564, 15774, 14930, 15714, 15670, 15429, 15941, 16045, 16246, 15539, 16230, 14429, 16010, 15769, 16265, 14657, 15741, 15261, 13765, 16239, 14141, 15715, 13453, 16244, 15147, 16280, 15564, 14508, 15465, 11277, 3510, 14374, 15880, 16071, nan, 15930, 16151, 15465, 13416, 15343, 15733, 15183, 15860, 11467, nan, 11585, 11602, 14300, 14485, 16138, 19822, 14915, 15155, 11996, nan, 14626, 15126, 15026, 13117, 16330, 15035, 15404, 8365, 3507, 14773, 15360, 12639, 15967, 14000, 15812, 16319, nan, nan, 14699, 16004, 15310, 16093, 16097, 12045, 14856, 19821, 15881, 15629, 1364, 15120, 15116, 14101, 13531, 14912, 15036, 16047, 14184, 14983, 14983, 16030, 16283, 16324, 14756, nan, 15801, 10014, 12881, 15660, 16540, 16005, 15489, 15306, 16277, 11641, 15527, nan, 15428, 15292, 13957, 15647, 2179, 12496, 15399, 15490, 13969, 13096, 15525, 15759, 12942, 13914, 13211, 12790, 16498, nan, 13904, 15296, 16560, 15720, 13313, 13291, nan, 15196, 15928, 15432, 16077, 13814, 15655, 16539, 12589, 15648, 13127, nan, 15561, 16011, nan, 15711, 15892, 15073, 16146, 15672, 15030, 15735, 15769, nan, 14800, 9937, 16190, 13217, 13854, 14856, 16317, 15871, 16565, 16131, 15237, 15891, 15729, 15730, 16497, 16124, 14596, 15566, 16056, 14626, 15476, 10459, 19814, 15863, 15786, 15791, 15353, 16135, 16553, 16147, 12640, 16066, 15818, 15791, 15790, 9636, 15205, 15648, 8193, 15282, 16255, 16189, 15047, 15966, 16153, 13078, 14736, 16120, 16013, 19815, 798, nan, 1662, 16416, 7032, 14581, 16280, 15047, 15106, 14944, 15783, 16144, 5646, 8344, 15775, 13514, 15848, 14451, 15658, 15161, nan, 16209, 14680, 14897, 12194, 10775, 16304, 15361, 14980, 13572, 15035, 14192, 15715, 15952, 15717, 14508, 14099, 16094, 3506, 15834, 3568, 15315, nan, 16144, 12315, nan, 15125, 13089, 15655, 16062, 14923, 15801, nan, 14839, 11933, 15576, 13515, 15657, 1360, nan, 15583, 14527, 15457, 13969, 16275, 'bon-cadeau-25-euros', 15346, 15797, 15574, 12366, 14864, 14095, 15764, 15080, 11587, 14632, 16072, 15426, 15070, 16323, 15753, 15575, 15755, 10814, 15718, 15582, 13379, 15704, 14372, 16515, 13965, 14265, 12194, 15482, 11601, 16192, 15457, 15861, 15345, 14101, 15667, 13072, 15862, 15533, 16275, 15441, 16028, 16186, 12588, 15148, 10459, 15473, 14775, 7032, 14725, 13647, 15436, 16261, 15944, 16146, 15256, 15576, 523, 15452, 16322, 15240, 14729, 16014, 13089, 15732, 15631, 14600, 15316, 15163, 16244, 16264, 15776, 14509, 16211, 14899, 14955, 13412, 15471, 13910, 15134, 19814, 15434, 16124, 16262, 13982, 15813, 14773, 15808, 15145, 15794, 15946, 3383, 16213, 14855, 3510, 14827, 14930, 13520, 14089, 15283, 15734, 15629, nan, 15740, 14647, nan, 15525, 15036, 11467, 15781, 16504, 15849, 15674, 15794, 16537, 16062, 13230, 16416, 15657, 15658, 15179, 15945, 38, 41, 13762, 15399, nan, 16283, 14570, nan, 13313, 16041, 15202, 15180, 15375, 16046, 15678, 16034, 16120, 14092, 14241, 14982, 15075, 11997, 15922, nan, 14844, 15795, 15444, 14839, 16047, 15486, 7819, 15664, 8344, 14923, 15378, 14950, 15621, 11862, 1662, 807, 14679, nan, 14905, 13567, 16281, 13217, 1364, 15413, 15213, 15032, 12366, 16166, 11849, 13957, nan, 11225, 16323, 13567, 15773, 16003, 16539, 16160, 19820, 13599, 7818, 15116, 10014, 13379, 14751, 14712, 15280, 15786, 15933, 16277, 14184, 13627, 16063, 14429, 13910, 15403, 14580, nan, 16024, 14090, 15432, 3507, 15860, 15261, 14561, 14371, 15227, 12641, 16068, 16096, 14797, 12476, 16304, 15737, 12494, 16229, 13659, nan, 16281, 16578, 15770, 14802, 15238, 16029, 15850, 16306, 16159, 15704, 15554, 15839, 16053, 13052, 15668, 15375, 15605, 16034, nan, 15869, nan, nan, 15444, 15486, 14604, 16273, 15875, 15659, 13905, 812, 16295, 15785, nan, 15178, 15404, 16005, 15329, 16042, 14573, 14366, 15283, 16318, 16031, 16578, 15307, 15773, 13854, 3509, 15125, 15306, 14253, '13127-1', 13073, 16213, 14941, 15567, 15487, 16132, 16023, 13627, 14736, 41, 14746, 16504, 14955, 15656, 16066, 16135, 15070, nan, 16527, nan, 2361, 15162, 16045, 15206, 16154, 16529, 14580, 7818, 16326, 16449, 14657, 15310, 16501, nan, 15747, 807, 15818, 12881, 15654, 15688, 16119, 14647, 13914, 15662, 15526, 15764, 15344, 13052, 16330, 15378, 15864, 16147, 16046, 16505, 11996, 13662, 16011, 15281, 16586, 15792, 15776, 15303, 15676, 15967, 14800, 14469, 15787, 14089, 19816, 15134, 6616, 16065, 15958, 1360, 15466, 14865, nan, 14897, 16292, 13215, 15879, 15848, 16328, 15656, 11669, 8365, 15180, 15660, 15766, 11669, 15812, 16013, 304, 15480, 15746, 15022, 15162, 15428, 14395, 14338, 15127, 14323, 16229, 15923, 15155, 14092, 16565, 13647, 15147, 14604, 16296, 14855, 12791, nan, 15149, 16239, 12585, 14570, 15338, 15958, 14751, 15933, 14506, 11668, 11847, 12599, nan, 5646, 15850, 16527, 15583, 16159, 16133, 15665, 14797, 15183, nan, 19820, 13762, 16305, 15337, 16121, 14474, 15382, 16263, nan, 13736, 802, 11997, 16138, 15940, 14809, 13209, 15146, 13072, 12587, 16133, 15705, 14461, 14805, 15730, 8193, 15790, 15748, 15229, 15298, 16166, 15663, 15072, 15004, 15202, 15755, 16069, 12496, 15300, 15952, 14395, 16037, 15434, 11585, 16180, 12203, 15887, nan, 15342, 15753, 15325, 16585, 15927, 15665, 14600, 15934, 13659, 15341, 15403, 15949, 11225, 13460, 14725, 10775, 12857, 14980, 8463, 15774, 11049, 16149, 15414, 16043, 7033, 15845, 15745, nan, 16255, 12599, nan, 16069, 16132, 15072, 15138, 14374, 14945, 15951, 13514, 15382, 14302, 16180, 15829, 15951, 14241, 11258, 15675, 15531, 15944, 16024, 16119, 13074, 14192, 15857, 16022, 15839, 16028, 15941, 15949, 16237, 15663, 16274, 15946, 15845, 12589, 16230, 13453, 11736, 16501, 15280, 16097, 16472, 16276, 14485, 14100, 15004, 15533, 15859, 14099, 14774, 16342, 13959, nan, 15033, 15613, 'bon-cadeau-25-euros', 15149, 16537, 16462, 14569, 14977, 16041, 15813, 16324, 14676, 15339, 16160, 15402, 15922, 16030, 16190, 16265, 15479, 15527, 15966, 15710, 15452, 15140, 14981, 12585, 15213, 15810, 16211, 12657, 16149, 16043, 15891, 13517, 15567, 15582, 12339, 19822, 15612, 14865, 12790, 15763, 15462, nan, 523, 13516, nan, 15862, 16317, 14899, 16057, 15614, 9562, 15784, 13209, 805, 531, 15440, 15683, nan, 15674, 15316, 15880, 15731, 14569, 15254, 15910, 2534, 15953, 14581, 14941, nan, 16191, 15344, 15672, 11847, 798, 16155, 13913, 15869, 15928, 15735, 16148, 16273, 13416, 6616, 15647, 16039, 15720, 12494, 14746, 16129, 15756, 15783, 16567, 15797, 15863, 16014, 15706, 14844, 15256, 14802, 15615, 15736, 15349, 16319, 11668, 16072, 16497, 15030, 15456, 15264, 15369, 14253, 15415, 14912, 14461, 13074, 15748, 16322, 16261, 12365, 16326, 15662, 15329, 14827, 16004]\n",
      "sku\n",
      "11862    2\n",
      "16324    2\n",
      "3507     2\n",
      "14773    2\n",
      "15967    2\n",
      "        ..\n",
      "12639    2\n",
      "15466    2\n",
      "15184    2\n",
      "13078    2\n",
      "14569    2\n",
      "Name: count, Length: 714, dtype: int64\n",
      "Le nombre de na est de : 85\n"
     ]
    }
   ],
   "source": [
    "#Visualisation des valeurs de la colonne sku\n",
    "#Quelles sont les valeurs qui ne semblent pas respecter la régle de codification?\n",
    "print(df_web['sku'].describe())\n",
    "print(df_web['sku'].values.tolist())\n",
    "print(df_web['sku'].value_counts())\n",
    "print('Le nombre de na est de :', df_web['sku'].isna().sum())"
   ]
  },
  {
   "cell_type": "code",
   "execution_count": 215,
   "id": "1226dcfd",
   "metadata": {},
   "outputs": [
    {
     "data": {
      "text/html": [
       "<div>\n",
       "<style scoped>\n",
       "    .dataframe tbody tr th:only-of-type {\n",
       "        vertical-align: middle;\n",
       "    }\n",
       "\n",
       "    .dataframe tbody tr th {\n",
       "        vertical-align: top;\n",
       "    }\n",
       "\n",
       "    .dataframe thead th {\n",
       "        text-align: right;\n",
       "    }\n",
       "</style>\n",
       "<table border=\"1\" class=\"dataframe\">\n",
       "  <thead>\n",
       "    <tr style=\"text-align: right;\">\n",
       "      <th></th>\n",
       "      <th>sku</th>\n",
       "      <th>virtual</th>\n",
       "      <th>downloadable</th>\n",
       "      <th>rating_count</th>\n",
       "      <th>average_rating</th>\n",
       "      <th>total_sales</th>\n",
       "      <th>tax_status</th>\n",
       "      <th>post_author</th>\n",
       "      <th>post_date</th>\n",
       "      <th>post_date_gmt</th>\n",
       "      <th>...</th>\n",
       "      <th>ping_status</th>\n",
       "      <th>post_name</th>\n",
       "      <th>post_modified</th>\n",
       "      <th>post_modified_gmt</th>\n",
       "      <th>post_parent</th>\n",
       "      <th>guid</th>\n",
       "      <th>menu_order</th>\n",
       "      <th>post_type</th>\n",
       "      <th>post_mime_type</th>\n",
       "      <th>comment_count</th>\n",
       "    </tr>\n",
       "  </thead>\n",
       "  <tbody>\n",
       "    <tr>\n",
       "      <th>8</th>\n",
       "      <td>NaN</td>\n",
       "      <td>0</td>\n",
       "      <td>0</td>\n",
       "      <td>0</td>\n",
       "      <td>NaN</td>\n",
       "      <td>NaN</td>\n",
       "      <td>NaN</td>\n",
       "      <td>NaN</td>\n",
       "      <td>NaT</td>\n",
       "      <td>NaT</td>\n",
       "      <td>...</td>\n",
       "      <td>NaN</td>\n",
       "      <td>NaN</td>\n",
       "      <td>NaT</td>\n",
       "      <td>NaT</td>\n",
       "      <td>NaN</td>\n",
       "      <td>NaN</td>\n",
       "      <td>NaN</td>\n",
       "      <td>NaN</td>\n",
       "      <td>NaN</td>\n",
       "      <td>NaN</td>\n",
       "    </tr>\n",
       "    <tr>\n",
       "      <th>20</th>\n",
       "      <td>NaN</td>\n",
       "      <td>0</td>\n",
       "      <td>0</td>\n",
       "      <td>0</td>\n",
       "      <td>NaN</td>\n",
       "      <td>NaN</td>\n",
       "      <td>NaN</td>\n",
       "      <td>NaN</td>\n",
       "      <td>NaT</td>\n",
       "      <td>NaT</td>\n",
       "      <td>...</td>\n",
       "      <td>NaN</td>\n",
       "      <td>NaN</td>\n",
       "      <td>NaT</td>\n",
       "      <td>NaT</td>\n",
       "      <td>NaN</td>\n",
       "      <td>NaN</td>\n",
       "      <td>NaN</td>\n",
       "      <td>NaN</td>\n",
       "      <td>NaN</td>\n",
       "      <td>NaN</td>\n",
       "    </tr>\n",
       "    <tr>\n",
       "      <th>30</th>\n",
       "      <td>NaN</td>\n",
       "      <td>0</td>\n",
       "      <td>0</td>\n",
       "      <td>0</td>\n",
       "      <td>NaN</td>\n",
       "      <td>NaN</td>\n",
       "      <td>NaN</td>\n",
       "      <td>NaN</td>\n",
       "      <td>NaT</td>\n",
       "      <td>NaT</td>\n",
       "      <td>...</td>\n",
       "      <td>NaN</td>\n",
       "      <td>NaN</td>\n",
       "      <td>NaT</td>\n",
       "      <td>NaT</td>\n",
       "      <td>NaN</td>\n",
       "      <td>NaN</td>\n",
       "      <td>NaN</td>\n",
       "      <td>NaN</td>\n",
       "      <td>NaN</td>\n",
       "      <td>NaN</td>\n",
       "    </tr>\n",
       "    <tr>\n",
       "      <th>37</th>\n",
       "      <td>NaN</td>\n",
       "      <td>0</td>\n",
       "      <td>0</td>\n",
       "      <td>0</td>\n",
       "      <td>NaN</td>\n",
       "      <td>NaN</td>\n",
       "      <td>NaN</td>\n",
       "      <td>NaN</td>\n",
       "      <td>NaT</td>\n",
       "      <td>NaT</td>\n",
       "      <td>...</td>\n",
       "      <td>NaN</td>\n",
       "      <td>NaN</td>\n",
       "      <td>NaT</td>\n",
       "      <td>NaT</td>\n",
       "      <td>NaN</td>\n",
       "      <td>NaN</td>\n",
       "      <td>NaN</td>\n",
       "      <td>NaN</td>\n",
       "      <td>NaN</td>\n",
       "      <td>NaN</td>\n",
       "    </tr>\n",
       "    <tr>\n",
       "      <th>41</th>\n",
       "      <td>NaN</td>\n",
       "      <td>0</td>\n",
       "      <td>0</td>\n",
       "      <td>0</td>\n",
       "      <td>NaN</td>\n",
       "      <td>NaN</td>\n",
       "      <td>NaN</td>\n",
       "      <td>NaN</td>\n",
       "      <td>NaT</td>\n",
       "      <td>NaT</td>\n",
       "      <td>...</td>\n",
       "      <td>NaN</td>\n",
       "      <td>NaN</td>\n",
       "      <td>NaT</td>\n",
       "      <td>NaT</td>\n",
       "      <td>NaN</td>\n",
       "      <td>NaN</td>\n",
       "      <td>NaN</td>\n",
       "      <td>NaN</td>\n",
       "      <td>NaN</td>\n",
       "      <td>NaN</td>\n",
       "    </tr>\n",
       "  </tbody>\n",
       "</table>\n",
       "<p>5 rows × 25 columns</p>\n",
       "</div>"
      ],
      "text/plain": [
       "    sku  virtual  downloadable  rating_count  average_rating  total_sales  \\\n",
       "8   NaN        0             0             0             NaN          NaN   \n",
       "20  NaN        0             0             0             NaN          NaN   \n",
       "30  NaN        0             0             0             NaN          NaN   \n",
       "37  NaN        0             0             0             NaN          NaN   \n",
       "41  NaN        0             0             0             NaN          NaN   \n",
       "\n",
       "   tax_status  post_author post_date post_date_gmt  ... ping_status post_name  \\\n",
       "8         NaN          NaN       NaT           NaT  ...         NaN       NaN   \n",
       "20        NaN          NaN       NaT           NaT  ...         NaN       NaN   \n",
       "30        NaN          NaN       NaT           NaT  ...         NaN       NaN   \n",
       "37        NaN          NaN       NaT           NaT  ...         NaN       NaN   \n",
       "41        NaN          NaN       NaT           NaT  ...         NaN       NaN   \n",
       "\n",
       "   post_modified post_modified_gmt post_parent guid menu_order post_type  \\\n",
       "8            NaT               NaT         NaN  NaN        NaN       NaN   \n",
       "20           NaT               NaT         NaN  NaN        NaN       NaN   \n",
       "30           NaT               NaT         NaN  NaN        NaN       NaN   \n",
       "37           NaT               NaT         NaN  NaN        NaN       NaN   \n",
       "41           NaT               NaT         NaN  NaN        NaN       NaN   \n",
       "\n",
       "   post_mime_type  comment_count  \n",
       "8             NaN            NaN  \n",
       "20            NaN            NaN  \n",
       "30            NaN            NaN  \n",
       "37            NaN            NaN  \n",
       "41            NaN            NaN  \n",
       "\n",
       "[5 rows x 25 columns]"
      ]
     },
     "execution_count": 215,
     "metadata": {},
     "output_type": "execute_result"
    }
   ],
   "source": [
    "#Si vous avez identifié des codes articles ne respectant pas la régle de codification, consultez-les?\n",
    "df_web.loc[df_web['sku'].isna()].head()"
   ]
  },
  {
   "cell_type": "code",
   "execution_count": 216,
   "id": "eb8d31bf",
   "metadata": {},
   "outputs": [
    {
     "data": {
      "text/plain": [
       "[8,\n",
       " 20,\n",
       " 30,\n",
       " 37,\n",
       " 41,\n",
       " 47,\n",
       " 55,\n",
       " 75,\n",
       " 94,\n",
       " 127,\n",
       " 130,\n",
       " 136,\n",
       " 153,\n",
       " 162,\n",
       " 169,\n",
       " 184,\n",
       " 198,\n",
       " 199,\n",
       " 244,\n",
       " 264,\n",
       " 269,\n",
       " 290,\n",
       " 319,\n",
       " 339,\n",
       " 352,\n",
       " 359,\n",
       " 364,\n",
       " 373,\n",
       " 376,\n",
       " 379,\n",
       " 409,\n",
       " 421,\n",
       " 425,\n",
       " 515,\n",
       " 522,\n",
       " 541,\n",
       " 550,\n",
       " 557,\n",
       " 602,\n",
       " 612,\n",
       " 622,\n",
       " 639,\n",
       " 640,\n",
       " 666,\n",
       " 678,\n",
       " 696,\n",
       " 703,\n",
       " 714,\n",
       " 717,\n",
       " 726,\n",
       " 778,\n",
       " 797,\n",
       " 819,\n",
       " 822,\n",
       " 829,\n",
       " 836,\n",
       " 944,\n",
       " 947,\n",
       " 968,\n",
       " 971,\n",
       " 987,\n",
       " 1005,\n",
       " 1018,\n",
       " 1045,\n",
       " 1065,\n",
       " 1084,\n",
       " 1086,\n",
       " 1087,\n",
       " 1098,\n",
       " 1135,\n",
       " 1137,\n",
       " 1151,\n",
       " 1194,\n",
       " 1231,\n",
       " 1244,\n",
       " 1254,\n",
       " 1263,\n",
       " 1301,\n",
       " 1329,\n",
       " 1332,\n",
       " 1384,\n",
       " 1429,\n",
       " 1432,\n",
       " 1445,\n",
       " 1457]"
      ]
     },
     "execution_count": 216,
     "metadata": {},
     "output_type": "execute_result"
    }
   ],
   "source": [
    "#Identifier les lignes sans code articles\n",
    "df_web[df_web['sku'].isna()].index.tolist()"
   ]
  },
  {
   "cell_type": "code",
   "execution_count": 217,
   "id": "967495da",
   "metadata": {},
   "outputs": [
    {
     "data": {
      "text/html": [
       "<div>\n",
       "<style scoped>\n",
       "    .dataframe tbody tr th:only-of-type {\n",
       "        vertical-align: middle;\n",
       "    }\n",
       "\n",
       "    .dataframe tbody tr th {\n",
       "        vertical-align: top;\n",
       "    }\n",
       "\n",
       "    .dataframe thead th {\n",
       "        text-align: right;\n",
       "    }\n",
       "</style>\n",
       "<table border=\"1\" class=\"dataframe\">\n",
       "  <thead>\n",
       "    <tr style=\"text-align: right;\">\n",
       "      <th></th>\n",
       "      <th>sku</th>\n",
       "      <th>virtual</th>\n",
       "      <th>downloadable</th>\n",
       "      <th>rating_count</th>\n",
       "      <th>average_rating</th>\n",
       "      <th>total_sales</th>\n",
       "      <th>tax_status</th>\n",
       "      <th>post_author</th>\n",
       "      <th>post_date</th>\n",
       "      <th>post_date_gmt</th>\n",
       "      <th>...</th>\n",
       "      <th>ping_status</th>\n",
       "      <th>post_name</th>\n",
       "      <th>post_modified</th>\n",
       "      <th>post_modified_gmt</th>\n",
       "      <th>post_parent</th>\n",
       "      <th>guid</th>\n",
       "      <th>menu_order</th>\n",
       "      <th>post_type</th>\n",
       "      <th>post_mime_type</th>\n",
       "      <th>comment_count</th>\n",
       "    </tr>\n",
       "  </thead>\n",
       "  <tbody>\n",
       "    <tr>\n",
       "      <th>8</th>\n",
       "      <td>NaN</td>\n",
       "      <td>0</td>\n",
       "      <td>0</td>\n",
       "      <td>0</td>\n",
       "      <td>NaN</td>\n",
       "      <td>NaN</td>\n",
       "      <td>NaN</td>\n",
       "      <td>NaN</td>\n",
       "      <td>NaT</td>\n",
       "      <td>NaT</td>\n",
       "      <td>...</td>\n",
       "      <td>NaN</td>\n",
       "      <td>NaN</td>\n",
       "      <td>NaT</td>\n",
       "      <td>NaT</td>\n",
       "      <td>NaN</td>\n",
       "      <td>NaN</td>\n",
       "      <td>NaN</td>\n",
       "      <td>NaN</td>\n",
       "      <td>NaN</td>\n",
       "      <td>NaN</td>\n",
       "    </tr>\n",
       "    <tr>\n",
       "      <th>20</th>\n",
       "      <td>NaN</td>\n",
       "      <td>0</td>\n",
       "      <td>0</td>\n",
       "      <td>0</td>\n",
       "      <td>NaN</td>\n",
       "      <td>NaN</td>\n",
       "      <td>NaN</td>\n",
       "      <td>NaN</td>\n",
       "      <td>NaT</td>\n",
       "      <td>NaT</td>\n",
       "      <td>...</td>\n",
       "      <td>NaN</td>\n",
       "      <td>NaN</td>\n",
       "      <td>NaT</td>\n",
       "      <td>NaT</td>\n",
       "      <td>NaN</td>\n",
       "      <td>NaN</td>\n",
       "      <td>NaN</td>\n",
       "      <td>NaN</td>\n",
       "      <td>NaN</td>\n",
       "      <td>NaN</td>\n",
       "    </tr>\n",
       "    <tr>\n",
       "      <th>30</th>\n",
       "      <td>NaN</td>\n",
       "      <td>0</td>\n",
       "      <td>0</td>\n",
       "      <td>0</td>\n",
       "      <td>NaN</td>\n",
       "      <td>NaN</td>\n",
       "      <td>NaN</td>\n",
       "      <td>NaN</td>\n",
       "      <td>NaT</td>\n",
       "      <td>NaT</td>\n",
       "      <td>...</td>\n",
       "      <td>NaN</td>\n",
       "      <td>NaN</td>\n",
       "      <td>NaT</td>\n",
       "      <td>NaT</td>\n",
       "      <td>NaN</td>\n",
       "      <td>NaN</td>\n",
       "      <td>NaN</td>\n",
       "      <td>NaN</td>\n",
       "      <td>NaN</td>\n",
       "      <td>NaN</td>\n",
       "    </tr>\n",
       "    <tr>\n",
       "      <th>37</th>\n",
       "      <td>NaN</td>\n",
       "      <td>0</td>\n",
       "      <td>0</td>\n",
       "      <td>0</td>\n",
       "      <td>NaN</td>\n",
       "      <td>NaN</td>\n",
       "      <td>NaN</td>\n",
       "      <td>NaN</td>\n",
       "      <td>NaT</td>\n",
       "      <td>NaT</td>\n",
       "      <td>...</td>\n",
       "      <td>NaN</td>\n",
       "      <td>NaN</td>\n",
       "      <td>NaT</td>\n",
       "      <td>NaT</td>\n",
       "      <td>NaN</td>\n",
       "      <td>NaN</td>\n",
       "      <td>NaN</td>\n",
       "      <td>NaN</td>\n",
       "      <td>NaN</td>\n",
       "      <td>NaN</td>\n",
       "    </tr>\n",
       "    <tr>\n",
       "      <th>41</th>\n",
       "      <td>NaN</td>\n",
       "      <td>0</td>\n",
       "      <td>0</td>\n",
       "      <td>0</td>\n",
       "      <td>NaN</td>\n",
       "      <td>NaN</td>\n",
       "      <td>NaN</td>\n",
       "      <td>NaN</td>\n",
       "      <td>NaT</td>\n",
       "      <td>NaT</td>\n",
       "      <td>...</td>\n",
       "      <td>NaN</td>\n",
       "      <td>NaN</td>\n",
       "      <td>NaT</td>\n",
       "      <td>NaT</td>\n",
       "      <td>NaN</td>\n",
       "      <td>NaN</td>\n",
       "      <td>NaN</td>\n",
       "      <td>NaN</td>\n",
       "      <td>NaN</td>\n",
       "      <td>NaN</td>\n",
       "    </tr>\n",
       "  </tbody>\n",
       "</table>\n",
       "<p>5 rows × 25 columns</p>\n",
       "</div>"
      ],
      "text/plain": [
       "    sku  virtual  downloadable  rating_count  average_rating  total_sales  \\\n",
       "8   NaN        0             0             0             NaN          NaN   \n",
       "20  NaN        0             0             0             NaN          NaN   \n",
       "30  NaN        0             0             0             NaN          NaN   \n",
       "37  NaN        0             0             0             NaN          NaN   \n",
       "41  NaN        0             0             0             NaN          NaN   \n",
       "\n",
       "   tax_status  post_author post_date post_date_gmt  ... ping_status post_name  \\\n",
       "8         NaN          NaN       NaT           NaT  ...         NaN       NaN   \n",
       "20        NaN          NaN       NaT           NaT  ...         NaN       NaN   \n",
       "30        NaN          NaN       NaT           NaT  ...         NaN       NaN   \n",
       "37        NaN          NaN       NaT           NaT  ...         NaN       NaN   \n",
       "41        NaN          NaN       NaT           NaT  ...         NaN       NaN   \n",
       "\n",
       "   post_modified post_modified_gmt post_parent guid menu_order post_type  \\\n",
       "8            NaT               NaT         NaN  NaN        NaN       NaN   \n",
       "20           NaT               NaT         NaN  NaN        NaN       NaN   \n",
       "30           NaT               NaT         NaN  NaN        NaN       NaN   \n",
       "37           NaT               NaT         NaN  NaN        NaN       NaN   \n",
       "41           NaT               NaT         NaN  NaN        NaN       NaN   \n",
       "\n",
       "   post_mime_type  comment_count  \n",
       "8             NaN            NaN  \n",
       "20            NaN            NaN  \n",
       "30            NaN            NaN  \n",
       "37            NaN            NaN  \n",
       "41            NaN            NaN  \n",
       "\n",
       "[5 rows x 25 columns]"
      ]
     },
     "execution_count": 217,
     "metadata": {},
     "output_type": "execute_result"
    }
   ],
   "source": [
    "#Pour les codes articles identifiés, réalisé une analyse et définissez l'action à entreprendre\n",
    "df_web_liste_sku_null = df_web[df_web['sku'].isna()].index.tolist()\n",
    "df_web_liste_sku_null\n",
    "df_web.loc[df_web['sku'].isna()].head()\n",
    "#### Les produit ayant un sku null ont des données null également sur les autres colonnes. Il semblerait donc que les supprimer serait bénéfique pour la suite des analyses."
   ]
  },
  {
   "cell_type": "code",
   "execution_count": 218,
   "id": "27bf30de",
   "metadata": {},
   "outputs": [
    {
     "data": {
      "text/plain": [
       "sku                  0\n",
       "virtual              1\n",
       "downloadable         1\n",
       "rating_count         1\n",
       "average_rating       1\n",
       "total_sales          2\n",
       "tax_status           1\n",
       "post_author          1\n",
       "post_date            2\n",
       "post_date_gmt        2\n",
       "product_type         1\n",
       "post_title           2\n",
       "post_excerpt         2\n",
       "post_status          1\n",
       "comment_status       1\n",
       "ping_status          1\n",
       "post_name            2\n",
       "post_modified        2\n",
       "post_modified_gmt    2\n",
       "post_parent          1\n",
       "guid                 2\n",
       "menu_order           1\n",
       "post_type            1\n",
       "post_mime_type       0\n",
       "comment_count        1\n",
       "dtype: int64"
      ]
     },
     "execution_count": 218,
     "metadata": {},
     "output_type": "execute_result"
    }
   ],
   "source": [
    "#La clé pour chaque ligne est-elle uniques? ou autrement dit, y a-t-il des doublons?\n",
    "df_web.loc[df_web['sku'].isna()].nunique()\n",
    "#### le .nunique() nous indique les valeurs unique pour chaque colonne. Il ne prends pas en compte les valeurs NaN. Par exemple : en dehors des NaN la colonne total_sales contient 2 valeurs uniques."
   ]
  },
  {
   "cell_type": "code",
   "execution_count": 219,
   "id": "8b81d617",
   "metadata": {},
   "outputs": [
    {
     "name": "stdout",
     "output_type": "stream",
     "text": [
      "<class 'pandas.core.frame.DataFrame'>\n",
      "Index: 85 entries, 8 to 1457\n",
      "Data columns (total 25 columns):\n",
      " #   Column             Non-Null Count  Dtype         \n",
      "---  ------             --------------  -----         \n",
      " 0   sku                0 non-null      object        \n",
      " 1   virtual            85 non-null     int64         \n",
      " 2   downloadable       85 non-null     int64         \n",
      " 3   rating_count       85 non-null     int64         \n",
      " 4   average_rating     2 non-null      float64       \n",
      " 5   total_sales        2 non-null      float64       \n",
      " 6   tax_status         2 non-null      object        \n",
      " 7   post_author        2 non-null      float64       \n",
      " 8   post_date          2 non-null      datetime64[ns]\n",
      " 9   post_date_gmt      2 non-null      datetime64[ns]\n",
      " 10  product_type       2 non-null      object        \n",
      " 11  post_title         2 non-null      object        \n",
      " 12  post_excerpt       2 non-null      object        \n",
      " 13  post_status        2 non-null      object        \n",
      " 14  comment_status     2 non-null      object        \n",
      " 15  ping_status        2 non-null      object        \n",
      " 16  post_name          2 non-null      object        \n",
      " 17  post_modified      2 non-null      datetime64[ns]\n",
      " 18  post_modified_gmt  2 non-null      datetime64[ns]\n",
      " 19  post_parent        2 non-null      float64       \n",
      " 20  guid               2 non-null      object        \n",
      " 21  menu_order         2 non-null      float64       \n",
      " 22  post_type          2 non-null      object        \n",
      " 23  post_mime_type     0 non-null      object        \n",
      " 24  comment_count      2 non-null      float64       \n",
      "dtypes: datetime64[ns](4), float64(6), int64(3), object(12)\n",
      "memory usage: 17.3+ KB\n"
     ]
    }
   ],
   "source": [
    "#Les lignes sans code article semble être toutes non renseignés\n",
    "#Pour s'en assurer réaliser les étapes suivantes:\n",
    "#1 - Créer un dataframe avec uniquement les lignes sans code article\n",
    "df_web_sku_null = df_web.loc[df_web['sku'].isna()]\n",
    "#2 - utiliser la fonction df.info() sur ce nouveau dataframe pour observer le nombre de valeur reseigner dans chacune des colonnes\n",
    "df_web_sku_null.info()\n",
    "#3 - Que constatez-vous?\n",
    "#### Certaines colonnes où le sku est null il y a des informations comme le montant total de vente ([total_sales])."
   ]
  },
  {
   "cell_type": "code",
   "execution_count": 220,
   "id": "c9684600",
   "metadata": {},
   "outputs": [],
   "source": [
    "df_web.dropna(subset= ['sku'], inplace= True)"
   ]
  },
  {
   "cell_type": "markdown",
   "id": "dbff6403",
   "metadata": {},
   "source": [
    "<div style=\"border: 1px solid RGB(51,165,182);\" >\n",
    "<h3 style=\"margin: auto; padding: 20px; color: RGB(51,165,182); \">2.3 - Analyse exploratoire du fichier liaison.xlsx</h3>\n",
    "</div>"
   ]
  },
  {
   "cell_type": "code",
   "execution_count": 221,
   "id": "de426b74",
   "metadata": {},
   "outputs": [
    {
     "data": {
      "text/plain": [
       "(825, 2)"
      ]
     },
     "execution_count": 221,
     "metadata": {},
     "output_type": "execute_result"
    }
   ],
   "source": [
    "#Dimension du dataset\n",
    "#Nombre d'observations\n",
    "\n",
    "#Nombre de caractéristiques\n",
    "df_liaison.shape"
   ]
  },
  {
   "cell_type": "code",
   "execution_count": 222,
   "id": "9834ae33",
   "metadata": {},
   "outputs": [
    {
     "name": "stdout",
     "output_type": "stream",
     "text": [
      "<class 'pandas.core.frame.DataFrame'>\n",
      "RangeIndex: 825 entries, 0 to 824\n",
      "Data columns (total 2 columns):\n",
      " #   Column      Non-Null Count  Dtype \n",
      "---  ------      --------------  ----- \n",
      " 0   id_web      734 non-null    object\n",
      " 1   product_id  825 non-null    int64 \n",
      "dtypes: int64(1), object(1)\n",
      "memory usage: 13.0+ KB\n"
     ]
    }
   ],
   "source": [
    "#Consulter le nombre de colonnes\n",
    "#La nature des données dans chacune des colonnes\n",
    "#Le nombre de valeurs présentes dans chacune des colonnes\n",
    "df_liaison.info()"
   ]
  },
  {
   "cell_type": "code",
   "execution_count": 223,
   "id": "2b30d6b2",
   "metadata": {},
   "outputs": [
    {
     "data": {
      "text/plain": [
       "825"
      ]
     },
     "execution_count": 223,
     "metadata": {},
     "output_type": "execute_result"
    }
   ],
   "source": [
    "#Les valeurs de la colonne \"product_id\" sont elles toutes uniques?\n",
    "df_liaison['product_id'].nunique()\n",
    "#### Les valeurs de la colonne \"product_id\" sont toutes uniques car il y a autant de valeurs uniques que de ligne."
   ]
  },
  {
   "cell_type": "code",
   "execution_count": 224,
   "id": "4d8ca13c",
   "metadata": {},
   "outputs": [
    {
     "data": {
      "text/plain": [
       "734"
      ]
     },
     "execution_count": 224,
     "metadata": {},
     "output_type": "execute_result"
    }
   ],
   "source": [
    "#Les valeurs de la colonne \"id_web\" sont-elles toutes uniques?\n",
    "df_liaison['id_web'].nunique()\n",
    "#### Les valeurs de la colonne \"id_web\" ne sont pas toutes uniques car il y a moins de valeurs uniques que de ligne."
   ]
  },
  {
   "cell_type": "code",
   "execution_count": 225,
   "id": "52f7c843",
   "metadata": {},
   "outputs": [],
   "source": [
    "#Avons-nous des articles sans correspondances?\n",
    "#### Il semblerait qu'il y ait (825 - 723 = 102) 102 articles qui ne corresponde à aucun site."
   ]
  },
  {
   "cell_type": "markdown",
   "id": "1a359137",
   "metadata": {},
   "source": [
    "<div style=\"background-color: RGB(51,165,182);\" >\n",
    "<h2 style=\"margin: auto; padding: 20px; color:#fff; \">Etape 3 - Jonction des fichiers</h2>\n",
    "</div>"
   ]
  },
  {
   "cell_type": "markdown",
   "id": "b7750c10",
   "metadata": {},
   "source": [
    "<div style=\"border: 1px solid RGB(51,165,182);\" >\n",
    "<h3 style=\"margin: auto; padding: 20px; color: RGB(51,165,182); \">Etape 3.1 - Jonction du fichier df_erp et df_liaison</h3>\n",
    "</div>"
   ]
  },
  {
   "cell_type": "code",
   "execution_count": 226,
   "id": "e756ec7d",
   "metadata": {},
   "outputs": [
    {
     "name": "stdout",
     "output_type": "stream",
     "text": [
      "Index(['product_id', 'onsale_web', 'price', 'stock_quantity', 'stock_status',\n",
      "       'purchase_price'],\n",
      "      dtype='object')\n",
      "Index(['id_web', 'product_id'], dtype='object')\n"
     ]
    },
    {
     "data": {
      "text/html": [
       "<div>\n",
       "<style scoped>\n",
       "    .dataframe tbody tr th:only-of-type {\n",
       "        vertical-align: middle;\n",
       "    }\n",
       "\n",
       "    .dataframe tbody tr th {\n",
       "        vertical-align: top;\n",
       "    }\n",
       "\n",
       "    .dataframe thead th {\n",
       "        text-align: right;\n",
       "    }\n",
       "</style>\n",
       "<table border=\"1\" class=\"dataframe\">\n",
       "  <thead>\n",
       "    <tr style=\"text-align: right;\">\n",
       "      <th></th>\n",
       "      <th>product_id</th>\n",
       "      <th>onsale_web</th>\n",
       "      <th>price</th>\n",
       "      <th>stock_quantity</th>\n",
       "      <th>stock_status</th>\n",
       "      <th>purchase_price</th>\n",
       "      <th>id_web</th>\n",
       "      <th>_merge</th>\n",
       "    </tr>\n",
       "  </thead>\n",
       "  <tbody>\n",
       "    <tr>\n",
       "      <th>0</th>\n",
       "      <td>3847</td>\n",
       "      <td>1</td>\n",
       "      <td>24.2</td>\n",
       "      <td>16</td>\n",
       "      <td>instock</td>\n",
       "      <td>12.88</td>\n",
       "      <td>15298</td>\n",
       "      <td>both</td>\n",
       "    </tr>\n",
       "    <tr>\n",
       "      <th>1</th>\n",
       "      <td>3849</td>\n",
       "      <td>1</td>\n",
       "      <td>34.3</td>\n",
       "      <td>10</td>\n",
       "      <td>instock</td>\n",
       "      <td>17.54</td>\n",
       "      <td>15296</td>\n",
       "      <td>both</td>\n",
       "    </tr>\n",
       "    <tr>\n",
       "      <th>2</th>\n",
       "      <td>3850</td>\n",
       "      <td>1</td>\n",
       "      <td>20.8</td>\n",
       "      <td>0</td>\n",
       "      <td>outofstock</td>\n",
       "      <td>10.64</td>\n",
       "      <td>15300</td>\n",
       "      <td>both</td>\n",
       "    </tr>\n",
       "    <tr>\n",
       "      <th>3</th>\n",
       "      <td>4032</td>\n",
       "      <td>1</td>\n",
       "      <td>14.1</td>\n",
       "      <td>26</td>\n",
       "      <td>instock</td>\n",
       "      <td>6.92</td>\n",
       "      <td>19814</td>\n",
       "      <td>both</td>\n",
       "    </tr>\n",
       "    <tr>\n",
       "      <th>4</th>\n",
       "      <td>4039</td>\n",
       "      <td>1</td>\n",
       "      <td>46.0</td>\n",
       "      <td>3</td>\n",
       "      <td>instock</td>\n",
       "      <td>23.77</td>\n",
       "      <td>19815</td>\n",
       "      <td>both</td>\n",
       "    </tr>\n",
       "  </tbody>\n",
       "</table>\n",
       "</div>"
      ],
      "text/plain": [
       "   product_id  onsale_web  price  stock_quantity stock_status  purchase_price  \\\n",
       "0        3847           1   24.2              16      instock           12.88   \n",
       "1        3849           1   34.3              10      instock           17.54   \n",
       "2        3850           1   20.8               0   outofstock           10.64   \n",
       "3        4032           1   14.1              26      instock            6.92   \n",
       "4        4039           1   46.0               3      instock           23.77   \n",
       "\n",
       "  id_web _merge  \n",
       "0  15298   both  \n",
       "1  15296   both  \n",
       "2  15300   both  \n",
       "3  19814   both  \n",
       "4  19815   both  "
      ]
     },
     "execution_count": 226,
     "metadata": {},
     "output_type": "execute_result"
    }
   ],
   "source": [
    "#Fusion des fichiers df_erp et df_liaison\n",
    "print(df_erp.columns)\n",
    "print(df_liaison.columns)\n",
    "\n",
    "#### la colonne product_id est la colonne commune aux 2 tables. Cette colonne n'a pas de doublon (cf analyse exploratoire df_erp).\n",
    "\n",
    "df_merge = df_erp.merge(df_liaison, left_on = 'product_id', right_on = 'product_id', indicator= True, how='left') ### indicator = permet de créer une colonne qui précsie si la fusion est commune au é tables ou uniquement celle de droite ou uniquement celle de gauche\n",
    "df_merge = df_merge.drop_duplicates(subset='product_id')\n",
    "df_merge.head()"
   ]
  },
  {
   "cell_type": "code",
   "execution_count": 227,
   "id": "b7e1da5e",
   "metadata": {},
   "outputs": [
    {
     "data": {
      "text/html": [
       "<div>\n",
       "<style scoped>\n",
       "    .dataframe tbody tr th:only-of-type {\n",
       "        vertical-align: middle;\n",
       "    }\n",
       "\n",
       "    .dataframe tbody tr th {\n",
       "        vertical-align: top;\n",
       "    }\n",
       "\n",
       "    .dataframe thead th {\n",
       "        text-align: right;\n",
       "    }\n",
       "</style>\n",
       "<table border=\"1\" class=\"dataframe\">\n",
       "  <thead>\n",
       "    <tr style=\"text-align: right;\">\n",
       "      <th></th>\n",
       "      <th>product_id</th>\n",
       "      <th>onsale_web</th>\n",
       "      <th>price</th>\n",
       "      <th>stock_quantity</th>\n",
       "      <th>stock_status</th>\n",
       "      <th>purchase_price</th>\n",
       "      <th>id_web</th>\n",
       "      <th>_merge</th>\n",
       "    </tr>\n",
       "  </thead>\n",
       "  <tbody>\n",
       "    <tr>\n",
       "      <th>19</th>\n",
       "      <td>4055</td>\n",
       "      <td>0</td>\n",
       "      <td>86.1</td>\n",
       "      <td>0</td>\n",
       "      <td>outofstock</td>\n",
       "      <td>37.88</td>\n",
       "      <td>NaN</td>\n",
       "      <td>both</td>\n",
       "    </tr>\n",
       "    <tr>\n",
       "      <th>49</th>\n",
       "      <td>4090</td>\n",
       "      <td>0</td>\n",
       "      <td>73.0</td>\n",
       "      <td>0</td>\n",
       "      <td>outofstock</td>\n",
       "      <td>33.79</td>\n",
       "      <td>NaN</td>\n",
       "      <td>both</td>\n",
       "    </tr>\n",
       "    <tr>\n",
       "      <th>50</th>\n",
       "      <td>4092</td>\n",
       "      <td>0</td>\n",
       "      <td>47.0</td>\n",
       "      <td>0</td>\n",
       "      <td>outofstock</td>\n",
       "      <td>25.25</td>\n",
       "      <td>NaN</td>\n",
       "      <td>both</td>\n",
       "    </tr>\n",
       "    <tr>\n",
       "      <th>119</th>\n",
       "      <td>4195</td>\n",
       "      <td>0</td>\n",
       "      <td>14.1</td>\n",
       "      <td>0</td>\n",
       "      <td>outofstock</td>\n",
       "      <td>7.36</td>\n",
       "      <td>NaN</td>\n",
       "      <td>both</td>\n",
       "    </tr>\n",
       "    <tr>\n",
       "      <th>131</th>\n",
       "      <td>4209</td>\n",
       "      <td>0</td>\n",
       "      <td>73.5</td>\n",
       "      <td>0</td>\n",
       "      <td>outofstock</td>\n",
       "      <td>33.01</td>\n",
       "      <td>NaN</td>\n",
       "      <td>both</td>\n",
       "    </tr>\n",
       "  </tbody>\n",
       "</table>\n",
       "</div>"
      ],
      "text/plain": [
       "     product_id  onsale_web  price  stock_quantity stock_status  \\\n",
       "19         4055           0   86.1               0   outofstock   \n",
       "49         4090           0   73.0               0   outofstock   \n",
       "50         4092           0   47.0               0   outofstock   \n",
       "119        4195           0   14.1               0   outofstock   \n",
       "131        4209           0   73.5               0   outofstock   \n",
       "\n",
       "     purchase_price id_web _merge  \n",
       "19            37.88    NaN   both  \n",
       "49            33.79    NaN   both  \n",
       "50            25.25    NaN   both  \n",
       "119            7.36    NaN   both  \n",
       "131           33.01    NaN   both  "
      ]
     },
     "execution_count": 227,
     "metadata": {},
     "output_type": "execute_result"
    }
   ],
   "source": [
    "#Y a t-il des lignes ne \"matchant\" entre les 2 fichiers?\n",
    "df_merge[df_merge['id_web'].isnull()].head()"
   ]
  },
  {
   "cell_type": "code",
   "execution_count": 228,
   "id": "01b1b637",
   "metadata": {},
   "outputs": [],
   "source": [
    "df_merge.dropna(subset=['id_web'], inplace = True)"
   ]
  },
  {
   "cell_type": "markdown",
   "id": "fe4c51d7",
   "metadata": {},
   "source": [
    "<div style=\"border: 1px solid RGB(51,165,182);\" >\n",
    "<h3 style=\"margin: auto; padding: 20px; color: RGB(51,165,182); \">Etape 3.2 - Jonction du fichier df_merge et df_web</h3>\n",
    "</div>"
   ]
  },
  {
   "cell_type": "code",
   "execution_count": 229,
   "id": "85f7f396",
   "metadata": {},
   "outputs": [
    {
     "data": {
      "text/html": [
       "<div>\n",
       "<style scoped>\n",
       "    .dataframe tbody tr th:only-of-type {\n",
       "        vertical-align: middle;\n",
       "    }\n",
       "\n",
       "    .dataframe tbody tr th {\n",
       "        vertical-align: top;\n",
       "    }\n",
       "\n",
       "    .dataframe thead th {\n",
       "        text-align: right;\n",
       "    }\n",
       "</style>\n",
       "<table border=\"1\" class=\"dataframe\">\n",
       "  <thead>\n",
       "    <tr style=\"text-align: right;\">\n",
       "      <th></th>\n",
       "      <th>sku</th>\n",
       "      <th>virtual</th>\n",
       "      <th>downloadable</th>\n",
       "      <th>rating_count</th>\n",
       "      <th>average_rating</th>\n",
       "      <th>total_sales</th>\n",
       "      <th>tax_status</th>\n",
       "      <th>post_author</th>\n",
       "      <th>post_date</th>\n",
       "      <th>post_date_gmt</th>\n",
       "      <th>...</th>\n",
       "      <th>ping_status</th>\n",
       "      <th>post_name</th>\n",
       "      <th>post_modified</th>\n",
       "      <th>post_modified_gmt</th>\n",
       "      <th>post_parent</th>\n",
       "      <th>guid</th>\n",
       "      <th>menu_order</th>\n",
       "      <th>post_type</th>\n",
       "      <th>post_mime_type</th>\n",
       "      <th>comment_count</th>\n",
       "    </tr>\n",
       "  </thead>\n",
       "  <tbody>\n",
       "    <tr>\n",
       "      <th>0</th>\n",
       "      <td>11862</td>\n",
       "      <td>0</td>\n",
       "      <td>0</td>\n",
       "      <td>0</td>\n",
       "      <td>0.0</td>\n",
       "      <td>3.0</td>\n",
       "      <td>NaN</td>\n",
       "      <td>2.0</td>\n",
       "      <td>2018-02-12 13:46:23</td>\n",
       "      <td>2018-02-12 12:46:23</td>\n",
       "      <td>...</td>\n",
       "      <td>closed</td>\n",
       "      <td>gilles-robin-hermitage-2012</td>\n",
       "      <td>2019-01-31 12:12:56</td>\n",
       "      <td>2019-01-31 11:12:56</td>\n",
       "      <td>0.0</td>\n",
       "      <td>https://www.bottle-neck.fr/wp-content/uploads/...</td>\n",
       "      <td>0.0</td>\n",
       "      <td>attachment</td>\n",
       "      <td>image/jpeg</td>\n",
       "      <td>0.0</td>\n",
       "    </tr>\n",
       "    <tr>\n",
       "      <th>1</th>\n",
       "      <td>16057</td>\n",
       "      <td>0</td>\n",
       "      <td>0</td>\n",
       "      <td>0</td>\n",
       "      <td>0.0</td>\n",
       "      <td>5.0</td>\n",
       "      <td>NaN</td>\n",
       "      <td>2.0</td>\n",
       "      <td>2018-04-17 15:29:17</td>\n",
       "      <td>2018-04-17 13:29:17</td>\n",
       "      <td>...</td>\n",
       "      <td>closed</td>\n",
       "      <td>pelle-sancerre-rouge-la-croix-au-garde-2017</td>\n",
       "      <td>2020-07-07 10:05:02</td>\n",
       "      <td>2020-07-07 08:05:02</td>\n",
       "      <td>0.0</td>\n",
       "      <td>https://www.bottle-neck.fr/wp-content/uploads/...</td>\n",
       "      <td>0.0</td>\n",
       "      <td>attachment</td>\n",
       "      <td>image/jpeg</td>\n",
       "      <td>0.0</td>\n",
       "    </tr>\n",
       "    <tr>\n",
       "      <th>2</th>\n",
       "      <td>14692</td>\n",
       "      <td>0</td>\n",
       "      <td>0</td>\n",
       "      <td>0</td>\n",
       "      <td>0.0</td>\n",
       "      <td>5.0</td>\n",
       "      <td>taxable</td>\n",
       "      <td>2.0</td>\n",
       "      <td>2019-03-19 10:06:47</td>\n",
       "      <td>2019-03-19 09:06:47</td>\n",
       "      <td>...</td>\n",
       "      <td>closed</td>\n",
       "      <td>fonreaud-bordeaux-blanc-le-cygne-2016</td>\n",
       "      <td>2020-04-25 21:40:31</td>\n",
       "      <td>2020-04-25 19:40:31</td>\n",
       "      <td>0.0</td>\n",
       "      <td>https://www.bottle-neck.fr/?post_type=product&amp;...</td>\n",
       "      <td>0.0</td>\n",
       "      <td>product</td>\n",
       "      <td>NaN</td>\n",
       "      <td>0.0</td>\n",
       "    </tr>\n",
       "    <tr>\n",
       "      <th>3</th>\n",
       "      <td>16295</td>\n",
       "      <td>0</td>\n",
       "      <td>0</td>\n",
       "      <td>0</td>\n",
       "      <td>0.0</td>\n",
       "      <td>14.0</td>\n",
       "      <td>NaN</td>\n",
       "      <td>2.0</td>\n",
       "      <td>2018-02-15 14:05:06</td>\n",
       "      <td>2018-02-15 13:05:06</td>\n",
       "      <td>...</td>\n",
       "      <td>closed</td>\n",
       "      <td>moulin-de-gassac-igp-pays-dherault-guilhem-ros...</td>\n",
       "      <td>2020-08-27 18:55:03</td>\n",
       "      <td>2020-08-27 16:55:03</td>\n",
       "      <td>0.0</td>\n",
       "      <td>https://www.bottle-neck.fr/wp-content/uploads/...</td>\n",
       "      <td>0.0</td>\n",
       "      <td>attachment</td>\n",
       "      <td>image/jpeg</td>\n",
       "      <td>0.0</td>\n",
       "    </tr>\n",
       "    <tr>\n",
       "      <th>4</th>\n",
       "      <td>15328</td>\n",
       "      <td>0</td>\n",
       "      <td>0</td>\n",
       "      <td>0</td>\n",
       "      <td>0.0</td>\n",
       "      <td>2.0</td>\n",
       "      <td>taxable</td>\n",
       "      <td>2.0</td>\n",
       "      <td>2019-03-27 18:05:09</td>\n",
       "      <td>2019-03-27 17:05:09</td>\n",
       "      <td>...</td>\n",
       "      <td>closed</td>\n",
       "      <td>agnes-levet-cote-rotie-maestria-2017</td>\n",
       "      <td>2020-07-25 15:45:02</td>\n",
       "      <td>2020-07-25 13:45:02</td>\n",
       "      <td>0.0</td>\n",
       "      <td>https://www.bottle-neck.fr/?post_type=product&amp;...</td>\n",
       "      <td>0.0</td>\n",
       "      <td>product</td>\n",
       "      <td>NaN</td>\n",
       "      <td>0.0</td>\n",
       "    </tr>\n",
       "  </tbody>\n",
       "</table>\n",
       "<p>5 rows × 25 columns</p>\n",
       "</div>"
      ],
      "text/plain": [
       "     sku  virtual  downloadable  rating_count  average_rating  total_sales  \\\n",
       "0  11862        0             0             0             0.0          3.0   \n",
       "1  16057        0             0             0             0.0          5.0   \n",
       "2  14692        0             0             0             0.0          5.0   \n",
       "3  16295        0             0             0             0.0         14.0   \n",
       "4  15328        0             0             0             0.0          2.0   \n",
       "\n",
       "  tax_status  post_author           post_date       post_date_gmt  ...  \\\n",
       "0        NaN          2.0 2018-02-12 13:46:23 2018-02-12 12:46:23  ...   \n",
       "1        NaN          2.0 2018-04-17 15:29:17 2018-04-17 13:29:17  ...   \n",
       "2    taxable          2.0 2019-03-19 10:06:47 2019-03-19 09:06:47  ...   \n",
       "3        NaN          2.0 2018-02-15 14:05:06 2018-02-15 13:05:06  ...   \n",
       "4    taxable          2.0 2019-03-27 18:05:09 2019-03-27 17:05:09  ...   \n",
       "\n",
       "  ping_status                                          post_name  \\\n",
       "0      closed                        gilles-robin-hermitage-2012   \n",
       "1      closed        pelle-sancerre-rouge-la-croix-au-garde-2017   \n",
       "2      closed              fonreaud-bordeaux-blanc-le-cygne-2016   \n",
       "3      closed  moulin-de-gassac-igp-pays-dherault-guilhem-ros...   \n",
       "4      closed               agnes-levet-cote-rotie-maestria-2017   \n",
       "\n",
       "        post_modified   post_modified_gmt post_parent  \\\n",
       "0 2019-01-31 12:12:56 2019-01-31 11:12:56         0.0   \n",
       "1 2020-07-07 10:05:02 2020-07-07 08:05:02         0.0   \n",
       "2 2020-04-25 21:40:31 2020-04-25 19:40:31         0.0   \n",
       "3 2020-08-27 18:55:03 2020-08-27 16:55:03         0.0   \n",
       "4 2020-07-25 15:45:02 2020-07-25 13:45:02         0.0   \n",
       "\n",
       "                                                guid menu_order   post_type  \\\n",
       "0  https://www.bottle-neck.fr/wp-content/uploads/...        0.0  attachment   \n",
       "1  https://www.bottle-neck.fr/wp-content/uploads/...        0.0  attachment   \n",
       "2  https://www.bottle-neck.fr/?post_type=product&...        0.0     product   \n",
       "3  https://www.bottle-neck.fr/wp-content/uploads/...        0.0  attachment   \n",
       "4  https://www.bottle-neck.fr/?post_type=product&...        0.0     product   \n",
       "\n",
       "  post_mime_type  comment_count  \n",
       "0     image/jpeg            0.0  \n",
       "1     image/jpeg            0.0  \n",
       "2            NaN            0.0  \n",
       "3     image/jpeg            0.0  \n",
       "4            NaN            0.0  \n",
       "\n",
       "[5 rows x 25 columns]"
      ]
     },
     "execution_count": 229,
     "metadata": {},
     "output_type": "execute_result"
    }
   ],
   "source": [
    "df_web.head()"
   ]
  },
  {
   "cell_type": "code",
   "execution_count": 230,
   "id": "46d9382b",
   "metadata": {},
   "outputs": [
    {
     "name": "stdout",
     "output_type": "stream",
     "text": [
      "<class 'pandas.core.frame.DataFrame'>\n",
      "Index: 733 entries, 0 to 819\n",
      "Data columns (total 8 columns):\n",
      " #   Column          Non-Null Count  Dtype   \n",
      "---  ------          --------------  -----   \n",
      " 0   product_id      733 non-null    object  \n",
      " 1   onsale_web      733 non-null    int64   \n",
      " 2   price           733 non-null    float64 \n",
      " 3   stock_quantity  733 non-null    int64   \n",
      " 4   stock_status    733 non-null    object  \n",
      " 5   purchase_price  733 non-null    float64 \n",
      " 6   id_web          733 non-null    object  \n",
      " 7   _merge          733 non-null    category\n",
      "dtypes: category(1), float64(2), int64(2), object(3)\n",
      "memory usage: 46.7+ KB\n",
      "None\n",
      "<class 'pandas.core.frame.DataFrame'>\n",
      "Index: 1428 entries, 0 to 1512\n",
      "Data columns (total 25 columns):\n",
      " #   Column             Non-Null Count  Dtype         \n",
      "---  ------             --------------  -----         \n",
      " 0   sku                1428 non-null   object        \n",
      " 1   virtual            1428 non-null   int64         \n",
      " 2   downloadable       1428 non-null   int64         \n",
      " 3   rating_count       1428 non-null   int64         \n",
      " 4   average_rating     1428 non-null   float64       \n",
      " 5   total_sales        1428 non-null   float64       \n",
      " 6   tax_status         714 non-null    object        \n",
      " 7   post_author        1428 non-null   float64       \n",
      " 8   post_date          1428 non-null   datetime64[ns]\n",
      " 9   post_date_gmt      1428 non-null   datetime64[ns]\n",
      " 10  product_type       1427 non-null   object        \n",
      " 11  post_title         1428 non-null   object        \n",
      " 12  post_excerpt       714 non-null    object        \n",
      " 13  post_status        1428 non-null   object        \n",
      " 14  comment_status     1428 non-null   object        \n",
      " 15  ping_status        1428 non-null   object        \n",
      " 16  post_name          1428 non-null   object        \n",
      " 17  post_modified      1428 non-null   datetime64[ns]\n",
      " 18  post_modified_gmt  1428 non-null   datetime64[ns]\n",
      " 19  post_parent        1428 non-null   float64       \n",
      " 20  guid               1428 non-null   object        \n",
      " 21  menu_order         1428 non-null   float64       \n",
      " 22  post_type          1428 non-null   object        \n",
      " 23  post_mime_type     714 non-null    object        \n",
      " 24  comment_count      1428 non-null   float64       \n",
      "dtypes: datetime64[ns](4), float64(6), int64(3), object(12)\n",
      "memory usage: 290.1+ KB\n",
      "None\n"
     ]
    }
   ],
   "source": [
    "#Fusionnez les datasets df_merge et df_web\n",
    "df_merge['product_id'] = df_merge['product_id'].astype(str)\n",
    "print(df_merge.info())\n",
    "print(df_web.info())"
   ]
  },
  {
   "cell_type": "code",
   "execution_count": 231,
   "id": "f0d64d50",
   "metadata": {},
   "outputs": [
    {
     "data": {
      "text/plain": [
       "_merge2\n",
       "both          1426\n",
       "left_only       20\n",
       "right_only       2\n",
       "Name: count, dtype: int64"
      ]
     },
     "metadata": {},
     "output_type": "display_data"
    },
    {
     "data": {
      "text/html": [
       "<div>\n",
       "<style scoped>\n",
       "    .dataframe tbody tr th:only-of-type {\n",
       "        vertical-align: middle;\n",
       "    }\n",
       "\n",
       "    .dataframe tbody tr th {\n",
       "        vertical-align: top;\n",
       "    }\n",
       "\n",
       "    .dataframe thead th {\n",
       "        text-align: right;\n",
       "    }\n",
       "</style>\n",
       "<table border=\"1\" class=\"dataframe\">\n",
       "  <thead>\n",
       "    <tr style=\"text-align: right;\">\n",
       "      <th></th>\n",
       "      <th>product_id</th>\n",
       "      <th>onsale_web</th>\n",
       "      <th>price</th>\n",
       "      <th>stock_quantity</th>\n",
       "      <th>stock_status</th>\n",
       "      <th>purchase_price</th>\n",
       "      <th>id_web</th>\n",
       "      <th>_merge</th>\n",
       "      <th>sku</th>\n",
       "      <th>virtual</th>\n",
       "      <th>...</th>\n",
       "      <th>post_name</th>\n",
       "      <th>post_modified</th>\n",
       "      <th>post_modified_gmt</th>\n",
       "      <th>post_parent</th>\n",
       "      <th>guid</th>\n",
       "      <th>menu_order</th>\n",
       "      <th>post_type</th>\n",
       "      <th>post_mime_type</th>\n",
       "      <th>comment_count</th>\n",
       "      <th>_merge2</th>\n",
       "    </tr>\n",
       "  </thead>\n",
       "  <tbody>\n",
       "    <tr>\n",
       "      <th>0</th>\n",
       "      <td>3847</td>\n",
       "      <td>1.0</td>\n",
       "      <td>24.2</td>\n",
       "      <td>16.0</td>\n",
       "      <td>instock</td>\n",
       "      <td>12.88</td>\n",
       "      <td>15298</td>\n",
       "      <td>both</td>\n",
       "      <td>15298</td>\n",
       "      <td>0.0</td>\n",
       "      <td>...</td>\n",
       "      <td>pierre-jean-villa-saint-joseph-preface-2018</td>\n",
       "      <td>2019-12-30 09:30:29</td>\n",
       "      <td>2019-12-30 08:30:29</td>\n",
       "      <td>0.0</td>\n",
       "      <td>https://www.bottle-neck.fr/?post_type=product&amp;...</td>\n",
       "      <td>0.0</td>\n",
       "      <td>product</td>\n",
       "      <td>NaN</td>\n",
       "      <td>0.0</td>\n",
       "      <td>both</td>\n",
       "    </tr>\n",
       "    <tr>\n",
       "      <th>1</th>\n",
       "      <td>3847</td>\n",
       "      <td>1.0</td>\n",
       "      <td>24.2</td>\n",
       "      <td>16.0</td>\n",
       "      <td>instock</td>\n",
       "      <td>12.88</td>\n",
       "      <td>15298</td>\n",
       "      <td>both</td>\n",
       "      <td>15298</td>\n",
       "      <td>0.0</td>\n",
       "      <td>...</td>\n",
       "      <td>pierre-jean-villa-saint-joseph-preface-2018</td>\n",
       "      <td>2019-12-30 09:30:29</td>\n",
       "      <td>2019-12-30 08:30:29</td>\n",
       "      <td>0.0</td>\n",
       "      <td>https://www.bottle-neck.fr/wp-content/uploads/...</td>\n",
       "      <td>0.0</td>\n",
       "      <td>attachment</td>\n",
       "      <td>image/jpeg</td>\n",
       "      <td>0.0</td>\n",
       "      <td>both</td>\n",
       "    </tr>\n",
       "    <tr>\n",
       "      <th>2</th>\n",
       "      <td>3849</td>\n",
       "      <td>1.0</td>\n",
       "      <td>34.3</td>\n",
       "      <td>10.0</td>\n",
       "      <td>instock</td>\n",
       "      <td>17.54</td>\n",
       "      <td>15296</td>\n",
       "      <td>both</td>\n",
       "      <td>15296</td>\n",
       "      <td>0.0</td>\n",
       "      <td>...</td>\n",
       "      <td>pierre-jean-villa-saint-joseph-tilde-2017</td>\n",
       "      <td>2019-12-21 09:00:17</td>\n",
       "      <td>2019-12-21 08:00:17</td>\n",
       "      <td>0.0</td>\n",
       "      <td>https://www.bottle-neck.fr/?post_type=product&amp;...</td>\n",
       "      <td>0.0</td>\n",
       "      <td>product</td>\n",
       "      <td>NaN</td>\n",
       "      <td>0.0</td>\n",
       "      <td>both</td>\n",
       "    </tr>\n",
       "    <tr>\n",
       "      <th>3</th>\n",
       "      <td>3849</td>\n",
       "      <td>1.0</td>\n",
       "      <td>34.3</td>\n",
       "      <td>10.0</td>\n",
       "      <td>instock</td>\n",
       "      <td>17.54</td>\n",
       "      <td>15296</td>\n",
       "      <td>both</td>\n",
       "      <td>15296</td>\n",
       "      <td>0.0</td>\n",
       "      <td>...</td>\n",
       "      <td>pierre-jean-villa-saint-joseph-tilde-2017</td>\n",
       "      <td>2019-12-21 09:00:17</td>\n",
       "      <td>2019-12-21 08:00:17</td>\n",
       "      <td>0.0</td>\n",
       "      <td>https://www.bottle-neck.fr/wp-content/uploads/...</td>\n",
       "      <td>0.0</td>\n",
       "      <td>attachment</td>\n",
       "      <td>image/jpeg</td>\n",
       "      <td>0.0</td>\n",
       "      <td>both</td>\n",
       "    </tr>\n",
       "    <tr>\n",
       "      <th>4</th>\n",
       "      <td>3850</td>\n",
       "      <td>1.0</td>\n",
       "      <td>20.8</td>\n",
       "      <td>0.0</td>\n",
       "      <td>outofstock</td>\n",
       "      <td>10.64</td>\n",
       "      <td>15300</td>\n",
       "      <td>both</td>\n",
       "      <td>15300</td>\n",
       "      <td>0.0</td>\n",
       "      <td>...</td>\n",
       "      <td>pierre-jean-villa-croze-hermitage-accroche-coe...</td>\n",
       "      <td>2020-06-26 18:15:03</td>\n",
       "      <td>2020-06-26 16:15:03</td>\n",
       "      <td>0.0</td>\n",
       "      <td>https://www.bottle-neck.fr/wp-content/uploads/...</td>\n",
       "      <td>0.0</td>\n",
       "      <td>attachment</td>\n",
       "      <td>image/jpeg</td>\n",
       "      <td>0.0</td>\n",
       "      <td>both</td>\n",
       "    </tr>\n",
       "  </tbody>\n",
       "</table>\n",
       "<p>5 rows × 34 columns</p>\n",
       "</div>"
      ],
      "text/plain": [
       "  product_id  onsale_web  price  stock_quantity stock_status  purchase_price  \\\n",
       "0       3847         1.0   24.2            16.0      instock           12.88   \n",
       "1       3847         1.0   24.2            16.0      instock           12.88   \n",
       "2       3849         1.0   34.3            10.0      instock           17.54   \n",
       "3       3849         1.0   34.3            10.0      instock           17.54   \n",
       "4       3850         1.0   20.8             0.0   outofstock           10.64   \n",
       "\n",
       "  id_web _merge    sku  virtual  ...  \\\n",
       "0  15298   both  15298      0.0  ...   \n",
       "1  15298   both  15298      0.0  ...   \n",
       "2  15296   both  15296      0.0  ...   \n",
       "3  15296   both  15296      0.0  ...   \n",
       "4  15300   both  15300      0.0  ...   \n",
       "\n",
       "                                           post_name       post_modified  \\\n",
       "0        pierre-jean-villa-saint-joseph-preface-2018 2019-12-30 09:30:29   \n",
       "1        pierre-jean-villa-saint-joseph-preface-2018 2019-12-30 09:30:29   \n",
       "2          pierre-jean-villa-saint-joseph-tilde-2017 2019-12-21 09:00:17   \n",
       "3          pierre-jean-villa-saint-joseph-tilde-2017 2019-12-21 09:00:17   \n",
       "4  pierre-jean-villa-croze-hermitage-accroche-coe... 2020-06-26 18:15:03   \n",
       "\n",
       "    post_modified_gmt  post_parent  \\\n",
       "0 2019-12-30 08:30:29          0.0   \n",
       "1 2019-12-30 08:30:29          0.0   \n",
       "2 2019-12-21 08:00:17          0.0   \n",
       "3 2019-12-21 08:00:17          0.0   \n",
       "4 2020-06-26 16:15:03          0.0   \n",
       "\n",
       "                                                guid  menu_order   post_type  \\\n",
       "0  https://www.bottle-neck.fr/?post_type=product&...         0.0     product   \n",
       "1  https://www.bottle-neck.fr/wp-content/uploads/...         0.0  attachment   \n",
       "2  https://www.bottle-neck.fr/?post_type=product&...         0.0     product   \n",
       "3  https://www.bottle-neck.fr/wp-content/uploads/...         0.0  attachment   \n",
       "4  https://www.bottle-neck.fr/wp-content/uploads/...         0.0  attachment   \n",
       "\n",
       "  post_mime_type comment_count _merge2  \n",
       "0            NaN           0.0    both  \n",
       "1     image/jpeg           0.0    both  \n",
       "2            NaN           0.0    both  \n",
       "3     image/jpeg           0.0    both  \n",
       "4     image/jpeg           0.0    both  \n",
       "\n",
       "[5 rows x 34 columns]"
      ]
     },
     "execution_count": 231,
     "metadata": {},
     "output_type": "execute_result"
    }
   ],
   "source": [
    "df_merge2 = df_merge.merge(df_web, left_on='id_web', right_on='sku', indicator = '_merge2', how='outer')\n",
    "##df_merge2 = df_merge2.drop_duplicates(subset='product_id')\n",
    "display(df_merge2['_merge2'].value_counts())\n",
    "df_merge2.head()"
   ]
  },
  {
   "cell_type": "code",
   "execution_count": 232,
   "id": "27a3f2a1",
   "metadata": {},
   "outputs": [
    {
     "data": {
      "text/plain": [
       "_merge2\n",
       "both          1426\n",
       "left_only        0\n",
       "right_only       0\n",
       "Name: count, dtype: int64"
      ]
     },
     "metadata": {},
     "output_type": "display_data"
    }
   ],
   "source": [
    "df_merge2 = df_merge.merge(df_web, left_on='id_web', right_on='sku', indicator = '_merge2', how='inner')\n",
    "\n",
    "display(df_merge2['_merge2'].value_counts())"
   ]
  },
  {
   "cell_type": "code",
   "execution_count": 233,
   "id": "a5463537",
   "metadata": {},
   "outputs": [
    {
     "data": {
      "text/html": [
       "<div>\n",
       "<style scoped>\n",
       "    .dataframe tbody tr th:only-of-type {\n",
       "        vertical-align: middle;\n",
       "    }\n",
       "\n",
       "    .dataframe tbody tr th {\n",
       "        vertical-align: top;\n",
       "    }\n",
       "\n",
       "    .dataframe thead th {\n",
       "        text-align: right;\n",
       "    }\n",
       "</style>\n",
       "<table border=\"1\" class=\"dataframe\">\n",
       "  <thead>\n",
       "    <tr style=\"text-align: right;\">\n",
       "      <th></th>\n",
       "      <th>onsale_web</th>\n",
       "      <th>price</th>\n",
       "      <th>stock_quantity</th>\n",
       "      <th>purchase_price</th>\n",
       "      <th>virtual</th>\n",
       "      <th>downloadable</th>\n",
       "      <th>rating_count</th>\n",
       "      <th>average_rating</th>\n",
       "      <th>total_sales</th>\n",
       "      <th>post_author</th>\n",
       "      <th>post_date</th>\n",
       "      <th>post_date_gmt</th>\n",
       "      <th>post_modified</th>\n",
       "      <th>post_modified_gmt</th>\n",
       "      <th>post_parent</th>\n",
       "      <th>menu_order</th>\n",
       "      <th>comment_count</th>\n",
       "    </tr>\n",
       "  </thead>\n",
       "  <tbody>\n",
       "    <tr>\n",
       "      <th>count</th>\n",
       "      <td>1426.000000</td>\n",
       "      <td>1426.000000</td>\n",
       "      <td>1426.000000</td>\n",
       "      <td>1426.000000</td>\n",
       "      <td>1426.0</td>\n",
       "      <td>1426.0</td>\n",
       "      <td>1426.0</td>\n",
       "      <td>1426.0</td>\n",
       "      <td>1426.000000</td>\n",
       "      <td>1426.000000</td>\n",
       "      <td>1426</td>\n",
       "      <td>1426</td>\n",
       "      <td>1426</td>\n",
       "      <td>1426</td>\n",
       "      <td>1426.0</td>\n",
       "      <td>1426.0</td>\n",
       "      <td>1426.0</td>\n",
       "    </tr>\n",
       "    <tr>\n",
       "      <th>mean</th>\n",
       "      <td>0.998597</td>\n",
       "      <td>32.316620</td>\n",
       "      <td>23.478261</td>\n",
       "      <td>16.896438</td>\n",
       "      <td>0.0</td>\n",
       "      <td>0.0</td>\n",
       "      <td>0.0</td>\n",
       "      <td>0.0</td>\n",
       "      <td>8.286115</td>\n",
       "      <td>1.998597</td>\n",
       "      <td>2018-08-21 22:30:01.656381440</td>\n",
       "      <td>2018-08-21 21:01:14.868162560</td>\n",
       "      <td>2020-06-20 23:47:31.953716736</td>\n",
       "      <td>2020-06-20 21:54:00.733520384</td>\n",
       "      <td>0.0</td>\n",
       "      <td>0.0</td>\n",
       "      <td>0.0</td>\n",
       "    </tr>\n",
       "    <tr>\n",
       "      <th>min</th>\n",
       "      <td>0.000000</td>\n",
       "      <td>5.200000</td>\n",
       "      <td>0.000000</td>\n",
       "      <td>2.740000</td>\n",
       "      <td>0.0</td>\n",
       "      <td>0.0</td>\n",
       "      <td>0.0</td>\n",
       "      <td>0.0</td>\n",
       "      <td>0.000000</td>\n",
       "      <td>1.000000</td>\n",
       "      <td>2018-02-08 12:58:52</td>\n",
       "      <td>2018-02-08 11:58:52</td>\n",
       "      <td>2018-02-20 15:19:23</td>\n",
       "      <td>2018-02-20 14:19:23</td>\n",
       "      <td>0.0</td>\n",
       "      <td>0.0</td>\n",
       "      <td>0.0</td>\n",
       "    </tr>\n",
       "    <tr>\n",
       "      <th>25%</th>\n",
       "      <td>1.000000</td>\n",
       "      <td>14.050000</td>\n",
       "      <td>9.000000</td>\n",
       "      <td>7.240000</td>\n",
       "      <td>0.0</td>\n",
       "      <td>0.0</td>\n",
       "      <td>0.0</td>\n",
       "      <td>0.0</td>\n",
       "      <td>5.000000</td>\n",
       "      <td>2.000000</td>\n",
       "      <td>2018-02-27 14:18:27</td>\n",
       "      <td>2018-02-27 13:18:27</td>\n",
       "      <td>2020-06-19 17:55:02</td>\n",
       "      <td>2020-06-19 15:55:02</td>\n",
       "      <td>0.0</td>\n",
       "      <td>0.0</td>\n",
       "      <td>0.0</td>\n",
       "    </tr>\n",
       "    <tr>\n",
       "      <th>50%</th>\n",
       "      <td>1.000000</td>\n",
       "      <td>23.400000</td>\n",
       "      <td>20.000000</td>\n",
       "      <td>12.280000</td>\n",
       "      <td>0.0</td>\n",
       "      <td>0.0</td>\n",
       "      <td>0.0</td>\n",
       "      <td>0.0</td>\n",
       "      <td>8.000000</td>\n",
       "      <td>2.000000</td>\n",
       "      <td>2018-04-19 14:48:15</td>\n",
       "      <td>2018-04-19 12:48:15</td>\n",
       "      <td>2020-08-04 09:30:07</td>\n",
       "      <td>2020-08-04 07:30:07</td>\n",
       "      <td>0.0</td>\n",
       "      <td>0.0</td>\n",
       "      <td>0.0</td>\n",
       "    </tr>\n",
       "    <tr>\n",
       "      <th>75%</th>\n",
       "      <td>1.000000</td>\n",
       "      <td>42.000000</td>\n",
       "      <td>30.000000</td>\n",
       "      <td>22.030000</td>\n",
       "      <td>0.0</td>\n",
       "      <td>0.0</td>\n",
       "      <td>0.0</td>\n",
       "      <td>0.0</td>\n",
       "      <td>11.000000</td>\n",
       "      <td>2.000000</td>\n",
       "      <td>2019-01-31 14:39:08</td>\n",
       "      <td>2019-01-31 13:39:08</td>\n",
       "      <td>2020-08-25 10:35:02</td>\n",
       "      <td>2020-08-25 08:35:02</td>\n",
       "      <td>0.0</td>\n",
       "      <td>0.0</td>\n",
       "      <td>0.0</td>\n",
       "    </tr>\n",
       "    <tr>\n",
       "      <th>max</th>\n",
       "      <td>1.000000</td>\n",
       "      <td>225.000000</td>\n",
       "      <td>145.000000</td>\n",
       "      <td>137.810000</td>\n",
       "      <td>0.0</td>\n",
       "      <td>0.0</td>\n",
       "      <td>0.0</td>\n",
       "      <td>0.0</td>\n",
       "      <td>122.000000</td>\n",
       "      <td>2.000000</td>\n",
       "      <td>2020-07-20 11:00:00</td>\n",
       "      <td>2020-07-20 09:00:00</td>\n",
       "      <td>2020-08-27 18:55:03</td>\n",
       "      <td>2020-08-27 16:55:03</td>\n",
       "      <td>0.0</td>\n",
       "      <td>0.0</td>\n",
       "      <td>0.0</td>\n",
       "    </tr>\n",
       "    <tr>\n",
       "      <th>std</th>\n",
       "      <td>0.037437</td>\n",
       "      <td>27.602245</td>\n",
       "      <td>22.209652</td>\n",
       "      <td>14.831206</td>\n",
       "      <td>0.0</td>\n",
       "      <td>0.0</td>\n",
       "      <td>0.0</td>\n",
       "      <td>0.0</td>\n",
       "      <td>6.478102</td>\n",
       "      <td>0.037437</td>\n",
       "      <td>NaN</td>\n",
       "      <td>NaN</td>\n",
       "      <td>NaN</td>\n",
       "      <td>NaN</td>\n",
       "      <td>0.0</td>\n",
       "      <td>0.0</td>\n",
       "      <td>0.0</td>\n",
       "    </tr>\n",
       "  </tbody>\n",
       "</table>\n",
       "</div>"
      ],
      "text/plain": [
       "        onsale_web        price  stock_quantity  purchase_price  virtual  \\\n",
       "count  1426.000000  1426.000000     1426.000000     1426.000000   1426.0   \n",
       "mean      0.998597    32.316620       23.478261       16.896438      0.0   \n",
       "min       0.000000     5.200000        0.000000        2.740000      0.0   \n",
       "25%       1.000000    14.050000        9.000000        7.240000      0.0   \n",
       "50%       1.000000    23.400000       20.000000       12.280000      0.0   \n",
       "75%       1.000000    42.000000       30.000000       22.030000      0.0   \n",
       "max       1.000000   225.000000      145.000000      137.810000      0.0   \n",
       "std       0.037437    27.602245       22.209652       14.831206      0.0   \n",
       "\n",
       "       downloadable  rating_count  average_rating  total_sales  post_author  \\\n",
       "count        1426.0        1426.0          1426.0  1426.000000  1426.000000   \n",
       "mean            0.0           0.0             0.0     8.286115     1.998597   \n",
       "min             0.0           0.0             0.0     0.000000     1.000000   \n",
       "25%             0.0           0.0             0.0     5.000000     2.000000   \n",
       "50%             0.0           0.0             0.0     8.000000     2.000000   \n",
       "75%             0.0           0.0             0.0    11.000000     2.000000   \n",
       "max             0.0           0.0             0.0   122.000000     2.000000   \n",
       "std             0.0           0.0             0.0     6.478102     0.037437   \n",
       "\n",
       "                           post_date                  post_date_gmt  \\\n",
       "count                           1426                           1426   \n",
       "mean   2018-08-21 22:30:01.656381440  2018-08-21 21:01:14.868162560   \n",
       "min              2018-02-08 12:58:52            2018-02-08 11:58:52   \n",
       "25%              2018-02-27 14:18:27            2018-02-27 13:18:27   \n",
       "50%              2018-04-19 14:48:15            2018-04-19 12:48:15   \n",
       "75%              2019-01-31 14:39:08            2019-01-31 13:39:08   \n",
       "max              2020-07-20 11:00:00            2020-07-20 09:00:00   \n",
       "std                              NaN                            NaN   \n",
       "\n",
       "                       post_modified              post_modified_gmt  \\\n",
       "count                           1426                           1426   \n",
       "mean   2020-06-20 23:47:31.953716736  2020-06-20 21:54:00.733520384   \n",
       "min              2018-02-20 15:19:23            2018-02-20 14:19:23   \n",
       "25%              2020-06-19 17:55:02            2020-06-19 15:55:02   \n",
       "50%              2020-08-04 09:30:07            2020-08-04 07:30:07   \n",
       "75%              2020-08-25 10:35:02            2020-08-25 08:35:02   \n",
       "max              2020-08-27 18:55:03            2020-08-27 16:55:03   \n",
       "std                              NaN                            NaN   \n",
       "\n",
       "       post_parent  menu_order  comment_count  \n",
       "count       1426.0      1426.0         1426.0  \n",
       "mean           0.0         0.0            0.0  \n",
       "min            0.0         0.0            0.0  \n",
       "25%            0.0         0.0            0.0  \n",
       "50%            0.0         0.0            0.0  \n",
       "75%            0.0         0.0            0.0  \n",
       "max            0.0         0.0            0.0  \n",
       "std            0.0         0.0            0.0  "
      ]
     },
     "execution_count": 233,
     "metadata": {},
     "output_type": "execute_result"
    }
   ],
   "source": [
    "df_merge2.describe()"
   ]
  },
  {
   "cell_type": "code",
   "execution_count": 234,
   "id": "d63fadf6",
   "metadata": {},
   "outputs": [
    {
     "data": {
      "text/html": [
       "<div>\n",
       "<style scoped>\n",
       "    .dataframe tbody tr th:only-of-type {\n",
       "        vertical-align: middle;\n",
       "    }\n",
       "\n",
       "    .dataframe tbody tr th {\n",
       "        vertical-align: top;\n",
       "    }\n",
       "\n",
       "    .dataframe thead th {\n",
       "        text-align: right;\n",
       "    }\n",
       "</style>\n",
       "<table border=\"1\" class=\"dataframe\">\n",
       "  <thead>\n",
       "    <tr style=\"text-align: right;\">\n",
       "      <th></th>\n",
       "      <th>product_id</th>\n",
       "      <th>onsale_web</th>\n",
       "      <th>price</th>\n",
       "      <th>stock_quantity</th>\n",
       "      <th>stock_status</th>\n",
       "      <th>purchase_price</th>\n",
       "      <th>id_web</th>\n",
       "      <th>_merge</th>\n",
       "      <th>sku</th>\n",
       "      <th>virtual</th>\n",
       "      <th>...</th>\n",
       "      <th>post_name</th>\n",
       "      <th>post_modified</th>\n",
       "      <th>post_modified_gmt</th>\n",
       "      <th>post_parent</th>\n",
       "      <th>guid</th>\n",
       "      <th>menu_order</th>\n",
       "      <th>post_type</th>\n",
       "      <th>post_mime_type</th>\n",
       "      <th>comment_count</th>\n",
       "      <th>_merge2</th>\n",
       "    </tr>\n",
       "  </thead>\n",
       "  <tbody>\n",
       "  </tbody>\n",
       "</table>\n",
       "<p>0 rows × 34 columns</p>\n",
       "</div>"
      ],
      "text/plain": [
       "Empty DataFrame\n",
       "Columns: [product_id, onsale_web, price, stock_quantity, stock_status, purchase_price, id_web, _merge, sku, virtual, downloadable, rating_count, average_rating, total_sales, tax_status, post_author, post_date, post_date_gmt, product_type, post_title, post_excerpt, post_status, comment_status, ping_status, post_name, post_modified, post_modified_gmt, post_parent, guid, menu_order, post_type, post_mime_type, comment_count, _merge2]\n",
       "Index: []\n",
       "\n",
       "[0 rows x 34 columns]"
      ]
     },
     "execution_count": 234,
     "metadata": {},
     "output_type": "execute_result"
    }
   ],
   "source": [
    "df_merge2 = df_merge2.drop_duplicates()\n",
    "df_merge2[df_merge2['price'] < 0]"
   ]
  },
  {
   "cell_type": "code",
   "execution_count": 235,
   "id": "2dc8eec1",
   "metadata": {},
   "outputs": [],
   "source": [
    "# Supprimer les articles ayant un prix inférieur à 0\n",
    "df_merge2 = df_merge2[df_merge2['price'] >= 0]"
   ]
  },
  {
   "cell_type": "code",
   "execution_count": 236,
   "id": "2021762f",
   "metadata": {},
   "outputs": [
    {
     "data": {
      "text/html": [
       "<div>\n",
       "<style scoped>\n",
       "    .dataframe tbody tr th:only-of-type {\n",
       "        vertical-align: middle;\n",
       "    }\n",
       "\n",
       "    .dataframe tbody tr th {\n",
       "        vertical-align: top;\n",
       "    }\n",
       "\n",
       "    .dataframe thead th {\n",
       "        text-align: right;\n",
       "    }\n",
       "</style>\n",
       "<table border=\"1\" class=\"dataframe\">\n",
       "  <thead>\n",
       "    <tr style=\"text-align: right;\">\n",
       "      <th></th>\n",
       "      <th>product_id</th>\n",
       "      <th>onsale_web</th>\n",
       "      <th>price</th>\n",
       "      <th>stock_quantity</th>\n",
       "      <th>stock_status</th>\n",
       "      <th>purchase_price</th>\n",
       "      <th>id_web</th>\n",
       "      <th>_merge</th>\n",
       "      <th>sku</th>\n",
       "      <th>virtual</th>\n",
       "      <th>...</th>\n",
       "      <th>post_name</th>\n",
       "      <th>post_modified</th>\n",
       "      <th>post_modified_gmt</th>\n",
       "      <th>post_parent</th>\n",
       "      <th>guid</th>\n",
       "      <th>menu_order</th>\n",
       "      <th>post_type</th>\n",
       "      <th>post_mime_type</th>\n",
       "      <th>comment_count</th>\n",
       "      <th>_merge2</th>\n",
       "    </tr>\n",
       "  </thead>\n",
       "  <tbody>\n",
       "  </tbody>\n",
       "</table>\n",
       "<p>0 rows × 34 columns</p>\n",
       "</div>"
      ],
      "text/plain": [
       "Empty DataFrame\n",
       "Columns: [product_id, onsale_web, price, stock_quantity, stock_status, purchase_price, id_web, _merge, sku, virtual, downloadable, rating_count, average_rating, total_sales, tax_status, post_author, post_date, post_date_gmt, product_type, post_title, post_excerpt, post_status, comment_status, ping_status, post_name, post_modified, post_modified_gmt, post_parent, guid, menu_order, post_type, post_mime_type, comment_count, _merge2]\n",
       "Index: []\n",
       "\n",
       "[0 rows x 34 columns]"
      ]
     },
     "metadata": {},
     "output_type": "display_data"
    },
    {
     "data": {
      "text/plain": [
       "_merge2\n",
       "both          1426\n",
       "left_only        0\n",
       "right_only       0\n",
       "Name: count, dtype: int64"
      ]
     },
     "metadata": {},
     "output_type": "display_data"
    }
   ],
   "source": [
    "#Avons-nous des lignes sans correspondances?\n",
    "display(df_merge2[df_merge2['product_id'].isna()])\n",
    "display(df_merge2['_merge2'].value_counts())"
   ]
  },
  {
   "cell_type": "markdown",
   "id": "13d81fd6",
   "metadata": {},
   "source": [
    "<div style=\"background-color: RGB(51,165,182);\" >\n",
    "<h2 style=\"margin: auto; padding: 20px; color:#fff; \">Etape 4 - Analyse univarié des prix</h2>\n",
    "</div>"
   ]
  },
  {
   "cell_type": "markdown",
   "id": "9c8d0615",
   "metadata": {},
   "source": [
    "<div style=\"border: 1px solid RGB(51,165,182);\" >\n",
    "<h3 style=\"margin: auto; padding: 20px; color: RGB(51,165,182); \">Etape 4.1 - Exploration par la visualisation de données</h3>\n",
    "</div>"
   ]
  },
  {
   "cell_type": "code",
   "execution_count": 237,
   "id": "3be61f06",
   "metadata": {},
   "outputs": [
    {
     "data": {
      "image/png": "[encoded data removed]",
      "text/plain": [
       "<Figure size 640x480 with 1 Axes>"
      ]
     },
     "metadata": {},
     "output_type": "display_data"
    }
   ],
   "source": [
    "#Création d'une Boite à moustache de la répartition des prix grâce à Pandas\n",
    "df_merge2.boxplot(column='price')\n",
    "plt.show()"
   ]
  },
  {
   "cell_type": "code",
   "execution_count": 238,
   "id": "cbfe6346",
   "metadata": {},
   "outputs": [],
   "source": [
    "#Autre méthode avec plotly express\n",
    "import plotly.express as px"
   ]
  },
  {
   "cell_type": "code",
   "execution_count": 239,
   "id": "2d85a2fc",
   "metadata": {},
   "outputs": [
    {
     "data": {
      "application/vnd.plotly.v1+json": {
       "config": {
        "plotlyServerURL": "https://plot.ly"
       },
       "data": [
        {
         "alignmentgroup": "True",
         "hovertemplate": "price=%{y}<extra></extra>",
         "legendgroup": "",
         "marker": {
          "color": "#636efa"
         },
         "name": "",
         "notched": false,
         "offsetgroup": "",
         "orientation": "v",
         "showlegend": false,
         "type": "box",
         "x0": " ",
         "xaxis": "x",
         "y": [
          24.2,
          24.2,
          34.3,
          34.3,
          20.8,
          20.8,
          14.1,
          14.1,
          46,
          46,
          34.3,
          34.3,
          32.7,
          32.7,
          31.2,
          31.2,
          60,
          60,
          42.6,
          42.6,
          80,
          80,
          18.3,
          18.3,
          22.8,
          22.8,
          19.3,
          19.3,
          21.8,
          21.8,
          7.7,
          7.7,
          33.7,
          33.7,
          44.3,
          44.3,
          71.6,
          71.6,
          12.7,
          12.7,
          8.7,
          8.7,
          8.7,
          8.7,
          8.7,
          8.7,
          11.9,
          11.9,
          11.9,
          11.9,
          14.5,
          14.5,
          14.4,
          14.4,
          19.5,
          19.5,
          20.8,
          20.8,
          22,
          22,
          16.6,
          16.6,
          60,
          60,
          23.4,
          23.4,
          33.2,
          33.2,
          32,
          32,
          77.8,
          77.8,
          12.7,
          12.7,
          14.7,
          14.7,
          14.05,
          14.05,
          22.9,
          22.9,
          44,
          44,
          37,
          37,
          39,
          39,
          17,
          17,
          23.2,
          23.2,
          19,
          19,
          16.4,
          16.4,
          14.4,
          14.4,
          13.7,
          13.7,
          12.6,
          12.6,
          22.8,
          22.8,
          12.8,
          12.8,
          22.1,
          22.1,
          12.8,
          12.8,
          15.8,
          15.8,
          15.8,
          15.8,
          16.3,
          16.3,
          16.3,
          16.3,
          9.7,
          9.7,
          6.8,
          6.8,
          12.6,
          12.6,
          35,
          35,
          31.7,
          31.7,
          100,
          100,
          23,
          23,
          88.4,
          88.4,
          29.8,
          29.8,
          25.7,
          25.7,
          77.4,
          77.4,
          39,
          39,
          53,
          53,
          49,
          49,
          29.5,
          29.5,
          33,
          33,
          37.5,
          37.5,
          69,
          69,
          59,
          59,
          13.7,
          13.7,
          19.2,
          19.2,
          29,
          29,
          9.8,
          9.8,
          14.5,
          14.5,
          20.35,
          20.35,
          12,
          12,
          18.5,
          18.5,
          9.3,
          9.3,
          9.3,
          9.3,
          11.6,
          11.6,
          14.3,
          14.3,
          10.8,
          10.8,
          7.6,
          7.6,
          12,
          12,
          20.5,
          20.5,
          14.3,
          14.3,
          18.2,
          18.2,
          9,
          9,
          7.8,
          7.8,
          5.7,
          5.7,
          5.7,
          5.7,
          5.7,
          5.7,
          13.5,
          13.5,
          13.5,
          13.5,
          11.5,
          11.5,
          24,
          24,
          24,
          24,
          11.9,
          11.9,
          16.7,
          16.7,
          21.4,
          21.4,
          16.6,
          16.6,
          13.3,
          13.3,
          9.5,
          9.5,
          12.1,
          12.1,
          9.3,
          9.3,
          17.8,
          17.8,
          13.5,
          13.5,
          10.8,
          10.8,
          27.2,
          27.2,
          9.4,
          9.4,
          5.8,
          5.8,
          5.8,
          5.8,
          38,
          38,
          38,
          38,
          9.9,
          9.9,
          11.3,
          11.3,
          23,
          23,
          6.7,
          6.7,
          7.6,
          7.6,
          79.8,
          79.8,
          48.5,
          48.5,
          39.8,
          39.8,
          58.8,
          58.8,
          26.5,
          26.5,
          13.4,
          13.4,
          17.1,
          17.1,
          16.7,
          16.7,
          11.6,
          11.6,
          12.8,
          12.8,
          8.9,
          8.9,
          9.7,
          9.7,
          17.2,
          17.2,
          16.9,
          16.9,
          12.6,
          12.6,
          29.9,
          29.9,
          9.6,
          9.6,
          11.1,
          11.1,
          11.1,
          11.1,
          17.1,
          17.1,
          28,
          28,
          28,
          28,
          8.9,
          8.9,
          8.6,
          8.6,
          13.5,
          13.5,
          8.9,
          8.9,
          15.3,
          15.3,
          14.8,
          14.8,
          19.5,
          19.5,
          14.1,
          14.1,
          59.6,
          59.6,
          26.9,
          26.9,
          24.4,
          24.4,
          31.7,
          31.7,
          32.1,
          32.1,
          12.2,
          12.2,
          9.9,
          9.9,
          15.8,
          15.8,
          15.8,
          15.8,
          17.8,
          17.8,
          9.6,
          9.6,
          19,
          19,
          15.2,
          15.2,
          10.2,
          10.2,
          15.5,
          15.5,
          16.6,
          16.6,
          9.2,
          9.2,
          12.9,
          12.9,
          14.9,
          14.9,
          17.6,
          17.6,
          24.8,
          24.8,
          18.9,
          18.9,
          11.6,
          11.6,
          27,
          27,
          41,
          41,
          69.8,
          69.8,
          38.6,
          38.6,
          26.7,
          26.7,
          19,
          19,
          23.2,
          23.2,
          39.1,
          39.1,
          44,
          44,
          17.5,
          17.5,
          30,
          30,
          8.1,
          8.1,
          10.7,
          10.7,
          10.9,
          10.9,
          49,
          49,
          35.5,
          35.5,
          83,
          83,
          59,
          59,
          79.5,
          79.5,
          225,
          225,
          79.5,
          79.5,
          12.65,
          12.65,
          51.6,
          51.6,
          39,
          39,
          77,
          77,
          85.6,
          85.6,
          49.5,
          49.5,
          49.5,
          49.5,
          49.5,
          49.5,
          57,
          57,
          59.8,
          59.8,
          27.5,
          27.5,
          62,
          62,
          59,
          59,
          59,
          59,
          59,
          59,
          44,
          44,
          62.5,
          62.5,
          176,
          176,
          108.5,
          108.5,
          68.1,
          68.1,
          157,
          157,
          104,
          104,
          28.1,
          28.1,
          21.7,
          21.7,
          28.5,
          28.5,
          67.2,
          67.2,
          109.6,
          109.6,
          43.9,
          43.9,
          61.6,
          61.6,
          41.8,
          41.8,
          26.5,
          26.5,
          16.1,
          16.1,
          31.5,
          31.5,
          31.5,
          31.5,
          49,
          49,
          32.2,
          32.2,
          50.1,
          50.1,
          13.4,
          13.4,
          11.8,
          11.8,
          13.1,
          13.1,
          26.2,
          26.2,
          20.6,
          20.6,
          16.9,
          16.9,
          19,
          19,
          24,
          24,
          57,
          57,
          67.5,
          67.5,
          30.6,
          30.6,
          59,
          59,
          11.9,
          11.9,
          16.5,
          16.5,
          52.4,
          52.4,
          52.9,
          52.9,
          58.3,
          58.3,
          39.6,
          39.6,
          52.4,
          52.4,
          62.4,
          62.4,
          76.8,
          76.8,
          50,
          50,
          52.4,
          52.4,
          41,
          41,
          62.4,
          62.4,
          50,
          50,
          21.5,
          21.5,
          28.5,
          28.5,
          24.3,
          24.3,
          16.5,
          16.5,
          25.3,
          25.3,
          49,
          49,
          36.2,
          36.2,
          33.4,
          33.4,
          40.2,
          40.2,
          43,
          43,
          43,
          43,
          48.8,
          48.8,
          20.8,
          20.8,
          16.4,
          16.4,
          14.4,
          14.4,
          21,
          21,
          12.3,
          12.3,
          20.2,
          20.2,
          17,
          17,
          21.9,
          21.9,
          17.8,
          17.8,
          19.8,
          19.8,
          19,
          19,
          10.7,
          10.7,
          12.9,
          12.9,
          9.5,
          9.5,
          29.8,
          29.8,
          13.2,
          13.2,
          6.3,
          6.3,
          7.1,
          7.1,
          9.1,
          9.1,
          9.1,
          9.1,
          18.1,
          18.1,
          14,
          14,
          30.1,
          30.1,
          12.8,
          12.8,
          12.8,
          12.8,
          19.8,
          19.8,
          18.2,
          18.2,
          31.6,
          31.6,
          16.8,
          16.8,
          22.8,
          22.8,
          32.6,
          32.6,
          44,
          44,
          55.4,
          55.4,
          15.8,
          15.8,
          18.4,
          18.4,
          13.3,
          13.3,
          11.1,
          11.1,
          18.6,
          18.6,
          23.4,
          23.4,
          18.2,
          18.2,
          12.5,
          12.5,
          15.9,
          15.9,
          13.7,
          13.7,
          29,
          29,
          23.4,
          23.4,
          12.7,
          12.7,
          26,
          26,
          29.5,
          29.5,
          8.6,
          8.6,
          14.3,
          14.3,
          22,
          22,
          16.8,
          16.8,
          15.3,
          15.3,
          7.4,
          7.4,
          9.7,
          9.7,
          14.5,
          14.5,
          11.9,
          11.9,
          16.4,
          16.4,
          27.9,
          27.9,
          12,
          12,
          7.4,
          7.4,
          26.5,
          26.5,
          24.3,
          24.3,
          16.9,
          16.9,
          6.8,
          6.8,
          13.9,
          13.9,
          7.8,
          7.8,
          13.7,
          13.7,
          9.8,
          9.8,
          29.5,
          29.5,
          28.5,
          28.5,
          10.1,
          10.1,
          12.1,
          12.1,
          12.3,
          12.3,
          11.1,
          11.1,
          11.1,
          11.1,
          13.6,
          13.6,
          21,
          21,
          18.7,
          18.7,
          41.6,
          41.6,
          12,
          12,
          78,
          78,
          14.9,
          14.9,
          6.5,
          6.5,
          8.7,
          8.7,
          8.5,
          8.5,
          9.9,
          9.9,
          8.2,
          8.2,
          9.8,
          9.8,
          9.9,
          9.9,
          9.3,
          9.3,
          22.8,
          22.8,
          18.7,
          18.7,
          28.4,
          28.4,
          27.9,
          27.9,
          25.3,
          25.3,
          17,
          17,
          27.9,
          27.9,
          20.1,
          20.1,
          27.9,
          27.9,
          21.2,
          21.2,
          20.8,
          20.8,
          41,
          41,
          46,
          46,
          102.3,
          102.3,
          137,
          137,
          22.9,
          22.9,
          53.2,
          53.2,
          25.9,
          25.9,
          17.3,
          17.3,
          25.9,
          25.9,
          28,
          28,
          25.9,
          25.9,
          25.9,
          25.9,
          37.2,
          37.2,
          24.4,
          24.4,
          24.4,
          24.4,
          7,
          7,
          12.8,
          12.8,
          23.2,
          23.2,
          7.9,
          7.9,
          6.5,
          6.5,
          7.9,
          7.9,
          16.7,
          16.7,
          17.5,
          17.5,
          27.8,
          27.8,
          25.7,
          25.7,
          18.4,
          18.4,
          22.2,
          22.2,
          11.1,
          11.1,
          9.9,
          9.9,
          12.5,
          12.5,
          12.9,
          12.9,
          20.5,
          20.5,
          25,
          25,
          11.3,
          11.3,
          7,
          7,
          12.1,
          12.1,
          7.1,
          7.1,
          49.5,
          49.5,
          23,
          23,
          23.7,
          23.7,
          16.45,
          16.45,
          16.3,
          16.3,
          18.5,
          18.5,
          26.5,
          26.5,
          78,
          78,
          78,
          78,
          78,
          78,
          27.3,
          27.3,
          217.5,
          217.5,
          64.9,
          64.9,
          48.7,
          48.7,
          59.4,
          59.4,
          48.7,
          48.7,
          105,
          105,
          105,
          105,
          55.6,
          55.6,
          9.3,
          9.3,
          19.8,
          19.8,
          45,
          45,
          112,
          112,
          86.8,
          86.8,
          62.1,
          62.1,
          22.5,
          22.5,
          7.5,
          7.5,
          52.6,
          52.6,
          45,
          45,
          67,
          67,
          59.9,
          59.9,
          59.9,
          59.9,
          65,
          65,
          15.2,
          15.2,
          19,
          19,
          11.1,
          11.1,
          18,
          18,
          22.8,
          22.8,
          19.5,
          19.5,
          28.8,
          28.8,
          16.1,
          16.1,
          24.2,
          24.2,
          35.3,
          35.3,
          10.7,
          10.7,
          12.7,
          12.7,
          17.1,
          17.1,
          24,
          24,
          39,
          39,
          13.2,
          13.2,
          23.6,
          23.6,
          15.5,
          15.5,
          16.3,
          16.3,
          16.2,
          16.2,
          7.2,
          7.2,
          54.8,
          54.8,
          42,
          42,
          19.8,
          19.8,
          10.2,
          10.2,
          10.4,
          10.4,
          11.5,
          11.5,
          17.9,
          17.9,
          21.6,
          21.6,
          33.4,
          33.4,
          49.5,
          49.5,
          43.5,
          43.5,
          43.5,
          43.5,
          26.5,
          26.5,
          13.8,
          13.8,
          18.2,
          18.2,
          12.9,
          12.9,
          38.6,
          38.6,
          48.4,
          48.4,
          60.4,
          60.4,
          38.6,
          38.6,
          12,
          12,
          61.6,
          61.6,
          65.9,
          65.9,
          15.2,
          15.2,
          24.6,
          24.6,
          48.8,
          48.8,
          34.3,
          34.3,
          36.3,
          36.3,
          57.7,
          57.7,
          38,
          38,
          58,
          58,
          58,
          58,
          30.8,
          30.8,
          92,
          92,
          27.5,
          27.5,
          34.7,
          34.7,
          59.6,
          59.6,
          83.7,
          83.7,
          30.5,
          30.5,
          38.6,
          38.6,
          18,
          18,
          63.4,
          63.4,
          124.8,
          124.8,
          19.2,
          19.2,
          19.2,
          19.2,
          56.4,
          56.4,
          38.4,
          38.4,
          27.8,
          27.8,
          71.3,
          71.3,
          71.3,
          71.3,
          25,
          25,
          10.3,
          10.3,
          28,
          28,
          44.6,
          44.6,
          13,
          13,
          12.7,
          12.7,
          6.5,
          6.5,
          17.5,
          17.5,
          29.9,
          29.9,
          29.4,
          29.4,
          16.9,
          16.9,
          19.8,
          19.8,
          10.3,
          10.3,
          10.8,
          10.8,
          31.7,
          31.7,
          25,
          25,
          57.6,
          57.6,
          13.7,
          13.7,
          7.1,
          7.1,
          14.9,
          14.9,
          11,
          11,
          14.6,
          14.6,
          10.7,
          10.7,
          73.3,
          73.3,
          42.1,
          42.1,
          57,
          57,
          24.5,
          24.5,
          10.1,
          10.1,
          42.2,
          42.2,
          13.1,
          13.1,
          19.5,
          19.5,
          12.9,
          12.9,
          35.6,
          35.6,
          175,
          175,
          35.6,
          35.6,
          33.6,
          33.6,
          34.4,
          34.4,
          38.4,
          38.4,
          29.7,
          29.7,
          32.8,
          32.8,
          5.7,
          5.7,
          5.8,
          5.8,
          5.8,
          5.8,
          21.7,
          21.7,
          23,
          23,
          12.5,
          12.5,
          17.2,
          17.2,
          40.2,
          40.2,
          24,
          24,
          23.8,
          23.8,
          17.1,
          17.1,
          25,
          25,
          17.4,
          17.4,
          27.3,
          27.3,
          17.9,
          17.9,
          24,
          24,
          16.6,
          16.6,
          16.9,
          16.9,
          57.6,
          57.6,
          63.5,
          63.5,
          56,
          56,
          63.5,
          63.5,
          41.2,
          41.2,
          55,
          55,
          57,
          57,
          19.3,
          19.3,
          19,
          19,
          191.3,
          191.3,
          26.6,
          26.6,
          15.4,
          15.4,
          24.7,
          24.7,
          28.1,
          28.1,
          18.25,
          18.25,
          35.1,
          35.1,
          27.3,
          27.3,
          18.8,
          18.8,
          43.9,
          43.9,
          19.8,
          19.8,
          17.7,
          17.7,
          57,
          57,
          36,
          36,
          36,
          36,
          93,
          93,
          122,
          122,
          114,
          114,
          48.5,
          48.5,
          49.5,
          49.5,
          14.1,
          14.1,
          59.9,
          59.9,
          46,
          46,
          74.5,
          74.5,
          17.2,
          17.2,
          8.7,
          8.7,
          15.4,
          15.4,
          12.7,
          12.7,
          30,
          30,
          13.5,
          13.5,
          16.3,
          16.3,
          56.3,
          56.3,
          71.5,
          71.5,
          69,
          69,
          17.9,
          17.9,
          48.5,
          48.5,
          71.7,
          71.7,
          8.5,
          8.5,
          10.9,
          10.9,
          21.8,
          21.8,
          38.5,
          38.5,
          9.3,
          9.3,
          13.6,
          13.6,
          24.5,
          24.5,
          12.6,
          12.6,
          13.4,
          13.4,
          29.8,
          29.8,
          36.9,
          36.9,
          40.7,
          40.7,
          33.2,
          33.2,
          34.8,
          34.8,
          74.8,
          74.8,
          62.4,
          62.4,
          46,
          46,
          39.2,
          39.2,
          135,
          135,
          10.6,
          10.6,
          10.6,
          10.6,
          5.2,
          5.2,
          46,
          46,
          105.6,
          105.6,
          116.4,
          116.4,
          31,
          31,
          20.2,
          20.2,
          25.2,
          25.2,
          25.2,
          25.2,
          115,
          115,
          121,
          121,
          99,
          99,
          115,
          115,
          121,
          121,
          23.5,
          23.5,
          26.4,
          26.4,
          26.7,
          26.7,
          20.4,
          20.4,
          20.4,
          20.4,
          40.2,
          40.2,
          9,
          9,
          45.9,
          45.9,
          10.4,
          10.4,
          78,
          78,
          40.5,
          40.5,
          27.9,
          27.9,
          22.4,
          22.4,
          28.4,
          28.4,
          72,
          72,
          29,
          29,
          29.2,
          29.2,
          44,
          44,
          68.3,
          68.3,
          41.8,
          41.8,
          40,
          40,
          13.5,
          13.5,
          19,
          19,
          24.4,
          24.4,
          32.8,
          32.8,
          15.4,
          15.4,
          9.9,
          9.9,
          13.5,
          13.5,
          51,
          51,
          35.2,
          35.2,
          42.2,
          42.2,
          33.2,
          33.2,
          41.8,
          41.8,
          32.2,
          32.2,
          37.7,
          37.7,
          47.2,
          47.2,
          52.7,
          52.7,
          22.4,
          22.4,
          50.4,
          50.4,
          35.6,
          35.6,
          27.7,
          27.7,
          48.5,
          48.5,
          15.4,
          15.4,
          46.5,
          46.5,
          46.5,
          46.5,
          46.5,
          46.5,
          42,
          42,
          21.8,
          21.8,
          50.5,
          50.5,
          49.9,
          49.9,
          19,
          19,
          8.4,
          8.4,
          27.5,
          27.5,
          69,
          69,
          54.8,
          54.8,
          16.3,
          16.3
         ],
         "y0": " ",
         "yaxis": "y"
        }
       ],
       "layout": {
        "boxmode": "group",
        "legend": {
         "tracegroupgap": 0
        },
        "margin": {
         "t": 60
        },
        "template": {
         "data": {
          "bar": [
           {
            "error_x": {
             "color": "#2a3f5f"
            },
            "error_y": {
             "color": "#2a3f5f"
            },
            "marker": {
             "line": {
              "color": "#E5ECF6",
              "width": 0.5
             },
             "pattern": {
              "fillmode": "overlay",
              "size": 10,
              "solidity": 0.2
             }
            },
            "type": "bar"
           }
          ],
          "barpolar": [
           {
            "marker": {
             "line": {
              "color": "#E5ECF6",
              "width": 0.5
             },
             "pattern": {
              "fillmode": "overlay",
              "size": 10,
              "solidity": 0.2
             }
            },
            "type": "barpolar"
           }
          ],
          "carpet": [
           {
            "aaxis": {
             "endlinecolor": "#2a3f5f",
             "gridcolor": "white",
             "linecolor": "white",
             "minorgridcolor": "white",
             "startlinecolor": "#2a3f5f"
            },
            "baxis": {
             "endlinecolor": "#2a3f5f",
             "gridcolor": "white",
             "linecolor": "white",
             "minorgridcolor": "white",
             "startlinecolor": "#2a3f5f"
            },
            "type": "carpet"
           }
          ],
          "choropleth": [
           {
            "colorbar": {
             "outlinewidth": 0,
             "ticks": ""
            },
            "type": "choropleth"
           }
          ],
          "contour": [
           {
            "colorbar": {
             "outlinewidth": 0,
             "ticks": ""
            },
            "colorscale": [
             [
              0,
              "#0d0887"
             ],
             [
              0.1111111111111111,
              "#46039f"
             ],
             [
              0.2222222222222222,
              "#7201a8"
             ],
             [
              0.3333333333333333,
              "#9c179e"
             ],
             [
              0.4444444444444444,
              "#bd3786"
             ],
             [
              0.5555555555555556,
              "#d8576b"
             ],
             [
              0.6666666666666666,
              "#ed7953"
             ],
             [
              0.7777777777777778,
              "#fb9f3a"
             ],
             [
              0.8888888888888888,
              "#fdca26"
             ],
             [
              1,
              "#f0f921"
             ]
            ],
            "type": "contour"
           }
          ],
          "contourcarpet": [
           {
            "colorbar": {
             "outlinewidth": 0,
             "ticks": ""
            },
            "type": "contourcarpet"
           }
          ],
          "heatmap": [
           {
            "colorbar": {
             "outlinewidth": 0,
             "ticks": ""
            },
            "colorscale": [
             [
              0,
              "#0d0887"
             ],
             [
              0.1111111111111111,
              "#46039f"
             ],
             [
              0.2222222222222222,
              "#7201a8"
             ],
             [
              0.3333333333333333,
              "#9c179e"
             ],
             [
              0.4444444444444444,
              "#bd3786"
             ],
             [
              0.5555555555555556,
              "#d8576b"
             ],
             [
              0.6666666666666666,
              "#ed7953"
             ],
             [
              0.7777777777777778,
              "#fb9f3a"
             ],
             [
              0.8888888888888888,
              "#fdca26"
             ],
             [
              1,
              "#f0f921"
             ]
            ],
            "type": "heatmap"
           }
          ],
          "heatmapgl": [
           {
            "colorbar": {
             "outlinewidth": 0,
             "ticks": ""
            },
            "colorscale": [
             [
              0,
              "#0d0887"
             ],
             [
              0.1111111111111111,
              "#46039f"
             ],
             [
              0.2222222222222222,
              "#7201a8"
             ],
             [
              0.3333333333333333,
              "#9c179e"
             ],
             [
              0.4444444444444444,
              "#bd3786"
             ],
             [
              0.5555555555555556,
              "#d8576b"
             ],
             [
              0.6666666666666666,
              "#ed7953"
             ],
             [
              0.7777777777777778,
              "#fb9f3a"
             ],
             [
              0.8888888888888888,
              "#fdca26"
             ],
             [
              1,
              "#f0f921"
             ]
            ],
            "type": "heatmapgl"
           }
          ],
          "histogram": [
           {
            "marker": {
             "pattern": {
              "fillmode": "overlay",
              "size": 10,
              "solidity": 0.2
             }
            },
            "type": "histogram"
           }
          ],
          "histogram2d": [
           {
            "colorbar": {
             "outlinewidth": 0,
             "ticks": ""
            },
            "colorscale": [
             [
              0,
              "#0d0887"
             ],
             [
              0.1111111111111111,
              "#46039f"
             ],
             [
              0.2222222222222222,
              "#7201a8"
             ],
             [
              0.3333333333333333,
              "#9c179e"
             ],
             [
              0.4444444444444444,
              "#bd3786"
             ],
             [
              0.5555555555555556,
              "#d8576b"
             ],
             [
              0.6666666666666666,
              "#ed7953"
             ],
             [
              0.7777777777777778,
              "#fb9f3a"
             ],
             [
              0.8888888888888888,
              "#fdca26"
             ],
             [
              1,
              "#f0f921"
             ]
            ],
            "type": "histogram2d"
           }
          ],
          "histogram2dcontour": [
           {
            "colorbar": {
             "outlinewidth": 0,
             "ticks": ""
            },
            "colorscale": [
             [
              0,
              "#0d0887"
             ],
             [
              0.1111111111111111,
              "#46039f"
             ],
             [
              0.2222222222222222,
              "#7201a8"
             ],
             [
              0.3333333333333333,
              "#9c179e"
             ],
             [
              0.4444444444444444,
              "#bd3786"
             ],
             [
              0.5555555555555556,
              "#d8576b"
             ],
             [
              0.6666666666666666,
              "#ed7953"
             ],
             [
              0.7777777777777778,
              "#fb9f3a"
             ],
             [
              0.8888888888888888,
              "#fdca26"
             ],
             [
              1,
              "#f0f921"
             ]
            ],
            "type": "histogram2dcontour"
           }
          ],
          "mesh3d": [
           {
            "colorbar": {
             "outlinewidth": 0,
             "ticks": ""
            },
            "type": "mesh3d"
           }
          ],
          "parcoords": [
           {
            "line": {
             "colorbar": {
              "outlinewidth": 0,
              "ticks": ""
             }
            },
            "type": "parcoords"
           }
          ],
          "pie": [
           {
            "automargin": true,
            "type": "pie"
           }
          ],
          "scatter": [
           {
            "fillpattern": {
             "fillmode": "overlay",
             "size": 10,
             "solidity": 0.2
            },
            "type": "scatter"
           }
          ],
          "scatter3d": [
           {
            "line": {
             "colorbar": {
              "outlinewidth": 0,
              "ticks": ""
             }
            },
            "marker": {
             "colorbar": {
              "outlinewidth": 0,
              "ticks": ""
             }
            },
            "type": "scatter3d"
           }
          ],
          "scattercarpet": [
           {
            "marker": {
             "colorbar": {
              "outlinewidth": 0,
              "ticks": ""
             }
            },
            "type": "scattercarpet"
           }
          ],
          "scattergeo": [
           {
            "marker": {
             "colorbar": {
              "outlinewidth": 0,
              "ticks": ""
             }
            },
            "type": "scattergeo"
           }
          ],
          "scattergl": [
           {
            "marker": {
             "colorbar": {
              "outlinewidth": 0,
              "ticks": ""
             }
            },
            "type": "scattergl"
           }
          ],
          "scattermapbox": [
           {
            "marker": {
             "colorbar": {
              "outlinewidth": 0,
              "ticks": ""
             }
            },
            "type": "scattermapbox"
           }
          ],
          "scatterpolar": [
           {
            "marker": {
             "colorbar": {
              "outlinewidth": 0,
              "ticks": ""
             }
            },
            "type": "scatterpolar"
           }
          ],
          "scatterpolargl": [
           {
            "marker": {
             "colorbar": {
              "outlinewidth": 0,
              "ticks": ""
             }
            },
            "type": "scatterpolargl"
           }
          ],
          "scatterternary": [
           {
            "marker": {
             "colorbar": {
              "outlinewidth": 0,
              "ticks": ""
             }
            },
            "type": "scatterternary"
           }
          ],
          "surface": [
           {
            "colorbar": {
             "outlinewidth": 0,
             "ticks": ""
            },
            "colorscale": [
             [
              0,
              "#0d0887"
             ],
             [
              0.1111111111111111,
              "#46039f"
             ],
             [
              0.2222222222222222,
              "#7201a8"
             ],
             [
              0.3333333333333333,
              "#9c179e"
             ],
             [
              0.4444444444444444,
              "#bd3786"
             ],
             [
              0.5555555555555556,
              "#d8576b"
             ],
             [
              0.6666666666666666,
              "#ed7953"
             ],
             [
              0.7777777777777778,
              "#fb9f3a"
             ],
             [
              0.8888888888888888,
              "#fdca26"
             ],
             [
              1,
              "#f0f921"
             ]
            ],
            "type": "surface"
           }
          ],
          "table": [
           {
            "cells": {
             "fill": {
              "color": "#EBF0F8"
             },
             "line": {
              "color": "white"
             }
            },
            "header": {
             "fill": {
              "color": "#C8D4E3"
             },
             "line": {
              "color": "white"
             }
            },
            "type": "table"
           }
          ]
         },
         "layout": {
          "annotationdefaults": {
           "arrowcolor": "#2a3f5f",
           "arrowhead": 0,
           "arrowwidth": 1
          },
          "autotypenumbers": "strict",
          "coloraxis": {
           "colorbar": {
            "outlinewidth": 0,
            "ticks": ""
           }
          },
          "colorscale": {
           "diverging": [
            [
             0,
             "#8e0152"
            ],
            [
             0.1,
             "#c51b7d"
            ],
            [
             0.2,
             "#de77ae"
            ],
            [
             0.3,
             "#f1b6da"
            ],
            [
             0.4,
             "#fde0ef"
            ],
            [
             0.5,
             "#f7f7f7"
            ],
            [
             0.6,
             "#e6f5d0"
            ],
            [
             0.7,
             "#b8e186"
            ],
            [
             0.8,
             "#7fbc41"
            ],
            [
             0.9,
             "#4d9221"
            ],
            [
             1,
             "#276419"
            ]
           ],
           "sequential": [
            [
             0,
             "#0d0887"
            ],
            [
             0.1111111111111111,
             "#46039f"
            ],
            [
             0.2222222222222222,
             "#7201a8"
            ],
            [
             0.3333333333333333,
             "#9c179e"
            ],
            [
             0.4444444444444444,
             "#bd3786"
            ],
            [
             0.5555555555555556,
             "#d8576b"
            ],
            [
             0.6666666666666666,
             "#ed7953"
            ],
            [
             0.7777777777777778,
             "#fb9f3a"
            ],
            [
             0.8888888888888888,
             "#fdca26"
            ],
            [
             1,
             "#f0f921"
            ]
           ],
           "sequentialminus": [
            [
             0,
             "#0d0887"
            ],
            [
             0.1111111111111111,
             "#46039f"
            ],
            [
             0.2222222222222222,
             "#7201a8"
            ],
            [
             0.3333333333333333,
             "#9c179e"
            ],
            [
             0.4444444444444444,
             "#bd3786"
            ],
            [
             0.5555555555555556,
             "#d8576b"
            ],
            [
             0.6666666666666666,
             "#ed7953"
            ],
            [
             0.7777777777777778,
             "#fb9f3a"
            ],
            [
             0.8888888888888888,
             "#fdca26"
            ],
            [
             1,
             "#f0f921"
            ]
           ]
          },
          "colorway": [
           "#636efa",
           "#EF553B",
           "#00cc96",
           "#ab63fa",
           "#FFA15A",
           "#19d3f3",
           "#FF6692",
           "#B6E880",
           "#FF97FF",
           "#FECB52"
          ],
          "font": {
           "color": "#2a3f5f"
          },
          "geo": {
           "bgcolor": "white",
           "lakecolor": "white",
           "landcolor": "#E5ECF6",
           "showlakes": true,
           "showland": true,
           "subunitcolor": "white"
          },
          "hoverlabel": {
           "align": "left"
          },
          "hovermode": "closest",
          "mapbox": {
           "style": "light"
          },
          "paper_bgcolor": "white",
          "plot_bgcolor": "#E5ECF6",
          "polar": {
           "angularaxis": {
            "gridcolor": "white",
            "linecolor": "white",
            "ticks": ""
           },
           "bgcolor": "#E5ECF6",
           "radialaxis": {
            "gridcolor": "white",
            "linecolor": "white",
            "ticks": ""
           }
          },
          "scene": {
           "xaxis": {
            "backgroundcolor": "#E5ECF6",
            "gridcolor": "white",
            "gridwidth": 2,
            "linecolor": "white",
            "showbackground": true,
            "ticks": "",
            "zerolinecolor": "white"
           },
           "yaxis": {
            "backgroundcolor": "#E5ECF6",
            "gridcolor": "white",
            "gridwidth": 2,
            "linecolor": "white",
            "showbackground": true,
            "ticks": "",
            "zerolinecolor": "white"
           },
           "zaxis": {
            "backgroundcolor": "#E5ECF6",
            "gridcolor": "white",
            "gridwidth": 2,
            "linecolor": "white",
            "showbackground": true,
            "ticks": "",
            "zerolinecolor": "white"
           }
          },
          "shapedefaults": {
           "line": {
            "color": "#2a3f5f"
           }
          },
          "ternary": {
           "aaxis": {
            "gridcolor": "white",
            "linecolor": "white",
            "ticks": ""
           },
           "baxis": {
            "gridcolor": "white",
            "linecolor": "white",
            "ticks": ""
           },
           "bgcolor": "#E5ECF6",
           "caxis": {
            "gridcolor": "white",
            "linecolor": "white",
            "ticks": ""
           }
          },
          "title": {
           "x": 0.05
          },
          "xaxis": {
           "automargin": true,
           "gridcolor": "white",
           "linecolor": "white",
           "ticks": "",
           "title": {
            "standoff": 15
           },
           "zerolinecolor": "white",
           "zerolinewidth": 2
          },
          "yaxis": {
           "automargin": true,
           "gridcolor": "white",
           "linecolor": "white",
           "ticks": "",
           "title": {
            "standoff": 15
           },
           "zerolinecolor": "white",
           "zerolinewidth": 2
          }
         }
        },
        "xaxis": {
         "anchor": "y",
         "domain": [
          0,
          1
         ]
        },
        "yaxis": {
         "anchor": "x",
         "domain": [
          0,
          1
         ],
         "title": {
          "text": "price"
         }
        }
       }
      }
     },
     "metadata": {},
     "output_type": "display_data"
    }
   ],
   "source": [
    "fig = px.box(df_merge2, y = 'price')\n",
    "fig.show()"
   ]
  },
  {
   "cell_type": "markdown",
   "id": "79e2f2eb",
   "metadata": {},
   "source": [
    "<div style=\"border: 1px solid RGB(51,165,182);\" >\n",
    "<h3 style=\"margin: auto; padding: 20px; color: RGB(51,165,182); \">Etape 4.2 - Exploration par l'utisation de méthodes statistique</h3>\n",
    "</div>"
   ]
  },
  {
   "cell_type": "markdown",
   "id": "0735c3b2",
   "metadata": {},
   "source": [
    "<div style=\"border: 1px solid RGB(51,165,182);\" >\n",
    "<h3 style=\"margin: auto; padding: 20px; color: RGB(51,165,182); \">Etape 4.2.1 - Identification par le Z-index</h3>\n",
    "</div>"
   ]
  },
  {
   "cell_type": "code",
   "execution_count": 240,
   "id": "1950ef8d",
   "metadata": {},
   "outputs": [
    {
     "name": "stdout",
     "output_type": "stream",
     "text": [
      "32.32\n",
      "27.6\n",
      "0      -0.29\n",
      "1      -0.29\n",
      "2       0.07\n",
      "3       0.07\n",
      "4      -0.42\n",
      "        ... \n",
      "1421    1.33\n",
      "1422    0.81\n",
      "1423    0.81\n",
      "1424   -0.58\n",
      "1425   -0.58\n",
      "Name: price, Length: 1426, dtype: float64\n"
     ]
    }
   ],
   "source": [
    "#Calculer la moyenne du prix\n",
    "price_mean = df_merge2['price'].mean()\n",
    "print(round(price_mean, 2))\n",
    "#Calculer l'écart-type du prix\n",
    "price_std = df_merge2['price'].std()\n",
    "print(round(price_std, 2))\n",
    "#Calculer le Z-score\n",
    "price_zscore = (df_merge2['price'] - price_mean) / price_std\n",
    "print(round(price_zscore, 2))"
   ]
  },
  {
   "cell_type": "code",
   "execution_count": 241,
   "id": "9c2f435f",
   "metadata": {},
   "outputs": [
    {
     "data": {
      "text/plain": [
       "1295    3.046251\n",
       "1294    3.046251\n",
       "1313    3.212905\n",
       "1307    3.212905\n",
       "1306    3.212905\n",
       "1312    3.212905\n",
       "1205    3.249133\n",
       "1204    3.249133\n",
       "1022    3.350575\n",
       "1023    3.350575\n",
       "1283    3.720110\n",
       "1282    3.720110\n",
       "762     3.792568\n",
       "763     3.792568\n",
       "442     4.517146\n",
       "443     4.517146\n",
       "1104    5.169267\n",
       "1105    5.169267\n",
       "437     5.205496\n",
       "436     5.205496\n",
       "1172    5.759799\n",
       "1173    5.759799\n",
       "853     6.708997\n",
       "852     6.708997\n",
       "399     6.980714\n",
       "398     6.980714\n",
       "Name: price, dtype: float64"
      ]
     },
     "execution_count": 241,
     "metadata": {},
     "output_type": "execute_result"
    }
   ],
   "source": [
    "#Quel est le seuil prix dont z-score est supérieur à 3?\n",
    "price_zscore[price_zscore > 3].sort_values(ascending= True)"
   ]
  },
  {
   "cell_type": "markdown",
   "id": "750f54f3",
   "metadata": {},
   "source": [
    "<div style=\"border: 1px solid RGB(51,165,182);\" >\n",
    "<h3 style=\"margin: auto; padding: 20px; color: RGB(51,165,182); \">Etape 4.2.2 - Identification par l'interval interquartile</h3>\n",
    "</div>"
   ]
  },
  {
   "cell_type": "code",
   "execution_count": 242,
   "id": "6c0db8c0",
   "metadata": {},
   "outputs": [
    {
     "data": {
      "text/plain": [
       "count    1426.000000\n",
       "mean       32.316620\n",
       "std        27.602245\n",
       "min         5.200000\n",
       "25%        14.050000\n",
       "50%        23.400000\n",
       "75%        42.000000\n",
       "max       225.000000\n",
       "Name: price, dtype: float64"
      ]
     },
     "execution_count": 242,
     "metadata": {},
     "output_type": "execute_result"
    }
   ],
   "source": [
    "#Utilisation de la fonction describe de Pandas pour l'etude des mesures de dispersions\n",
    "df_merge2['price'].describe()"
   ]
  },
  {
   "cell_type": "code",
   "execution_count": 243,
   "id": "a458ca14",
   "metadata": {},
   "outputs": [],
   "source": [
    "#Définissez un seuil pour les articles \"outliers\" en prix\n",
    "#### Selon le box plot de plotly express calculé plus haut : les outliers serait toutes les valeurs ayant un prix supérieur à 83,7."
   ]
  },
  {
   "cell_type": "code",
   "execution_count": 244,
   "id": "7d05cde7",
   "metadata": {},
   "outputs": [
    {
     "data": {
      "text/html": [
       "<div>\n",
       "<style scoped>\n",
       "    .dataframe tbody tr th:only-of-type {\n",
       "        vertical-align: middle;\n",
       "    }\n",
       "\n",
       "    .dataframe tbody tr th {\n",
       "        vertical-align: top;\n",
       "    }\n",
       "\n",
       "    .dataframe thead th {\n",
       "        text-align: right;\n",
       "    }\n",
       "</style>\n",
       "<table border=\"1\" class=\"dataframe\">\n",
       "  <thead>\n",
       "    <tr style=\"text-align: right;\">\n",
       "      <th></th>\n",
       "      <th>product_id</th>\n",
       "      <th>onsale_web</th>\n",
       "      <th>price</th>\n",
       "      <th>stock_quantity</th>\n",
       "      <th>stock_status</th>\n",
       "      <th>purchase_price</th>\n",
       "      <th>id_web</th>\n",
       "      <th>_merge</th>\n",
       "      <th>sku</th>\n",
       "      <th>virtual</th>\n",
       "      <th>...</th>\n",
       "      <th>post_name</th>\n",
       "      <th>post_modified</th>\n",
       "      <th>post_modified_gmt</th>\n",
       "      <th>post_parent</th>\n",
       "      <th>guid</th>\n",
       "      <th>menu_order</th>\n",
       "      <th>post_type</th>\n",
       "      <th>post_mime_type</th>\n",
       "      <th>comment_count</th>\n",
       "      <th>_merge2</th>\n",
       "    </tr>\n",
       "  </thead>\n",
       "  <tbody>\n",
       "    <tr>\n",
       "      <th>1172</th>\n",
       "      <td>5892</td>\n",
       "      <td>1</td>\n",
       "      <td>191.3</td>\n",
       "      <td>98</td>\n",
       "      <td>instock</td>\n",
       "      <td>116.06</td>\n",
       "      <td>14983</td>\n",
       "      <td>both</td>\n",
       "      <td>14983</td>\n",
       "      <td>0</td>\n",
       "      <td>...</td>\n",
       "      <td>coteaux-champenois-egly-ouriet-ambonnay-rouge-...</td>\n",
       "      <td>2020-04-01 09:30:09</td>\n",
       "      <td>2020-04-01 07:30:09</td>\n",
       "      <td>0.0</td>\n",
       "      <td>https://www.bottle-neck.fr/wp-content/uploads/...</td>\n",
       "      <td>0.0</td>\n",
       "      <td>attachment</td>\n",
       "      <td>image/jpeg</td>\n",
       "      <td>0.0</td>\n",
       "      <td>both</td>\n",
       "    </tr>\n",
       "    <tr>\n",
       "      <th>853</th>\n",
       "      <td>5001</td>\n",
       "      <td>1</td>\n",
       "      <td>217.5</td>\n",
       "      <td>18</td>\n",
       "      <td>instock</td>\n",
       "      <td>116.87</td>\n",
       "      <td>14581</td>\n",
       "      <td>both</td>\n",
       "      <td>14581</td>\n",
       "      <td>0</td>\n",
       "      <td>...</td>\n",
       "      <td>david-duband-charmes-chambertin-grand-cru-2014</td>\n",
       "      <td>2020-05-16 09:00:05</td>\n",
       "      <td>2020-05-16 07:00:05</td>\n",
       "      <td>0.0</td>\n",
       "      <td>https://www.bottle-neck.fr/?post_type=product&amp;...</td>\n",
       "      <td>0.0</td>\n",
       "      <td>product</td>\n",
       "      <td>NaN</td>\n",
       "      <td>0.0</td>\n",
       "      <td>both</td>\n",
       "    </tr>\n",
       "    <tr>\n",
       "      <th>852</th>\n",
       "      <td>5001</td>\n",
       "      <td>1</td>\n",
       "      <td>217.5</td>\n",
       "      <td>18</td>\n",
       "      <td>instock</td>\n",
       "      <td>116.87</td>\n",
       "      <td>14581</td>\n",
       "      <td>both</td>\n",
       "      <td>14581</td>\n",
       "      <td>0</td>\n",
       "      <td>...</td>\n",
       "      <td>david-duband-charmes-chambertin-grand-cru-2014</td>\n",
       "      <td>2020-05-16 09:00:05</td>\n",
       "      <td>2020-05-16 07:00:05</td>\n",
       "      <td>0.0</td>\n",
       "      <td>https://www.bottle-neck.fr/wp-content/uploads/...</td>\n",
       "      <td>0.0</td>\n",
       "      <td>attachment</td>\n",
       "      <td>image/jpeg</td>\n",
       "      <td>0.0</td>\n",
       "      <td>both</td>\n",
       "    </tr>\n",
       "    <tr>\n",
       "      <th>398</th>\n",
       "      <td>4352</td>\n",
       "      <td>1</td>\n",
       "      <td>225.0</td>\n",
       "      <td>0</td>\n",
       "      <td>outofstock</td>\n",
       "      <td>137.81</td>\n",
       "      <td>15940</td>\n",
       "      <td>both</td>\n",
       "      <td>15940</td>\n",
       "      <td>0</td>\n",
       "      <td>...</td>\n",
       "      <td>champagne-egly-ouriet-grand-cru-millesime-2008</td>\n",
       "      <td>2020-03-07 11:18:45</td>\n",
       "      <td>2020-03-07 10:18:45</td>\n",
       "      <td>0.0</td>\n",
       "      <td>https://www.bottle-neck.fr/wp-content/uploads/...</td>\n",
       "      <td>0.0</td>\n",
       "      <td>attachment</td>\n",
       "      <td>image/jpeg</td>\n",
       "      <td>0.0</td>\n",
       "      <td>both</td>\n",
       "    </tr>\n",
       "    <tr>\n",
       "      <th>399</th>\n",
       "      <td>4352</td>\n",
       "      <td>1</td>\n",
       "      <td>225.0</td>\n",
       "      <td>0</td>\n",
       "      <td>outofstock</td>\n",
       "      <td>137.81</td>\n",
       "      <td>15940</td>\n",
       "      <td>both</td>\n",
       "      <td>15940</td>\n",
       "      <td>0</td>\n",
       "      <td>...</td>\n",
       "      <td>champagne-egly-ouriet-grand-cru-millesime-2008</td>\n",
       "      <td>2020-03-07 11:18:45</td>\n",
       "      <td>2020-03-07 10:18:45</td>\n",
       "      <td>0.0</td>\n",
       "      <td>https://www.bottle-neck.fr/?post_type=product&amp;...</td>\n",
       "      <td>0.0</td>\n",
       "      <td>product</td>\n",
       "      <td>NaN</td>\n",
       "      <td>0.0</td>\n",
       "      <td>both</td>\n",
       "    </tr>\n",
       "  </tbody>\n",
       "</table>\n",
       "<p>5 rows × 34 columns</p>\n",
       "</div>"
      ],
      "text/plain": [
       "     product_id  onsale_web  price  stock_quantity stock_status  \\\n",
       "1172       5892           1  191.3              98      instock   \n",
       "853        5001           1  217.5              18      instock   \n",
       "852        5001           1  217.5              18      instock   \n",
       "398        4352           1  225.0               0   outofstock   \n",
       "399        4352           1  225.0               0   outofstock   \n",
       "\n",
       "      purchase_price id_web _merge    sku  virtual  ...  \\\n",
       "1172          116.06  14983   both  14983        0  ...   \n",
       "853           116.87  14581   both  14581        0  ...   \n",
       "852           116.87  14581   both  14581        0  ...   \n",
       "398           137.81  15940   both  15940        0  ...   \n",
       "399           137.81  15940   both  15940        0  ...   \n",
       "\n",
       "                                              post_name       post_modified  \\\n",
       "1172  coteaux-champenois-egly-ouriet-ambonnay-rouge-... 2020-04-01 09:30:09   \n",
       "853      david-duband-charmes-chambertin-grand-cru-2014 2020-05-16 09:00:05   \n",
       "852      david-duband-charmes-chambertin-grand-cru-2014 2020-05-16 09:00:05   \n",
       "398      champagne-egly-ouriet-grand-cru-millesime-2008 2020-03-07 11:18:45   \n",
       "399      champagne-egly-ouriet-grand-cru-millesime-2008 2020-03-07 11:18:45   \n",
       "\n",
       "       post_modified_gmt  post_parent  \\\n",
       "1172 2020-04-01 07:30:09          0.0   \n",
       "853  2020-05-16 07:00:05          0.0   \n",
       "852  2020-05-16 07:00:05          0.0   \n",
       "398  2020-03-07 10:18:45          0.0   \n",
       "399  2020-03-07 10:18:45          0.0   \n",
       "\n",
       "                                                   guid  menu_order  \\\n",
       "1172  https://www.bottle-neck.fr/wp-content/uploads/...         0.0   \n",
       "853   https://www.bottle-neck.fr/?post_type=product&...         0.0   \n",
       "852   https://www.bottle-neck.fr/wp-content/uploads/...         0.0   \n",
       "398   https://www.bottle-neck.fr/wp-content/uploads/...         0.0   \n",
       "399   https://www.bottle-neck.fr/?post_type=product&...         0.0   \n",
       "\n",
       "       post_type post_mime_type comment_count _merge2  \n",
       "1172  attachment     image/jpeg           0.0    both  \n",
       "853      product            NaN           0.0    both  \n",
       "852   attachment     image/jpeg           0.0    both  \n",
       "398   attachment     image/jpeg           0.0    both  \n",
       "399      product            NaN           0.0    both  \n",
       "\n",
       "[5 rows x 34 columns]"
      ]
     },
     "execution_count": 244,
     "metadata": {},
     "output_type": "execute_result"
    }
   ],
   "source": [
    "#Définissez le nombre d'articles et la proportion de l'ensemble du catalogue \"outliers\"\n",
    "df_merge2[df_merge2['price'] > 83.7].sort_values(by = ['price'], ascending= True).tail()"
   ]
  },
  {
   "cell_type": "code",
   "execution_count": 245,
   "id": "06138432",
   "metadata": {},
   "outputs": [
    {
     "name": "stdout",
     "output_type": "stream",
     "text": [
      "La médiane de df_erp['price'] est de 23.4\n"
     ]
    },
    {
     "data": {
      "text/html": [
       "<div>\n",
       "<style scoped>\n",
       "    .dataframe tbody tr th:only-of-type {\n",
       "        vertical-align: middle;\n",
       "    }\n",
       "\n",
       "    .dataframe tbody tr th {\n",
       "        vertical-align: top;\n",
       "    }\n",
       "\n",
       "    .dataframe thead th {\n",
       "        text-align: right;\n",
       "    }\n",
       "</style>\n",
       "<table border=\"1\" class=\"dataframe\">\n",
       "  <thead>\n",
       "    <tr style=\"text-align: right;\">\n",
       "      <th></th>\n",
       "      <th>product_id</th>\n",
       "      <th>onsale_web</th>\n",
       "      <th>price</th>\n",
       "      <th>stock_quantity</th>\n",
       "      <th>stock_status</th>\n",
       "      <th>purchase_price</th>\n",
       "      <th>id_web</th>\n",
       "      <th>_merge</th>\n",
       "      <th>sku</th>\n",
       "      <th>virtual</th>\n",
       "      <th>...</th>\n",
       "      <th>post_name</th>\n",
       "      <th>post_modified</th>\n",
       "      <th>post_modified_gmt</th>\n",
       "      <th>post_parent</th>\n",
       "      <th>guid</th>\n",
       "      <th>menu_order</th>\n",
       "      <th>post_type</th>\n",
       "      <th>post_mime_type</th>\n",
       "      <th>comment_count</th>\n",
       "      <th>_merge2</th>\n",
       "    </tr>\n",
       "  </thead>\n",
       "  <tbody>\n",
       "    <tr>\n",
       "      <th>4</th>\n",
       "      <td>3850</td>\n",
       "      <td>1</td>\n",
       "      <td>20.8</td>\n",
       "      <td>0</td>\n",
       "      <td>outofstock</td>\n",
       "      <td>10.64</td>\n",
       "      <td>15300</td>\n",
       "      <td>both</td>\n",
       "      <td>15300</td>\n",
       "      <td>0</td>\n",
       "      <td>...</td>\n",
       "      <td>pierre-jean-villa-croze-hermitage-accroche-coe...</td>\n",
       "      <td>2020-06-26 18:15:03</td>\n",
       "      <td>2020-06-26 16:15:03</td>\n",
       "      <td>0.0</td>\n",
       "      <td>https://www.bottle-neck.fr/wp-content/uploads/...</td>\n",
       "      <td>0.0</td>\n",
       "      <td>attachment</td>\n",
       "      <td>image/jpeg</td>\n",
       "      <td>0.0</td>\n",
       "      <td>both</td>\n",
       "    </tr>\n",
       "    <tr>\n",
       "      <th>5</th>\n",
       "      <td>3850</td>\n",
       "      <td>1</td>\n",
       "      <td>20.8</td>\n",
       "      <td>0</td>\n",
       "      <td>outofstock</td>\n",
       "      <td>10.64</td>\n",
       "      <td>15300</td>\n",
       "      <td>both</td>\n",
       "      <td>15300</td>\n",
       "      <td>0</td>\n",
       "      <td>...</td>\n",
       "      <td>pierre-jean-villa-croze-hermitage-accroche-coe...</td>\n",
       "      <td>2020-06-26 18:15:03</td>\n",
       "      <td>2020-06-26 16:15:03</td>\n",
       "      <td>0.0</td>\n",
       "      <td>https://www.bottle-neck.fr/?post_type=product&amp;...</td>\n",
       "      <td>0.0</td>\n",
       "      <td>product</td>\n",
       "      <td>NaN</td>\n",
       "      <td>0.0</td>\n",
       "      <td>both</td>\n",
       "    </tr>\n",
       "    <tr>\n",
       "      <th>6</th>\n",
       "      <td>4032</td>\n",
       "      <td>1</td>\n",
       "      <td>14.1</td>\n",
       "      <td>26</td>\n",
       "      <td>instock</td>\n",
       "      <td>6.92</td>\n",
       "      <td>19814</td>\n",
       "      <td>both</td>\n",
       "      <td>19814</td>\n",
       "      <td>0</td>\n",
       "      <td>...</td>\n",
       "      <td>pierre-jean-villa-igp-gamine-2018</td>\n",
       "      <td>2020-01-04 16:36:01</td>\n",
       "      <td>2020-01-04 15:36:01</td>\n",
       "      <td>0.0</td>\n",
       "      <td>https://www.bottle-neck.fr/wp-content/uploads/...</td>\n",
       "      <td>0.0</td>\n",
       "      <td>attachment</td>\n",
       "      <td>image/jpeg</td>\n",
       "      <td>0.0</td>\n",
       "      <td>both</td>\n",
       "    </tr>\n",
       "    <tr>\n",
       "      <th>7</th>\n",
       "      <td>4032</td>\n",
       "      <td>1</td>\n",
       "      <td>14.1</td>\n",
       "      <td>26</td>\n",
       "      <td>instock</td>\n",
       "      <td>6.92</td>\n",
       "      <td>19814</td>\n",
       "      <td>both</td>\n",
       "      <td>19814</td>\n",
       "      <td>0</td>\n",
       "      <td>...</td>\n",
       "      <td>pierre-jean-villa-igp-gamine-2018</td>\n",
       "      <td>2020-01-04 16:36:01</td>\n",
       "      <td>2020-01-04 15:36:01</td>\n",
       "      <td>0.0</td>\n",
       "      <td>https://www.bottle-neck.fr/?post_type=product&amp;...</td>\n",
       "      <td>0.0</td>\n",
       "      <td>product</td>\n",
       "      <td>NaN</td>\n",
       "      <td>0.0</td>\n",
       "      <td>both</td>\n",
       "    </tr>\n",
       "    <tr>\n",
       "      <th>22</th>\n",
       "      <td>4047</td>\n",
       "      <td>1</td>\n",
       "      <td>18.3</td>\n",
       "      <td>0</td>\n",
       "      <td>outofstock</td>\n",
       "      <td>9.93</td>\n",
       "      <td>14977</td>\n",
       "      <td>both</td>\n",
       "      <td>14977</td>\n",
       "      <td>0</td>\n",
       "      <td>...</td>\n",
       "      <td>pierre-gaillard-gendrines-2018</td>\n",
       "      <td>2020-08-27 09:30:07</td>\n",
       "      <td>2020-08-27 07:30:07</td>\n",
       "      <td>0.0</td>\n",
       "      <td>https://www.bottle-neck.fr/wp-content/uploads/...</td>\n",
       "      <td>0.0</td>\n",
       "      <td>attachment</td>\n",
       "      <td>image/jpeg</td>\n",
       "      <td>0.0</td>\n",
       "      <td>both</td>\n",
       "    </tr>\n",
       "  </tbody>\n",
       "</table>\n",
       "<p>5 rows × 34 columns</p>\n",
       "</div>"
      ],
      "text/plain": [
       "   product_id  onsale_web  price  stock_quantity stock_status  purchase_price  \\\n",
       "4        3850           1   20.8               0   outofstock           10.64   \n",
       "5        3850           1   20.8               0   outofstock           10.64   \n",
       "6        4032           1   14.1              26      instock            6.92   \n",
       "7        4032           1   14.1              26      instock            6.92   \n",
       "22       4047           1   18.3               0   outofstock            9.93   \n",
       "\n",
       "   id_web _merge    sku  virtual  ...  \\\n",
       "4   15300   both  15300        0  ...   \n",
       "5   15300   both  15300        0  ...   \n",
       "6   19814   both  19814        0  ...   \n",
       "7   19814   both  19814        0  ...   \n",
       "22  14977   both  14977        0  ...   \n",
       "\n",
       "                                            post_name       post_modified  \\\n",
       "4   pierre-jean-villa-croze-hermitage-accroche-coe... 2020-06-26 18:15:03   \n",
       "5   pierre-jean-villa-croze-hermitage-accroche-coe... 2020-06-26 18:15:03   \n",
       "6                   pierre-jean-villa-igp-gamine-2018 2020-01-04 16:36:01   \n",
       "7                   pierre-jean-villa-igp-gamine-2018 2020-01-04 16:36:01   \n",
       "22                     pierre-gaillard-gendrines-2018 2020-08-27 09:30:07   \n",
       "\n",
       "     post_modified_gmt  post_parent  \\\n",
       "4  2020-06-26 16:15:03          0.0   \n",
       "5  2020-06-26 16:15:03          0.0   \n",
       "6  2020-01-04 15:36:01          0.0   \n",
       "7  2020-01-04 15:36:01          0.0   \n",
       "22 2020-08-27 07:30:07          0.0   \n",
       "\n",
       "                                                 guid  menu_order   post_type  \\\n",
       "4   https://www.bottle-neck.fr/wp-content/uploads/...         0.0  attachment   \n",
       "5   https://www.bottle-neck.fr/?post_type=product&...         0.0     product   \n",
       "6   https://www.bottle-neck.fr/wp-content/uploads/...         0.0  attachment   \n",
       "7   https://www.bottle-neck.fr/?post_type=product&...         0.0     product   \n",
       "22  https://www.bottle-neck.fr/wp-content/uploads/...         0.0  attachment   \n",
       "\n",
       "   post_mime_type comment_count _merge2  \n",
       "4      image/jpeg           0.0    both  \n",
       "5             NaN           0.0    both  \n",
       "6      image/jpeg           0.0    both  \n",
       "7             NaN           0.0    both  \n",
       "22     image/jpeg           0.0    both  \n",
       "\n",
       "[5 rows x 34 columns]"
      ]
     },
     "metadata": {},
     "output_type": "display_data"
    },
    {
     "name": "stdout",
     "output_type": "stream",
     "text": [
      "La médiane de Q1 est de 13.95\n"
     ]
    },
    {
     "data": {
      "text/html": [
       "<div>\n",
       "<style scoped>\n",
       "    .dataframe tbody tr th:only-of-type {\n",
       "        vertical-align: middle;\n",
       "    }\n",
       "\n",
       "    .dataframe tbody tr th {\n",
       "        vertical-align: top;\n",
       "    }\n",
       "\n",
       "    .dataframe thead th {\n",
       "        text-align: right;\n",
       "    }\n",
       "</style>\n",
       "<table border=\"1\" class=\"dataframe\">\n",
       "  <thead>\n",
       "    <tr style=\"text-align: right;\">\n",
       "      <th></th>\n",
       "      <th>product_id</th>\n",
       "      <th>onsale_web</th>\n",
       "      <th>price</th>\n",
       "      <th>stock_quantity</th>\n",
       "      <th>stock_status</th>\n",
       "      <th>purchase_price</th>\n",
       "      <th>id_web</th>\n",
       "      <th>_merge</th>\n",
       "      <th>sku</th>\n",
       "      <th>virtual</th>\n",
       "      <th>...</th>\n",
       "      <th>post_name</th>\n",
       "      <th>post_modified</th>\n",
       "      <th>post_modified_gmt</th>\n",
       "      <th>post_parent</th>\n",
       "      <th>guid</th>\n",
       "      <th>menu_order</th>\n",
       "      <th>post_type</th>\n",
       "      <th>post_mime_type</th>\n",
       "      <th>comment_count</th>\n",
       "      <th>_merge2</th>\n",
       "    </tr>\n",
       "  </thead>\n",
       "  <tbody>\n",
       "    <tr>\n",
       "      <th>0</th>\n",
       "      <td>3847</td>\n",
       "      <td>1</td>\n",
       "      <td>24.2</td>\n",
       "      <td>16</td>\n",
       "      <td>instock</td>\n",
       "      <td>12.88</td>\n",
       "      <td>15298</td>\n",
       "      <td>both</td>\n",
       "      <td>15298</td>\n",
       "      <td>0</td>\n",
       "      <td>...</td>\n",
       "      <td>pierre-jean-villa-saint-joseph-preface-2018</td>\n",
       "      <td>2019-12-30 09:30:29</td>\n",
       "      <td>2019-12-30 08:30:29</td>\n",
       "      <td>0.0</td>\n",
       "      <td>https://www.bottle-neck.fr/?post_type=product&amp;...</td>\n",
       "      <td>0.0</td>\n",
       "      <td>product</td>\n",
       "      <td>NaN</td>\n",
       "      <td>0.0</td>\n",
       "      <td>both</td>\n",
       "    </tr>\n",
       "    <tr>\n",
       "      <th>1</th>\n",
       "      <td>3847</td>\n",
       "      <td>1</td>\n",
       "      <td>24.2</td>\n",
       "      <td>16</td>\n",
       "      <td>instock</td>\n",
       "      <td>12.88</td>\n",
       "      <td>15298</td>\n",
       "      <td>both</td>\n",
       "      <td>15298</td>\n",
       "      <td>0</td>\n",
       "      <td>...</td>\n",
       "      <td>pierre-jean-villa-saint-joseph-preface-2018</td>\n",
       "      <td>2019-12-30 09:30:29</td>\n",
       "      <td>2019-12-30 08:30:29</td>\n",
       "      <td>0.0</td>\n",
       "      <td>https://www.bottle-neck.fr/wp-content/uploads/...</td>\n",
       "      <td>0.0</td>\n",
       "      <td>attachment</td>\n",
       "      <td>image/jpeg</td>\n",
       "      <td>0.0</td>\n",
       "      <td>both</td>\n",
       "    </tr>\n",
       "    <tr>\n",
       "      <th>2</th>\n",
       "      <td>3849</td>\n",
       "      <td>1</td>\n",
       "      <td>34.3</td>\n",
       "      <td>10</td>\n",
       "      <td>instock</td>\n",
       "      <td>17.54</td>\n",
       "      <td>15296</td>\n",
       "      <td>both</td>\n",
       "      <td>15296</td>\n",
       "      <td>0</td>\n",
       "      <td>...</td>\n",
       "      <td>pierre-jean-villa-saint-joseph-tilde-2017</td>\n",
       "      <td>2019-12-21 09:00:17</td>\n",
       "      <td>2019-12-21 08:00:17</td>\n",
       "      <td>0.0</td>\n",
       "      <td>https://www.bottle-neck.fr/?post_type=product&amp;...</td>\n",
       "      <td>0.0</td>\n",
       "      <td>product</td>\n",
       "      <td>NaN</td>\n",
       "      <td>0.0</td>\n",
       "      <td>both</td>\n",
       "    </tr>\n",
       "    <tr>\n",
       "      <th>3</th>\n",
       "      <td>3849</td>\n",
       "      <td>1</td>\n",
       "      <td>34.3</td>\n",
       "      <td>10</td>\n",
       "      <td>instock</td>\n",
       "      <td>17.54</td>\n",
       "      <td>15296</td>\n",
       "      <td>both</td>\n",
       "      <td>15296</td>\n",
       "      <td>0</td>\n",
       "      <td>...</td>\n",
       "      <td>pierre-jean-villa-saint-joseph-tilde-2017</td>\n",
       "      <td>2019-12-21 09:00:17</td>\n",
       "      <td>2019-12-21 08:00:17</td>\n",
       "      <td>0.0</td>\n",
       "      <td>https://www.bottle-neck.fr/wp-content/uploads/...</td>\n",
       "      <td>0.0</td>\n",
       "      <td>attachment</td>\n",
       "      <td>image/jpeg</td>\n",
       "      <td>0.0</td>\n",
       "      <td>both</td>\n",
       "    </tr>\n",
       "    <tr>\n",
       "      <th>8</th>\n",
       "      <td>4039</td>\n",
       "      <td>1</td>\n",
       "      <td>46.0</td>\n",
       "      <td>3</td>\n",
       "      <td>instock</td>\n",
       "      <td>23.77</td>\n",
       "      <td>19815</td>\n",
       "      <td>both</td>\n",
       "      <td>19815</td>\n",
       "      <td>0</td>\n",
       "      <td>...</td>\n",
       "      <td>pierre-jean-villa-cote-rotie-carmina-2017</td>\n",
       "      <td>2020-01-04 16:36:10</td>\n",
       "      <td>2020-01-04 15:36:10</td>\n",
       "      <td>0.0</td>\n",
       "      <td>https://www.bottle-neck.fr/wp-content/uploads/...</td>\n",
       "      <td>0.0</td>\n",
       "      <td>attachment</td>\n",
       "      <td>image/jpeg</td>\n",
       "      <td>0.0</td>\n",
       "      <td>both</td>\n",
       "    </tr>\n",
       "  </tbody>\n",
       "</table>\n",
       "<p>5 rows × 34 columns</p>\n",
       "</div>"
      ],
      "text/plain": [
       "  product_id  onsale_web  price  stock_quantity stock_status  purchase_price  \\\n",
       "0       3847           1   24.2              16      instock           12.88   \n",
       "1       3847           1   24.2              16      instock           12.88   \n",
       "2       3849           1   34.3              10      instock           17.54   \n",
       "3       3849           1   34.3              10      instock           17.54   \n",
       "8       4039           1   46.0               3      instock           23.77   \n",
       "\n",
       "  id_web _merge    sku  virtual  ...  \\\n",
       "0  15298   both  15298        0  ...   \n",
       "1  15298   both  15298        0  ...   \n",
       "2  15296   both  15296        0  ...   \n",
       "3  15296   both  15296        0  ...   \n",
       "8  19815   both  19815        0  ...   \n",
       "\n",
       "                                     post_name       post_modified  \\\n",
       "0  pierre-jean-villa-saint-joseph-preface-2018 2019-12-30 09:30:29   \n",
       "1  pierre-jean-villa-saint-joseph-preface-2018 2019-12-30 09:30:29   \n",
       "2    pierre-jean-villa-saint-joseph-tilde-2017 2019-12-21 09:00:17   \n",
       "3    pierre-jean-villa-saint-joseph-tilde-2017 2019-12-21 09:00:17   \n",
       "8    pierre-jean-villa-cote-rotie-carmina-2017 2020-01-04 16:36:10   \n",
       "\n",
       "    post_modified_gmt  post_parent  \\\n",
       "0 2019-12-30 08:30:29          0.0   \n",
       "1 2019-12-30 08:30:29          0.0   \n",
       "2 2019-12-21 08:00:17          0.0   \n",
       "3 2019-12-21 08:00:17          0.0   \n",
       "8 2020-01-04 15:36:10          0.0   \n",
       "\n",
       "                                                guid  menu_order   post_type  \\\n",
       "0  https://www.bottle-neck.fr/?post_type=product&...         0.0     product   \n",
       "1  https://www.bottle-neck.fr/wp-content/uploads/...         0.0  attachment   \n",
       "2  https://www.bottle-neck.fr/?post_type=product&...         0.0     product   \n",
       "3  https://www.bottle-neck.fr/wp-content/uploads/...         0.0  attachment   \n",
       "8  https://www.bottle-neck.fr/wp-content/uploads/...         0.0  attachment   \n",
       "\n",
       "  post_mime_type comment_count _merge2  \n",
       "0            NaN           0.0    both  \n",
       "1     image/jpeg           0.0    both  \n",
       "2            NaN           0.0    both  \n",
       "3     image/jpeg           0.0    both  \n",
       "8     image/jpeg           0.0    both  \n",
       "\n",
       "[5 rows x 34 columns]"
      ]
     },
     "metadata": {},
     "output_type": "display_data"
    },
    {
     "name": "stdout",
     "output_type": "stream",
     "text": [
      "La médiane de Q3 est de 42.05\n",
      "L'IQR est de : 28.1\n"
     ]
    }
   ],
   "source": [
    "#Selon vous, ces outliers sont-ils justifiés ? Comment le démontrer si cela est possible ?\n",
    "#### Soit par la méthode qu'on vient d'utiliser lecture du graphique boxplot ou alors par la méthode de l'intervalle interquartile : Q3 - Q1\n",
    "#### Q1 = médiane des prix inférieur à la médiane \n",
    "#### Q2 = médiane des prix\n",
    "#### Q3 = médiane des prix supérieur à la médiane \n",
    "median_prix_q2 = df_merge2['price'].median()\n",
    "print(\"La médiane de df_erp['price'] est de\",median_prix_q2)\n",
    "ligne_q1 = df_merge2[df_merge2['price'] < median_prix_q2]\n",
    "display(ligne_q1.head())\n",
    "mediane_q1 = ligne_q1['price'].median()\n",
    "print('La médiane de Q1 est de', mediane_q1)\n",
    "ligne_q3 = df_merge2[df_merge2['price'] > median_prix_q2]\n",
    "display(ligne_q3.head())\n",
    "mediane_q3 = ligne_q3['price'].median()\n",
    "print('La médiane de Q3 est de', mediane_q3)\n",
    "iqr_price = mediane_q3 - mediane_q1\n",
    "print(\"L'IQR est de :\", round(iqr_price,2))\n"
   ]
  },
  {
   "cell_type": "markdown",
   "id": "640da2c8",
   "metadata": {},
   "source": [
    "<div style=\"background-color: RGB(51,165,182);\" >\n",
    "<h2 style=\"margin: auto; padding: 20px; color:#fff; \">Etape 5 - Analyse univarié du CA, des quantités vendues, des stocks et de la marge ainsi qu'une analyse multivarié  </h2>\n",
    "</div>"
   ]
  },
  {
   "cell_type": "markdown",
   "id": "5871c808",
   "metadata": {},
   "source": [
    "<div style=\"border: 1px solid RGB(51,165,182);\" >\n",
    "<h3 style=\"margin: auto; padding: 20px; color: RGB(51,165,182); \">Etape 5.1 - Analyse des ventes en CA</h3>\n",
    "</div>"
   ]
  },
  {
   "cell_type": "code",
   "execution_count": 246,
   "id": "da0d5834",
   "metadata": {},
   "outputs": [
    {
     "data": {
      "text/html": [
       "<div>\n",
       "<style scoped>\n",
       "    .dataframe tbody tr th:only-of-type {\n",
       "        vertical-align: middle;\n",
       "    }\n",
       "\n",
       "    .dataframe tbody tr th {\n",
       "        vertical-align: top;\n",
       "    }\n",
       "\n",
       "    .dataframe thead th {\n",
       "        text-align: right;\n",
       "    }\n",
       "</style>\n",
       "<table border=\"1\" class=\"dataframe\">\n",
       "  <thead>\n",
       "    <tr style=\"text-align: right;\">\n",
       "      <th></th>\n",
       "      <th>product_id</th>\n",
       "      <th>onsale_web</th>\n",
       "      <th>price</th>\n",
       "      <th>stock_quantity</th>\n",
       "      <th>stock_status</th>\n",
       "      <th>purchase_price</th>\n",
       "      <th>id_web</th>\n",
       "      <th>_merge</th>\n",
       "      <th>sku</th>\n",
       "      <th>virtual</th>\n",
       "      <th>...</th>\n",
       "      <th>post_modified</th>\n",
       "      <th>post_modified_gmt</th>\n",
       "      <th>post_parent</th>\n",
       "      <th>guid</th>\n",
       "      <th>menu_order</th>\n",
       "      <th>post_type</th>\n",
       "      <th>post_mime_type</th>\n",
       "      <th>comment_count</th>\n",
       "      <th>_merge2</th>\n",
       "      <th>ca_par_article</th>\n",
       "    </tr>\n",
       "  </thead>\n",
       "  <tbody>\n",
       "    <tr>\n",
       "      <th>0</th>\n",
       "      <td>3847</td>\n",
       "      <td>1</td>\n",
       "      <td>24.2</td>\n",
       "      <td>16</td>\n",
       "      <td>instock</td>\n",
       "      <td>12.88</td>\n",
       "      <td>15298</td>\n",
       "      <td>both</td>\n",
       "      <td>15298</td>\n",
       "      <td>0</td>\n",
       "      <td>...</td>\n",
       "      <td>2019-12-30 09:30:29</td>\n",
       "      <td>2019-12-30 08:30:29</td>\n",
       "      <td>0.0</td>\n",
       "      <td>https://www.bottle-neck.fr/?post_type=product&amp;...</td>\n",
       "      <td>0.0</td>\n",
       "      <td>product</td>\n",
       "      <td>NaN</td>\n",
       "      <td>0.0</td>\n",
       "      <td>both</td>\n",
       "      <td>145.2</td>\n",
       "    </tr>\n",
       "    <tr>\n",
       "      <th>1</th>\n",
       "      <td>3847</td>\n",
       "      <td>1</td>\n",
       "      <td>24.2</td>\n",
       "      <td>16</td>\n",
       "      <td>instock</td>\n",
       "      <td>12.88</td>\n",
       "      <td>15298</td>\n",
       "      <td>both</td>\n",
       "      <td>15298</td>\n",
       "      <td>0</td>\n",
       "      <td>...</td>\n",
       "      <td>2019-12-30 09:30:29</td>\n",
       "      <td>2019-12-30 08:30:29</td>\n",
       "      <td>0.0</td>\n",
       "      <td>https://www.bottle-neck.fr/wp-content/uploads/...</td>\n",
       "      <td>0.0</td>\n",
       "      <td>attachment</td>\n",
       "      <td>image/jpeg</td>\n",
       "      <td>0.0</td>\n",
       "      <td>both</td>\n",
       "      <td>145.2</td>\n",
       "    </tr>\n",
       "    <tr>\n",
       "      <th>2</th>\n",
       "      <td>3849</td>\n",
       "      <td>1</td>\n",
       "      <td>34.3</td>\n",
       "      <td>10</td>\n",
       "      <td>instock</td>\n",
       "      <td>17.54</td>\n",
       "      <td>15296</td>\n",
       "      <td>both</td>\n",
       "      <td>15296</td>\n",
       "      <td>0</td>\n",
       "      <td>...</td>\n",
       "      <td>2019-12-21 09:00:17</td>\n",
       "      <td>2019-12-21 08:00:17</td>\n",
       "      <td>0.0</td>\n",
       "      <td>https://www.bottle-neck.fr/?post_type=product&amp;...</td>\n",
       "      <td>0.0</td>\n",
       "      <td>product</td>\n",
       "      <td>NaN</td>\n",
       "      <td>0.0</td>\n",
       "      <td>both</td>\n",
       "      <td>308.7</td>\n",
       "    </tr>\n",
       "    <tr>\n",
       "      <th>3</th>\n",
       "      <td>3849</td>\n",
       "      <td>1</td>\n",
       "      <td>34.3</td>\n",
       "      <td>10</td>\n",
       "      <td>instock</td>\n",
       "      <td>17.54</td>\n",
       "      <td>15296</td>\n",
       "      <td>both</td>\n",
       "      <td>15296</td>\n",
       "      <td>0</td>\n",
       "      <td>...</td>\n",
       "      <td>2019-12-21 09:00:17</td>\n",
       "      <td>2019-12-21 08:00:17</td>\n",
       "      <td>0.0</td>\n",
       "      <td>https://www.bottle-neck.fr/wp-content/uploads/...</td>\n",
       "      <td>0.0</td>\n",
       "      <td>attachment</td>\n",
       "      <td>image/jpeg</td>\n",
       "      <td>0.0</td>\n",
       "      <td>both</td>\n",
       "      <td>308.7</td>\n",
       "    </tr>\n",
       "    <tr>\n",
       "      <th>4</th>\n",
       "      <td>3850</td>\n",
       "      <td>1</td>\n",
       "      <td>20.8</td>\n",
       "      <td>0</td>\n",
       "      <td>outofstock</td>\n",
       "      <td>10.64</td>\n",
       "      <td>15300</td>\n",
       "      <td>both</td>\n",
       "      <td>15300</td>\n",
       "      <td>0</td>\n",
       "      <td>...</td>\n",
       "      <td>2020-06-26 18:15:03</td>\n",
       "      <td>2020-06-26 16:15:03</td>\n",
       "      <td>0.0</td>\n",
       "      <td>https://www.bottle-neck.fr/wp-content/uploads/...</td>\n",
       "      <td>0.0</td>\n",
       "      <td>attachment</td>\n",
       "      <td>image/jpeg</td>\n",
       "      <td>0.0</td>\n",
       "      <td>both</td>\n",
       "      <td>0.0</td>\n",
       "    </tr>\n",
       "  </tbody>\n",
       "</table>\n",
       "<p>5 rows × 35 columns</p>\n",
       "</div>"
      ],
      "text/plain": [
       "  product_id  onsale_web  price  stock_quantity stock_status  purchase_price  \\\n",
       "0       3847           1   24.2              16      instock           12.88   \n",
       "1       3847           1   24.2              16      instock           12.88   \n",
       "2       3849           1   34.3              10      instock           17.54   \n",
       "3       3849           1   34.3              10      instock           17.54   \n",
       "4       3850           1   20.8               0   outofstock           10.64   \n",
       "\n",
       "  id_web _merge    sku  virtual  ...       post_modified   post_modified_gmt  \\\n",
       "0  15298   both  15298        0  ... 2019-12-30 09:30:29 2019-12-30 08:30:29   \n",
       "1  15298   both  15298        0  ... 2019-12-30 09:30:29 2019-12-30 08:30:29   \n",
       "2  15296   both  15296        0  ... 2019-12-21 09:00:17 2019-12-21 08:00:17   \n",
       "3  15296   both  15296        0  ... 2019-12-21 09:00:17 2019-12-21 08:00:17   \n",
       "4  15300   both  15300        0  ... 2020-06-26 18:15:03 2020-06-26 16:15:03   \n",
       "\n",
       "   post_parent                                               guid menu_order  \\\n",
       "0          0.0  https://www.bottle-neck.fr/?post_type=product&...        0.0   \n",
       "1          0.0  https://www.bottle-neck.fr/wp-content/uploads/...        0.0   \n",
       "2          0.0  https://www.bottle-neck.fr/?post_type=product&...        0.0   \n",
       "3          0.0  https://www.bottle-neck.fr/wp-content/uploads/...        0.0   \n",
       "4          0.0  https://www.bottle-neck.fr/wp-content/uploads/...        0.0   \n",
       "\n",
       "    post_type post_mime_type comment_count _merge2 ca_par_article  \n",
       "0     product            NaN           0.0    both          145.2  \n",
       "1  attachment     image/jpeg           0.0    both          145.2  \n",
       "2     product            NaN           0.0    both          308.7  \n",
       "3  attachment     image/jpeg           0.0    both          308.7  \n",
       "4  attachment     image/jpeg           0.0    both            0.0  \n",
       "\n",
       "[5 rows x 35 columns]"
      ]
     },
     "metadata": {},
     "output_type": "display_data"
    },
    {
     "name": "stdout",
     "output_type": "stream",
     "text": [
      "La CA du site web est de 296716.2\n"
     ]
    }
   ],
   "source": [
    "##############################\n",
    "# Calculer le CA su site web #\n",
    "##############################\n",
    "\n",
    "#Créez une colonne calculant le CA par article\n",
    "df_merge2['ca_par_article'] = df_merge2['price'] * df_merge2['total_sales']\n",
    "display(df_merge2.head())\n",
    "#Calculez la somme de la colonne \"ca_par_article\"\n",
    "#Ce résultat correspond au chiffre d'affaire du site web\n",
    "ca_site_web = round(df_merge2['ca_par_article'].sum(), 2)\n",
    "print('La CA du site web est de', ca_site_web)"
   ]
  },
  {
   "cell_type": "code",
   "execution_count": 247,
   "id": "4040ced7",
   "metadata": {},
   "outputs": [
    {
     "data": {
      "text/html": [
       "<div>\n",
       "<style scoped>\n",
       "    .dataframe tbody tr th:only-of-type {\n",
       "        vertical-align: middle;\n",
       "    }\n",
       "\n",
       "    .dataframe tbody tr th {\n",
       "        vertical-align: top;\n",
       "    }\n",
       "\n",
       "    .dataframe thead th {\n",
       "        text-align: right;\n",
       "    }\n",
       "</style>\n",
       "<table border=\"1\" class=\"dataframe\">\n",
       "  <thead>\n",
       "    <tr style=\"text-align: right;\">\n",
       "      <th></th>\n",
       "      <th>product_id</th>\n",
       "      <th>onsale_web</th>\n",
       "      <th>price</th>\n",
       "      <th>stock_quantity</th>\n",
       "      <th>stock_status</th>\n",
       "      <th>purchase_price</th>\n",
       "      <th>id_web</th>\n",
       "      <th>_merge</th>\n",
       "      <th>sku</th>\n",
       "      <th>virtual</th>\n",
       "      <th>...</th>\n",
       "      <th>post_modified</th>\n",
       "      <th>post_modified_gmt</th>\n",
       "      <th>post_parent</th>\n",
       "      <th>guid</th>\n",
       "      <th>menu_order</th>\n",
       "      <th>post_type</th>\n",
       "      <th>post_mime_type</th>\n",
       "      <th>comment_count</th>\n",
       "      <th>_merge2</th>\n",
       "      <th>ca_par_article</th>\n",
       "    </tr>\n",
       "  </thead>\n",
       "  <tbody>\n",
       "    <tr>\n",
       "      <th>152</th>\n",
       "      <td>4150</td>\n",
       "      <td>1</td>\n",
       "      <td>59.0</td>\n",
       "      <td>123</td>\n",
       "      <td>instock</td>\n",
       "      <td>35.45</td>\n",
       "      <td>1366</td>\n",
       "      <td>both</td>\n",
       "      <td>1366</td>\n",
       "      <td>0</td>\n",
       "      <td>...</td>\n",
       "      <td>2020-08-26 18:05:02</td>\n",
       "      <td>2020-08-26 16:05:02</td>\n",
       "      <td>0.0</td>\n",
       "      <td>https://www.bottle-neck.fr/wp-content/uploads/...</td>\n",
       "      <td>0.0</td>\n",
       "      <td>attachment</td>\n",
       "      <td>image/jpeg</td>\n",
       "      <td>0.0</td>\n",
       "      <td>both</td>\n",
       "      <td>6844.0</td>\n",
       "    </tr>\n",
       "    <tr>\n",
       "      <th>399</th>\n",
       "      <td>4352</td>\n",
       "      <td>1</td>\n",
       "      <td>225.0</td>\n",
       "      <td>0</td>\n",
       "      <td>outofstock</td>\n",
       "      <td>137.81</td>\n",
       "      <td>15940</td>\n",
       "      <td>both</td>\n",
       "      <td>15940</td>\n",
       "      <td>0</td>\n",
       "      <td>...</td>\n",
       "      <td>2020-03-07 11:18:45</td>\n",
       "      <td>2020-03-07 10:18:45</td>\n",
       "      <td>0.0</td>\n",
       "      <td>https://www.bottle-neck.fr/?post_type=product&amp;...</td>\n",
       "      <td>0.0</td>\n",
       "      <td>product</td>\n",
       "      <td>NaN</td>\n",
       "      <td>0.0</td>\n",
       "      <td>both</td>\n",
       "      <td>2475.0</td>\n",
       "    </tr>\n",
       "    <tr>\n",
       "      <th>398</th>\n",
       "      <td>4352</td>\n",
       "      <td>1</td>\n",
       "      <td>225.0</td>\n",
       "      <td>0</td>\n",
       "      <td>outofstock</td>\n",
       "      <td>137.81</td>\n",
       "      <td>15940</td>\n",
       "      <td>both</td>\n",
       "      <td>15940</td>\n",
       "      <td>0</td>\n",
       "      <td>...</td>\n",
       "      <td>2020-03-07 11:18:45</td>\n",
       "      <td>2020-03-07 10:18:45</td>\n",
       "      <td>0.0</td>\n",
       "      <td>https://www.bottle-neck.fr/wp-content/uploads/...</td>\n",
       "      <td>0.0</td>\n",
       "      <td>attachment</td>\n",
       "      <td>image/jpeg</td>\n",
       "      <td>0.0</td>\n",
       "      <td>both</td>\n",
       "      <td>2475.0</td>\n",
       "    </tr>\n",
       "    <tr>\n",
       "      <th>642</th>\n",
       "      <td>4726</td>\n",
       "      <td>1</td>\n",
       "      <td>12.7</td>\n",
       "      <td>0</td>\n",
       "      <td>outofstock</td>\n",
       "      <td>6.82</td>\n",
       "      <td>14950</td>\n",
       "      <td>both</td>\n",
       "      <td>14950</td>\n",
       "      <td>0</td>\n",
       "      <td>...</td>\n",
       "      <td>2020-05-06 11:35:01</td>\n",
       "      <td>2020-05-06 09:35:01</td>\n",
       "      <td>0.0</td>\n",
       "      <td>https://www.bottle-neck.fr/wp-content/uploads/...</td>\n",
       "      <td>0.0</td>\n",
       "      <td>attachment</td>\n",
       "      <td>image/jpeg</td>\n",
       "      <td>0.0</td>\n",
       "      <td>both</td>\n",
       "      <td>1549.4</td>\n",
       "    </tr>\n",
       "    <tr>\n",
       "      <th>890</th>\n",
       "      <td>5067</td>\n",
       "      <td>1</td>\n",
       "      <td>59.9</td>\n",
       "      <td>3</td>\n",
       "      <td>instock</td>\n",
       "      <td>30.95</td>\n",
       "      <td>15346</td>\n",
       "      <td>both</td>\n",
       "      <td>15346</td>\n",
       "      <td>0</td>\n",
       "      <td>...</td>\n",
       "      <td>2020-02-13 17:00:01</td>\n",
       "      <td>2020-02-13 16:00:01</td>\n",
       "      <td>0.0</td>\n",
       "      <td>https://www.bottle-neck.fr/wp-content/uploads/...</td>\n",
       "      <td>0.0</td>\n",
       "      <td>attachment</td>\n",
       "      <td>image/jpeg</td>\n",
       "      <td>0.0</td>\n",
       "      <td>both</td>\n",
       "      <td>1317.8</td>\n",
       "    </tr>\n",
       "  </tbody>\n",
       "</table>\n",
       "<p>5 rows × 35 columns</p>\n",
       "</div>"
      ],
      "text/plain": [
       "    product_id  onsale_web  price  stock_quantity stock_status  \\\n",
       "152       4150           1   59.0             123      instock   \n",
       "399       4352           1  225.0               0   outofstock   \n",
       "398       4352           1  225.0               0   outofstock   \n",
       "642       4726           1   12.7               0   outofstock   \n",
       "890       5067           1   59.9               3      instock   \n",
       "\n",
       "     purchase_price id_web _merge    sku  virtual  ...       post_modified  \\\n",
       "152           35.45   1366   both   1366        0  ... 2020-08-26 18:05:02   \n",
       "399          137.81  15940   both  15940        0  ... 2020-03-07 11:18:45   \n",
       "398          137.81  15940   both  15940        0  ... 2020-03-07 11:18:45   \n",
       "642            6.82  14950   both  14950        0  ... 2020-05-06 11:35:01   \n",
       "890           30.95  15346   both  15346        0  ... 2020-02-13 17:00:01   \n",
       "\n",
       "      post_modified_gmt  post_parent  \\\n",
       "152 2020-08-26 16:05:02          0.0   \n",
       "399 2020-03-07 10:18:45          0.0   \n",
       "398 2020-03-07 10:18:45          0.0   \n",
       "642 2020-05-06 09:35:01          0.0   \n",
       "890 2020-02-13 16:00:01          0.0   \n",
       "\n",
       "                                                  guid menu_order   post_type  \\\n",
       "152  https://www.bottle-neck.fr/wp-content/uploads/...        0.0  attachment   \n",
       "399  https://www.bottle-neck.fr/?post_type=product&...        0.0     product   \n",
       "398  https://www.bottle-neck.fr/wp-content/uploads/...        0.0  attachment   \n",
       "642  https://www.bottle-neck.fr/wp-content/uploads/...        0.0  attachment   \n",
       "890  https://www.bottle-neck.fr/wp-content/uploads/...        0.0  attachment   \n",
       "\n",
       "    post_mime_type comment_count _merge2 ca_par_article  \n",
       "152     image/jpeg           0.0    both         6844.0  \n",
       "399            NaN           0.0    both         2475.0  \n",
       "398     image/jpeg           0.0    both         2475.0  \n",
       "642     image/jpeg           0.0    both         1549.4  \n",
       "890     image/jpeg           0.0    both         1317.8  \n",
       "\n",
       "[5 rows x 35 columns]"
      ]
     },
     "metadata": {},
     "output_type": "display_data"
    },
    {
     "data": {
      "text/html": [
       "<div>\n",
       "<style scoped>\n",
       "    .dataframe tbody tr th:only-of-type {\n",
       "        vertical-align: middle;\n",
       "    }\n",
       "\n",
       "    .dataframe tbody tr th {\n",
       "        vertical-align: top;\n",
       "    }\n",
       "\n",
       "    .dataframe thead th {\n",
       "        text-align: right;\n",
       "    }\n",
       "</style>\n",
       "<table border=\"1\" class=\"dataframe\">\n",
       "  <thead>\n",
       "    <tr style=\"text-align: right;\">\n",
       "      <th></th>\n",
       "      <th>index</th>\n",
       "      <th>product_id</th>\n",
       "      <th>onsale_web</th>\n",
       "      <th>price</th>\n",
       "      <th>stock_quantity</th>\n",
       "      <th>stock_status</th>\n",
       "      <th>purchase_price</th>\n",
       "      <th>id_web</th>\n",
       "      <th>_merge</th>\n",
       "      <th>sku</th>\n",
       "      <th>...</th>\n",
       "      <th>post_modified</th>\n",
       "      <th>post_modified_gmt</th>\n",
       "      <th>post_parent</th>\n",
       "      <th>guid</th>\n",
       "      <th>menu_order</th>\n",
       "      <th>post_type</th>\n",
       "      <th>post_mime_type</th>\n",
       "      <th>comment_count</th>\n",
       "      <th>_merge2</th>\n",
       "      <th>ca_par_article</th>\n",
       "    </tr>\n",
       "  </thead>\n",
       "  <tbody>\n",
       "    <tr>\n",
       "      <th>0</th>\n",
       "      <td>152</td>\n",
       "      <td>4150</td>\n",
       "      <td>1</td>\n",
       "      <td>59.0</td>\n",
       "      <td>123</td>\n",
       "      <td>instock</td>\n",
       "      <td>35.45</td>\n",
       "      <td>1366</td>\n",
       "      <td>both</td>\n",
       "      <td>1366</td>\n",
       "      <td>...</td>\n",
       "      <td>2020-08-26 18:05:02</td>\n",
       "      <td>2020-08-26 16:05:02</td>\n",
       "      <td>0.0</td>\n",
       "      <td>https://www.bottle-neck.fr/wp-content/uploads/...</td>\n",
       "      <td>0.0</td>\n",
       "      <td>attachment</td>\n",
       "      <td>image/jpeg</td>\n",
       "      <td>0.0</td>\n",
       "      <td>both</td>\n",
       "      <td>6844.0</td>\n",
       "    </tr>\n",
       "    <tr>\n",
       "      <th>1</th>\n",
       "      <td>399</td>\n",
       "      <td>4352</td>\n",
       "      <td>1</td>\n",
       "      <td>225.0</td>\n",
       "      <td>0</td>\n",
       "      <td>outofstock</td>\n",
       "      <td>137.81</td>\n",
       "      <td>15940</td>\n",
       "      <td>both</td>\n",
       "      <td>15940</td>\n",
       "      <td>...</td>\n",
       "      <td>2020-03-07 11:18:45</td>\n",
       "      <td>2020-03-07 10:18:45</td>\n",
       "      <td>0.0</td>\n",
       "      <td>https://www.bottle-neck.fr/?post_type=product&amp;...</td>\n",
       "      <td>0.0</td>\n",
       "      <td>product</td>\n",
       "      <td>NaN</td>\n",
       "      <td>0.0</td>\n",
       "      <td>both</td>\n",
       "      <td>2475.0</td>\n",
       "    </tr>\n",
       "    <tr>\n",
       "      <th>2</th>\n",
       "      <td>398</td>\n",
       "      <td>4352</td>\n",
       "      <td>1</td>\n",
       "      <td>225.0</td>\n",
       "      <td>0</td>\n",
       "      <td>outofstock</td>\n",
       "      <td>137.81</td>\n",
       "      <td>15940</td>\n",
       "      <td>both</td>\n",
       "      <td>15940</td>\n",
       "      <td>...</td>\n",
       "      <td>2020-03-07 11:18:45</td>\n",
       "      <td>2020-03-07 10:18:45</td>\n",
       "      <td>0.0</td>\n",
       "      <td>https://www.bottle-neck.fr/wp-content/uploads/...</td>\n",
       "      <td>0.0</td>\n",
       "      <td>attachment</td>\n",
       "      <td>image/jpeg</td>\n",
       "      <td>0.0</td>\n",
       "      <td>both</td>\n",
       "      <td>2475.0</td>\n",
       "    </tr>\n",
       "    <tr>\n",
       "      <th>3</th>\n",
       "      <td>642</td>\n",
       "      <td>4726</td>\n",
       "      <td>1</td>\n",
       "      <td>12.7</td>\n",
       "      <td>0</td>\n",
       "      <td>outofstock</td>\n",
       "      <td>6.82</td>\n",
       "      <td>14950</td>\n",
       "      <td>both</td>\n",
       "      <td>14950</td>\n",
       "      <td>...</td>\n",
       "      <td>2020-05-06 11:35:01</td>\n",
       "      <td>2020-05-06 09:35:01</td>\n",
       "      <td>0.0</td>\n",
       "      <td>https://www.bottle-neck.fr/wp-content/uploads/...</td>\n",
       "      <td>0.0</td>\n",
       "      <td>attachment</td>\n",
       "      <td>image/jpeg</td>\n",
       "      <td>0.0</td>\n",
       "      <td>both</td>\n",
       "      <td>1549.4</td>\n",
       "    </tr>\n",
       "    <tr>\n",
       "      <th>4</th>\n",
       "      <td>890</td>\n",
       "      <td>5067</td>\n",
       "      <td>1</td>\n",
       "      <td>59.9</td>\n",
       "      <td>3</td>\n",
       "      <td>instock</td>\n",
       "      <td>30.95</td>\n",
       "      <td>15346</td>\n",
       "      <td>both</td>\n",
       "      <td>15346</td>\n",
       "      <td>...</td>\n",
       "      <td>2020-02-13 17:00:01</td>\n",
       "      <td>2020-02-13 16:00:01</td>\n",
       "      <td>0.0</td>\n",
       "      <td>https://www.bottle-neck.fr/wp-content/uploads/...</td>\n",
       "      <td>0.0</td>\n",
       "      <td>attachment</td>\n",
       "      <td>image/jpeg</td>\n",
       "      <td>0.0</td>\n",
       "      <td>both</td>\n",
       "      <td>1317.8</td>\n",
       "    </tr>\n",
       "  </tbody>\n",
       "</table>\n",
       "<p>5 rows × 36 columns</p>\n",
       "</div>"
      ],
      "text/plain": [
       "   index product_id  onsale_web  price  stock_quantity stock_status  \\\n",
       "0    152       4150           1   59.0             123      instock   \n",
       "1    399       4352           1  225.0               0   outofstock   \n",
       "2    398       4352           1  225.0               0   outofstock   \n",
       "3    642       4726           1   12.7               0   outofstock   \n",
       "4    890       5067           1   59.9               3      instock   \n",
       "\n",
       "   purchase_price id_web _merge    sku  ...       post_modified  \\\n",
       "0           35.45   1366   both   1366  ... 2020-08-26 18:05:02   \n",
       "1          137.81  15940   both  15940  ... 2020-03-07 11:18:45   \n",
       "2          137.81  15940   both  15940  ... 2020-03-07 11:18:45   \n",
       "3            6.82  14950   both  14950  ... 2020-05-06 11:35:01   \n",
       "4           30.95  15346   both  15346  ... 2020-02-13 17:00:01   \n",
       "\n",
       "    post_modified_gmt  post_parent  \\\n",
       "0 2020-08-26 16:05:02          0.0   \n",
       "1 2020-03-07 10:18:45          0.0   \n",
       "2 2020-03-07 10:18:45          0.0   \n",
       "3 2020-05-06 09:35:01          0.0   \n",
       "4 2020-02-13 16:00:01          0.0   \n",
       "\n",
       "                                                guid  menu_order   post_type  \\\n",
       "0  https://www.bottle-neck.fr/wp-content/uploads/...         0.0  attachment   \n",
       "1  https://www.bottle-neck.fr/?post_type=product&...         0.0     product   \n",
       "2  https://www.bottle-neck.fr/wp-content/uploads/...         0.0  attachment   \n",
       "3  https://www.bottle-neck.fr/wp-content/uploads/...         0.0  attachment   \n",
       "4  https://www.bottle-neck.fr/wp-content/uploads/...         0.0  attachment   \n",
       "\n",
       "   post_mime_type comment_count _merge2 ca_par_article  \n",
       "0      image/jpeg           0.0    both         6844.0  \n",
       "1             NaN           0.0    both         2475.0  \n",
       "2      image/jpeg           0.0    both         2475.0  \n",
       "3      image/jpeg           0.0    both         1549.4  \n",
       "4      image/jpeg           0.0    both         1317.8  \n",
       "\n",
       "[5 rows x 36 columns]"
      ]
     },
     "metadata": {},
     "output_type": "display_data"
    },
    {
     "data": {
      "text/html": [
       "<div>\n",
       "<style scoped>\n",
       "    .dataframe tbody tr th:only-of-type {\n",
       "        vertical-align: middle;\n",
       "    }\n",
       "\n",
       "    .dataframe tbody tr th {\n",
       "        vertical-align: top;\n",
       "    }\n",
       "\n",
       "    .dataframe thead th {\n",
       "        text-align: right;\n",
       "    }\n",
       "</style>\n",
       "<table border=\"1\" class=\"dataframe\">\n",
       "  <thead>\n",
       "    <tr style=\"text-align: right;\">\n",
       "      <th></th>\n",
       "      <th>index</th>\n",
       "      <th>product_id</th>\n",
       "      <th>onsale_web</th>\n",
       "      <th>price</th>\n",
       "      <th>stock_quantity</th>\n",
       "      <th>stock_status</th>\n",
       "      <th>purchase_price</th>\n",
       "      <th>id_web</th>\n",
       "      <th>_merge</th>\n",
       "      <th>sku</th>\n",
       "      <th>...</th>\n",
       "      <th>post_modified</th>\n",
       "      <th>post_modified_gmt</th>\n",
       "      <th>post_parent</th>\n",
       "      <th>guid</th>\n",
       "      <th>menu_order</th>\n",
       "      <th>post_type</th>\n",
       "      <th>post_mime_type</th>\n",
       "      <th>comment_count</th>\n",
       "      <th>_merge2</th>\n",
       "      <th>ca_par_article</th>\n",
       "    </tr>\n",
       "  </thead>\n",
       "  <tbody>\n",
       "    <tr>\n",
       "      <th>0</th>\n",
       "      <td>152</td>\n",
       "      <td>4150</td>\n",
       "      <td>1</td>\n",
       "      <td>59.0</td>\n",
       "      <td>123</td>\n",
       "      <td>instock</td>\n",
       "      <td>35.45</td>\n",
       "      <td>1366</td>\n",
       "      <td>both</td>\n",
       "      <td>1366</td>\n",
       "      <td>...</td>\n",
       "      <td>2020-08-26 18:05:02</td>\n",
       "      <td>2020-08-26 16:05:02</td>\n",
       "      <td>0.0</td>\n",
       "      <td>https://www.bottle-neck.fr/wp-content/uploads/...</td>\n",
       "      <td>0.0</td>\n",
       "      <td>attachment</td>\n",
       "      <td>image/jpeg</td>\n",
       "      <td>0.0</td>\n",
       "      <td>both</td>\n",
       "      <td>6844.0</td>\n",
       "    </tr>\n",
       "    <tr>\n",
       "      <th>1</th>\n",
       "      <td>399</td>\n",
       "      <td>4352</td>\n",
       "      <td>1</td>\n",
       "      <td>225.0</td>\n",
       "      <td>0</td>\n",
       "      <td>outofstock</td>\n",
       "      <td>137.81</td>\n",
       "      <td>15940</td>\n",
       "      <td>both</td>\n",
       "      <td>15940</td>\n",
       "      <td>...</td>\n",
       "      <td>2020-03-07 11:18:45</td>\n",
       "      <td>2020-03-07 10:18:45</td>\n",
       "      <td>0.0</td>\n",
       "      <td>https://www.bottle-neck.fr/?post_type=product&amp;...</td>\n",
       "      <td>0.0</td>\n",
       "      <td>product</td>\n",
       "      <td>NaN</td>\n",
       "      <td>0.0</td>\n",
       "      <td>both</td>\n",
       "      <td>2475.0</td>\n",
       "    </tr>\n",
       "    <tr>\n",
       "      <th>2</th>\n",
       "      <td>398</td>\n",
       "      <td>4352</td>\n",
       "      <td>1</td>\n",
       "      <td>225.0</td>\n",
       "      <td>0</td>\n",
       "      <td>outofstock</td>\n",
       "      <td>137.81</td>\n",
       "      <td>15940</td>\n",
       "      <td>both</td>\n",
       "      <td>15940</td>\n",
       "      <td>...</td>\n",
       "      <td>2020-03-07 11:18:45</td>\n",
       "      <td>2020-03-07 10:18:45</td>\n",
       "      <td>0.0</td>\n",
       "      <td>https://www.bottle-neck.fr/wp-content/uploads/...</td>\n",
       "      <td>0.0</td>\n",
       "      <td>attachment</td>\n",
       "      <td>image/jpeg</td>\n",
       "      <td>0.0</td>\n",
       "      <td>both</td>\n",
       "      <td>2475.0</td>\n",
       "    </tr>\n",
       "    <tr>\n",
       "      <th>3</th>\n",
       "      <td>642</td>\n",
       "      <td>4726</td>\n",
       "      <td>1</td>\n",
       "      <td>12.7</td>\n",
       "      <td>0</td>\n",
       "      <td>outofstock</td>\n",
       "      <td>6.82</td>\n",
       "      <td>14950</td>\n",
       "      <td>both</td>\n",
       "      <td>14950</td>\n",
       "      <td>...</td>\n",
       "      <td>2020-05-06 11:35:01</td>\n",
       "      <td>2020-05-06 09:35:01</td>\n",
       "      <td>0.0</td>\n",
       "      <td>https://www.bottle-neck.fr/wp-content/uploads/...</td>\n",
       "      <td>0.0</td>\n",
       "      <td>attachment</td>\n",
       "      <td>image/jpeg</td>\n",
       "      <td>0.0</td>\n",
       "      <td>both</td>\n",
       "      <td>1549.4</td>\n",
       "    </tr>\n",
       "    <tr>\n",
       "      <th>4</th>\n",
       "      <td>890</td>\n",
       "      <td>5067</td>\n",
       "      <td>1</td>\n",
       "      <td>59.9</td>\n",
       "      <td>3</td>\n",
       "      <td>instock</td>\n",
       "      <td>30.95</td>\n",
       "      <td>15346</td>\n",
       "      <td>both</td>\n",
       "      <td>15346</td>\n",
       "      <td>...</td>\n",
       "      <td>2020-02-13 17:00:01</td>\n",
       "      <td>2020-02-13 16:00:01</td>\n",
       "      <td>0.0</td>\n",
       "      <td>https://www.bottle-neck.fr/wp-content/uploads/...</td>\n",
       "      <td>0.0</td>\n",
       "      <td>attachment</td>\n",
       "      <td>image/jpeg</td>\n",
       "      <td>0.0</td>\n",
       "      <td>both</td>\n",
       "      <td>1317.8</td>\n",
       "    </tr>\n",
       "    <tr>\n",
       "      <th>5</th>\n",
       "      <td>900</td>\n",
       "      <td>5379</td>\n",
       "      <td>1</td>\n",
       "      <td>11.1</td>\n",
       "      <td>33</td>\n",
       "      <td>instock</td>\n",
       "      <td>5.68</td>\n",
       "      <td>14561</td>\n",
       "      <td>both</td>\n",
       "      <td>14561</td>\n",
       "      <td>...</td>\n",
       "      <td>2020-07-11 14:00:03</td>\n",
       "      <td>2020-07-11 12:00:03</td>\n",
       "      <td>0.0</td>\n",
       "      <td>https://www.bottle-neck.fr/wp-content/uploads/...</td>\n",
       "      <td>0.0</td>\n",
       "      <td>attachment</td>\n",
       "      <td>image/jpeg</td>\n",
       "      <td>0.0</td>\n",
       "      <td>both</td>\n",
       "      <td>1232.1</td>\n",
       "    </tr>\n",
       "    <tr>\n",
       "      <th>6</th>\n",
       "      <td>1173</td>\n",
       "      <td>5892</td>\n",
       "      <td>1</td>\n",
       "      <td>191.3</td>\n",
       "      <td>98</td>\n",
       "      <td>instock</td>\n",
       "      <td>116.06</td>\n",
       "      <td>14983</td>\n",
       "      <td>both</td>\n",
       "      <td>14983</td>\n",
       "      <td>...</td>\n",
       "      <td>2020-04-01 09:30:09</td>\n",
       "      <td>2020-04-01 07:30:09</td>\n",
       "      <td>0.0</td>\n",
       "      <td>https://www.bottle-neck.fr/?post_type=product&amp;...</td>\n",
       "      <td>0.0</td>\n",
       "      <td>product</td>\n",
       "      <td>NaN</td>\n",
       "      <td>0.0</td>\n",
       "      <td>both</td>\n",
       "      <td>1147.8</td>\n",
       "    </tr>\n",
       "    <tr>\n",
       "      <th>7</th>\n",
       "      <td>1172</td>\n",
       "      <td>5892</td>\n",
       "      <td>1</td>\n",
       "      <td>191.3</td>\n",
       "      <td>98</td>\n",
       "      <td>instock</td>\n",
       "      <td>116.06</td>\n",
       "      <td>14983</td>\n",
       "      <td>both</td>\n",
       "      <td>14983</td>\n",
       "      <td>...</td>\n",
       "      <td>2020-04-01 09:30:09</td>\n",
       "      <td>2020-04-01 07:30:09</td>\n",
       "      <td>0.0</td>\n",
       "      <td>https://www.bottle-neck.fr/wp-content/uploads/...</td>\n",
       "      <td>0.0</td>\n",
       "      <td>attachment</td>\n",
       "      <td>image/jpeg</td>\n",
       "      <td>0.0</td>\n",
       "      <td>both</td>\n",
       "      <td>1147.8</td>\n",
       "    </tr>\n",
       "    <tr>\n",
       "      <th>8</th>\n",
       "      <td>401</td>\n",
       "      <td>4353</td>\n",
       "      <td>1</td>\n",
       "      <td>79.5</td>\n",
       "      <td>127</td>\n",
       "      <td>instock</td>\n",
       "      <td>45.91</td>\n",
       "      <td>12587</td>\n",
       "      <td>both</td>\n",
       "      <td>12587</td>\n",
       "      <td>...</td>\n",
       "      <td>2020-08-22 11:45:02</td>\n",
       "      <td>2020-08-22 09:45:02</td>\n",
       "      <td>0.0</td>\n",
       "      <td>https://www.bottle-neck.fr/wp-content/uploads/...</td>\n",
       "      <td>0.0</td>\n",
       "      <td>attachment</td>\n",
       "      <td>image/jpeg</td>\n",
       "      <td>0.0</td>\n",
       "      <td>both</td>\n",
       "      <td>1113.0</td>\n",
       "    </tr>\n",
       "    <tr>\n",
       "      <th>9</th>\n",
       "      <td>400</td>\n",
       "      <td>4353</td>\n",
       "      <td>1</td>\n",
       "      <td>79.5</td>\n",
       "      <td>127</td>\n",
       "      <td>instock</td>\n",
       "      <td>45.91</td>\n",
       "      <td>12587</td>\n",
       "      <td>both</td>\n",
       "      <td>12587</td>\n",
       "      <td>...</td>\n",
       "      <td>2020-08-22 11:45:02</td>\n",
       "      <td>2020-08-22 09:45:02</td>\n",
       "      <td>0.0</td>\n",
       "      <td>https://www.bottle-neck.fr/?post_type=product&amp;...</td>\n",
       "      <td>0.0</td>\n",
       "      <td>product</td>\n",
       "      <td>NaN</td>\n",
       "      <td>0.0</td>\n",
       "      <td>both</td>\n",
       "      <td>1113.0</td>\n",
       "    </tr>\n",
       "    <tr>\n",
       "      <th>10</th>\n",
       "      <td>1163</td>\n",
       "      <td>5826</td>\n",
       "      <td>1</td>\n",
       "      <td>41.2</td>\n",
       "      <td>34</td>\n",
       "      <td>instock</td>\n",
       "      <td>21.71</td>\n",
       "      <td>15325</td>\n",
       "      <td>both</td>\n",
       "      <td>15325</td>\n",
       "      <td>...</td>\n",
       "      <td>2020-05-21 14:00:02</td>\n",
       "      <td>2020-05-21 12:00:02</td>\n",
       "      <td>0.0</td>\n",
       "      <td>https://www.bottle-neck.fr/?post_type=product&amp;...</td>\n",
       "      <td>0.0</td>\n",
       "      <td>product</td>\n",
       "      <td>NaN</td>\n",
       "      <td>0.0</td>\n",
       "      <td>both</td>\n",
       "      <td>824.0</td>\n",
       "    </tr>\n",
       "    <tr>\n",
       "      <th>11</th>\n",
       "      <td>1162</td>\n",
       "      <td>5826</td>\n",
       "      <td>1</td>\n",
       "      <td>41.2</td>\n",
       "      <td>34</td>\n",
       "      <td>instock</td>\n",
       "      <td>21.71</td>\n",
       "      <td>15325</td>\n",
       "      <td>both</td>\n",
       "      <td>15325</td>\n",
       "      <td>...</td>\n",
       "      <td>2020-05-21 14:00:02</td>\n",
       "      <td>2020-05-21 12:00:02</td>\n",
       "      <td>0.0</td>\n",
       "      <td>https://www.bottle-neck.fr/wp-content/uploads/...</td>\n",
       "      <td>0.0</td>\n",
       "      <td>attachment</td>\n",
       "      <td>image/jpeg</td>\n",
       "      <td>0.0</td>\n",
       "      <td>both</td>\n",
       "      <td>824.0</td>\n",
       "    </tr>\n",
       "    <tr>\n",
       "      <th>12</th>\n",
       "      <td>1304</td>\n",
       "      <td>6212</td>\n",
       "      <td>1</td>\n",
       "      <td>115.0</td>\n",
       "      <td>16</td>\n",
       "      <td>instock</td>\n",
       "      <td>59.42</td>\n",
       "      <td>13996</td>\n",
       "      <td>both</td>\n",
       "      <td>13996</td>\n",
       "      <td>...</td>\n",
       "      <td>2020-06-16 09:30:16</td>\n",
       "      <td>2020-06-16 07:30:16</td>\n",
       "      <td>0.0</td>\n",
       "      <td>https://www.bottle-neck.fr/wp-content/uploads/...</td>\n",
       "      <td>0.0</td>\n",
       "      <td>attachment</td>\n",
       "      <td>image/jpeg</td>\n",
       "      <td>0.0</td>\n",
       "      <td>both</td>\n",
       "      <td>805.0</td>\n",
       "    </tr>\n",
       "    <tr>\n",
       "      <th>13</th>\n",
       "      <td>1305</td>\n",
       "      <td>6212</td>\n",
       "      <td>1</td>\n",
       "      <td>115.0</td>\n",
       "      <td>16</td>\n",
       "      <td>instock</td>\n",
       "      <td>59.42</td>\n",
       "      <td>13996</td>\n",
       "      <td>both</td>\n",
       "      <td>13996</td>\n",
       "      <td>...</td>\n",
       "      <td>2020-06-16 09:30:16</td>\n",
       "      <td>2020-06-16 07:30:16</td>\n",
       "      <td>0.0</td>\n",
       "      <td>https://www.bottle-neck.fr/?post_type=product&amp;...</td>\n",
       "      <td>0.0</td>\n",
       "      <td>product</td>\n",
       "      <td>NaN</td>\n",
       "      <td>0.0</td>\n",
       "      <td>both</td>\n",
       "      <td>805.0</td>\n",
       "    </tr>\n",
       "    <tr>\n",
       "      <th>14</th>\n",
       "      <td>877</td>\n",
       "      <td>5026</td>\n",
       "      <td>1</td>\n",
       "      <td>86.8</td>\n",
       "      <td>101</td>\n",
       "      <td>instock</td>\n",
       "      <td>50.13</td>\n",
       "      <td>13913</td>\n",
       "      <td>both</td>\n",
       "      <td>13913</td>\n",
       "      <td>...</td>\n",
       "      <td>2020-05-11 14:35:02</td>\n",
       "      <td>2020-05-11 12:35:02</td>\n",
       "      <td>0.0</td>\n",
       "      <td>https://www.bottle-neck.fr/?post_type=product&amp;...</td>\n",
       "      <td>0.0</td>\n",
       "      <td>product</td>\n",
       "      <td>NaN</td>\n",
       "      <td>0.0</td>\n",
       "      <td>both</td>\n",
       "      <td>781.2</td>\n",
       "    </tr>\n",
       "    <tr>\n",
       "      <th>15</th>\n",
       "      <td>876</td>\n",
       "      <td>5026</td>\n",
       "      <td>1</td>\n",
       "      <td>86.8</td>\n",
       "      <td>101</td>\n",
       "      <td>instock</td>\n",
       "      <td>50.13</td>\n",
       "      <td>13913</td>\n",
       "      <td>both</td>\n",
       "      <td>13913</td>\n",
       "      <td>...</td>\n",
       "      <td>2020-05-11 14:35:02</td>\n",
       "      <td>2020-05-11 12:35:02</td>\n",
       "      <td>0.0</td>\n",
       "      <td>https://www.bottle-neck.fr/wp-content/uploads/...</td>\n",
       "      <td>0.0</td>\n",
       "      <td>attachment</td>\n",
       "      <td>image/jpeg</td>\n",
       "      <td>0.0</td>\n",
       "      <td>both</td>\n",
       "      <td>781.2</td>\n",
       "    </tr>\n",
       "    <tr>\n",
       "      <th>16</th>\n",
       "      <td>865</td>\n",
       "      <td>5008</td>\n",
       "      <td>1</td>\n",
       "      <td>105.0</td>\n",
       "      <td>12</td>\n",
       "      <td>instock</td>\n",
       "      <td>56.42</td>\n",
       "      <td>11602</td>\n",
       "      <td>both</td>\n",
       "      <td>11602</td>\n",
       "      <td>...</td>\n",
       "      <td>2020-06-23 15:35:02</td>\n",
       "      <td>2020-06-23 13:35:02</td>\n",
       "      <td>0.0</td>\n",
       "      <td>https://www.bottle-neck.fr/wp-content/uploads/...</td>\n",
       "      <td>0.0</td>\n",
       "      <td>attachment</td>\n",
       "      <td>image/jpeg</td>\n",
       "      <td>0.0</td>\n",
       "      <td>both</td>\n",
       "      <td>735.0</td>\n",
       "    </tr>\n",
       "    <tr>\n",
       "      <th>17</th>\n",
       "      <td>864</td>\n",
       "      <td>5008</td>\n",
       "      <td>1</td>\n",
       "      <td>105.0</td>\n",
       "      <td>12</td>\n",
       "      <td>instock</td>\n",
       "      <td>56.42</td>\n",
       "      <td>11602</td>\n",
       "      <td>both</td>\n",
       "      <td>11602</td>\n",
       "      <td>...</td>\n",
       "      <td>2020-06-23 15:35:02</td>\n",
       "      <td>2020-06-23 13:35:02</td>\n",
       "      <td>0.0</td>\n",
       "      <td>https://www.bottle-neck.fr/?post_type=product&amp;...</td>\n",
       "      <td>0.0</td>\n",
       "      <td>product</td>\n",
       "      <td>NaN</td>\n",
       "      <td>0.0</td>\n",
       "      <td>both</td>\n",
       "      <td>735.0</td>\n",
       "    </tr>\n",
       "    <tr>\n",
       "      <th>18</th>\n",
       "      <td>1105</td>\n",
       "      <td>5767</td>\n",
       "      <td>1</td>\n",
       "      <td>175.0</td>\n",
       "      <td>12</td>\n",
       "      <td>instock</td>\n",
       "      <td>90.42</td>\n",
       "      <td>15185</td>\n",
       "      <td>both</td>\n",
       "      <td>15185</td>\n",
       "      <td>...</td>\n",
       "      <td>2020-06-11 15:25:04</td>\n",
       "      <td>2020-06-11 13:25:04</td>\n",
       "      <td>0.0</td>\n",
       "      <td>https://www.bottle-neck.fr/?post_type=product&amp;...</td>\n",
       "      <td>0.0</td>\n",
       "      <td>product</td>\n",
       "      <td>NaN</td>\n",
       "      <td>0.0</td>\n",
       "      <td>both</td>\n",
       "      <td>700.0</td>\n",
       "    </tr>\n",
       "    <tr>\n",
       "      <th>19</th>\n",
       "      <td>1104</td>\n",
       "      <td>5767</td>\n",
       "      <td>1</td>\n",
       "      <td>175.0</td>\n",
       "      <td>12</td>\n",
       "      <td>instock</td>\n",
       "      <td>90.42</td>\n",
       "      <td>15185</td>\n",
       "      <td>both</td>\n",
       "      <td>15185</td>\n",
       "      <td>...</td>\n",
       "      <td>2020-06-11 15:25:04</td>\n",
       "      <td>2020-06-11 13:25:04</td>\n",
       "      <td>0.0</td>\n",
       "      <td>https://www.bottle-neck.fr/wp-content/uploads/...</td>\n",
       "      <td>0.0</td>\n",
       "      <td>attachment</td>\n",
       "      <td>image/jpeg</td>\n",
       "      <td>0.0</td>\n",
       "      <td>both</td>\n",
       "      <td>700.0</td>\n",
       "    </tr>\n",
       "  </tbody>\n",
       "</table>\n",
       "<p>20 rows × 36 columns</p>\n",
       "</div>"
      ],
      "text/plain": [
       "    index product_id  onsale_web  price  stock_quantity stock_status  \\\n",
       "0     152       4150           1   59.0             123      instock   \n",
       "1     399       4352           1  225.0               0   outofstock   \n",
       "2     398       4352           1  225.0               0   outofstock   \n",
       "3     642       4726           1   12.7               0   outofstock   \n",
       "4     890       5067           1   59.9               3      instock   \n",
       "5     900       5379           1   11.1              33      instock   \n",
       "6    1173       5892           1  191.3              98      instock   \n",
       "7    1172       5892           1  191.3              98      instock   \n",
       "8     401       4353           1   79.5             127      instock   \n",
       "9     400       4353           1   79.5             127      instock   \n",
       "10   1163       5826           1   41.2              34      instock   \n",
       "11   1162       5826           1   41.2              34      instock   \n",
       "12   1304       6212           1  115.0              16      instock   \n",
       "13   1305       6212           1  115.0              16      instock   \n",
       "14    877       5026           1   86.8             101      instock   \n",
       "15    876       5026           1   86.8             101      instock   \n",
       "16    865       5008           1  105.0              12      instock   \n",
       "17    864       5008           1  105.0              12      instock   \n",
       "18   1105       5767           1  175.0              12      instock   \n",
       "19   1104       5767           1  175.0              12      instock   \n",
       "\n",
       "    purchase_price id_web _merge    sku  ...       post_modified  \\\n",
       "0            35.45   1366   both   1366  ... 2020-08-26 18:05:02   \n",
       "1           137.81  15940   both  15940  ... 2020-03-07 11:18:45   \n",
       "2           137.81  15940   both  15940  ... 2020-03-07 11:18:45   \n",
       "3             6.82  14950   both  14950  ... 2020-05-06 11:35:01   \n",
       "4            30.95  15346   both  15346  ... 2020-02-13 17:00:01   \n",
       "5             5.68  14561   both  14561  ... 2020-07-11 14:00:03   \n",
       "6           116.06  14983   both  14983  ... 2020-04-01 09:30:09   \n",
       "7           116.06  14983   both  14983  ... 2020-04-01 09:30:09   \n",
       "8            45.91  12587   both  12587  ... 2020-08-22 11:45:02   \n",
       "9            45.91  12587   both  12587  ... 2020-08-22 11:45:02   \n",
       "10           21.71  15325   both  15325  ... 2020-05-21 14:00:02   \n",
       "11           21.71  15325   both  15325  ... 2020-05-21 14:00:02   \n",
       "12           59.42  13996   both  13996  ... 2020-06-16 09:30:16   \n",
       "13           59.42  13996   both  13996  ... 2020-06-16 09:30:16   \n",
       "14           50.13  13913   both  13913  ... 2020-05-11 14:35:02   \n",
       "15           50.13  13913   both  13913  ... 2020-05-11 14:35:02   \n",
       "16           56.42  11602   both  11602  ... 2020-06-23 15:35:02   \n",
       "17           56.42  11602   both  11602  ... 2020-06-23 15:35:02   \n",
       "18           90.42  15185   both  15185  ... 2020-06-11 15:25:04   \n",
       "19           90.42  15185   both  15185  ... 2020-06-11 15:25:04   \n",
       "\n",
       "     post_modified_gmt  post_parent  \\\n",
       "0  2020-08-26 16:05:02          0.0   \n",
       "1  2020-03-07 10:18:45          0.0   \n",
       "2  2020-03-07 10:18:45          0.0   \n",
       "3  2020-05-06 09:35:01          0.0   \n",
       "4  2020-02-13 16:00:01          0.0   \n",
       "5  2020-07-11 12:00:03          0.0   \n",
       "6  2020-04-01 07:30:09          0.0   \n",
       "7  2020-04-01 07:30:09          0.0   \n",
       "8  2020-08-22 09:45:02          0.0   \n",
       "9  2020-08-22 09:45:02          0.0   \n",
       "10 2020-05-21 12:00:02          0.0   \n",
       "11 2020-05-21 12:00:02          0.0   \n",
       "12 2020-06-16 07:30:16          0.0   \n",
       "13 2020-06-16 07:30:16          0.0   \n",
       "14 2020-05-11 12:35:02          0.0   \n",
       "15 2020-05-11 12:35:02          0.0   \n",
       "16 2020-06-23 13:35:02          0.0   \n",
       "17 2020-06-23 13:35:02          0.0   \n",
       "18 2020-06-11 13:25:04          0.0   \n",
       "19 2020-06-11 13:25:04          0.0   \n",
       "\n",
       "                                                 guid  menu_order   post_type  \\\n",
       "0   https://www.bottle-neck.fr/wp-content/uploads/...         0.0  attachment   \n",
       "1   https://www.bottle-neck.fr/?post_type=product&...         0.0     product   \n",
       "2   https://www.bottle-neck.fr/wp-content/uploads/...         0.0  attachment   \n",
       "3   https://www.bottle-neck.fr/wp-content/uploads/...         0.0  attachment   \n",
       "4   https://www.bottle-neck.fr/wp-content/uploads/...         0.0  attachment   \n",
       "5   https://www.bottle-neck.fr/wp-content/uploads/...         0.0  attachment   \n",
       "6   https://www.bottle-neck.fr/?post_type=product&...         0.0     product   \n",
       "7   https://www.bottle-neck.fr/wp-content/uploads/...         0.0  attachment   \n",
       "8   https://www.bottle-neck.fr/wp-content/uploads/...         0.0  attachment   \n",
       "9   https://www.bottle-neck.fr/?post_type=product&...         0.0     product   \n",
       "10  https://www.bottle-neck.fr/?post_type=product&...         0.0     product   \n",
       "11  https://www.bottle-neck.fr/wp-content/uploads/...         0.0  attachment   \n",
       "12  https://www.bottle-neck.fr/wp-content/uploads/...         0.0  attachment   \n",
       "13  https://www.bottle-neck.fr/?post_type=product&...         0.0     product   \n",
       "14  https://www.bottle-neck.fr/?post_type=product&...         0.0     product   \n",
       "15  https://www.bottle-neck.fr/wp-content/uploads/...         0.0  attachment   \n",
       "16  https://www.bottle-neck.fr/wp-content/uploads/...         0.0  attachment   \n",
       "17  https://www.bottle-neck.fr/?post_type=product&...         0.0     product   \n",
       "18  https://www.bottle-neck.fr/?post_type=product&...         0.0     product   \n",
       "19  https://www.bottle-neck.fr/wp-content/uploads/...         0.0  attachment   \n",
       "\n",
       "    post_mime_type comment_count _merge2 ca_par_article  \n",
       "0       image/jpeg           0.0    both         6844.0  \n",
       "1              NaN           0.0    both         2475.0  \n",
       "2       image/jpeg           0.0    both         2475.0  \n",
       "3       image/jpeg           0.0    both         1549.4  \n",
       "4       image/jpeg           0.0    both         1317.8  \n",
       "5       image/jpeg           0.0    both         1232.1  \n",
       "6              NaN           0.0    both         1147.8  \n",
       "7       image/jpeg           0.0    both         1147.8  \n",
       "8       image/jpeg           0.0    both         1113.0  \n",
       "9              NaN           0.0    both         1113.0  \n",
       "10             NaN           0.0    both          824.0  \n",
       "11      image/jpeg           0.0    both          824.0  \n",
       "12      image/jpeg           0.0    both          805.0  \n",
       "13             NaN           0.0    both          805.0  \n",
       "14             NaN           0.0    both          781.2  \n",
       "15      image/jpeg           0.0    both          781.2  \n",
       "16      image/jpeg           0.0    both          735.0  \n",
       "17             NaN           0.0    both          735.0  \n",
       "18             NaN           0.0    both          700.0  \n",
       "19      image/jpeg           0.0    both          700.0  \n",
       "\n",
       "[20 rows x 36 columns]"
      ]
     },
     "metadata": {},
     "output_type": "display_data"
    }
   ],
   "source": [
    "###############################\n",
    "# Palmares des articles en CA #\n",
    "###############################\n",
    "\n",
    "#Effectuer le tri dans l'ordre décroissant du CA du dataset df_merge\n",
    "df_merge2.sort_values(by='ca_par_article', ascending=False, inplace=True)\n",
    "display(df_merge2.head())\n",
    "#Réinitialiser l'index du dataset par un reset_index\n",
    "df_merge2.reset_index(inplace=True)\n",
    "display(df_merge2.head())\n",
    "#Afficher les 20 premier articles en CA\n",
    "display(df_merge2.head(20))\n",
    "#Graphique en barre des 20 premiers articles avec plotly express\n"
   ]
  },
  {
   "cell_type": "code",
   "execution_count": 248,
   "id": "d7e5e87b",
   "metadata": {},
   "outputs": [
    {
     "data": {
      "text/html": [
       "<div>\n",
       "<style scoped>\n",
       "    .dataframe tbody tr th:only-of-type {\n",
       "        vertical-align: middle;\n",
       "    }\n",
       "\n",
       "    .dataframe tbody tr th {\n",
       "        vertical-align: top;\n",
       "    }\n",
       "\n",
       "    .dataframe thead th {\n",
       "        text-align: right;\n",
       "    }\n",
       "</style>\n",
       "<table border=\"1\" class=\"dataframe\">\n",
       "  <thead>\n",
       "    <tr style=\"text-align: right;\">\n",
       "      <th></th>\n",
       "      <th>index</th>\n",
       "      <th>product_id</th>\n",
       "      <th>onsale_web</th>\n",
       "      <th>price</th>\n",
       "      <th>stock_quantity</th>\n",
       "      <th>stock_status</th>\n",
       "      <th>purchase_price</th>\n",
       "      <th>id_web</th>\n",
       "      <th>_merge</th>\n",
       "      <th>sku</th>\n",
       "      <th>...</th>\n",
       "      <th>post_parent</th>\n",
       "      <th>guid</th>\n",
       "      <th>menu_order</th>\n",
       "      <th>post_type</th>\n",
       "      <th>post_mime_type</th>\n",
       "      <th>comment_count</th>\n",
       "      <th>_merge2</th>\n",
       "      <th>ca_par_article</th>\n",
       "      <th>part_du_ca</th>\n",
       "      <th>somme_cumulative_ca</th>\n",
       "    </tr>\n",
       "  </thead>\n",
       "  <tbody>\n",
       "    <tr>\n",
       "      <th>0</th>\n",
       "      <td>152</td>\n",
       "      <td>4150</td>\n",
       "      <td>1</td>\n",
       "      <td>59.0</td>\n",
       "      <td>123</td>\n",
       "      <td>instock</td>\n",
       "      <td>35.45</td>\n",
       "      <td>1366</td>\n",
       "      <td>both</td>\n",
       "      <td>1366</td>\n",
       "      <td>...</td>\n",
       "      <td>0.0</td>\n",
       "      <td>https://www.bottle-neck.fr/wp-content/uploads/...</td>\n",
       "      <td>0.0</td>\n",
       "      <td>attachment</td>\n",
       "      <td>image/jpeg</td>\n",
       "      <td>0.0</td>\n",
       "      <td>both</td>\n",
       "      <td>6844.0</td>\n",
       "      <td>2.31</td>\n",
       "      <td>2.31</td>\n",
       "    </tr>\n",
       "    <tr>\n",
       "      <th>1</th>\n",
       "      <td>399</td>\n",
       "      <td>4352</td>\n",
       "      <td>1</td>\n",
       "      <td>225.0</td>\n",
       "      <td>0</td>\n",
       "      <td>outofstock</td>\n",
       "      <td>137.81</td>\n",
       "      <td>15940</td>\n",
       "      <td>both</td>\n",
       "      <td>15940</td>\n",
       "      <td>...</td>\n",
       "      <td>0.0</td>\n",
       "      <td>https://www.bottle-neck.fr/?post_type=product&amp;...</td>\n",
       "      <td>0.0</td>\n",
       "      <td>product</td>\n",
       "      <td>NaN</td>\n",
       "      <td>0.0</td>\n",
       "      <td>both</td>\n",
       "      <td>2475.0</td>\n",
       "      <td>0.83</td>\n",
       "      <td>3.14</td>\n",
       "    </tr>\n",
       "    <tr>\n",
       "      <th>2</th>\n",
       "      <td>398</td>\n",
       "      <td>4352</td>\n",
       "      <td>1</td>\n",
       "      <td>225.0</td>\n",
       "      <td>0</td>\n",
       "      <td>outofstock</td>\n",
       "      <td>137.81</td>\n",
       "      <td>15940</td>\n",
       "      <td>both</td>\n",
       "      <td>15940</td>\n",
       "      <td>...</td>\n",
       "      <td>0.0</td>\n",
       "      <td>https://www.bottle-neck.fr/wp-content/uploads/...</td>\n",
       "      <td>0.0</td>\n",
       "      <td>attachment</td>\n",
       "      <td>image/jpeg</td>\n",
       "      <td>0.0</td>\n",
       "      <td>both</td>\n",
       "      <td>2475.0</td>\n",
       "      <td>0.83</td>\n",
       "      <td>3.97</td>\n",
       "    </tr>\n",
       "    <tr>\n",
       "      <th>3</th>\n",
       "      <td>642</td>\n",
       "      <td>4726</td>\n",
       "      <td>1</td>\n",
       "      <td>12.7</td>\n",
       "      <td>0</td>\n",
       "      <td>outofstock</td>\n",
       "      <td>6.82</td>\n",
       "      <td>14950</td>\n",
       "      <td>both</td>\n",
       "      <td>14950</td>\n",
       "      <td>...</td>\n",
       "      <td>0.0</td>\n",
       "      <td>https://www.bottle-neck.fr/wp-content/uploads/...</td>\n",
       "      <td>0.0</td>\n",
       "      <td>attachment</td>\n",
       "      <td>image/jpeg</td>\n",
       "      <td>0.0</td>\n",
       "      <td>both</td>\n",
       "      <td>1549.4</td>\n",
       "      <td>0.52</td>\n",
       "      <td>4.49</td>\n",
       "    </tr>\n",
       "    <tr>\n",
       "      <th>4</th>\n",
       "      <td>890</td>\n",
       "      <td>5067</td>\n",
       "      <td>1</td>\n",
       "      <td>59.9</td>\n",
       "      <td>3</td>\n",
       "      <td>instock</td>\n",
       "      <td>30.95</td>\n",
       "      <td>15346</td>\n",
       "      <td>both</td>\n",
       "      <td>15346</td>\n",
       "      <td>...</td>\n",
       "      <td>0.0</td>\n",
       "      <td>https://www.bottle-neck.fr/wp-content/uploads/...</td>\n",
       "      <td>0.0</td>\n",
       "      <td>attachment</td>\n",
       "      <td>image/jpeg</td>\n",
       "      <td>0.0</td>\n",
       "      <td>both</td>\n",
       "      <td>1317.8</td>\n",
       "      <td>0.44</td>\n",
       "      <td>4.93</td>\n",
       "    </tr>\n",
       "  </tbody>\n",
       "</table>\n",
       "<p>5 rows × 38 columns</p>\n",
       "</div>"
      ],
      "text/plain": [
       "   index product_id  onsale_web  price  stock_quantity stock_status  \\\n",
       "0    152       4150           1   59.0             123      instock   \n",
       "1    399       4352           1  225.0               0   outofstock   \n",
       "2    398       4352           1  225.0               0   outofstock   \n",
       "3    642       4726           1   12.7               0   outofstock   \n",
       "4    890       5067           1   59.9               3      instock   \n",
       "\n",
       "   purchase_price id_web _merge    sku  ...  post_parent  \\\n",
       "0           35.45   1366   both   1366  ...          0.0   \n",
       "1          137.81  15940   both  15940  ...          0.0   \n",
       "2          137.81  15940   both  15940  ...          0.0   \n",
       "3            6.82  14950   both  14950  ...          0.0   \n",
       "4           30.95  15346   both  15346  ...          0.0   \n",
       "\n",
       "                                                guid  menu_order   post_type  \\\n",
       "0  https://www.bottle-neck.fr/wp-content/uploads/...         0.0  attachment   \n",
       "1  https://www.bottle-neck.fr/?post_type=product&...         0.0     product   \n",
       "2  https://www.bottle-neck.fr/wp-content/uploads/...         0.0  attachment   \n",
       "3  https://www.bottle-neck.fr/wp-content/uploads/...         0.0  attachment   \n",
       "4  https://www.bottle-neck.fr/wp-content/uploads/...         0.0  attachment   \n",
       "\n",
       "   post_mime_type comment_count  _merge2 ca_par_article part_du_ca  \\\n",
       "0      image/jpeg           0.0     both         6844.0       2.31   \n",
       "1             NaN           0.0     both         2475.0       0.83   \n",
       "2      image/jpeg           0.0     both         2475.0       0.83   \n",
       "3      image/jpeg           0.0     both         1549.4       0.52   \n",
       "4      image/jpeg           0.0     both         1317.8       0.44   \n",
       "\n",
       "  somme_cumulative_ca  \n",
       "0                2.31  \n",
       "1                3.14  \n",
       "2                3.97  \n",
       "3                4.49  \n",
       "4                4.93  \n",
       "\n",
       "[5 rows x 38 columns]"
      ]
     },
     "metadata": {},
     "output_type": "display_data"
    },
    {
     "name": "stdout",
     "output_type": "stream",
     "text": [
      "Le nombre d'article représentant 80% du CA est de 853\n",
      "La proportion d'article représentant 80% du CA est de 59.82\n"
     ]
    }
   ],
   "source": [
    "#############################\n",
    "# Calculer le 20 / 80 en CA #\n",
    "#############################\n",
    "\n",
    "#Créer une colonne calculant la part du CA de la ligne dans le dataset\n",
    "df_merge2['part_du_ca'] = round(( df_merge2['ca_par_article'] / ca_site_web ) * 100,2)\n",
    "#Créer une colonne réalisant la somme cumulative de la colonne précedemment créée\n",
    "df_merge2['somme_cumulative_ca'] = round(df_merge2['part_du_ca'].cumsum(),2)\n",
    "display(df_merge2.head())\n",
    "#Grâce au deux colonnes créées précedemment, calculer le nombre d'articles représentant 80% du CA\n",
    "nb_article_80 = (df_merge2['somme_cumulative_ca'] <= 80).sum()\n",
    "print(\"Le nombre d'article représentant 80% du CA est de\", nb_article_80)\n",
    "#Afficher la proportion que représentent ce groupe d'articles dans le catalogue entier du site web\n",
    "proportion = round(nb_article_80 / len(df_merge2) * 100, 2)\n",
    "print(\"La proportion d'article représentant 80% du CA est de\", proportion)"
   ]
  },
  {
   "cell_type": "markdown",
   "id": "8de7af87",
   "metadata": {},
   "source": [
    "<div style=\"border: 1px solid RGB(51,165,182);\" >\n",
    "<h3 style=\"margin: auto; padding: 20px; color: RGB(51,165,182); \">Etape 5.2 - Analyse des ventes en Quantités</h3>\n",
    "</div>"
   ]
  },
  {
   "cell_type": "code",
   "execution_count": 249,
   "id": "ab222e08",
   "metadata": {},
   "outputs": [
    {
     "data": {
      "text/html": [
       "<div>\n",
       "<style scoped>\n",
       "    .dataframe tbody tr th:only-of-type {\n",
       "        vertical-align: middle;\n",
       "    }\n",
       "\n",
       "    .dataframe tbody tr th {\n",
       "        vertical-align: top;\n",
       "    }\n",
       "\n",
       "    .dataframe thead th {\n",
       "        text-align: right;\n",
       "    }\n",
       "</style>\n",
       "<table border=\"1\" class=\"dataframe\">\n",
       "  <thead>\n",
       "    <tr style=\"text-align: right;\">\n",
       "      <th></th>\n",
       "      <th>index</th>\n",
       "      <th>product_id</th>\n",
       "      <th>onsale_web</th>\n",
       "      <th>price</th>\n",
       "      <th>stock_quantity</th>\n",
       "      <th>stock_status</th>\n",
       "      <th>purchase_price</th>\n",
       "      <th>id_web</th>\n",
       "      <th>_merge</th>\n",
       "      <th>sku</th>\n",
       "      <th>...</th>\n",
       "      <th>post_parent</th>\n",
       "      <th>guid</th>\n",
       "      <th>menu_order</th>\n",
       "      <th>post_type</th>\n",
       "      <th>post_mime_type</th>\n",
       "      <th>comment_count</th>\n",
       "      <th>_merge2</th>\n",
       "      <th>ca_par_article</th>\n",
       "      <th>part_du_ca</th>\n",
       "      <th>somme_cumulative_ca</th>\n",
       "    </tr>\n",
       "  </thead>\n",
       "  <tbody>\n",
       "    <tr>\n",
       "      <th>0</th>\n",
       "      <td>642</td>\n",
       "      <td>4726</td>\n",
       "      <td>1</td>\n",
       "      <td>12.7</td>\n",
       "      <td>0</td>\n",
       "      <td>outofstock</td>\n",
       "      <td>6.82</td>\n",
       "      <td>14950</td>\n",
       "      <td>both</td>\n",
       "      <td>14950</td>\n",
       "      <td>...</td>\n",
       "      <td>0.0</td>\n",
       "      <td>https://www.bottle-neck.fr/wp-content/uploads/...</td>\n",
       "      <td>0.0</td>\n",
       "      <td>attachment</td>\n",
       "      <td>image/jpeg</td>\n",
       "      <td>0.0</td>\n",
       "      <td>both</td>\n",
       "      <td>1549.4</td>\n",
       "      <td>0.52</td>\n",
       "      <td>4.49</td>\n",
       "    </tr>\n",
       "    <tr>\n",
       "      <th>1</th>\n",
       "      <td>152</td>\n",
       "      <td>4150</td>\n",
       "      <td>1</td>\n",
       "      <td>59.0</td>\n",
       "      <td>123</td>\n",
       "      <td>instock</td>\n",
       "      <td>35.45</td>\n",
       "      <td>1366</td>\n",
       "      <td>both</td>\n",
       "      <td>1366</td>\n",
       "      <td>...</td>\n",
       "      <td>0.0</td>\n",
       "      <td>https://www.bottle-neck.fr/wp-content/uploads/...</td>\n",
       "      <td>0.0</td>\n",
       "      <td>attachment</td>\n",
       "      <td>image/jpeg</td>\n",
       "      <td>0.0</td>\n",
       "      <td>both</td>\n",
       "      <td>6844.0</td>\n",
       "      <td>2.31</td>\n",
       "      <td>2.31</td>\n",
       "    </tr>\n",
       "    <tr>\n",
       "      <th>2</th>\n",
       "      <td>900</td>\n",
       "      <td>5379</td>\n",
       "      <td>1</td>\n",
       "      <td>11.1</td>\n",
       "      <td>33</td>\n",
       "      <td>instock</td>\n",
       "      <td>5.68</td>\n",
       "      <td>14561</td>\n",
       "      <td>both</td>\n",
       "      <td>14561</td>\n",
       "      <td>...</td>\n",
       "      <td>0.0</td>\n",
       "      <td>https://www.bottle-neck.fr/wp-content/uploads/...</td>\n",
       "      <td>0.0</td>\n",
       "      <td>attachment</td>\n",
       "      <td>image/jpeg</td>\n",
       "      <td>0.0</td>\n",
       "      <td>both</td>\n",
       "      <td>1232.1</td>\n",
       "      <td>0.42</td>\n",
       "      <td>5.35</td>\n",
       "    </tr>\n",
       "    <tr>\n",
       "      <th>3</th>\n",
       "      <td>731</td>\n",
       "      <td>4867</td>\n",
       "      <td>1</td>\n",
       "      <td>9.9</td>\n",
       "      <td>121</td>\n",
       "      <td>instock</td>\n",
       "      <td>4.86</td>\n",
       "      <td>16148</td>\n",
       "      <td>both</td>\n",
       "      <td>16148</td>\n",
       "      <td>...</td>\n",
       "      <td>0.0</td>\n",
       "      <td>https://www.bottle-neck.fr/wp-content/uploads/...</td>\n",
       "      <td>0.0</td>\n",
       "      <td>attachment</td>\n",
       "      <td>image/jpeg</td>\n",
       "      <td>0.0</td>\n",
       "      <td>both</td>\n",
       "      <td>356.4</td>\n",
       "      <td>0.12</td>\n",
       "      <td>25.71</td>\n",
       "    </tr>\n",
       "    <tr>\n",
       "      <th>4</th>\n",
       "      <td>730</td>\n",
       "      <td>4867</td>\n",
       "      <td>1</td>\n",
       "      <td>9.9</td>\n",
       "      <td>121</td>\n",
       "      <td>instock</td>\n",
       "      <td>4.86</td>\n",
       "      <td>16148</td>\n",
       "      <td>both</td>\n",
       "      <td>16148</td>\n",
       "      <td>...</td>\n",
       "      <td>0.0</td>\n",
       "      <td>https://www.bottle-neck.fr/?post_type=product&amp;...</td>\n",
       "      <td>0.0</td>\n",
       "      <td>product</td>\n",
       "      <td>NaN</td>\n",
       "      <td>0.0</td>\n",
       "      <td>both</td>\n",
       "      <td>356.4</td>\n",
       "      <td>0.12</td>\n",
       "      <td>25.83</td>\n",
       "    </tr>\n",
       "  </tbody>\n",
       "</table>\n",
       "<p>5 rows × 38 columns</p>\n",
       "</div>"
      ],
      "text/plain": [
       "   index product_id  onsale_web  price  stock_quantity stock_status  \\\n",
       "0    642       4726           1   12.7               0   outofstock   \n",
       "1    152       4150           1   59.0             123      instock   \n",
       "2    900       5379           1   11.1              33      instock   \n",
       "3    731       4867           1    9.9             121      instock   \n",
       "4    730       4867           1    9.9             121      instock   \n",
       "\n",
       "   purchase_price id_web _merge    sku  ...  post_parent  \\\n",
       "0            6.82  14950   both  14950  ...          0.0   \n",
       "1           35.45   1366   both   1366  ...          0.0   \n",
       "2            5.68  14561   both  14561  ...          0.0   \n",
       "3            4.86  16148   both  16148  ...          0.0   \n",
       "4            4.86  16148   both  16148  ...          0.0   \n",
       "\n",
       "                                                guid  menu_order   post_type  \\\n",
       "0  https://www.bottle-neck.fr/wp-content/uploads/...         0.0  attachment   \n",
       "1  https://www.bottle-neck.fr/wp-content/uploads/...         0.0  attachment   \n",
       "2  https://www.bottle-neck.fr/wp-content/uploads/...         0.0  attachment   \n",
       "3  https://www.bottle-neck.fr/wp-content/uploads/...         0.0  attachment   \n",
       "4  https://www.bottle-neck.fr/?post_type=product&...         0.0     product   \n",
       "\n",
       "   post_mime_type comment_count  _merge2 ca_par_article part_du_ca  \\\n",
       "0      image/jpeg           0.0     both         1549.4       0.52   \n",
       "1      image/jpeg           0.0     both         6844.0       2.31   \n",
       "2      image/jpeg           0.0     both         1232.1       0.42   \n",
       "3      image/jpeg           0.0     both          356.4       0.12   \n",
       "4             NaN           0.0     both          356.4       0.12   \n",
       "\n",
       "  somme_cumulative_ca  \n",
       "0                4.49  \n",
       "1                2.31  \n",
       "2                5.35  \n",
       "3               25.71  \n",
       "4               25.83  \n",
       "\n",
       "[5 rows x 38 columns]"
      ]
     },
     "metadata": {},
     "output_type": "display_data"
    },
    {
     "data": {
      "text/html": [
       "<div>\n",
       "<style scoped>\n",
       "    .dataframe tbody tr th:only-of-type {\n",
       "        vertical-align: middle;\n",
       "    }\n",
       "\n",
       "    .dataframe tbody tr th {\n",
       "        vertical-align: top;\n",
       "    }\n",
       "\n",
       "    .dataframe thead th {\n",
       "        text-align: right;\n",
       "    }\n",
       "</style>\n",
       "<table border=\"1\" class=\"dataframe\">\n",
       "  <thead>\n",
       "    <tr style=\"text-align: right;\">\n",
       "      <th></th>\n",
       "      <th>total_sales</th>\n",
       "    </tr>\n",
       "    <tr>\n",
       "      <th>product_id</th>\n",
       "      <th></th>\n",
       "    </tr>\n",
       "  </thead>\n",
       "  <tbody>\n",
       "    <tr>\n",
       "      <th>4726</th>\n",
       "      <td>144.0</td>\n",
       "    </tr>\n",
       "    <tr>\n",
       "      <th>5379</th>\n",
       "      <td>122.0</td>\n",
       "    </tr>\n",
       "    <tr>\n",
       "      <th>4150</th>\n",
       "      <td>122.0</td>\n",
       "    </tr>\n",
       "    <tr>\n",
       "      <th>4867</th>\n",
       "      <td>72.0</td>\n",
       "    </tr>\n",
       "    <tr>\n",
       "      <th>4203</th>\n",
       "      <td>54.0</td>\n",
       "    </tr>\n",
       "    <tr>\n",
       "      <th>4275</th>\n",
       "      <td>48.0</td>\n",
       "    </tr>\n",
       "    <tr>\n",
       "      <th>4647</th>\n",
       "      <td>44.0</td>\n",
       "    </tr>\n",
       "    <tr>\n",
       "      <th>6129</th>\n",
       "      <td>40.0</td>\n",
       "    </tr>\n",
       "    <tr>\n",
       "      <th>5826</th>\n",
       "      <td>40.0</td>\n",
       "    </tr>\n",
       "    <tr>\n",
       "      <th>4220</th>\n",
       "      <td>36.0</td>\n",
       "    </tr>\n",
       "    <tr>\n",
       "      <th>6569</th>\n",
       "      <td>34.0</td>\n",
       "    </tr>\n",
       "    <tr>\n",
       "      <th>5803</th>\n",
       "      <td>34.0</td>\n",
       "    </tr>\n",
       "    <tr>\n",
       "      <th>5778</th>\n",
       "      <td>34.0</td>\n",
       "    </tr>\n",
       "    <tr>\n",
       "      <th>4870</th>\n",
       "      <td>32.0</td>\n",
       "    </tr>\n",
       "    <tr>\n",
       "      <th>5695</th>\n",
       "      <td>32.0</td>\n",
       "    </tr>\n",
       "    <tr>\n",
       "      <th>4863</th>\n",
       "      <td>32.0</td>\n",
       "    </tr>\n",
       "    <tr>\n",
       "      <th>4059</th>\n",
       "      <td>32.0</td>\n",
       "    </tr>\n",
       "    <tr>\n",
       "      <th>5777</th>\n",
       "      <td>32.0</td>\n",
       "    </tr>\n",
       "    <tr>\n",
       "      <th>4188</th>\n",
       "      <td>32.0</td>\n",
       "    </tr>\n",
       "    <tr>\n",
       "      <th>4105</th>\n",
       "      <td>32.0</td>\n",
       "    </tr>\n",
       "  </tbody>\n",
       "</table>\n",
       "</div>"
      ],
      "text/plain": [
       "            total_sales\n",
       "product_id             \n",
       "4726              144.0\n",
       "5379              122.0\n",
       "4150              122.0\n",
       "4867               72.0\n",
       "4203               54.0\n",
       "4275               48.0\n",
       "4647               44.0\n",
       "6129               40.0\n",
       "5826               40.0\n",
       "4220               36.0\n",
       "6569               34.0\n",
       "5803               34.0\n",
       "5778               34.0\n",
       "4870               32.0\n",
       "5695               32.0\n",
       "4863               32.0\n",
       "4059               32.0\n",
       "5777               32.0\n",
       "4188               32.0\n",
       "4105               32.0"
      ]
     },
     "metadata": {},
     "output_type": "display_data"
    },
    {
     "data": {
      "application/vnd.plotly.v1+json": {
       "config": {
        "plotlyServerURL": "https://plot.ly"
       },
       "data": [
        {
         "alignmentgroup": "True",
         "hovertemplate": "product_id=%{x}<br>total_sales=%{y}<extra></extra>",
         "legendgroup": "",
         "marker": {
          "color": "#636efa",
          "pattern": {
           "shape": ""
          }
         },
         "name": "",
         "offsetgroup": "",
         "orientation": "v",
         "showlegend": false,
         "textposition": "auto",
         "type": "bar",
         "x": [
          "4726",
          "5379",
          "4150",
          "4867",
          "4203",
          "4275",
          "4647",
          "6129",
          "5826",
          "4220",
          "6569",
          "5803",
          "5778",
          "4870",
          "5695",
          "4863",
          "4059",
          "5777",
          "4188",
          "4105"
         ],
         "xaxis": "x",
         "y": [
          144,
          122,
          122,
          72,
          54,
          48,
          44,
          40,
          40,
          36,
          34,
          34,
          34,
          32,
          32,
          32,
          32,
          32,
          32,
          32
         ],
         "yaxis": "y"
        }
       ],
       "layout": {
        "barmode": "relative",
        "legend": {
         "tracegroupgap": 0
        },
        "margin": {
         "t": 60
        },
        "template": {
         "data": {
          "bar": [
           {
            "error_x": {
             "color": "#2a3f5f"
            },
            "error_y": {
             "color": "#2a3f5f"
            },
            "marker": {
             "line": {
              "color": "#E5ECF6",
              "width": 0.5
             },
             "pattern": {
              "fillmode": "overlay",
              "size": 10,
              "solidity": 0.2
             }
            },
            "type": "bar"
           }
          ],
          "barpolar": [
           {
            "marker": {
             "line": {
              "color": "#E5ECF6",
              "width": 0.5
             },
             "pattern": {
              "fillmode": "overlay",
              "size": 10,
              "solidity": 0.2
             }
            },
            "type": "barpolar"
           }
          ],
          "carpet": [
           {
            "aaxis": {
             "endlinecolor": "#2a3f5f",
             "gridcolor": "white",
             "linecolor": "white",
             "minorgridcolor": "white",
             "startlinecolor": "#2a3f5f"
            },
            "baxis": {
             "endlinecolor": "#2a3f5f",
             "gridcolor": "white",
             "linecolor": "white",
             "minorgridcolor": "white",
             "startlinecolor": "#2a3f5f"
            },
            "type": "carpet"
           }
          ],
          "choropleth": [
           {
            "colorbar": {
             "outlinewidth": 0,
             "ticks": ""
            },
            "type": "choropleth"
           }
          ],
          "contour": [
           {
            "colorbar": {
             "outlinewidth": 0,
             "ticks": ""
            },
            "colorscale": [
             [
              0,
              "#0d0887"
             ],
             [
              0.1111111111111111,
              "#46039f"
             ],
             [
              0.2222222222222222,
              "#7201a8"
             ],
             [
              0.3333333333333333,
              "#9c179e"
             ],
             [
              0.4444444444444444,
              "#bd3786"
             ],
             [
              0.5555555555555556,
              "#d8576b"
             ],
             [
              0.6666666666666666,
              "#ed7953"
             ],
             [
              0.7777777777777778,
              "#fb9f3a"
             ],
             [
              0.8888888888888888,
              "#fdca26"
             ],
             [
              1,
              "#f0f921"
             ]
            ],
            "type": "contour"
           }
          ],
          "contourcarpet": [
           {
            "colorbar": {
             "outlinewidth": 0,
             "ticks": ""
            },
            "type": "contourcarpet"
           }
          ],
          "heatmap": [
           {
            "colorbar": {
             "outlinewidth": 0,
             "ticks": ""
            },
            "colorscale": [
             [
              0,
              "#0d0887"
             ],
             [
              0.1111111111111111,
              "#46039f"
             ],
             [
              0.2222222222222222,
              "#7201a8"
             ],
             [
              0.3333333333333333,
              "#9c179e"
             ],
             [
              0.4444444444444444,
              "#bd3786"
             ],
             [
              0.5555555555555556,
              "#d8576b"
             ],
             [
              0.6666666666666666,
              "#ed7953"
             ],
             [
              0.7777777777777778,
              "#fb9f3a"
             ],
             [
              0.8888888888888888,
              "#fdca26"
             ],
             [
              1,
              "#f0f921"
             ]
            ],
            "type": "heatmap"
           }
          ],
          "heatmapgl": [
           {
            "colorbar": {
             "outlinewidth": 0,
             "ticks": ""
            },
            "colorscale": [
             [
              0,
              "#0d0887"
             ],
             [
              0.1111111111111111,
              "#46039f"
             ],
             [
              0.2222222222222222,
              "#7201a8"
             ],
             [
              0.3333333333333333,
              "#9c179e"
             ],
             [
              0.4444444444444444,
              "#bd3786"
             ],
             [
              0.5555555555555556,
              "#d8576b"
             ],
             [
              0.6666666666666666,
              "#ed7953"
             ],
             [
              0.7777777777777778,
              "#fb9f3a"
             ],
             [
              0.8888888888888888,
              "#fdca26"
             ],
             [
              1,
              "#f0f921"
             ]
            ],
            "type": "heatmapgl"
           }
          ],
          "histogram": [
           {
            "marker": {
             "pattern": {
              "fillmode": "overlay",
              "size": 10,
              "solidity": 0.2
             }
            },
            "type": "histogram"
           }
          ],
          "histogram2d": [
           {
            "colorbar": {
             "outlinewidth": 0,
             "ticks": ""
            },
            "colorscale": [
             [
              0,
              "#0d0887"
             ],
             [
              0.1111111111111111,
              "#46039f"
             ],
             [
              0.2222222222222222,
              "#7201a8"
             ],
             [
              0.3333333333333333,
              "#9c179e"
             ],
             [
              0.4444444444444444,
              "#bd3786"
             ],
             [
              0.5555555555555556,
              "#d8576b"
             ],
             [
              0.6666666666666666,
              "#ed7953"
             ],
             [
              0.7777777777777778,
              "#fb9f3a"
             ],
             [
              0.8888888888888888,
              "#fdca26"
             ],
             [
              1,
              "#f0f921"
             ]
            ],
            "type": "histogram2d"
           }
          ],
          "histogram2dcontour": [
           {
            "colorbar": {
             "outlinewidth": 0,
             "ticks": ""
            },
            "colorscale": [
             [
              0,
              "#0d0887"
             ],
             [
              0.1111111111111111,
              "#46039f"
             ],
             [
              0.2222222222222222,
              "#7201a8"
             ],
             [
              0.3333333333333333,
              "#9c179e"
             ],
             [
              0.4444444444444444,
              "#bd3786"
             ],
             [
              0.5555555555555556,
              "#d8576b"
             ],
             [
              0.6666666666666666,
              "#ed7953"
             ],
             [
              0.7777777777777778,
              "#fb9f3a"
             ],
             [
              0.8888888888888888,
              "#fdca26"
             ],
             [
              1,
              "#f0f921"
             ]
            ],
            "type": "histogram2dcontour"
           }
          ],
          "mesh3d": [
           {
            "colorbar": {
             "outlinewidth": 0,
             "ticks": ""
            },
            "type": "mesh3d"
           }
          ],
          "parcoords": [
           {
            "line": {
             "colorbar": {
              "outlinewidth": 0,
              "ticks": ""
             }
            },
            "type": "parcoords"
           }
          ],
          "pie": [
           {
            "automargin": true,
            "type": "pie"
           }
          ],
          "scatter": [
           {
            "fillpattern": {
             "fillmode": "overlay",
             "size": 10,
             "solidity": 0.2
            },
            "type": "scatter"
           }
          ],
          "scatter3d": [
           {
            "line": {
             "colorbar": {
              "outlinewidth": 0,
              "ticks": ""
             }
            },
            "marker": {
             "colorbar": {
              "outlinewidth": 0,
              "ticks": ""
             }
            },
            "type": "scatter3d"
           }
          ],
          "scattercarpet": [
           {
            "marker": {
             "colorbar": {
              "outlinewidth": 0,
              "ticks": ""
             }
            },
            "type": "scattercarpet"
           }
          ],
          "scattergeo": [
           {
            "marker": {
             "colorbar": {
              "outlinewidth": 0,
              "ticks": ""
             }
            },
            "type": "scattergeo"
           }
          ],
          "scattergl": [
           {
            "marker": {
             "colorbar": {
              "outlinewidth": 0,
              "ticks": ""
             }
            },
            "type": "scattergl"
           }
          ],
          "scattermapbox": [
           {
            "marker": {
             "colorbar": {
              "outlinewidth": 0,
              "ticks": ""
             }
            },
            "type": "scattermapbox"
           }
          ],
          "scatterpolar": [
           {
            "marker": {
             "colorbar": {
              "outlinewidth": 0,
              "ticks": ""
             }
            },
            "type": "scatterpolar"
           }
          ],
          "scatterpolargl": [
           {
            "marker": {
             "colorbar": {
              "outlinewidth": 0,
              "ticks": ""
             }
            },
            "type": "scatterpolargl"
           }
          ],
          "scatterternary": [
           {
            "marker": {
             "colorbar": {
              "outlinewidth": 0,
              "ticks": ""
             }
            },
            "type": "scatterternary"
           }
          ],
          "surface": [
           {
            "colorbar": {
             "outlinewidth": 0,
             "ticks": ""
            },
            "colorscale": [
             [
              0,
              "#0d0887"
             ],
             [
              0.1111111111111111,
              "#46039f"
             ],
             [
              0.2222222222222222,
              "#7201a8"
             ],
             [
              0.3333333333333333,
              "#9c179e"
             ],
             [
              0.4444444444444444,
              "#bd3786"
             ],
             [
              0.5555555555555556,
              "#d8576b"
             ],
             [
              0.6666666666666666,
              "#ed7953"
             ],
             [
              0.7777777777777778,
              "#fb9f3a"
             ],
             [
              0.8888888888888888,
              "#fdca26"
             ],
             [
              1,
              "#f0f921"
             ]
            ],
            "type": "surface"
           }
          ],
          "table": [
           {
            "cells": {
             "fill": {
              "color": "#EBF0F8"
             },
             "line": {
              "color": "white"
             }
            },
            "header": {
             "fill": {
              "color": "#C8D4E3"
             },
             "line": {
              "color": "white"
             }
            },
            "type": "table"
           }
          ]
         },
         "layout": {
          "annotationdefaults": {
           "arrowcolor": "#2a3f5f",
           "arrowhead": 0,
           "arrowwidth": 1
          },
          "autotypenumbers": "strict",
          "coloraxis": {
           "colorbar": {
            "outlinewidth": 0,
            "ticks": ""
           }
          },
          "colorscale": {
           "diverging": [
            [
             0,
             "#8e0152"
            ],
            [
             0.1,
             "#c51b7d"
            ],
            [
             0.2,
             "#de77ae"
            ],
            [
             0.3,
             "#f1b6da"
            ],
            [
             0.4,
             "#fde0ef"
            ],
            [
             0.5,
             "#f7f7f7"
            ],
            [
             0.6,
             "#e6f5d0"
            ],
            [
             0.7,
             "#b8e186"
            ],
            [
             0.8,
             "#7fbc41"
            ],
            [
             0.9,
             "#4d9221"
            ],
            [
             1,
             "#276419"
            ]
           ],
           "sequential": [
            [
             0,
             "#0d0887"
            ],
            [
             0.1111111111111111,
             "#46039f"
            ],
            [
             0.2222222222222222,
             "#7201a8"
            ],
            [
             0.3333333333333333,
             "#9c179e"
            ],
            [
             0.4444444444444444,
             "#bd3786"
            ],
            [
             0.5555555555555556,
             "#d8576b"
            ],
            [
             0.6666666666666666,
             "#ed7953"
            ],
            [
             0.7777777777777778,
             "#fb9f3a"
            ],
            [
             0.8888888888888888,
             "#fdca26"
            ],
            [
             1,
             "#f0f921"
            ]
           ],
           "sequentialminus": [
            [
             0,
             "#0d0887"
            ],
            [
             0.1111111111111111,
             "#46039f"
            ],
            [
             0.2222222222222222,
             "#7201a8"
            ],
            [
             0.3333333333333333,
             "#9c179e"
            ],
            [
             0.4444444444444444,
             "#bd3786"
            ],
            [
             0.5555555555555556,
             "#d8576b"
            ],
            [
             0.6666666666666666,
             "#ed7953"
            ],
            [
             0.7777777777777778,
             "#fb9f3a"
            ],
            [
             0.8888888888888888,
             "#fdca26"
            ],
            [
             1,
             "#f0f921"
            ]
           ]
          },
          "colorway": [
           "#636efa",
           "#EF553B",
           "#00cc96",
           "#ab63fa",
           "#FFA15A",
           "#19d3f3",
           "#FF6692",
           "#B6E880",
           "#FF97FF",
           "#FECB52"
          ],
          "font": {
           "color": "#2a3f5f"
          },
          "geo": {
           "bgcolor": "white",
           "lakecolor": "white",
           "landcolor": "#E5ECF6",
           "showlakes": true,
           "showland": true,
           "subunitcolor": "white"
          },
          "hoverlabel": {
           "align": "left"
          },
          "hovermode": "closest",
          "mapbox": {
           "style": "light"
          },
          "paper_bgcolor": "white",
          "plot_bgcolor": "#E5ECF6",
          "polar": {
           "angularaxis": {
            "gridcolor": "white",
            "linecolor": "white",
            "ticks": ""
           },
           "bgcolor": "#E5ECF6",
           "radialaxis": {
            "gridcolor": "white",
            "linecolor": "white",
            "ticks": ""
           }
          },
          "scene": {
           "xaxis": {
            "backgroundcolor": "#E5ECF6",
            "gridcolor": "white",
            "gridwidth": 2,
            "linecolor": "white",
            "showbackground": true,
            "ticks": "",
            "zerolinecolor": "white"
           },
           "yaxis": {
            "backgroundcolor": "#E5ECF6",
            "gridcolor": "white",
            "gridwidth": 2,
            "linecolor": "white",
            "showbackground": true,
            "ticks": "",
            "zerolinecolor": "white"
           },
           "zaxis": {
            "backgroundcolor": "#E5ECF6",
            "gridcolor": "white",
            "gridwidth": 2,
            "linecolor": "white",
            "showbackground": true,
            "ticks": "",
            "zerolinecolor": "white"
           }
          },
          "shapedefaults": {
           "line": {
            "color": "#2a3f5f"
           }
          },
          "ternary": {
           "aaxis": {
            "gridcolor": "white",
            "linecolor": "white",
            "ticks": ""
           },
           "baxis": {
            "gridcolor": "white",
            "linecolor": "white",
            "ticks": ""
           },
           "bgcolor": "#E5ECF6",
           "caxis": {
            "gridcolor": "white",
            "linecolor": "white",
            "ticks": ""
           }
          },
          "title": {
           "x": 0.05
          },
          "xaxis": {
           "automargin": true,
           "gridcolor": "white",
           "linecolor": "white",
           "ticks": "",
           "title": {
            "standoff": 15
           },
           "zerolinecolor": "white",
           "zerolinewidth": 2
          },
          "yaxis": {
           "automargin": true,
           "gridcolor": "white",
           "linecolor": "white",
           "ticks": "",
           "title": {
            "standoff": 15
           },
           "zerolinecolor": "white",
           "zerolinewidth": 2
          }
         }
        },
        "xaxis": {
         "anchor": "y",
         "domain": [
          0,
          1
         ],
         "title": {
          "text": "product_id"
         }
        },
        "yaxis": {
         "anchor": "x",
         "domain": [
          0,
          1
         ],
         "title": {
          "text": "total_sales"
         }
        }
       }
      }
     },
     "metadata": {},
     "output_type": "display_data"
    }
   ],
   "source": [
    "#####################################\n",
    "# Palmares des articles en quantité #\n",
    "#####################################\n",
    "\n",
    "#Effectuer le tri dans l'ordre décroissant de quantités vendues du dataset df_merge\n",
    "df_merge2.sort_values(by='total_sales', ascending=False, inplace=True)\n",
    "#Réinitialiser l'index du dataset par un reset_index\n",
    "df_merge2.reset_index(drop=True,inplace=True)\n",
    "display(df_merge2.head())\n",
    "#Afficher les 20 premier articles en quantité\n",
    "quantité_vendues_par_article = pd.DataFrame(df_merge2.groupby('product_id')['total_sales'].sum().sort_values(ascending=False).head(20))\n",
    "display(quantité_vendues_par_article)\n",
    "\n",
    "#Graphique en barre des 20 premiers articles avec plotly express\n",
    "fig = px.bar(quantité_vendues_par_article, y='total_sales')\n",
    "fig.show()\n"
   ]
  },
  {
   "cell_type": "code",
   "execution_count": 250,
   "id": "8bd40e49",
   "metadata": {},
   "outputs": [
    {
     "data": {
      "text/html": [
       "<div>\n",
       "<style scoped>\n",
       "    .dataframe tbody tr th:only-of-type {\n",
       "        vertical-align: middle;\n",
       "    }\n",
       "\n",
       "    .dataframe tbody tr th {\n",
       "        vertical-align: top;\n",
       "    }\n",
       "\n",
       "    .dataframe thead th {\n",
       "        text-align: right;\n",
       "    }\n",
       "</style>\n",
       "<table border=\"1\" class=\"dataframe\">\n",
       "  <thead>\n",
       "    <tr style=\"text-align: right;\">\n",
       "      <th></th>\n",
       "      <th>product_id</th>\n",
       "      <th>product_type</th>\n",
       "      <th>stock_quantity</th>\n",
       "      <th>id_web</th>\n",
       "    </tr>\n",
       "  </thead>\n",
       "  <tbody>\n",
       "    <tr>\n",
       "      <th>0</th>\n",
       "      <td>4726</td>\n",
       "      <td>Vin</td>\n",
       "      <td>0</td>\n",
       "      <td>14950</td>\n",
       "    </tr>\n",
       "    <tr>\n",
       "      <th>9</th>\n",
       "      <td>4726</td>\n",
       "      <td>Vin</td>\n",
       "      <td>0</td>\n",
       "      <td>14950</td>\n",
       "    </tr>\n",
       "  </tbody>\n",
       "</table>\n",
       "</div>"
      ],
      "text/plain": [
       "  product_id product_type  stock_quantity id_web\n",
       "0       4726          Vin               0  14950\n",
       "9       4726          Vin               0  14950"
      ]
     },
     "execution_count": 250,
     "metadata": {},
     "output_type": "execute_result"
    }
   ],
   "source": [
    "df_merge2[df_merge2['product_id'] == '4726'][['product_id', 'product_type', 'stock_quantity', 'id_web']]"
   ]
  },
  {
   "cell_type": "code",
   "execution_count": 251,
   "id": "2aad021e",
   "metadata": {},
   "outputs": [
    {
     "name": "stdout",
     "output_type": "stream",
     "text": [
      "le nombre d'articles représentant 80% des ventes en quantité est de 856\n",
      "La proportion que représentent ce groupe d'articles dans le catalogue entier du site web est de 60.03\n"
     ]
    }
   ],
   "source": [
    "#############################\n",
    "# Calculer le 20 / 80 en CA #\n",
    "#############################\n",
    "\n",
    "#Créer une colonne calculant la part en quantité de la ligne dans le dataset\n",
    "df_merge2['part_en_quantité'] = (df_merge2['total_sales'] / df_merge2['total_sales'].sum()) * 100\n",
    "\n",
    "#Créer une colonne réalisant la somme cumulative de la colonne précedemment créée\n",
    "df_merge2['somme_cumulative_quantité'] = round(df_merge2['part_en_quantité'].cumsum(),2)\n",
    "\n",
    "#Grâce au deux colonnes créées précedemment, calculer le nombre d'articles représentant 80% des ventes en quantité\n",
    "nb_article_80_quantité = df_merge2[df_merge2['somme_cumulative_quantité'] <= 80]\n",
    "print(\"le nombre d'articles représentant 80% des ventes en quantité est de\", len(nb_article_80_quantité))\n",
    "\n",
    "#Afficher la proportion que représentent ce groupe d'articles dans le catalogue entier du site web\n",
    "proportion = len(nb_article_80_quantité) / len(df_merge2) * 100\n",
    "print(\"La proportion que représentent ce groupe d'articles dans le catalogue entier du site web est de\", round(proportion, 2))\n",
    "\n"
   ]
  },
  {
   "cell_type": "markdown",
   "id": "077789b1",
   "metadata": {},
   "source": [
    "<div style=\"border: 1px solid RGB(51,165,182);\" >\n",
    "<h3 style=\"margin: auto; padding: 20px; color: RGB(51,165,182); \">Etape 5.3 - Analyse des stocks</h3>\n",
    "</div>"
   ]
  },
  {
   "cell_type": "code",
   "execution_count": 252,
   "id": "14e45472",
   "metadata": {},
   "outputs": [
    {
     "data": {
      "text/html": [
       "<div>\n",
       "<style scoped>\n",
       "    .dataframe tbody tr th:only-of-type {\n",
       "        vertical-align: middle;\n",
       "    }\n",
       "\n",
       "    .dataframe tbody tr th {\n",
       "        vertical-align: top;\n",
       "    }\n",
       "\n",
       "    .dataframe thead th {\n",
       "        text-align: right;\n",
       "    }\n",
       "</style>\n",
       "<table border=\"1\" class=\"dataframe\">\n",
       "  <thead>\n",
       "    <tr style=\"text-align: right;\">\n",
       "      <th></th>\n",
       "      <th>index</th>\n",
       "      <th>product_id</th>\n",
       "      <th>onsale_web</th>\n",
       "      <th>price</th>\n",
       "      <th>stock_quantity</th>\n",
       "      <th>stock_status</th>\n",
       "      <th>purchase_price</th>\n",
       "      <th>id_web</th>\n",
       "      <th>_merge</th>\n",
       "      <th>sku</th>\n",
       "      <th>...</th>\n",
       "      <th>post_type</th>\n",
       "      <th>post_mime_type</th>\n",
       "      <th>comment_count</th>\n",
       "      <th>_merge2</th>\n",
       "      <th>ca_par_article</th>\n",
       "      <th>part_du_ca</th>\n",
       "      <th>somme_cumulative_ca</th>\n",
       "      <th>part_en_quantité</th>\n",
       "      <th>somme_cumulative_quantité</th>\n",
       "      <th>rotation_stock</th>\n",
       "    </tr>\n",
       "  </thead>\n",
       "  <tbody>\n",
       "    <tr>\n",
       "      <th>1221</th>\n",
       "      <td>140</td>\n",
       "      <td>4142</td>\n",
       "      <td>1</td>\n",
       "      <td>53.0</td>\n",
       "      <td>125</td>\n",
       "      <td>instock</td>\n",
       "      <td>32.15</td>\n",
       "      <td>11641</td>\n",
       "      <td>both</td>\n",
       "      <td>11641</td>\n",
       "      <td>...</td>\n",
       "      <td>attachment</td>\n",
       "      <td>image/jpeg</td>\n",
       "      <td>0.0</td>\n",
       "      <td>both</td>\n",
       "      <td>212.0</td>\n",
       "      <td>0.07</td>\n",
       "      <td>57.43</td>\n",
       "      <td>0.033852</td>\n",
       "      <td>96.73</td>\n",
       "      <td>31.25</td>\n",
       "    </tr>\n",
       "    <tr>\n",
       "      <th>1229</th>\n",
       "      <td>141</td>\n",
       "      <td>4142</td>\n",
       "      <td>1</td>\n",
       "      <td>53.0</td>\n",
       "      <td>125</td>\n",
       "      <td>instock</td>\n",
       "      <td>32.15</td>\n",
       "      <td>11641</td>\n",
       "      <td>both</td>\n",
       "      <td>11641</td>\n",
       "      <td>...</td>\n",
       "      <td>product</td>\n",
       "      <td>NaN</td>\n",
       "      <td>0.0</td>\n",
       "      <td>both</td>\n",
       "      <td>212.0</td>\n",
       "      <td>0.07</td>\n",
       "      <td>57.57</td>\n",
       "      <td>0.033852</td>\n",
       "      <td>97.00</td>\n",
       "      <td>31.25</td>\n",
       "    </tr>\n",
       "    <tr>\n",
       "      <th>1073</th>\n",
       "      <td>1283</td>\n",
       "      <td>6126</td>\n",
       "      <td>1</td>\n",
       "      <td>135.0</td>\n",
       "      <td>138</td>\n",
       "      <td>instock</td>\n",
       "      <td>80.33</td>\n",
       "      <td>14923</td>\n",
       "      <td>both</td>\n",
       "      <td>14923</td>\n",
       "      <td>...</td>\n",
       "      <td>attachment</td>\n",
       "      <td>image/jpeg</td>\n",
       "      <td>0.0</td>\n",
       "      <td>both</td>\n",
       "      <td>675.0</td>\n",
       "      <td>0.23</td>\n",
       "      <td>9.72</td>\n",
       "      <td>0.042316</td>\n",
       "      <td>91.19</td>\n",
       "      <td>27.60</td>\n",
       "    </tr>\n",
       "    <tr>\n",
       "      <th>1062</th>\n",
       "      <td>1282</td>\n",
       "      <td>6126</td>\n",
       "      <td>1</td>\n",
       "      <td>135.0</td>\n",
       "      <td>138</td>\n",
       "      <td>instock</td>\n",
       "      <td>80.33</td>\n",
       "      <td>14923</td>\n",
       "      <td>both</td>\n",
       "      <td>14923</td>\n",
       "      <td>...</td>\n",
       "      <td>product</td>\n",
       "      <td>NaN</td>\n",
       "      <td>0.0</td>\n",
       "      <td>both</td>\n",
       "      <td>675.0</td>\n",
       "      <td>0.23</td>\n",
       "      <td>9.95</td>\n",
       "      <td>0.042316</td>\n",
       "      <td>90.72</td>\n",
       "      <td>27.60</td>\n",
       "    </tr>\n",
       "    <tr>\n",
       "      <th>1274</th>\n",
       "      <td>404</td>\n",
       "      <td>4356</td>\n",
       "      <td>1</td>\n",
       "      <td>51.6</td>\n",
       "      <td>81</td>\n",
       "      <td>instock</td>\n",
       "      <td>31.00</td>\n",
       "      <td>12585</td>\n",
       "      <td>both</td>\n",
       "      <td>12585</td>\n",
       "      <td>...</td>\n",
       "      <td>attachment</td>\n",
       "      <td>image/jpeg</td>\n",
       "      <td>0.0</td>\n",
       "      <td>both</td>\n",
       "      <td>154.8</td>\n",
       "      <td>0.05</td>\n",
       "      <td>77.44</td>\n",
       "      <td>0.025389</td>\n",
       "      <td>98.16</td>\n",
       "      <td>27.00</td>\n",
       "    </tr>\n",
       "    <tr>\n",
       "      <th>1272</th>\n",
       "      <td>405</td>\n",
       "      <td>4356</td>\n",
       "      <td>1</td>\n",
       "      <td>51.6</td>\n",
       "      <td>81</td>\n",
       "      <td>instock</td>\n",
       "      <td>31.00</td>\n",
       "      <td>12585</td>\n",
       "      <td>both</td>\n",
       "      <td>12585</td>\n",
       "      <td>...</td>\n",
       "      <td>product</td>\n",
       "      <td>NaN</td>\n",
       "      <td>0.0</td>\n",
       "      <td>both</td>\n",
       "      <td>154.8</td>\n",
       "      <td>0.05</td>\n",
       "      <td>77.39</td>\n",
       "      <td>0.025389</td>\n",
       "      <td>98.10</td>\n",
       "      <td>27.00</td>\n",
       "    </tr>\n",
       "    <tr>\n",
       "      <th>1132</th>\n",
       "      <td>395</td>\n",
       "      <td>4348</td>\n",
       "      <td>1</td>\n",
       "      <td>59.0</td>\n",
       "      <td>125</td>\n",
       "      <td>instock</td>\n",
       "      <td>34.76</td>\n",
       "      <td>12586</td>\n",
       "      <td>both</td>\n",
       "      <td>12586</td>\n",
       "      <td>...</td>\n",
       "      <td>product</td>\n",
       "      <td>NaN</td>\n",
       "      <td>0.0</td>\n",
       "      <td>both</td>\n",
       "      <td>295.0</td>\n",
       "      <td>0.10</td>\n",
       "      <td>35.67</td>\n",
       "      <td>0.042316</td>\n",
       "      <td>93.69</td>\n",
       "      <td>25.00</td>\n",
       "    </tr>\n",
       "    <tr>\n",
       "      <th>1130</th>\n",
       "      <td>394</td>\n",
       "      <td>4348</td>\n",
       "      <td>1</td>\n",
       "      <td>59.0</td>\n",
       "      <td>125</td>\n",
       "      <td>instock</td>\n",
       "      <td>34.76</td>\n",
       "      <td>12586</td>\n",
       "      <td>both</td>\n",
       "      <td>12586</td>\n",
       "      <td>...</td>\n",
       "      <td>attachment</td>\n",
       "      <td>image/jpeg</td>\n",
       "      <td>0.0</td>\n",
       "      <td>both</td>\n",
       "      <td>295.0</td>\n",
       "      <td>0.10</td>\n",
       "      <td>35.57</td>\n",
       "      <td>0.042316</td>\n",
       "      <td>93.60</td>\n",
       "      <td>25.00</td>\n",
       "    </tr>\n",
       "    <tr>\n",
       "      <th>1291</th>\n",
       "      <td>149</td>\n",
       "      <td>4148</td>\n",
       "      <td>1</td>\n",
       "      <td>37.5</td>\n",
       "      <td>71</td>\n",
       "      <td>instock</td>\n",
       "      <td>21.88</td>\n",
       "      <td>1364</td>\n",
       "      <td>both</td>\n",
       "      <td>1364</td>\n",
       "      <td>...</td>\n",
       "      <td>attachment</td>\n",
       "      <td>image/jpeg</td>\n",
       "      <td>0.0</td>\n",
       "      <td>both</td>\n",
       "      <td>112.5</td>\n",
       "      <td>0.04</td>\n",
       "      <td>92.94</td>\n",
       "      <td>0.025389</td>\n",
       "      <td>98.59</td>\n",
       "      <td>23.67</td>\n",
       "    </tr>\n",
       "    <tr>\n",
       "      <th>1290</th>\n",
       "      <td>148</td>\n",
       "      <td>4148</td>\n",
       "      <td>1</td>\n",
       "      <td>37.5</td>\n",
       "      <td>71</td>\n",
       "      <td>instock</td>\n",
       "      <td>21.88</td>\n",
       "      <td>1364</td>\n",
       "      <td>both</td>\n",
       "      <td>1364</td>\n",
       "      <td>...</td>\n",
       "      <td>product</td>\n",
       "      <td>NaN</td>\n",
       "      <td>0.0</td>\n",
       "      <td>both</td>\n",
       "      <td>112.5</td>\n",
       "      <td>0.04</td>\n",
       "      <td>92.90</td>\n",
       "      <td>0.025389</td>\n",
       "      <td>98.56</td>\n",
       "      <td>23.67</td>\n",
       "    </tr>\n",
       "    <tr>\n",
       "      <th>1080</th>\n",
       "      <td>406</td>\n",
       "      <td>4357</td>\n",
       "      <td>1</td>\n",
       "      <td>39.0</td>\n",
       "      <td>115</td>\n",
       "      <td>instock</td>\n",
       "      <td>22.30</td>\n",
       "      <td>9562</td>\n",
       "      <td>both</td>\n",
       "      <td>9562</td>\n",
       "      <td>...</td>\n",
       "      <td>attachment</td>\n",
       "      <td>image/jpeg</td>\n",
       "      <td>0.0</td>\n",
       "      <td>both</td>\n",
       "      <td>195.0</td>\n",
       "      <td>0.07</td>\n",
       "      <td>63.80</td>\n",
       "      <td>0.042316</td>\n",
       "      <td>91.49</td>\n",
       "      <td>23.00</td>\n",
       "    </tr>\n",
       "    <tr>\n",
       "      <th>1079</th>\n",
       "      <td>407</td>\n",
       "      <td>4357</td>\n",
       "      <td>1</td>\n",
       "      <td>39.0</td>\n",
       "      <td>115</td>\n",
       "      <td>instock</td>\n",
       "      <td>22.30</td>\n",
       "      <td>9562</td>\n",
       "      <td>both</td>\n",
       "      <td>9562</td>\n",
       "      <td>...</td>\n",
       "      <td>product</td>\n",
       "      <td>NaN</td>\n",
       "      <td>0.0</td>\n",
       "      <td>both</td>\n",
       "      <td>195.0</td>\n",
       "      <td>0.07</td>\n",
       "      <td>63.73</td>\n",
       "      <td>0.042316</td>\n",
       "      <td>91.44</td>\n",
       "      <td>23.00</td>\n",
       "    </tr>\n",
       "    <tr>\n",
       "      <th>1224</th>\n",
       "      <td>143</td>\n",
       "      <td>4144</td>\n",
       "      <td>1</td>\n",
       "      <td>49.0</td>\n",
       "      <td>91</td>\n",
       "      <td>instock</td>\n",
       "      <td>27.73</td>\n",
       "      <td>1662</td>\n",
       "      <td>both</td>\n",
       "      <td>1662</td>\n",
       "      <td>...</td>\n",
       "      <td>product</td>\n",
       "      <td>NaN</td>\n",
       "      <td>0.0</td>\n",
       "      <td>both</td>\n",
       "      <td>196.0</td>\n",
       "      <td>0.07</td>\n",
       "      <td>62.96</td>\n",
       "      <td>0.033852</td>\n",
       "      <td>96.83</td>\n",
       "      <td>22.75</td>\n",
       "    </tr>\n",
       "    <tr>\n",
       "      <th>1222</th>\n",
       "      <td>142</td>\n",
       "      <td>4144</td>\n",
       "      <td>1</td>\n",
       "      <td>49.0</td>\n",
       "      <td>91</td>\n",
       "      <td>instock</td>\n",
       "      <td>27.73</td>\n",
       "      <td>1662</td>\n",
       "      <td>both</td>\n",
       "      <td>1662</td>\n",
       "      <td>...</td>\n",
       "      <td>attachment</td>\n",
       "      <td>image/jpeg</td>\n",
       "      <td>0.0</td>\n",
       "      <td>both</td>\n",
       "      <td>196.0</td>\n",
       "      <td>0.07</td>\n",
       "      <td>63.10</td>\n",
       "      <td>0.033852</td>\n",
       "      <td>96.77</td>\n",
       "      <td>22.75</td>\n",
       "    </tr>\n",
       "    <tr>\n",
       "      <th>958</th>\n",
       "      <td>875</td>\n",
       "      <td>5025</td>\n",
       "      <td>1</td>\n",
       "      <td>112.0</td>\n",
       "      <td>136</td>\n",
       "      <td>instock</td>\n",
       "      <td>68.60</td>\n",
       "      <td>13914</td>\n",
       "      <td>both</td>\n",
       "      <td>13914</td>\n",
       "      <td>...</td>\n",
       "      <td>product</td>\n",
       "      <td>NaN</td>\n",
       "      <td>0.0</td>\n",
       "      <td>both</td>\n",
       "      <td>672.0</td>\n",
       "      <td>0.23</td>\n",
       "      <td>10.18</td>\n",
       "      <td>0.050779</td>\n",
       "      <td>85.73</td>\n",
       "      <td>22.67</td>\n",
       "    </tr>\n",
       "    <tr>\n",
       "      <th>966</th>\n",
       "      <td>874</td>\n",
       "      <td>5025</td>\n",
       "      <td>1</td>\n",
       "      <td>112.0</td>\n",
       "      <td>136</td>\n",
       "      <td>instock</td>\n",
       "      <td>68.60</td>\n",
       "      <td>13914</td>\n",
       "      <td>both</td>\n",
       "      <td>13914</td>\n",
       "      <td>...</td>\n",
       "      <td>attachment</td>\n",
       "      <td>image/jpeg</td>\n",
       "      <td>0.0</td>\n",
       "      <td>both</td>\n",
       "      <td>672.0</td>\n",
       "      <td>0.23</td>\n",
       "      <td>10.41</td>\n",
       "      <td>0.050779</td>\n",
       "      <td>86.14</td>\n",
       "      <td>22.67</td>\n",
       "    </tr>\n",
       "    <tr>\n",
       "      <th>875</th>\n",
       "      <td>396</td>\n",
       "      <td>4350</td>\n",
       "      <td>1</td>\n",
       "      <td>79.5</td>\n",
       "      <td>145</td>\n",
       "      <td>instock</td>\n",
       "      <td>47.30</td>\n",
       "      <td>12588</td>\n",
       "      <td>both</td>\n",
       "      <td>12588</td>\n",
       "      <td>...</td>\n",
       "      <td>attachment</td>\n",
       "      <td>image/jpeg</td>\n",
       "      <td>0.0</td>\n",
       "      <td>both</td>\n",
       "      <td>556.5</td>\n",
       "      <td>0.19</td>\n",
       "      <td>13.48</td>\n",
       "      <td>0.059242</td>\n",
       "      <td>81.18</td>\n",
       "      <td>20.71</td>\n",
       "    </tr>\n",
       "    <tr>\n",
       "      <th>910</th>\n",
       "      <td>397</td>\n",
       "      <td>4350</td>\n",
       "      <td>1</td>\n",
       "      <td>79.5</td>\n",
       "      <td>145</td>\n",
       "      <td>instock</td>\n",
       "      <td>47.30</td>\n",
       "      <td>12588</td>\n",
       "      <td>both</td>\n",
       "      <td>12588</td>\n",
       "      <td>...</td>\n",
       "      <td>product</td>\n",
       "      <td>NaN</td>\n",
       "      <td>0.0</td>\n",
       "      <td>both</td>\n",
       "      <td>556.5</td>\n",
       "      <td>0.19</td>\n",
       "      <td>13.67</td>\n",
       "      <td>0.059242</td>\n",
       "      <td>83.25</td>\n",
       "      <td>20.71</td>\n",
       "    </tr>\n",
       "    <tr>\n",
       "      <th>939</th>\n",
       "      <td>153</td>\n",
       "      <td>4150</td>\n",
       "      <td>1</td>\n",
       "      <td>59.0</td>\n",
       "      <td>123</td>\n",
       "      <td>instock</td>\n",
       "      <td>35.45</td>\n",
       "      <td>1366</td>\n",
       "      <td>both</td>\n",
       "      <td>1366</td>\n",
       "      <td>...</td>\n",
       "      <td>product</td>\n",
       "      <td>NaN</td>\n",
       "      <td>0.0</td>\n",
       "      <td>both</td>\n",
       "      <td>354.0</td>\n",
       "      <td>0.12</td>\n",
       "      <td>26.19</td>\n",
       "      <td>0.050779</td>\n",
       "      <td>84.77</td>\n",
       "      <td>20.50</td>\n",
       "    </tr>\n",
       "    <tr>\n",
       "      <th>903</th>\n",
       "      <td>389</td>\n",
       "      <td>4334</td>\n",
       "      <td>1</td>\n",
       "      <td>49.0</td>\n",
       "      <td>142</td>\n",
       "      <td>instock</td>\n",
       "      <td>30.01</td>\n",
       "      <td>7818</td>\n",
       "      <td>both</td>\n",
       "      <td>7818</td>\n",
       "      <td>...</td>\n",
       "      <td>attachment</td>\n",
       "      <td>image/jpeg</td>\n",
       "      <td>0.0</td>\n",
       "      <td>both</td>\n",
       "      <td>343.0</td>\n",
       "      <td>0.12</td>\n",
       "      <td>28.83</td>\n",
       "      <td>0.059242</td>\n",
       "      <td>82.84</td>\n",
       "      <td>20.29</td>\n",
       "    </tr>\n",
       "  </tbody>\n",
       "</table>\n",
       "<p>20 rows × 41 columns</p>\n",
       "</div>"
      ],
      "text/plain": [
       "      index product_id  onsale_web  price  stock_quantity stock_status  \\\n",
       "1221    140       4142           1   53.0             125      instock   \n",
       "1229    141       4142           1   53.0             125      instock   \n",
       "1073   1283       6126           1  135.0             138      instock   \n",
       "1062   1282       6126           1  135.0             138      instock   \n",
       "1274    404       4356           1   51.6              81      instock   \n",
       "1272    405       4356           1   51.6              81      instock   \n",
       "1132    395       4348           1   59.0             125      instock   \n",
       "1130    394       4348           1   59.0             125      instock   \n",
       "1291    149       4148           1   37.5              71      instock   \n",
       "1290    148       4148           1   37.5              71      instock   \n",
       "1080    406       4357           1   39.0             115      instock   \n",
       "1079    407       4357           1   39.0             115      instock   \n",
       "1224    143       4144           1   49.0              91      instock   \n",
       "1222    142       4144           1   49.0              91      instock   \n",
       "958     875       5025           1  112.0             136      instock   \n",
       "966     874       5025           1  112.0             136      instock   \n",
       "875     396       4350           1   79.5             145      instock   \n",
       "910     397       4350           1   79.5             145      instock   \n",
       "939     153       4150           1   59.0             123      instock   \n",
       "903     389       4334           1   49.0             142      instock   \n",
       "\n",
       "      purchase_price id_web _merge    sku  ...   post_type  post_mime_type  \\\n",
       "1221           32.15  11641   both  11641  ...  attachment      image/jpeg   \n",
       "1229           32.15  11641   both  11641  ...     product             NaN   \n",
       "1073           80.33  14923   both  14923  ...  attachment      image/jpeg   \n",
       "1062           80.33  14923   both  14923  ...     product             NaN   \n",
       "1274           31.00  12585   both  12585  ...  attachment      image/jpeg   \n",
       "1272           31.00  12585   both  12585  ...     product             NaN   \n",
       "1132           34.76  12586   both  12586  ...     product             NaN   \n",
       "1130           34.76  12586   both  12586  ...  attachment      image/jpeg   \n",
       "1291           21.88   1364   both   1364  ...  attachment      image/jpeg   \n",
       "1290           21.88   1364   both   1364  ...     product             NaN   \n",
       "1080           22.30   9562   both   9562  ...  attachment      image/jpeg   \n",
       "1079           22.30   9562   both   9562  ...     product             NaN   \n",
       "1224           27.73   1662   both   1662  ...     product             NaN   \n",
       "1222           27.73   1662   both   1662  ...  attachment      image/jpeg   \n",
       "958            68.60  13914   both  13914  ...     product             NaN   \n",
       "966            68.60  13914   both  13914  ...  attachment      image/jpeg   \n",
       "875            47.30  12588   both  12588  ...  attachment      image/jpeg   \n",
       "910            47.30  12588   both  12588  ...     product             NaN   \n",
       "939            35.45   1366   both   1366  ...     product             NaN   \n",
       "903            30.01   7818   both   7818  ...  attachment      image/jpeg   \n",
       "\n",
       "      comment_count  _merge2  ca_par_article part_du_ca  somme_cumulative_ca  \\\n",
       "1221            0.0     both           212.0       0.07                57.43   \n",
       "1229            0.0     both           212.0       0.07                57.57   \n",
       "1073            0.0     both           675.0       0.23                 9.72   \n",
       "1062            0.0     both           675.0       0.23                 9.95   \n",
       "1274            0.0     both           154.8       0.05                77.44   \n",
       "1272            0.0     both           154.8       0.05                77.39   \n",
       "1132            0.0     both           295.0       0.10                35.67   \n",
       "1130            0.0     both           295.0       0.10                35.57   \n",
       "1291            0.0     both           112.5       0.04                92.94   \n",
       "1290            0.0     both           112.5       0.04                92.90   \n",
       "1080            0.0     both           195.0       0.07                63.80   \n",
       "1079            0.0     both           195.0       0.07                63.73   \n",
       "1224            0.0     both           196.0       0.07                62.96   \n",
       "1222            0.0     both           196.0       0.07                63.10   \n",
       "958             0.0     both           672.0       0.23                10.18   \n",
       "966             0.0     both           672.0       0.23                10.41   \n",
       "875             0.0     both           556.5       0.19                13.48   \n",
       "910             0.0     both           556.5       0.19                13.67   \n",
       "939             0.0     both           354.0       0.12                26.19   \n",
       "903             0.0     both           343.0       0.12                28.83   \n",
       "\n",
       "     part_en_quantité somme_cumulative_quantité rotation_stock  \n",
       "1221         0.033852                     96.73          31.25  \n",
       "1229         0.033852                     97.00          31.25  \n",
       "1073         0.042316                     91.19          27.60  \n",
       "1062         0.042316                     90.72          27.60  \n",
       "1274         0.025389                     98.16          27.00  \n",
       "1272         0.025389                     98.10          27.00  \n",
       "1132         0.042316                     93.69          25.00  \n",
       "1130         0.042316                     93.60          25.00  \n",
       "1291         0.025389                     98.59          23.67  \n",
       "1290         0.025389                     98.56          23.67  \n",
       "1080         0.042316                     91.49          23.00  \n",
       "1079         0.042316                     91.44          23.00  \n",
       "1224         0.033852                     96.83          22.75  \n",
       "1222         0.033852                     96.77          22.75  \n",
       "958          0.050779                     85.73          22.67  \n",
       "966          0.050779                     86.14          22.67  \n",
       "875          0.059242                     81.18          20.71  \n",
       "910          0.059242                     83.25          20.71  \n",
       "939          0.050779                     84.77          20.50  \n",
       "903          0.059242                     82.84          20.29  \n",
       "\n",
       "[20 rows x 41 columns]"
      ]
     },
     "metadata": {},
     "output_type": "display_data"
    },
    {
     "data": {
      "application/vnd.plotly.v1+json": {
       "config": {
        "plotlyServerURL": "https://plot.ly"
       },
       "data": [
        {
         "alignmentgroup": "True",
         "hovertemplate": "product_id=%{x}<br>rotation_stock=%{y}<extra></extra>",
         "legendgroup": "",
         "marker": {
          "color": "#636efa",
          "pattern": {
           "shape": ""
          }
         },
         "name": "",
         "offsetgroup": "",
         "orientation": "v",
         "showlegend": false,
         "textposition": "auto",
         "type": "bar",
         "x": [
          "4142",
          "4142",
          "6126",
          "6126",
          "4356",
          "4356",
          "4348",
          "4348",
          "4148",
          "4148",
          "4357",
          "4357",
          "4144",
          "4144",
          "5025",
          "5025",
          "4350",
          "4350",
          "4150",
          "4334"
         ],
         "xaxis": "x",
         "y": [
          31.25,
          31.25,
          27.6,
          27.6,
          27,
          27,
          25,
          25,
          23.67,
          23.67,
          23,
          23,
          22.75,
          22.75,
          22.67,
          22.67,
          20.71,
          20.71,
          20.5,
          20.29
         ],
         "yaxis": "y"
        }
       ],
       "layout": {
        "barmode": "relative",
        "legend": {
         "tracegroupgap": 0
        },
        "margin": {
         "t": 60
        },
        "template": {
         "data": {
          "bar": [
           {
            "error_x": {
             "color": "#2a3f5f"
            },
            "error_y": {
             "color": "#2a3f5f"
            },
            "marker": {
             "line": {
              "color": "#E5ECF6",
              "width": 0.5
             },
             "pattern": {
              "fillmode": "overlay",
              "size": 10,
              "solidity": 0.2
             }
            },
            "type": "bar"
           }
          ],
          "barpolar": [
           {
            "marker": {
             "line": {
              "color": "#E5ECF6",
              "width": 0.5
             },
             "pattern": {
              "fillmode": "overlay",
              "size": 10,
              "solidity": 0.2
             }
            },
            "type": "barpolar"
           }
          ],
          "carpet": [
           {
            "aaxis": {
             "endlinecolor": "#2a3f5f",
             "gridcolor": "white",
             "linecolor": "white",
             "minorgridcolor": "white",
             "startlinecolor": "#2a3f5f"
            },
            "baxis": {
             "endlinecolor": "#2a3f5f",
             "gridcolor": "white",
             "linecolor": "white",
             "minorgridcolor": "white",
             "startlinecolor": "#2a3f5f"
            },
            "type": "carpet"
           }
          ],
          "choropleth": [
           {
            "colorbar": {
             "outlinewidth": 0,
             "ticks": ""
            },
            "type": "choropleth"
           }
          ],
          "contour": [
           {
            "colorbar": {
             "outlinewidth": 0,
             "ticks": ""
            },
            "colorscale": [
             [
              0,
              "#0d0887"
             ],
             [
              0.1111111111111111,
              "#46039f"
             ],
             [
              0.2222222222222222,
              "#7201a8"
             ],
             [
              0.3333333333333333,
              "#9c179e"
             ],
             [
              0.4444444444444444,
              "#bd3786"
             ],
             [
              0.5555555555555556,
              "#d8576b"
             ],
             [
              0.6666666666666666,
              "#ed7953"
             ],
             [
              0.7777777777777778,
              "#fb9f3a"
             ],
             [
              0.8888888888888888,
              "#fdca26"
             ],
             [
              1,
              "#f0f921"
             ]
            ],
            "type": "contour"
           }
          ],
          "contourcarpet": [
           {
            "colorbar": {
             "outlinewidth": 0,
             "ticks": ""
            },
            "type": "contourcarpet"
           }
          ],
          "heatmap": [
           {
            "colorbar": {
             "outlinewidth": 0,
             "ticks": ""
            },
            "colorscale": [
             [
              0,
              "#0d0887"
             ],
             [
              0.1111111111111111,
              "#46039f"
             ],
             [
              0.2222222222222222,
              "#7201a8"
             ],
             [
              0.3333333333333333,
              "#9c179e"
             ],
             [
              0.4444444444444444,
              "#bd3786"
             ],
             [
              0.5555555555555556,
              "#d8576b"
             ],
             [
              0.6666666666666666,
              "#ed7953"
             ],
             [
              0.7777777777777778,
              "#fb9f3a"
             ],
             [
              0.8888888888888888,
              "#fdca26"
             ],
             [
              1,
              "#f0f921"
             ]
            ],
            "type": "heatmap"
           }
          ],
          "heatmapgl": [
           {
            "colorbar": {
             "outlinewidth": 0,
             "ticks": ""
            },
            "colorscale": [
             [
              0,
              "#0d0887"
             ],
             [
              0.1111111111111111,
              "#46039f"
             ],
             [
              0.2222222222222222,
              "#7201a8"
             ],
             [
              0.3333333333333333,
              "#9c179e"
             ],
             [
              0.4444444444444444,
              "#bd3786"
             ],
             [
              0.5555555555555556,
              "#d8576b"
             ],
             [
              0.6666666666666666,
              "#ed7953"
             ],
             [
              0.7777777777777778,
              "#fb9f3a"
             ],
             [
              0.8888888888888888,
              "#fdca26"
             ],
             [
              1,
              "#f0f921"
             ]
            ],
            "type": "heatmapgl"
           }
          ],
          "histogram": [
           {
            "marker": {
             "pattern": {
              "fillmode": "overlay",
              "size": 10,
              "solidity": 0.2
             }
            },
            "type": "histogram"
           }
          ],
          "histogram2d": [
           {
            "colorbar": {
             "outlinewidth": 0,
             "ticks": ""
            },
            "colorscale": [
             [
              0,
              "#0d0887"
             ],
             [
              0.1111111111111111,
              "#46039f"
             ],
             [
              0.2222222222222222,
              "#7201a8"
             ],
             [
              0.3333333333333333,
              "#9c179e"
             ],
             [
              0.4444444444444444,
              "#bd3786"
             ],
             [
              0.5555555555555556,
              "#d8576b"
             ],
             [
              0.6666666666666666,
              "#ed7953"
             ],
             [
              0.7777777777777778,
              "#fb9f3a"
             ],
             [
              0.8888888888888888,
              "#fdca26"
             ],
             [
              1,
              "#f0f921"
             ]
            ],
            "type": "histogram2d"
           }
          ],
          "histogram2dcontour": [
           {
            "colorbar": {
             "outlinewidth": 0,
             "ticks": ""
            },
            "colorscale": [
             [
              0,
              "#0d0887"
             ],
             [
              0.1111111111111111,
              "#46039f"
             ],
             [
              0.2222222222222222,
              "#7201a8"
             ],
             [
              0.3333333333333333,
              "#9c179e"
             ],
             [
              0.4444444444444444,
              "#bd3786"
             ],
             [
              0.5555555555555556,
              "#d8576b"
             ],
             [
              0.6666666666666666,
              "#ed7953"
             ],
             [
              0.7777777777777778,
              "#fb9f3a"
             ],
             [
              0.8888888888888888,
              "#fdca26"
             ],
             [
              1,
              "#f0f921"
             ]
            ],
            "type": "histogram2dcontour"
           }
          ],
          "mesh3d": [
           {
            "colorbar": {
             "outlinewidth": 0,
             "ticks": ""
            },
            "type": "mesh3d"
           }
          ],
          "parcoords": [
           {
            "line": {
             "colorbar": {
              "outlinewidth": 0,
              "ticks": ""
             }
            },
            "type": "parcoords"
           }
          ],
          "pie": [
           {
            "automargin": true,
            "type": "pie"
           }
          ],
          "scatter": [
           {
            "fillpattern": {
             "fillmode": "overlay",
             "size": 10,
             "solidity": 0.2
            },
            "type": "scatter"
           }
          ],
          "scatter3d": [
           {
            "line": {
             "colorbar": {
              "outlinewidth": 0,
              "ticks": ""
             }
            },
            "marker": {
             "colorbar": {
              "outlinewidth": 0,
              "ticks": ""
             }
            },
            "type": "scatter3d"
           }
          ],
          "scattercarpet": [
           {
            "marker": {
             "colorbar": {
              "outlinewidth": 0,
              "ticks": ""
             }
            },
            "type": "scattercarpet"
           }
          ],
          "scattergeo": [
           {
            "marker": {
             "colorbar": {
              "outlinewidth": 0,
              "ticks": ""
             }
            },
            "type": "scattergeo"
           }
          ],
          "scattergl": [
           {
            "marker": {
             "colorbar": {
              "outlinewidth": 0,
              "ticks": ""
             }
            },
            "type": "scattergl"
           }
          ],
          "scattermapbox": [
           {
            "marker": {
             "colorbar": {
              "outlinewidth": 0,
              "ticks": ""
             }
            },
            "type": "scattermapbox"
           }
          ],
          "scatterpolar": [
           {
            "marker": {
             "colorbar": {
              "outlinewidth": 0,
              "ticks": ""
             }
            },
            "type": "scatterpolar"
           }
          ],
          "scatterpolargl": [
           {
            "marker": {
             "colorbar": {
              "outlinewidth": 0,
              "ticks": ""
             }
            },
            "type": "scatterpolargl"
           }
          ],
          "scatterternary": [
           {
            "marker": {
             "colorbar": {
              "outlinewidth": 0,
              "ticks": ""
             }
            },
            "type": "scatterternary"
           }
          ],
          "surface": [
           {
            "colorbar": {
             "outlinewidth": 0,
             "ticks": ""
            },
            "colorscale": [
             [
              0,
              "#0d0887"
             ],
             [
              0.1111111111111111,
              "#46039f"
             ],
             [
              0.2222222222222222,
              "#7201a8"
             ],
             [
              0.3333333333333333,
              "#9c179e"
             ],
             [
              0.4444444444444444,
              "#bd3786"
             ],
             [
              0.5555555555555556,
              "#d8576b"
             ],
             [
              0.6666666666666666,
              "#ed7953"
             ],
             [
              0.7777777777777778,
              "#fb9f3a"
             ],
             [
              0.8888888888888888,
              "#fdca26"
             ],
             [
              1,
              "#f0f921"
             ]
            ],
            "type": "surface"
           }
          ],
          "table": [
           {
            "cells": {
             "fill": {
              "color": "#EBF0F8"
             },
             "line": {
              "color": "white"
             }
            },
            "header": {
             "fill": {
              "color": "#C8D4E3"
             },
             "line": {
              "color": "white"
             }
            },
            "type": "table"
           }
          ]
         },
         "layout": {
          "annotationdefaults": {
           "arrowcolor": "#2a3f5f",
           "arrowhead": 0,
           "arrowwidth": 1
          },
          "autotypenumbers": "strict",
          "coloraxis": {
           "colorbar": {
            "outlinewidth": 0,
            "ticks": ""
           }
          },
          "colorscale": {
           "diverging": [
            [
             0,
             "#8e0152"
            ],
            [
             0.1,
             "#c51b7d"
            ],
            [
             0.2,
             "#de77ae"
            ],
            [
             0.3,
             "#f1b6da"
            ],
            [
             0.4,
             "#fde0ef"
            ],
            [
             0.5,
             "#f7f7f7"
            ],
            [
             0.6,
             "#e6f5d0"
            ],
            [
             0.7,
             "#b8e186"
            ],
            [
             0.8,
             "#7fbc41"
            ],
            [
             0.9,
             "#4d9221"
            ],
            [
             1,
             "#276419"
            ]
           ],
           "sequential": [
            [
             0,
             "#0d0887"
            ],
            [
             0.1111111111111111,
             "#46039f"
            ],
            [
             0.2222222222222222,
             "#7201a8"
            ],
            [
             0.3333333333333333,
             "#9c179e"
            ],
            [
             0.4444444444444444,
             "#bd3786"
            ],
            [
             0.5555555555555556,
             "#d8576b"
            ],
            [
             0.6666666666666666,
             "#ed7953"
            ],
            [
             0.7777777777777778,
             "#fb9f3a"
            ],
            [
             0.8888888888888888,
             "#fdca26"
            ],
            [
             1,
             "#f0f921"
            ]
           ],
           "sequentialminus": [
            [
             0,
             "#0d0887"
            ],
            [
             0.1111111111111111,
             "#46039f"
            ],
            [
             0.2222222222222222,
             "#7201a8"
            ],
            [
             0.3333333333333333,
             "#9c179e"
            ],
            [
             0.4444444444444444,
             "#bd3786"
            ],
            [
             0.5555555555555556,
             "#d8576b"
            ],
            [
             0.6666666666666666,
             "#ed7953"
            ],
            [
             0.7777777777777778,
             "#fb9f3a"
            ],
            [
             0.8888888888888888,
             "#fdca26"
            ],
            [
             1,
             "#f0f921"
            ]
           ]
          },
          "colorway": [
           "#636efa",
           "#EF553B",
           "#00cc96",
           "#ab63fa",
           "#FFA15A",
           "#19d3f3",
           "#FF6692",
           "#B6E880",
           "#FF97FF",
           "#FECB52"
          ],
          "font": {
           "color": "#2a3f5f"
          },
          "geo": {
           "bgcolor": "white",
           "lakecolor": "white",
           "landcolor": "#E5ECF6",
           "showlakes": true,
           "showland": true,
           "subunitcolor": "white"
          },
          "hoverlabel": {
           "align": "left"
          },
          "hovermode": "closest",
          "mapbox": {
           "style": "light"
          },
          "paper_bgcolor": "white",
          "plot_bgcolor": "#E5ECF6",
          "polar": {
           "angularaxis": {
            "gridcolor": "white",
            "linecolor": "white",
            "ticks": ""
           },
           "bgcolor": "#E5ECF6",
           "radialaxis": {
            "gridcolor": "white",
            "linecolor": "white",
            "ticks": ""
           }
          },
          "scene": {
           "xaxis": {
            "backgroundcolor": "#E5ECF6",
            "gridcolor": "white",
            "gridwidth": 2,
            "linecolor": "white",
            "showbackground": true,
            "ticks": "",
            "zerolinecolor": "white"
           },
           "yaxis": {
            "backgroundcolor": "#E5ECF6",
            "gridcolor": "white",
            "gridwidth": 2,
            "linecolor": "white",
            "showbackground": true,
            "ticks": "",
            "zerolinecolor": "white"
           },
           "zaxis": {
            "backgroundcolor": "#E5ECF6",
            "gridcolor": "white",
            "gridwidth": 2,
            "linecolor": "white",
            "showbackground": true,
            "ticks": "",
            "zerolinecolor": "white"
           }
          },
          "shapedefaults": {
           "line": {
            "color": "#2a3f5f"
           }
          },
          "ternary": {
           "aaxis": {
            "gridcolor": "white",
            "linecolor": "white",
            "ticks": ""
           },
           "baxis": {
            "gridcolor": "white",
            "linecolor": "white",
            "ticks": ""
           },
           "bgcolor": "#E5ECF6",
           "caxis": {
            "gridcolor": "white",
            "linecolor": "white",
            "ticks": ""
           }
          },
          "title": {
           "x": 0.05
          },
          "xaxis": {
           "automargin": true,
           "gridcolor": "white",
           "linecolor": "white",
           "ticks": "",
           "title": {
            "standoff": 15
           },
           "zerolinecolor": "white",
           "zerolinewidth": 2
          },
          "yaxis": {
           "automargin": true,
           "gridcolor": "white",
           "linecolor": "white",
           "ticks": "",
           "title": {
            "standoff": 15
           },
           "zerolinecolor": "white",
           "zerolinewidth": 2
          }
         }
        },
        "xaxis": {
         "anchor": "y",
         "domain": [
          0,
          1
         ],
         "title": {
          "text": "product_id"
         }
        },
        "yaxis": {
         "anchor": "x",
         "domain": [
          0,
          1
         ],
         "title": {
          "text": "rotation_stock"
         }
        }
       }
      }
     },
     "metadata": {},
     "output_type": "display_data"
    }
   ],
   "source": [
    "######################################\n",
    "# Calcule le nombre de mois de stock #\n",
    "######################################\n",
    "\n",
    "#Import de numpy \n",
    "import numpy as np\n",
    "#Création de la colonne Rotation de stock\n",
    "df_merge2['rotation_stock'] = round(df_merge2['stock_quantity'] / df_merge2['total_sales'], 2)\n",
    "#display(df_merge2[['stock_quantity', 'total_sales', 'rotation_stock']])\n",
    "\n",
    "#Remplacement des \"inf\" par 0\n",
    "df_merge2[df_merge2['rotation_stock'] == np.inf][['stock_quantity', 'total_sales', 'rotation_stock']]\n",
    "### roation stock = \"il reste 1 mois pour l'index 1, 3 mois pour l'index 3\"\n",
    "df_merge2.replace(np.inf,0, inplace=True)\n",
    "\n",
    "#Effectuer le tri dans l'ordre décroissant du nombre de mois de stock dans le dataset df_merge\n",
    "df_merge_tri_mois_stock = df_merge2.sort_values(by = ['rotation_stock'], ascending=False)\n",
    "\n",
    "#Graphique en barre du flop 20 des produits qui ont le plus de mois de stock\n",
    "flop_20_stock = df_merge_tri_mois_stock.head(20)\n",
    "display(flop_20_stock)\n",
    "fig = px.bar(flop_20_stock, x='product_id', y='rotation_stock')\n",
    "fig.show()\n"
   ]
  },
  {
   "cell_type": "code",
   "execution_count": 269,
   "id": "29097be7",
   "metadata": {},
   "outputs": [
    {
     "data": {
      "text/plain": [
       "count    1382.00\n",
       "mean        2.96\n",
       "std         3.43\n",
       "min         0.00\n",
       "25%         1.75\n",
       "50%         2.40\n",
       "75%         3.08\n",
       "max        31.25\n",
       "Name: rotation_stock, dtype: float64"
      ]
     },
     "metadata": {},
     "output_type": "display_data"
    }
   ],
   "source": [
    "display(round(df_merge2['rotation_stock'].describe(),2))"
   ]
  },
  {
   "cell_type": "code",
   "execution_count": 254,
   "id": "0cd6696c",
   "metadata": {},
   "outputs": [
    {
     "name": "stdout",
     "output_type": "stream",
     "text": [
      "La somme de la colonne 'valorisation_stock' est de 989275.8\n"
     ]
    }
   ],
   "source": [
    "####################################\n",
    "# Valorisation des stocks en euros #\n",
    "####################################\n",
    "\n",
    "#Création de la colonne Valorisation des stocks en euros\n",
    "#stock_quantity * price\n",
    "df_merge2['valorisation_stock'] = df_merge2['stock_quantity'] * df_merge2['price']\n",
    "\n",
    "#Calculer la somme de la colonne \"Valorisation_stock_euros\"\n",
    "print(\"La somme de la colonne 'valorisation_stock' est de\", df_merge2['valorisation_stock'].sum())"
   ]
  },
  {
   "cell_type": "code",
   "execution_count": 255,
   "id": "4a3dd99d",
   "metadata": {},
   "outputs": [
    {
     "name": "stdout",
     "output_type": "stream",
     "text": [
      "La somme de la colonne 'stock_quantity' est de 33480\n"
     ]
    }
   ],
   "source": [
    "##############################################\n",
    "# Valorisation du nombre de produit en stock #\n",
    "##############################################\n",
    "\n",
    "#Calculer la somme de la colonne stock quantity\n",
    "print(\"La somme de la colonne 'stock_quantity' est de\", df_merge2['stock_quantity'].sum())"
   ]
  },
  {
   "cell_type": "markdown",
   "id": "9e48f6dc",
   "metadata": {},
   "source": [
    "<div style=\"border: 1px solid RGB(51,165,182);\" >\n",
    "<h3 style=\"margin: auto; padding: 20px; color: RGB(51,165,182); \">Etape 5.4 - Analyse du taux de marge</h3>\n",
    "</div>"
   ]
  },
  {
   "cell_type": "code",
   "execution_count": 256,
   "id": "7de5ca46",
   "metadata": {},
   "outputs": [
    {
     "name": "stdout",
     "output_type": "stream",
     "text": [
      "Le taux de marge minimum est de -512.618595825427\n"
     ]
    },
    {
     "data": {
      "text/html": [
       "<div>\n",
       "<style scoped>\n",
       "    .dataframe tbody tr th:only-of-type {\n",
       "        vertical-align: middle;\n",
       "    }\n",
       "\n",
       "    .dataframe tbody tr th {\n",
       "        vertical-align: top;\n",
       "    }\n",
       "\n",
       "    .dataframe thead th {\n",
       "        text-align: right;\n",
       "    }\n",
       "</style>\n",
       "<table border=\"1\" class=\"dataframe\">\n",
       "  <thead>\n",
       "    <tr style=\"text-align: right;\">\n",
       "      <th></th>\n",
       "      <th>product_type</th>\n",
       "      <th>product_id</th>\n",
       "      <th>price</th>\n",
       "      <th>taux_marge</th>\n",
       "    </tr>\n",
       "  </thead>\n",
       "  <tbody>\n",
       "    <tr>\n",
       "      <th>1380</th>\n",
       "      <td>Champagne</td>\n",
       "      <td>4355</td>\n",
       "      <td>12.65</td>\n",
       "      <td>-512.618596</td>\n",
       "    </tr>\n",
       "    <tr>\n",
       "      <th>1381</th>\n",
       "      <td>Champagne</td>\n",
       "      <td>4355</td>\n",
       "      <td>12.65</td>\n",
       "      <td>-512.618596</td>\n",
       "    </tr>\n",
       "  </tbody>\n",
       "</table>\n",
       "</div>"
      ],
      "text/plain": [
       "     product_type product_id  price  taux_marge\n",
       "1380    Champagne       4355  12.65 -512.618596\n",
       "1381    Champagne       4355  12.65 -512.618596"
      ]
     },
     "metadata": {},
     "output_type": "display_data"
    },
    {
     "name": "stdout",
     "output_type": "stream",
     "text": [
      "Le taux de marge maximum est de 56.46451612903226\n"
     ]
    },
    {
     "data": {
      "text/html": [
       "<div>\n",
       "<style scoped>\n",
       "    .dataframe tbody tr th:only-of-type {\n",
       "        vertical-align: middle;\n",
       "    }\n",
       "\n",
       "    .dataframe tbody tr th {\n",
       "        vertical-align: top;\n",
       "    }\n",
       "\n",
       "    .dataframe thead th {\n",
       "        text-align: right;\n",
       "    }\n",
       "</style>\n",
       "<table border=\"1\" class=\"dataframe\">\n",
       "  <thead>\n",
       "    <tr style=\"text-align: right;\">\n",
       "      <th></th>\n",
       "      <th>product_type</th>\n",
       "      <th>product_id</th>\n",
       "      <th>price</th>\n",
       "      <th>taux_marge</th>\n",
       "    </tr>\n",
       "  </thead>\n",
       "  <tbody>\n",
       "    <tr>\n",
       "      <th>1362</th>\n",
       "      <td>Whisky</td>\n",
       "      <td>5916</td>\n",
       "      <td>93.0</td>\n",
       "      <td>56.464516</td>\n",
       "    </tr>\n",
       "    <tr>\n",
       "      <th>1363</th>\n",
       "      <td>Whisky</td>\n",
       "      <td>5916</td>\n",
       "      <td>93.0</td>\n",
       "      <td>56.464516</td>\n",
       "    </tr>\n",
       "  </tbody>\n",
       "</table>\n",
       "</div>"
      ],
      "text/plain": [
       "     product_type product_id  price  taux_marge\n",
       "1362       Whisky       5916   93.0   56.464516\n",
       "1363       Whisky       5916   93.0   56.464516"
      ]
     },
     "metadata": {},
     "output_type": "display_data"
    }
   ],
   "source": [
    "############################\n",
    "# Analyse du taux de marge #\n",
    "############################\n",
    "\n",
    "#Création de la colonne prix HT\n",
    "tva = 20\n",
    "df_merge2['prix_ht'] = round(df_merge2['price'] / (1 + tva / 100), 2)\n",
    "#Création de la colonne Taux de marge\n",
    "df_merge2['prix_achat_ht'] = round(df_merge2['purchase_price'] / (1 + tva / 100), 2)\n",
    "####marge brute = prix de vente HT - coût d'achat HT\n",
    "df_merge2['marge'] = df_merge2['prix_ht'] - df_merge2['prix_achat_ht']\n",
    "df_merge2['taux_marge'] = (df_merge2['marge'] / df_merge2['prix_ht']) * 100\n",
    "\n",
    "#Afficher le prix minimum de la colonne \"taux_marge\"\n",
    "print('Le taux de marge minimum est de', df_merge2['taux_marge'].min())\n",
    "display(df_merge2[df_merge2['taux_marge'] == df_merge2['taux_marge'].min()][['product_type', 'product_id', 'price', 'taux_marge']])\n",
    "\n",
    "\n",
    "#Afficher le prix maximum de la colonne \"taux_marge\"\n",
    "print('Le taux de marge maximum est de', df_merge2['taux_marge'].max())\n",
    "display(df_merge2[df_merge2['taux_marge'] == df_merge2['taux_marge'].max()][['product_type', 'product_id', 'price', 'taux_marge']])\n",
    "\n"
   ]
  },
  {
   "cell_type": "code",
   "execution_count": 257,
   "id": "6082d42b",
   "metadata": {},
   "outputs": [
    {
     "data": {
      "text/html": [
       "<div>\n",
       "<style scoped>\n",
       "    .dataframe tbody tr th:only-of-type {\n",
       "        vertical-align: middle;\n",
       "    }\n",
       "\n",
       "    .dataframe tbody tr th {\n",
       "        vertical-align: top;\n",
       "    }\n",
       "\n",
       "    .dataframe thead th {\n",
       "        text-align: right;\n",
       "    }\n",
       "</style>\n",
       "<table border=\"1\" class=\"dataframe\">\n",
       "  <thead>\n",
       "    <tr style=\"text-align: right;\">\n",
       "      <th></th>\n",
       "      <th>index</th>\n",
       "      <th>product_id</th>\n",
       "      <th>onsale_web</th>\n",
       "      <th>price</th>\n",
       "      <th>stock_quantity</th>\n",
       "      <th>stock_status</th>\n",
       "      <th>purchase_price</th>\n",
       "      <th>id_web</th>\n",
       "      <th>_merge</th>\n",
       "      <th>sku</th>\n",
       "      <th>...</th>\n",
       "      <th>part_du_ca</th>\n",
       "      <th>somme_cumulative_ca</th>\n",
       "      <th>part_en_quantité</th>\n",
       "      <th>somme_cumulative_quantité</th>\n",
       "      <th>rotation_stock</th>\n",
       "      <th>valorisation_stock</th>\n",
       "      <th>prix_ht</th>\n",
       "      <th>prix_achat_ht</th>\n",
       "      <th>marge</th>\n",
       "      <th>taux_marge</th>\n",
       "    </tr>\n",
       "  </thead>\n",
       "  <tbody>\n",
       "    <tr>\n",
       "      <th>1380</th>\n",
       "      <td>402</td>\n",
       "      <td>4355</td>\n",
       "      <td>1</td>\n",
       "      <td>12.65</td>\n",
       "      <td>97</td>\n",
       "      <td>instock</td>\n",
       "      <td>77.48</td>\n",
       "      <td>12589</td>\n",
       "      <td>both</td>\n",
       "      <td>12589</td>\n",
       "      <td>...</td>\n",
       "      <td>0.0</td>\n",
       "      <td>100.26</td>\n",
       "      <td>0.0</td>\n",
       "      <td>100.0</td>\n",
       "      <td>0.0</td>\n",
       "      <td>1227.05</td>\n",
       "      <td>10.54</td>\n",
       "      <td>64.57</td>\n",
       "      <td>-54.03</td>\n",
       "      <td>-512.618596</td>\n",
       "    </tr>\n",
       "    <tr>\n",
       "      <th>1381</th>\n",
       "      <td>403</td>\n",
       "      <td>4355</td>\n",
       "      <td>1</td>\n",
       "      <td>12.65</td>\n",
       "      <td>97</td>\n",
       "      <td>instock</td>\n",
       "      <td>77.48</td>\n",
       "      <td>12589</td>\n",
       "      <td>both</td>\n",
       "      <td>12589</td>\n",
       "      <td>...</td>\n",
       "      <td>0.0</td>\n",
       "      <td>100.26</td>\n",
       "      <td>0.0</td>\n",
       "      <td>100.0</td>\n",
       "      <td>0.0</td>\n",
       "      <td>1227.05</td>\n",
       "      <td>10.54</td>\n",
       "      <td>64.57</td>\n",
       "      <td>-54.03</td>\n",
       "      <td>-512.618596</td>\n",
       "    </tr>\n",
       "  </tbody>\n",
       "</table>\n",
       "<p>2 rows × 46 columns</p>\n",
       "</div>"
      ],
      "text/plain": [
       "      index product_id  onsale_web  price  stock_quantity stock_status  \\\n",
       "1380    402       4355           1  12.65              97      instock   \n",
       "1381    403       4355           1  12.65              97      instock   \n",
       "\n",
       "      purchase_price id_web _merge    sku  ...  part_du_ca  \\\n",
       "1380           77.48  12589   both  12589  ...         0.0   \n",
       "1381           77.48  12589   both  12589  ...         0.0   \n",
       "\n",
       "      somme_cumulative_ca  part_en_quantité  somme_cumulative_quantité  \\\n",
       "1380               100.26               0.0                      100.0   \n",
       "1381               100.26               0.0                      100.0   \n",
       "\n",
       "      rotation_stock valorisation_stock  prix_ht prix_achat_ht  marge  \\\n",
       "1380             0.0            1227.05    10.54         64.57 -54.03   \n",
       "1381             0.0            1227.05    10.54         64.57 -54.03   \n",
       "\n",
       "      taux_marge  \n",
       "1380 -512.618596  \n",
       "1381 -512.618596  \n",
       "\n",
       "[2 rows x 46 columns]"
      ]
     },
     "execution_count": 257,
     "metadata": {},
     "output_type": "execute_result"
    }
   ],
   "source": [
    "#affichage de la ligne avec un taux de marge inférieur à 0\n",
    "marge_inf_0 = df_merge2['taux_marge'] < 0\n",
    "df_merge2[marge_inf_0]"
   ]
  },
  {
   "cell_type": "code",
   "execution_count": 258,
   "id": "d756037c",
   "metadata": {},
   "outputs": [
    {
     "name": "stdout",
     "output_type": "stream",
     "text": [
      "Le taux de marge minimum est de 35.71\n"
     ]
    },
    {
     "data": {
      "text/html": [
       "<div>\n",
       "<style scoped>\n",
       "    .dataframe tbody tr th:only-of-type {\n",
       "        vertical-align: middle;\n",
       "    }\n",
       "\n",
       "    .dataframe tbody tr th {\n",
       "        vertical-align: top;\n",
       "    }\n",
       "\n",
       "    .dataframe thead th {\n",
       "        text-align: right;\n",
       "    }\n",
       "</style>\n",
       "<table border=\"1\" class=\"dataframe\">\n",
       "  <thead>\n",
       "    <tr style=\"text-align: right;\">\n",
       "      <th></th>\n",
       "      <th>product_type</th>\n",
       "      <th>product_id</th>\n",
       "      <th>price</th>\n",
       "      <th>taux_marge</th>\n",
       "    </tr>\n",
       "  </thead>\n",
       "  <tbody>\n",
       "    <tr>\n",
       "      <th>803</th>\n",
       "      <td>Huile d'olive</td>\n",
       "      <td>5760</td>\n",
       "      <td>13.1</td>\n",
       "      <td>35.714286</td>\n",
       "    </tr>\n",
       "    <tr>\n",
       "      <th>804</th>\n",
       "      <td>Huile d'olive</td>\n",
       "      <td>5760</td>\n",
       "      <td>13.1</td>\n",
       "      <td>35.714286</td>\n",
       "    </tr>\n",
       "  </tbody>\n",
       "</table>\n",
       "</div>"
      ],
      "text/plain": [
       "      product_type product_id  price  taux_marge\n",
       "803  Huile d'olive       5760   13.1   35.714286\n",
       "804  Huile d'olive       5760   13.1   35.714286"
      ]
     },
     "metadata": {},
     "output_type": "display_data"
    },
    {
     "name": "stdout",
     "output_type": "stream",
     "text": [
      "Le taux de marge maximum est de 56.46\n"
     ]
    },
    {
     "data": {
      "text/html": [
       "<div>\n",
       "<style scoped>\n",
       "    .dataframe tbody tr th:only-of-type {\n",
       "        vertical-align: middle;\n",
       "    }\n",
       "\n",
       "    .dataframe tbody tr th {\n",
       "        vertical-align: top;\n",
       "    }\n",
       "\n",
       "    .dataframe thead th {\n",
       "        text-align: right;\n",
       "    }\n",
       "</style>\n",
       "<table border=\"1\" class=\"dataframe\">\n",
       "  <thead>\n",
       "    <tr style=\"text-align: right;\">\n",
       "      <th></th>\n",
       "      <th>product_type</th>\n",
       "      <th>product_id</th>\n",
       "      <th>price</th>\n",
       "      <th>taux_marge</th>\n",
       "    </tr>\n",
       "  </thead>\n",
       "  <tbody>\n",
       "    <tr>\n",
       "      <th>1362</th>\n",
       "      <td>Whisky</td>\n",
       "      <td>5916</td>\n",
       "      <td>93.0</td>\n",
       "      <td>56.464516</td>\n",
       "    </tr>\n",
       "    <tr>\n",
       "      <th>1363</th>\n",
       "      <td>Whisky</td>\n",
       "      <td>5916</td>\n",
       "      <td>93.0</td>\n",
       "      <td>56.464516</td>\n",
       "    </tr>\n",
       "  </tbody>\n",
       "</table>\n",
       "</div>"
      ],
      "text/plain": [
       "     product_type product_id  price  taux_marge\n",
       "1362       Whisky       5916   93.0   56.464516\n",
       "1363       Whisky       5916   93.0   56.464516"
      ]
     },
     "metadata": {},
     "output_type": "display_data"
    }
   ],
   "source": [
    "#création d'un dataframe avec les taux positifs\n",
    "df_merge2_taux_positif = df_merge2.loc[df_merge2['taux_marge'] >= 0]\n",
    "\n",
    "#Afficher le prix minimum de la colonne \"taux_marge\"\n",
    "print('Le taux de marge minimum est de', round(df_merge2_taux_positif['taux_marge'].min(),2))\n",
    "display(df_merge2_taux_positif[df_merge2_taux_positif['taux_marge'] == df_merge2_taux_positif['taux_marge'].min()][['product_type', 'product_id', 'price', 'taux_marge']])\n",
    "\n",
    "#Afficher le prix maximum de la colonne \"taux_marge\"\n",
    "print('Le taux de marge maximum est de', round(df_merge2_taux_positif['taux_marge'].max(),2))\n",
    "display(df_merge2_taux_positif[df_merge2_taux_positif['taux_marge'] == df_merge2_taux_positif['taux_marge'].max()][['product_type', 'product_id', 'price', 'taux_marge']])\n",
    "\n"
   ]
  },
  {
   "cell_type": "code",
   "execution_count": 259,
   "id": "b24042f8",
   "metadata": {},
   "outputs": [
    {
     "data": {
      "text/html": [
       "<div>\n",
       "<style scoped>\n",
       "    .dataframe tbody tr th:only-of-type {\n",
       "        vertical-align: middle;\n",
       "    }\n",
       "\n",
       "    .dataframe tbody tr th {\n",
       "        vertical-align: top;\n",
       "    }\n",
       "\n",
       "    .dataframe thead th {\n",
       "        text-align: right;\n",
       "    }\n",
       "</style>\n",
       "<table border=\"1\" class=\"dataframe\">\n",
       "  <thead>\n",
       "    <tr style=\"text-align: right;\">\n",
       "      <th></th>\n",
       "      <th>taux_marge</th>\n",
       "    </tr>\n",
       "    <tr>\n",
       "      <th>product_type</th>\n",
       "      <th></th>\n",
       "    </tr>\n",
       "  </thead>\n",
       "  <tbody>\n",
       "    <tr>\n",
       "      <th>Autre</th>\n",
       "      <td>46.807489</td>\n",
       "    </tr>\n",
       "    <tr>\n",
       "      <th>Champagne</th>\n",
       "      <td>40.406933</td>\n",
       "    </tr>\n",
       "    <tr>\n",
       "      <th>Cognac</th>\n",
       "      <td>54.221170</td>\n",
       "    </tr>\n",
       "    <tr>\n",
       "      <th>Gin</th>\n",
       "      <td>52.333333</td>\n",
       "    </tr>\n",
       "    <tr>\n",
       "      <th>Huile d'olive</th>\n",
       "      <td>37.520405</td>\n",
       "    </tr>\n",
       "    <tr>\n",
       "      <th>Vin</th>\n",
       "      <td>48.340490</td>\n",
       "    </tr>\n",
       "    <tr>\n",
       "      <th>Whisky</th>\n",
       "      <td>54.101876</td>\n",
       "    </tr>\n",
       "  </tbody>\n",
       "</table>\n",
       "</div>"
      ],
      "text/plain": [
       "               taux_marge\n",
       "product_type             \n",
       "Autre           46.807489\n",
       "Champagne       40.406933\n",
       "Cognac          54.221170\n",
       "Gin             52.333333\n",
       "Huile d'olive   37.520405\n",
       "Vin             48.340490\n",
       "Whisky          54.101876"
      ]
     },
     "metadata": {},
     "output_type": "display_data"
    },
    {
     "data": {
      "image/png": "[encoded data removed]",
      "text/plain": [
       "<Figure size 640x480 with 1 Axes>"
      ]
     },
     "metadata": {},
     "output_type": "display_data"
    },
    {
     "data": {
      "application/vnd.plotly.v1+json": {
       "config": {
        "plotlyServerURL": "https://plot.ly"
       },
       "data": [
        {
         "alignmentgroup": "True",
         "hovertemplate": "x=%{x}<br>y=%{y}<extra></extra>",
         "legendgroup": "",
         "marker": {
          "color": "#636efa",
          "pattern": {
           "shape": ""
          }
         },
         "name": "",
         "offsetgroup": "",
         "orientation": "v",
         "showlegend": false,
         "textposition": "auto",
         "type": "bar",
         "x": [
          "Autre",
          "Champagne",
          "Cognac",
          "Gin",
          "Huile d'olive",
          "Vin",
          "Whisky"
         ],
         "xaxis": "x",
         "y": [
          46.81,
          40.41,
          54.22,
          52.33,
          37.52,
          48.34,
          54.1
         ],
         "yaxis": "y"
        }
       ],
       "layout": {
        "barmode": "relative",
        "legend": {
         "tracegroupgap": 0
        },
        "margin": {
         "t": 60
        },
        "template": {
         "data": {
          "bar": [
           {
            "error_x": {
             "color": "#2a3f5f"
            },
            "error_y": {
             "color": "#2a3f5f"
            },
            "marker": {
             "line": {
              "color": "#E5ECF6",
              "width": 0.5
             },
             "pattern": {
              "fillmode": "overlay",
              "size": 10,
              "solidity": 0.2
             }
            },
            "type": "bar"
           }
          ],
          "barpolar": [
           {
            "marker": {
             "line": {
              "color": "#E5ECF6",
              "width": 0.5
             },
             "pattern": {
              "fillmode": "overlay",
              "size": 10,
              "solidity": 0.2
             }
            },
            "type": "barpolar"
           }
          ],
          "carpet": [
           {
            "aaxis": {
             "endlinecolor": "#2a3f5f",
             "gridcolor": "white",
             "linecolor": "white",
             "minorgridcolor": "white",
             "startlinecolor": "#2a3f5f"
            },
            "baxis": {
             "endlinecolor": "#2a3f5f",
             "gridcolor": "white",
             "linecolor": "white",
             "minorgridcolor": "white",
             "startlinecolor": "#2a3f5f"
            },
            "type": "carpet"
           }
          ],
          "choropleth": [
           {
            "colorbar": {
             "outlinewidth": 0,
             "ticks": ""
            },
            "type": "choropleth"
           }
          ],
          "contour": [
           {
            "colorbar": {
             "outlinewidth": 0,
             "ticks": ""
            },
            "colorscale": [
             [
              0,
              "#0d0887"
             ],
             [
              0.1111111111111111,
              "#46039f"
             ],
             [
              0.2222222222222222,
              "#7201a8"
             ],
             [
              0.3333333333333333,
              "#9c179e"
             ],
             [
              0.4444444444444444,
              "#bd3786"
             ],
             [
              0.5555555555555556,
              "#d8576b"
             ],
             [
              0.6666666666666666,
              "#ed7953"
             ],
             [
              0.7777777777777778,
              "#fb9f3a"
             ],
             [
              0.8888888888888888,
              "#fdca26"
             ],
             [
              1,
              "#f0f921"
             ]
            ],
            "type": "contour"
           }
          ],
          "contourcarpet": [
           {
            "colorbar": {
             "outlinewidth": 0,
             "ticks": ""
            },
            "type": "contourcarpet"
           }
          ],
          "heatmap": [
           {
            "colorbar": {
             "outlinewidth": 0,
             "ticks": ""
            },
            "colorscale": [
             [
              0,
              "#0d0887"
             ],
             [
              0.1111111111111111,
              "#46039f"
             ],
             [
              0.2222222222222222,
              "#7201a8"
             ],
             [
              0.3333333333333333,
              "#9c179e"
             ],
             [
              0.4444444444444444,
              "#bd3786"
             ],
             [
              0.5555555555555556,
              "#d8576b"
             ],
             [
              0.6666666666666666,
              "#ed7953"
             ],
             [
              0.7777777777777778,
              "#fb9f3a"
             ],
             [
              0.8888888888888888,
              "#fdca26"
             ],
             [
              1,
              "#f0f921"
             ]
            ],
            "type": "heatmap"
           }
          ],
          "heatmapgl": [
           {
            "colorbar": {
             "outlinewidth": 0,
             "ticks": ""
            },
            "colorscale": [
             [
              0,
              "#0d0887"
             ],
             [
              0.1111111111111111,
              "#46039f"
             ],
             [
              0.2222222222222222,
              "#7201a8"
             ],
             [
              0.3333333333333333,
              "#9c179e"
             ],
             [
              0.4444444444444444,
              "#bd3786"
             ],
             [
              0.5555555555555556,
              "#d8576b"
             ],
             [
              0.6666666666666666,
              "#ed7953"
             ],
             [
              0.7777777777777778,
              "#fb9f3a"
             ],
             [
              0.8888888888888888,
              "#fdca26"
             ],
             [
              1,
              "#f0f921"
             ]
            ],
            "type": "heatmapgl"
           }
          ],
          "histogram": [
           {
            "marker": {
             "pattern": {
              "fillmode": "overlay",
              "size": 10,
              "solidity": 0.2
             }
            },
            "type": "histogram"
           }
          ],
          "histogram2d": [
           {
            "colorbar": {
             "outlinewidth": 0,
             "ticks": ""
            },
            "colorscale": [
             [
              0,
              "#0d0887"
             ],
             [
              0.1111111111111111,
              "#46039f"
             ],
             [
              0.2222222222222222,
              "#7201a8"
             ],
             [
              0.3333333333333333,
              "#9c179e"
             ],
             [
              0.4444444444444444,
              "#bd3786"
             ],
             [
              0.5555555555555556,
              "#d8576b"
             ],
             [
              0.6666666666666666,
              "#ed7953"
             ],
             [
              0.7777777777777778,
              "#fb9f3a"
             ],
             [
              0.8888888888888888,
              "#fdca26"
             ],
             [
              1,
              "#f0f921"
             ]
            ],
            "type": "histogram2d"
           }
          ],
          "histogram2dcontour": [
           {
            "colorbar": {
             "outlinewidth": 0,
             "ticks": ""
            },
            "colorscale": [
             [
              0,
              "#0d0887"
             ],
             [
              0.1111111111111111,
              "#46039f"
             ],
             [
              0.2222222222222222,
              "#7201a8"
             ],
             [
              0.3333333333333333,
              "#9c179e"
             ],
             [
              0.4444444444444444,
              "#bd3786"
             ],
             [
              0.5555555555555556,
              "#d8576b"
             ],
             [
              0.6666666666666666,
              "#ed7953"
             ],
             [
              0.7777777777777778,
              "#fb9f3a"
             ],
             [
              0.8888888888888888,
              "#fdca26"
             ],
             [
              1,
              "#f0f921"
             ]
            ],
            "type": "histogram2dcontour"
           }
          ],
          "mesh3d": [
           {
            "colorbar": {
             "outlinewidth": 0,
             "ticks": ""
            },
            "type": "mesh3d"
           }
          ],
          "parcoords": [
           {
            "line": {
             "colorbar": {
              "outlinewidth": 0,
              "ticks": ""
             }
            },
            "type": "parcoords"
           }
          ],
          "pie": [
           {
            "automargin": true,
            "type": "pie"
           }
          ],
          "scatter": [
           {
            "fillpattern": {
             "fillmode": "overlay",
             "size": 10,
             "solidity": 0.2
            },
            "type": "scatter"
           }
          ],
          "scatter3d": [
           {
            "line": {
             "colorbar": {
              "outlinewidth": 0,
              "ticks": ""
             }
            },
            "marker": {
             "colorbar": {
              "outlinewidth": 0,
              "ticks": ""
             }
            },
            "type": "scatter3d"
           }
          ],
          "scattercarpet": [
           {
            "marker": {
             "colorbar": {
              "outlinewidth": 0,
              "ticks": ""
             }
            },
            "type": "scattercarpet"
           }
          ],
          "scattergeo": [
           {
            "marker": {
             "colorbar": {
              "outlinewidth": 0,
              "ticks": ""
             }
            },
            "type": "scattergeo"
           }
          ],
          "scattergl": [
           {
            "marker": {
             "colorbar": {
              "outlinewidth": 0,
              "ticks": ""
             }
            },
            "type": "scattergl"
           }
          ],
          "scattermapbox": [
           {
            "marker": {
             "colorbar": {
              "outlinewidth": 0,
              "ticks": ""
             }
            },
            "type": "scattermapbox"
           }
          ],
          "scatterpolar": [
           {
            "marker": {
             "colorbar": {
              "outlinewidth": 0,
              "ticks": ""
             }
            },
            "type": "scatterpolar"
           }
          ],
          "scatterpolargl": [
           {
            "marker": {
             "colorbar": {
              "outlinewidth": 0,
              "ticks": ""
             }
            },
            "type": "scatterpolargl"
           }
          ],
          "scatterternary": [
           {
            "marker": {
             "colorbar": {
              "outlinewidth": 0,
              "ticks": ""
             }
            },
            "type": "scatterternary"
           }
          ],
          "surface": [
           {
            "colorbar": {
             "outlinewidth": 0,
             "ticks": ""
            },
            "colorscale": [
             [
              0,
              "#0d0887"
             ],
             [
              0.1111111111111111,
              "#46039f"
             ],
             [
              0.2222222222222222,
              "#7201a8"
             ],
             [
              0.3333333333333333,
              "#9c179e"
             ],
             [
              0.4444444444444444,
              "#bd3786"
             ],
             [
              0.5555555555555556,
              "#d8576b"
             ],
             [
              0.6666666666666666,
              "#ed7953"
             ],
             [
              0.7777777777777778,
              "#fb9f3a"
             ],
             [
              0.8888888888888888,
              "#fdca26"
             ],
             [
              1,
              "#f0f921"
             ]
            ],
            "type": "surface"
           }
          ],
          "table": [
           {
            "cells": {
             "fill": {
              "color": "#EBF0F8"
             },
             "line": {
              "color": "white"
             }
            },
            "header": {
             "fill": {
              "color": "#C8D4E3"
             },
             "line": {
              "color": "white"
             }
            },
            "type": "table"
           }
          ]
         },
         "layout": {
          "annotationdefaults": {
           "arrowcolor": "#2a3f5f",
           "arrowhead": 0,
           "arrowwidth": 1
          },
          "autotypenumbers": "strict",
          "coloraxis": {
           "colorbar": {
            "outlinewidth": 0,
            "ticks": ""
           }
          },
          "colorscale": {
           "diverging": [
            [
             0,
             "#8e0152"
            ],
            [
             0.1,
             "#c51b7d"
            ],
            [
             0.2,
             "#de77ae"
            ],
            [
             0.3,
             "#f1b6da"
            ],
            [
             0.4,
             "#fde0ef"
            ],
            [
             0.5,
             "#f7f7f7"
            ],
            [
             0.6,
             "#e6f5d0"
            ],
            [
             0.7,
             "#b8e186"
            ],
            [
             0.8,
             "#7fbc41"
            ],
            [
             0.9,
             "#4d9221"
            ],
            [
             1,
             "#276419"
            ]
           ],
           "sequential": [
            [
             0,
             "#0d0887"
            ],
            [
             0.1111111111111111,
             "#46039f"
            ],
            [
             0.2222222222222222,
             "#7201a8"
            ],
            [
             0.3333333333333333,
             "#9c179e"
            ],
            [
             0.4444444444444444,
             "#bd3786"
            ],
            [
             0.5555555555555556,
             "#d8576b"
            ],
            [
             0.6666666666666666,
             "#ed7953"
            ],
            [
             0.7777777777777778,
             "#fb9f3a"
            ],
            [
             0.8888888888888888,
             "#fdca26"
            ],
            [
             1,
             "#f0f921"
            ]
           ],
           "sequentialminus": [
            [
             0,
             "#0d0887"
            ],
            [
             0.1111111111111111,
             "#46039f"
            ],
            [
             0.2222222222222222,
             "#7201a8"
            ],
            [
             0.3333333333333333,
             "#9c179e"
            ],
            [
             0.4444444444444444,
             "#bd3786"
            ],
            [
             0.5555555555555556,
             "#d8576b"
            ],
            [
             0.6666666666666666,
             "#ed7953"
            ],
            [
             0.7777777777777778,
             "#fb9f3a"
            ],
            [
             0.8888888888888888,
             "#fdca26"
            ],
            [
             1,
             "#f0f921"
            ]
           ]
          },
          "colorway": [
           "#636efa",
           "#EF553B",
           "#00cc96",
           "#ab63fa",
           "#FFA15A",
           "#19d3f3",
           "#FF6692",
           "#B6E880",
           "#FF97FF",
           "#FECB52"
          ],
          "font": {
           "color": "#2a3f5f"
          },
          "geo": {
           "bgcolor": "white",
           "lakecolor": "white",
           "landcolor": "#E5ECF6",
           "showlakes": true,
           "showland": true,
           "subunitcolor": "white"
          },
          "hoverlabel": {
           "align": "left"
          },
          "hovermode": "closest",
          "mapbox": {
           "style": "light"
          },
          "paper_bgcolor": "white",
          "plot_bgcolor": "#E5ECF6",
          "polar": {
           "angularaxis": {
            "gridcolor": "white",
            "linecolor": "white",
            "ticks": ""
           },
           "bgcolor": "#E5ECF6",
           "radialaxis": {
            "gridcolor": "white",
            "linecolor": "white",
            "ticks": ""
           }
          },
          "scene": {
           "xaxis": {
            "backgroundcolor": "#E5ECF6",
            "gridcolor": "white",
            "gridwidth": 2,
            "linecolor": "white",
            "showbackground": true,
            "ticks": "",
            "zerolinecolor": "white"
           },
           "yaxis": {
            "backgroundcolor": "#E5ECF6",
            "gridcolor": "white",
            "gridwidth": 2,
            "linecolor": "white",
            "showbackground": true,
            "ticks": "",
            "zerolinecolor": "white"
           },
           "zaxis": {
            "backgroundcolor": "#E5ECF6",
            "gridcolor": "white",
            "gridwidth": 2,
            "linecolor": "white",
            "showbackground": true,
            "ticks": "",
            "zerolinecolor": "white"
           }
          },
          "shapedefaults": {
           "line": {
            "color": "#2a3f5f"
           }
          },
          "ternary": {
           "aaxis": {
            "gridcolor": "white",
            "linecolor": "white",
            "ticks": ""
           },
           "baxis": {
            "gridcolor": "white",
            "linecolor": "white",
            "ticks": ""
           },
           "bgcolor": "#E5ECF6",
           "caxis": {
            "gridcolor": "white",
            "linecolor": "white",
            "ticks": ""
           }
          },
          "title": {
           "x": 0.05
          },
          "xaxis": {
           "automargin": true,
           "gridcolor": "white",
           "linecolor": "white",
           "ticks": "",
           "title": {
            "standoff": 15
           },
           "zerolinecolor": "white",
           "zerolinewidth": 2
          },
          "yaxis": {
           "automargin": true,
           "gridcolor": "white",
           "linecolor": "white",
           "ticks": "",
           "title": {
            "standoff": 15
           },
           "zerolinecolor": "white",
           "zerolinewidth": 2
          }
         }
        },
        "xaxis": {
         "anchor": "y",
         "domain": [
          0,
          1
         ],
         "title": {
          "text": "x"
         }
        },
        "yaxis": {
         "anchor": "x",
         "domain": [
          0,
          1
         ],
         "title": {
          "text": "y"
         }
        }
       }
      }
     },
     "metadata": {},
     "output_type": "display_data"
    }
   ],
   "source": [
    "#création d'un dataframe avec le taux de marge moyen par type de produit\n",
    "df_taux_moyen = pd.DataFrame(df_merge2_taux_positif.groupby(\"product_type\")[\"taux_marge\"].mean())\n",
    "display(df_taux_moyen)\n",
    "\n",
    "#Affichage dans un graphique du taux de marge par type de produit\n",
    "plt.bar(x = df_taux_moyen.index, height = df_taux_moyen['taux_marge'])\n",
    "plt.show()\n",
    "\n",
    "px.bar(x=df_taux_moyen.index, y=round(df_taux_moyen['taux_marge'],2))"
   ]
  },
  {
   "cell_type": "markdown",
   "id": "ce216060",
   "metadata": {},
   "source": [
    "<div style=\"border: 1px solid RGB(51,165,182);\" >\n",
    "<h3 style=\"margin: auto; padding: 20px; color: RGB(51,165,182); \">Etape 5.5 - Analyse des correlations entre les variables stock, sales et price</h3>\n",
    "</div>"
   ]
  },
  {
   "cell_type": "code",
   "execution_count": 260,
   "id": "12e4a540",
   "metadata": {},
   "outputs": [
    {
     "name": "stderr",
     "output_type": "stream",
     "text": [
      "c:\\Users\\simon\\anaconda3\\Lib\\site-packages\\seaborn\\matrix.py:260: FutureWarning:\n",
      "\n",
      "Format strings passed to MaskedConstant are ignored, but in future may error or produce different behavior\n",
      "\n"
     ]
    },
    {
     "data": {
      "image/png": "[encoded data removed]",
      "text/plain": [
       "<Figure size 640x480 with 2 Axes>"
      ]
     },
     "metadata": {},
     "output_type": "display_data"
    }
   ],
   "source": [
    "############################\n",
    "# Analyse des correlations #\n",
    "############################\n",
    "\n",
    "#Importation de Seaborn\n",
    "import seaborn as sns\n",
    "\n",
    "#Création d'un heatmap de correlation avec les variables stock, sales et price\n",
    "#on peut également créer un mask pour n'afficher qu'une demi heatmap\n",
    "\n",
    "df_heatmap = df_merge2.loc[:,['stock_quantity', 'total_sales', 'price']]\n",
    "mask = np.triu(np.ones(df_heatmap.corr().shape, dtype=bool))\n",
    "\n",
    "sns.heatmap(df_heatmap.corr(), annot=True, fmt=\".2f\", cmap=\"coolwarm\", linewidths=0.5, mask=mask)\n",
    "plt.show()\n",
    "\n",
    "### Les valeurs s'affiches quand on met \"mask = None\""
   ]
  },
  {
   "cell_type": "code",
   "execution_count": 261,
   "id": "a981037b",
   "metadata": {},
   "outputs": [
    {
     "name": "stderr",
     "output_type": "stream",
     "text": [
      "c:\\Users\\simon\\anaconda3\\Lib\\site-packages\\seaborn\\matrix.py:260: FutureWarning:\n",
      "\n",
      "Format strings passed to MaskedConstant are ignored, but in future may error or produce different behavior\n",
      "\n"
     ]
    },
    {
     "data": {
      "image/png": "[encoded data removed]",
      "text/plain": [
       "<Figure size 800x600 with 2 Axes>"
      ]
     },
     "metadata": {},
     "output_type": "display_data"
    }
   ],
   "source": [
    "df_heatmap1 = df_merge2.loc[:, ['stock_quantity', 'total_sales', 'price']]\n",
    "corr_matrix = df_heatmap1.corr()\n",
    "\n",
    "mask2 = np.triu(np.ones_like(corr_matrix, dtype=bool))\n",
    "\n",
    "# Création de la figure\n",
    "plt.figure(figsize=(8, 6))\n",
    "\n",
    "# Heatmap avec annotations et masque appliqué\n",
    "sns.heatmap(corr_matrix, mask=mask2, annot=True, fmt=\".2f\", cmap=\"coolwarm\", linewidths=0.5)\n",
    "\n",
    "plt.show()"
   ]
  },
  {
   "cell_type": "code",
   "execution_count": 262,
   "id": "c49d1459",
   "metadata": {},
   "outputs": [],
   "source": [
    "#Que peut-on conclure des correlations ?\n",
    "## Il semble y avoir une faible corrélation positive entre les ventes et la quantité en stock, c'est-à-dire que quand les ventes augmentent le stock augmente également.\n",
    "## La corrélation est plus faible entre le prix et la quantité en stock."
   ]
  },
  {
   "cell_type": "markdown",
   "id": "f1d22f1d",
   "metadata": {},
   "source": [
    "<div style=\"border: 1px solid RGB(51,165,182);\" >\n",
    "<h3 style=\"margin: auto; padding: 20px; color: RGB(51,165,182); \">Etape 5.6 - Mettre à disposition la nouvelle table sur un fichier Excel</h3>\n",
    "</div>"
   ]
  },
  {
   "cell_type": "code",
   "execution_count": 263,
   "id": "09bfe632",
   "metadata": {},
   "outputs": [],
   "source": [
    "#Mettre le dataset df_merge sur un fichier Excel\n",
    "#Cette étape peut-être utile pour partager le résultat du dataset obtenu pour le partager avec les équipes.  \n",
    "\n",
    "df_merge2.to_excel('df_merge2.xlsx', index=False)"
   ]
  },
  {
   "cell_type": "markdown",
   "id": "70bfabe6",
   "metadata": {},
   "source": [
    "# Action pour la suite"
   ]
  },
  {
   "cell_type": "markdown",
   "id": "2849377d",
   "metadata": {},
   "source": [
    "### Fonction d'analyse de la table (doublon, valeurs aberrantes, etc)"
   ]
  },
  {
   "cell_type": "code",
   "execution_count": 264,
   "id": "9af7f585",
   "metadata": {},
   "outputs": [],
   "source": [
    "def analyste_table(table):\n",
    "    detection = {}\n",
    "\n",
    "    print(\"\\n Informations générales sur la table :\\n\")\n",
    "    print(table.info())\n",
    "\n",
    "    print(\"\\n Statistiques descriptives pour les colonnes numériques :\\n\")\n",
    "    print(table.describe())\n",
    "\n",
    "    # Valeurs manquantes\n",
    "    valeurs_manquantes = table.isnull().sum()\n",
    "    detection['Valeurs manquantes'] = valeurs_manquantes[valeurs_manquantes > 0]\n",
    "    print(\"\\n Valeurs manquantes :\")\n",
    "    print(detection['Valeurs manquantes'])\n",
    "\n",
    "    # Doublons\n",
    "    doublons = table.duplicated().sum()\n",
    "    detection['Nb de doublons'] = doublons\n",
    "    print(f\"\\n Nombre de doublons : {doublons}\")\n",
    "\n",
    "    # Value_counts() pour colonnes de type texte\n",
    "    colonne_texte = table.select_dtypes(include='object')\n",
    "    detection[\"Value_counts\"] = {}\n",
    "    for col in colonne_texte.columns:\n",
    "        detection[\"Value_counts\"][col] = table[col].value_counts()\n",
    "        print(f\"\\nValue_counts pour '{col}' :\\n\", table[col].value_counts())\n",
    "\n",
    "    #détection des outliers :\n",
    "    colonnes_numeriques = table.select_dtypes(include=['number'])\n",
    "    for col in colonnes_numeriques.columns:\n",
    "        mediane_q2 = colonnes_numeriques[col].median()\n",
    "        print(f\"\\n Analyse de la colonne '{col}':\")\n",
    "        print(f\"\\n Médiane (Q2) : {mediane_q2}\")\n",
    "\n",
    "        ligne_q1 = colonnes_numeriques[col][colonnes_numeriques[col] < mediane_q2]\n",
    "        mediane_q1 = ligne_q1.median()\n",
    "        print(f\"\\n Médiane de Q1 : {mediane_q1}\")\n",
    "\n",
    "        ligne_q3 = colonnes_numeriques[col][colonnes_numeriques[col] > mediane_q2]\n",
    "        mediane_q3 = ligne_q3.median()\n",
    "        print(f\"\\n Médiane de Q3 : {mediane_q3}\")\n",
    "\n",
    "        iqr_col = mediane_q3 - mediane_q1\n",
    "        print(f\"\\n IQR : {round(iqr_col, 2)}\")\n",
    "\n",
    "        # Sélection des lignes où la valeur est supérieure à l'IQR\n",
    "        valeurs_sup_iqr = table[table[col] > iqr_col]\n",
    "\n",
    "        print(f\"\\n Nombre de valeurs supérieures à l'IQR de la colonne {col}: {valeurs_sup_iqr.shape[0]}\")\n",
    "        \n",
    "        # Sauvegarde des lignes dans le dictionnaire\n",
    "        detection[col] = valeurs_sup_iqr\n",
    "\n",
    "    return detection\n"
   ]
  },
  {
   "cell_type": "code",
   "execution_count": 265,
   "id": "fe7b2f1e",
   "metadata": {},
   "outputs": [
    {
     "name": "stdout",
     "output_type": "stream",
     "text": [
      "\n",
      " Informations générales sur la table :\n",
      "\n",
      "<class 'pandas.core.frame.DataFrame'>\n",
      "Index: 820 entries, 0 to 824\n",
      "Data columns (total 6 columns):\n",
      " #   Column          Non-Null Count  Dtype  \n",
      "---  ------          --------------  -----  \n",
      " 0   product_id      820 non-null    int64  \n",
      " 1   onsale_web      820 non-null    int64  \n",
      " 2   price           820 non-null    float64\n",
      " 3   stock_quantity  820 non-null    int64  \n",
      " 4   stock_status    820 non-null    object \n",
      " 5   purchase_price  820 non-null    float64\n",
      "dtypes: float64(2), int64(3), object(1)\n",
      "memory usage: 44.8+ KB\n",
      "None\n",
      "\n",
      " Statistiques descriptives pour les colonnes numériques :\n",
      "\n",
      "        product_id  onsale_web       price  stock_quantity  purchase_price\n",
      "count   820.000000  820.000000  820.000000      820.000000      820.000000\n",
      "mean   5161.739024    0.871951   32.362744       21.710976       16.987122\n",
      "std     903.195163    0.334348   26.640110       21.932311       14.584113\n",
      "min    3847.000000    0.000000    5.200000        0.000000        2.740000\n",
      "25%    4345.250000    1.000000   14.600000        7.000000        7.642500\n",
      "50%    4903.500000    1.000000   24.400000       18.000000       12.740000\n",
      "75%    5805.250000    1.000000   42.000000       30.000000       22.022500\n",
      "max    7338.000000    1.000000  225.000000      145.000000      137.810000\n",
      "\n",
      " Valeurs manquantes :\n",
      "Series([], dtype: int64)\n",
      "\n",
      " Nombre de doublons : 0\n",
      "\n",
      "Value_counts pour 'stock_status' :\n",
      " stock_status\n",
      "instock       732\n",
      "outofstock     88\n",
      "Name: count, dtype: int64\n",
      "\n",
      " Analyse de la colonne 'product_id':\n",
      "\n",
      " Médiane (Q2) : 4903.5\n",
      "\n",
      " Médiane de Q1 : 4342.5\n",
      "\n",
      " Médiane de Q3 : 5805.5\n",
      "\n",
      " IQR : 1463.0\n",
      "\n",
      " Nombre de valeurs supérieures à l'IQR de la colonne product_id: 820\n",
      "\n",
      " Analyse de la colonne 'onsale_web':\n",
      "\n",
      " Médiane (Q2) : 1.0\n",
      "\n",
      " Médiane de Q1 : 0.0\n",
      "\n",
      " Médiane de Q3 : nan\n",
      "\n",
      " IQR : nan\n",
      "\n",
      " Nombre de valeurs supérieures à l'IQR de la colonne onsale_web: 0\n",
      "\n",
      " Analyse de la colonne 'price':\n",
      "\n",
      " Médiane (Q2) : 24.4\n",
      "\n",
      " Médiane de Q1 : 14.6\n",
      "\n",
      " Médiane de Q3 : 42.1\n",
      "\n",
      " IQR : 27.5\n",
      "\n",
      " Nombre de valeurs supérieures à l'IQR de la colonne price: 360\n",
      "\n",
      " Analyse de la colonne 'stock_quantity':\n",
      "\n",
      " Médiane (Q2) : 18.0\n",
      "\n",
      " Médiane de Q1 : 7.0\n",
      "\n",
      " Médiane de Q3 : 30.0\n",
      "\n",
      " IQR : 23.0\n",
      "\n",
      " Nombre de valeurs supérieures à l'IQR de la colonne stock_quantity: 318\n",
      "\n",
      " Analyse de la colonne 'purchase_price':\n",
      "\n",
      " Médiane (Q2) : 12.74\n",
      "\n",
      " Médiane de Q1 : 7.635\n",
      "\n",
      " Médiane de Q3 : 22.025\n",
      "\n",
      " IQR : 14.39\n",
      "\n",
      " Nombre de valeurs supérieures à l'IQR de la colonne purchase_price: 358\n"
     ]
    },
    {
     "data": {
      "text/plain": [
       "{'Valeurs manquantes': Series([], dtype: int64),\n",
       " 'Nb de doublons': 0,\n",
       " 'Value_counts': {'stock_status': stock_status\n",
       "  instock       732\n",
       "  outofstock     88\n",
       "  Name: count, dtype: int64},\n",
       " 'product_id':      product_id  onsale_web  price  stock_quantity stock_status  \\\n",
       " 0          3847           1   24.2              16      instock   \n",
       " 1          3849           1   34.3              10      instock   \n",
       " 2          3850           1   20.8               0   outofstock   \n",
       " 3          4032           1   14.1              26      instock   \n",
       " 4          4039           1   46.0               3      instock   \n",
       " ..          ...         ...    ...             ...          ...   \n",
       " 820        7203           0   45.0              30      instock   \n",
       " 821        7204           0   45.0               9      instock   \n",
       " 822        7247           1   54.8               6      instock   \n",
       " 823        7329           0   26.5              14      instock   \n",
       " 824        7338           1   16.3              40      instock   \n",
       " \n",
       "      purchase_price  \n",
       " 0             12.88  \n",
       " 1             17.54  \n",
       " 2             10.64  \n",
       " 3              6.92  \n",
       " 4             23.77  \n",
       " ..              ...  \n",
       " 820           23.48  \n",
       " 821           24.18  \n",
       " 822           27.18  \n",
       " 823           13.42  \n",
       " 824            8.00  \n",
       " \n",
       " [820 rows x 6 columns],\n",
       " 'onsale_web': Empty DataFrame\n",
       " Columns: [product_id, onsale_web, price, stock_quantity, stock_status, purchase_price]\n",
       " Index: [],\n",
       " 'price':      product_id  onsale_web  price  stock_quantity stock_status  \\\n",
       " 1          3849           1   34.3              10      instock   \n",
       " 4          4039           1   46.0               3      instock   \n",
       " 5          4040           1   34.3              12      instock   \n",
       " 6          4041           1   32.7              12      instock   \n",
       " 7          4042           1   31.2              15      instock   \n",
       " ..          ...         ...    ...             ...          ...   \n",
       " 818        7200           0   31.0               6      instock   \n",
       " 819        7201           0   31.0              18      instock   \n",
       " 820        7203           0   45.0              30      instock   \n",
       " 821        7204           0   45.0               9      instock   \n",
       " 822        7247           1   54.8               6      instock   \n",
       " \n",
       "      purchase_price  \n",
       " 1             17.54  \n",
       " 4             23.77  \n",
       " 5             18.25  \n",
       " 6             17.57  \n",
       " 7             15.48  \n",
       " ..              ...  \n",
       " 818           15.54  \n",
       " 819           16.02  \n",
       " 820           23.48  \n",
       " 821           24.18  \n",
       " 822           27.18  \n",
       " \n",
       " [360 rows x 6 columns],\n",
       " 'stock_quantity':      product_id  onsale_web  price  stock_quantity stock_status  \\\n",
       " 3          4032           1   14.1              26      instock   \n",
       " 12         4048           1   22.8              24      instock   \n",
       " 13         4049           1   19.3              25      instock   \n",
       " 14         4050           1   21.8              42      instock   \n",
       " 20         4056           1   12.7              38      instock   \n",
       " ..          ...         ...    ...             ...          ...   \n",
       " 812        7170           0   45.0              43      instock   \n",
       " 813        7192           0   31.0              28      instock   \n",
       " 817        7196           0   31.0              55      instock   \n",
       " 820        7203           0   45.0              30      instock   \n",
       " 824        7338           1   16.3              40      instock   \n",
       " \n",
       "      purchase_price  \n",
       " 3              6.92  \n",
       " 12            11.78  \n",
       " 13            10.27  \n",
       " 14            11.26  \n",
       " 20             6.36  \n",
       " ..              ...  \n",
       " 812           23.72  \n",
       " 813           16.50  \n",
       " 817           31.20  \n",
       " 820           23.48  \n",
       " 824            8.00  \n",
       " \n",
       " [318 rows x 6 columns],\n",
       " 'purchase_price':      product_id  onsale_web  price  stock_quantity stock_status  \\\n",
       " 1          3849           1   34.3              10      instock   \n",
       " 4          4039           1   46.0               3      instock   \n",
       " 5          4040           1   34.3              12      instock   \n",
       " 6          4041           1   32.7              12      instock   \n",
       " 7          4042           1   31.2              15      instock   \n",
       " ..          ...         ...    ...             ...          ...   \n",
       " 818        7200           0   31.0               6      instock   \n",
       " 819        7201           0   31.0              18      instock   \n",
       " 820        7203           0   45.0              30      instock   \n",
       " 821        7204           0   45.0               9      instock   \n",
       " 822        7247           1   54.8               6      instock   \n",
       " \n",
       "      purchase_price  \n",
       " 1             17.54  \n",
       " 4             23.77  \n",
       " 5             18.25  \n",
       " 6             17.57  \n",
       " 7             15.48  \n",
       " ..              ...  \n",
       " 818           15.54  \n",
       " 819           16.02  \n",
       " 820           23.48  \n",
       " 821           24.18  \n",
       " 822           27.18  \n",
       " \n",
       " [358 rows x 6 columns]}"
      ]
     },
     "execution_count": 265,
     "metadata": {},
     "output_type": "execute_result"
    }
   ],
   "source": [
    "analyste_table(df_erp)"
   ]
  },
  {
   "cell_type": "code",
   "execution_count": 266,
   "id": "27187bc2",
   "metadata": {},
   "outputs": [
    {
     "data": {
      "text/html": [
       "<div>\n",
       "<style scoped>\n",
       "    .dataframe tbody tr th:only-of-type {\n",
       "        vertical-align: middle;\n",
       "    }\n",
       "\n",
       "    .dataframe tbody tr th {\n",
       "        vertical-align: top;\n",
       "    }\n",
       "\n",
       "    .dataframe thead th {\n",
       "        text-align: right;\n",
       "    }\n",
       "</style>\n",
       "<table border=\"1\" class=\"dataframe\">\n",
       "  <thead>\n",
       "    <tr style=\"text-align: right;\">\n",
       "      <th></th>\n",
       "      <th>product_id</th>\n",
       "      <th>product_type</th>\n",
       "      <th>onsale_web</th>\n",
       "      <th>price</th>\n",
       "      <th>stock_quantity</th>\n",
       "    </tr>\n",
       "  </thead>\n",
       "  <tbody>\n",
       "    <tr>\n",
       "      <th>77</th>\n",
       "      <td>4200</td>\n",
       "      <td>Vin</td>\n",
       "      <td>0</td>\n",
       "      <td>5.8</td>\n",
       "      <td>33</td>\n",
       "    </tr>\n",
       "    <tr>\n",
       "      <th>94</th>\n",
       "      <td>4200</td>\n",
       "      <td>Vin</td>\n",
       "      <td>0</td>\n",
       "      <td>5.8</td>\n",
       "      <td>33</td>\n",
       "    </tr>\n",
       "  </tbody>\n",
       "</table>\n",
       "</div>"
      ],
      "text/plain": [
       "   product_id product_type  onsale_web  price  stock_quantity\n",
       "77       4200          Vin           0    5.8              33\n",
       "94       4200          Vin           0    5.8              33"
      ]
     },
     "execution_count": 266,
     "metadata": {},
     "output_type": "execute_result"
    }
   ],
   "source": [
    "# article qui n'est pas vendu sur internet\n",
    "df_merge2[df_merge2['onsale_web'] == 0][['product_id', 'product_type', 'onsale_web', 'price', 'stock_quantity']]"
   ]
  }
 ],
 "metadata": {
  "kernelspec": {
   "display_name": "base",
   "language": "python",
   "name": "python3"
  },
  "language_info": {
   "codemirror_mode": {
    "name": "ipython",
    "version": 3
   },
   "file_extension": ".py",
   "mimetype": "text/x-python",
   "name": "python",
   "nbconvert_exporter": "python",
   "pygments_lexer": "ipython3",
   "version": "3.11.7"
  }
 },
 "nbformat": 4,
 "nbformat_minor": 5
}
